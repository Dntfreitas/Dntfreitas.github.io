{
  "cells": [
    {
      "cell_type": "markdown",
      "metadata": {
        "id": "view-in-github",
        "colab_type": "text"
      },
      "source": [
        "<a href=\"https://colab.research.google.com/github/Dntfreitas/Dntfreitas.github.io/blob/master/Python%20Classes/tp2.ipynb\" target=\"_parent\"><img src=\"https://colab.research.google.com/assets/colab-badge.svg\" alt=\"Open In Colab\"/></a>"
      ]
    },
    {
      "cell_type": "markdown",
      "metadata": {
        "id": "special-karaoke"
      },
      "source": [
        "# Types of Machine-Learning problems:\n",
        "\n",
        "- **Supervised learning**: Models that can predict labels based on labeled training data\n",
        "    - **Classification**: Models that predict labels as two or more discrete categories\n",
        "    - **Regression**: Models that predict continuous labels\n",
        "- **Unsupervised learning**: Models that identify structure in unlabeled data\n",
        "    - **Clustering**: Models that detect and identify distinct groups in the data\n",
        "    - **Dimensionality reduction**: Models that detect and identify lower-dimensional structure in higher-dimensional data\n",
        "    \n",
        "All taken from: VanderPlas, Jake. *Python Data Science Handbook: Essential Tools for Working with Data*. O'Reilly Media, Inc., 2016."
      ],
      "id": "special-karaoke"
    },
    {
      "cell_type": "markdown",
      "metadata": {
        "id": "cardiac-bidder"
      },
      "source": [
        "# scikit-learn\n",
        "\n",
        "1. Choose the model to be used:\n",
        "- E.g.: ``from sklearn.linear_model import LinearRegression``.\n",
        "2. Choose model hyper-parameters;\n",
        "- E.g.: ``model = LinearRegression(fit_intercept=True)``.\n",
        "3. Arrange data into training and testing datasets;\n",
        "- E.g.: ``X_train, X_test, y_train, y_test = train_test_split(X, y, test_size=.30)``.\n",
        "4. Fit the data using ``fit()``;\n",
        "- E.g.: ``model.fit(X_train, y_train)``.\n",
        "5. Predict data using ``predict()`` or ``transform()``.\n",
        "- E.g.: ``y_pred_train = reg.predict(X_train)``.\n",
        "6. Assess the model on training and testing datasets.\n",
        "- E.g.: ``mse_train = mean_squared_error(y_train, y_pred_train)``."
      ],
      "id": "cardiac-bidder"
    },
    {
      "cell_type": "markdown",
      "metadata": {
        "id": "nominated-colon"
      },
      "source": [
        "# Table of contents\n",
        "\n",
        "- Types of Machine-Learning problems:\n",
        "- scikit-Learn\n",
        "- Supervised learning\n",
        "\t- Linear Regression\n",
        "\t- Classification\n",
        "- Unsupervised learning\n",
        "\t- $K$-means clustering\n",
        "- Preprocessing data\n",
        "\t- Normalization\n",
        "\t- Standardization\n",
        "- Model validation\n",
        "\t- Cross-validation\n",
        "- Grid Search\n",
        "\t- Regression\n",
        "\t- Classification\n",
        "- Pipeline\n",
        "\t- Intermediate step: How to choose the number of components for the PCA?\n",
        "- Feature selection\n",
        "\t- Variance threshold\n",
        "\t- Univariate selection\n",
        "\t- Recursive feature elimination\n",
        "\t- Pipeline with feature selection\n",
        "- Neural networks\n",
        "\t- Classification\n",
        "\t- Cross-validation and grid search\n",
        "\t- Regression"
      ],
      "id": "nominated-colon"
    },
    {
      "cell_type": "code",
      "execution_count": null,
      "metadata": {
        "id": "renewable-cream"
      },
      "outputs": [],
      "source": [
        "import matplotlib.pyplot as plt\n",
        "import numpy as np\n",
        "\n",
        "# just for making plots look professional 😀\n",
        "import seaborn as sns\n",
        "sns.set()"
      ],
      "id": "renewable-cream"
    },
    {
      "cell_type": "markdown",
      "metadata": {
        "id": "anonymous-frederick"
      },
      "source": [
        "# Supervised learning\n",
        "\n",
        "> Supervised learning refers to any machine learning process that learns a function from an input type to an output type using data comprising examples that have both input and output values. \n",
        "\n",
        "> Two typical examples of supervised learning are **classification** learning and **regression**."
      ],
      "id": "anonymous-frederick"
    },
    {
      "cell_type": "code",
      "execution_count": null,
      "metadata": {
        "id": "massive-nutrition"
      },
      "outputs": [],
      "source": [
        "from sklearn.metrics import mean_squared_error, r2_score\n",
        "from sklearn.model_selection import train_test_split\n",
        "from sklearn.preprocessing import MinMaxScaler, StandardScaler"
      ],
      "id": "massive-nutrition"
    },
    {
      "cell_type": "markdown",
      "metadata": {
        "id": "cellular-legend"
      },
      "source": [
        "## Linear Regression"
      ],
      "id": "cellular-legend"
    },
    {
      "cell_type": "markdown",
      "metadata": {
        "id": "possible-accommodation"
      },
      "source": [
        "### Ordinary least squares linear"
      ],
      "id": "possible-accommodation"
    },
    {
      "cell_type": "code",
      "execution_count": null,
      "metadata": {
        "id": "brave-dealer"
      },
      "outputs": [],
      "source": [
        "from sklearn.linear_model import LinearRegression\n",
        "from sklearn.datasets import fetch_california_housing"
      ],
      "id": "brave-dealer"
    },
    {
      "cell_type": "code",
      "execution_count": null,
      "metadata": {
        "id": "innocent-original"
      },
      "outputs": [],
      "source": [
        "X, y = fetch_california_housing(return_X_y=True)  # load the dataset\n",
        "X_train, X_test, y_train, y_test = train_test_split(X, y, test_size=.30)  # split in train and test dataset in order to assess the model"
      ],
      "id": "innocent-original"
    },
    {
      "cell_type": "code",
      "execution_count": null,
      "metadata": {
        "id": "drawn-liverpool"
      },
      "outputs": [],
      "source": [
        "reg = LinearRegression() # ordinary least squares linear regression\n",
        "reg.fit(X_train, y_train);  # use the train dataset for fitting the model"
      ],
      "id": "drawn-liverpool"
    },
    {
      "cell_type": "code",
      "execution_count": null,
      "metadata": {
        "colab": {
          "base_uri": "https://localhost:8080/"
        },
        "id": "subjective-powder",
        "outputId": "146b328f-2a1f-4e63-bdeb-00afb51067fb"
      },
      "outputs": [
        {
          "output_type": "stream",
          "name": "stdout",
          "text": [
            "Train R2 0.6110570052917936 Test R2 0.5942596198560931\n",
            "Train MSE 0.5173023825048992 Test MSE 0.5415001696009121\n"
          ]
        }
      ],
      "source": [
        "y_pred_test = reg.predict(X_test)  # compute the predictions on the test dataset\n",
        "mse_test = mean_squared_error(y_test, y_pred_test)  # mean of the squared prediction errors (i.e., the difference between the true value and the predicted value for an instance) over all instances in the test set\n",
        "r2_test = r2_score(y_test, y_pred_test)  # amount of variability that our model can explain (i.e., the best possible score is 1.0)\n",
        "\n",
        "y_pred_train = reg.predict(X_train)  # compute the prediction on the train dataset\n",
        "mse_train = mean_squared_error(y_train, y_pred_train)  # mean of the squared prediction errors (i.e., the difference between the true value and the predicted value for an instance) over all instances in the test set\n",
        "r2_train = r2_score(y_train, y_pred_train)  # amount of variability that our model can explain (i.e., the best possible score is 1.0)\n",
        "\n",
        "print('Train R2', r2_train, 'Test R2', r2_test)\n",
        "print('Train MSE', mse_train, 'Test MSE', mse_test)"
      ],
      "id": "subjective-powder"
    },
    {
      "cell_type": "markdown",
      "metadata": {
        "id": "revised-combine"
      },
      "source": [
        "## Classification"
      ],
      "id": "revised-combine"
    },
    {
      "cell_type": "markdown",
      "metadata": {
        "id": "inclusive-assignment"
      },
      "source": [
        "### Support vector classification"
      ],
      "id": "inclusive-assignment"
    },
    {
      "cell_type": "code",
      "execution_count": null,
      "metadata": {
        "id": "infectious-covering"
      },
      "outputs": [],
      "source": [
        "from sklearn import svm\n",
        "from sklearn.metrics import confusion_matrix\n",
        "from sklearn.datasets import load_breast_cancer"
      ],
      "id": "infectious-covering"
    },
    {
      "cell_type": "code",
      "execution_count": null,
      "metadata": {
        "id": "resistant-picnic"
      },
      "outputs": [],
      "source": [
        "X, y = load_breast_cancer(return_X_y=True)  # load the dataset\n",
        "X_train, X_test, y_train, y_test = train_test_split(X, y, test_size=.30)  # split in train and test dataset in order to assess the model"
      ],
      "id": "resistant-picnic"
    },
    {
      "cell_type": "code",
      "execution_count": null,
      "metadata": {
        "id": "impaired-complement"
      },
      "outputs": [],
      "source": [
        "clf = svm.SVC(kernel='poly', degree=3)  # Support vector classification -- finds a hyperplane that separates the two classes of data with as wide a margin as possible.\n",
        "clf.fit(X_train, y_train); # use the train dataset for fitting the model"
      ],
      "id": "impaired-complement"
    },
    {
      "cell_type": "code",
      "execution_count": null,
      "metadata": {
        "colab": {
          "base_uri": "https://localhost:8080/"
        },
        "id": "vietnamese-duncan",
        "outputId": "7cc968b5-e094-4e4e-c5da-27e8bf0b823f"
      },
      "outputs": [
        {
          "output_type": "stream",
          "name": "stdout",
          "text": [
            "Train Acc 0.9095477386934674 Test Acc 0.9122807017543859\n"
          ]
        }
      ],
      "source": [
        "y_pred_train = clf.predict(X_train)  # compute the prediction on the train dataset\n",
        "y_pred_test = clf.predict(X_test)  # compute the prediction on the test dataset\n",
        "\n",
        "acc_train = clf.score(X_train, y_train)  # compute mean accuracy for training\n",
        "acc_test = clf.score(X_test, y_test)  # compute mean accuracy for testing\n",
        "\n",
        "print('Train Acc', acc_train, 'Test Acc', acc_test)"
      ],
      "id": "vietnamese-duncan"
    },
    {
      "cell_type": "code",
      "execution_count": null,
      "metadata": {
        "colab": {
          "base_uri": "https://localhost:8080/"
        },
        "id": "roman-candy",
        "outputId": "2b3cdb76-66e3-4fa1-c990-b21e49d11cbb"
      },
      "outputs": [
        {
          "output_type": "execute_result",
          "data": {
            "text/plain": [
              "array([[ 45,  12],\n",
              "       [  3, 111]])"
            ]
          },
          "metadata": {},
          "execution_count": 11
        }
      ],
      "source": [
        "conf_test = confusion_matrix(y_test, y_pred_test) # compute the confusion matrix\n",
        "conf_test"
      ],
      "id": "roman-candy"
    },
    {
      "cell_type": "markdown",
      "metadata": {
        "id": "demonstrated-jackson"
      },
      "source": [
        "### Decision Trees"
      ],
      "id": "demonstrated-jackson"
    },
    {
      "cell_type": "code",
      "execution_count": null,
      "metadata": {
        "id": "later-notebook"
      },
      "outputs": [],
      "source": [
        "from sklearn import tree"
      ],
      "id": "later-notebook"
    },
    {
      "cell_type": "code",
      "execution_count": null,
      "metadata": {
        "id": "guided-rogers"
      },
      "outputs": [],
      "source": [
        "# load the data; different way, but the same thing\n",
        "breast_cancer = load_breast_cancer()\n",
        "X, y = breast_cancer.data, breast_cancer.target\n",
        "feature_names = breast_cancer.feature_names\n",
        "\n",
        "X_train, X_test, y_train, y_test = train_test_split(X, y, test_size=.30)  # split in train and test dataset in order to assess the model"
      ],
      "id": "guided-rogers"
    },
    {
      "cell_type": "code",
      "execution_count": null,
      "metadata": {
        "id": "characteristic-matthew"
      },
      "outputs": [],
      "source": [
        "clf = tree.DecisionTreeClassifier(max_depth=3)  # set the tree with a maximum depth of 3\n",
        "clf = clf.fit(X_train, y_train)"
      ],
      "id": "characteristic-matthew"
    },
    {
      "cell_type": "code",
      "execution_count": null,
      "metadata": {
        "colab": {
          "base_uri": "https://localhost:8080/",
          "height": 1000
        },
        "id": "written-division",
        "outputId": "6b5b06e7-c34f-45e2-c584-5440fa952346"
      },
      "outputs": [
        {
          "output_type": "display_data",
          "data": {
            "text/plain": [
              "<Figure size 1440x1440 with 1 Axes>"
            ],
            "image/png": "[encoded data removed]"
          },
          "metadata": {
            "needs_background": "light"
          }
        }
      ],
      "source": [
        "# Print a visual representation for the training dataset\n",
        "plt.figure(figsize=(20, 20))\n",
        "tree.plot_tree(clf, feature_names=feature_names, fontsize=14);\n",
        "plt.show()"
      ],
      "id": "written-division"
    },
    {
      "cell_type": "code",
      "execution_count": null,
      "metadata": {
        "colab": {
          "base_uri": "https://localhost:8080/"
        },
        "id": "worth-textbook",
        "outputId": "13299b80-c88c-4131-fba0-0d6ef502f9e6"
      },
      "outputs": [
        {
          "output_type": "execute_result",
          "data": {
            "text/plain": [
              "0.9298245614035088"
            ]
          },
          "metadata": {},
          "execution_count": 16
        }
      ],
      "source": [
        "acc_test = clf.score(X_test, y_test)  # compute mean accuracy for testing\n",
        "acc_test"
      ],
      "id": "worth-textbook"
    },
    {
      "cell_type": "code",
      "execution_count": null,
      "metadata": {
        "id": "lesser-wallet"
      },
      "outputs": [],
      "source": [
        "from sklearn.tree import export_text"
      ],
      "id": "lesser-wallet"
    },
    {
      "cell_type": "code",
      "execution_count": null,
      "metadata": {
        "colab": {
          "base_uri": "https://localhost:8080/"
        },
        "id": "supposed-logic",
        "outputId": "bf2f3823-32fe-49fa-a024-fa5d86079e40"
      },
      "outputs": [
        {
          "output_type": "stream",
          "name": "stdout",
          "text": [
            "|--- worst concave points <= 0.15\n",
            "|   |--- worst area <= 957.45\n",
            "|   |   |--- worst perimeter <= 102.05\n",
            "|   |   |   |--- class: 1\n",
            "|   |   |--- worst perimeter >  102.05\n",
            "|   |   |   |--- class: 1\n",
            "|   |--- worst area >  957.45\n",
            "|   |   |--- worst fractal dimension <= 0.06\n",
            "|   |   |   |--- class: 1\n",
            "|   |   |--- worst fractal dimension >  0.06\n",
            "|   |   |   |--- class: 0\n",
            "|--- worst concave points >  0.15\n",
            "|   |--- mean concave points <= 0.05\n",
            "|   |   |--- worst perimeter <= 113.40\n",
            "|   |   |   |--- class: 1\n",
            "|   |   |--- worst perimeter >  113.40\n",
            "|   |   |   |--- class: 0\n",
            "|   |--- mean concave points >  0.05\n",
            "|   |   |--- area error <= 13.47\n",
            "|   |   |   |--- class: 1\n",
            "|   |   |--- area error >  13.47\n",
            "|   |   |   |--- class: 0\n",
            "\n"
          ]
        }
      ],
      "source": [
        "print(export_text(clf, feature_names=feature_names.tolist())) # print in a textual manner"
      ],
      "id": "supposed-logic"
    },
    {
      "cell_type": "markdown",
      "metadata": {
        "id": "interior-specialist"
      },
      "source": [
        "# Unsupervised learning\n",
        "\n",
        "> Unsupervised learning refers to any machine learning process that seeks to learn structure in the absence of either an identified output (supervised learning) or feedback (reinforcement learning). \n",
        "\n",
        "> Three typical examples of unsupervised learning are **clustering**, **association rules**, and **self-organizing maps**."
      ],
      "id": "interior-specialist"
    },
    {
      "cell_type": "code",
      "execution_count": null,
      "metadata": {
        "id": "mighty-insulin"
      },
      "outputs": [],
      "source": [
        "from sklearn.cluster import KMeans\n",
        "from sklearn.decomposition import PCA\n",
        "from sklearn.datasets import load_iris"
      ],
      "id": "mighty-insulin"
    },
    {
      "cell_type": "code",
      "execution_count": null,
      "metadata": {
        "id": "eastern-judges"
      },
      "outputs": [],
      "source": [
        "X_iris, y_iris = load_iris(return_X_y=True) # load the dataset"
      ],
      "id": "eastern-judges"
    },
    {
      "cell_type": "markdown",
      "metadata": {
        "id": "found-stand"
      },
      "source": [
        "## $k$-means clustering"
      ],
      "id": "found-stand"
    },
    {
      "cell_type": "code",
      "execution_count": null,
      "metadata": {
        "id": "aging-surgery"
      },
      "outputs": [],
      "source": [
        "kmeans = KMeans(n_clusters=3) # K-means clustering\n",
        "kmeans.fit(X_iris)\n",
        "y_kmeans_iris = kmeans.predict(X_iris)"
      ],
      "id": "aging-surgery"
    },
    {
      "cell_type": "markdown",
      "metadata": {
        "id": "sweet-thumb"
      },
      "source": [
        "To determine the optimal number of clusters, we have to select the value of k at the “elbow” ie the point after which the distortion/inertia start decreasing linearly."
      ],
      "id": "sweet-thumb"
    },
    {
      "cell_type": "markdown",
      "metadata": {
        "id": "detected-porcelain"
      },
      "source": [
        "### How to choose the number of clusters?"
      ],
      "id": "detected-porcelain"
    },
    {
      "cell_type": "code",
      "execution_count": null,
      "metadata": {
        "id": "brave-thanks"
      },
      "outputs": [],
      "source": [
        "from sklearn.datasets import make_classification"
      ],
      "id": "brave-thanks"
    },
    {
      "cell_type": "code",
      "execution_count": null,
      "metadata": {
        "id": "congressional-director"
      },
      "outputs": [],
      "source": [
        "X, y = make_classification(n_classes=4, n_informative=10, n_clusters_per_class=5) # toy dataset for classification"
      ],
      "id": "congressional-director"
    },
    {
      "cell_type": "code",
      "execution_count": null,
      "metadata": {
        "id": "missing-output"
      },
      "outputs": [],
      "source": [
        "sum_of_squared_distances = []\n",
        "K = range(1, 15)\n",
        "for k in K:\n",
        "    km = KMeans(n_clusters=k)\n",
        "    km = km.fit(X)\n",
        "    sum_of_squared_distances.append(km.inertia_)"
      ],
      "id": "missing-output"
    },
    {
      "cell_type": "code",
      "execution_count": null,
      "metadata": {
        "colab": {
          "base_uri": "https://localhost:8080/",
          "height": 285
        },
        "id": "altered-easter",
        "outputId": "89eb4f1e-42a0-49c1-9e34-a19061aae14b"
      },
      "outputs": [
        {
          "output_type": "display_data",
          "data": {
            "text/plain": [
              "<Figure size 432x288 with 1 Axes>"
            ],
            "image/png": "[encoded data removed]"
          },
          "metadata": {
            "needs_background": "light"
          }
        }
      ],
      "source": [
        "plt.plot(K, sum_of_squared_distances, 'o-')\n",
        "plt.xlabel('No. clusters')\n",
        "plt.ylabel('Sum of squared distances')\n",
        "plt.show()"
      ],
      "id": "altered-easter"
    },
    {
      "cell_type": "markdown",
      "metadata": {
        "id": "dress-wednesday"
      },
      "source": [
        "## PCA\n",
        "\n",
        "Using PCA for dimensionality reduction involves zeroing out one or more of the smallest principal components, resulting in a lower-dimensional projection of the data that preserves the maximal data variance.\n",
        "\n",
        "**PCA can also be used as a feature selection method.**\n",
        "\n",
        "![](https://github.com/Dntfreitas/ann_course/blob/main/Python%20Classes/img/PCA.png?raw=1)"
      ],
      "id": "dress-wednesday"
    },
    {
      "cell_type": "code",
      "execution_count": null,
      "metadata": {
        "colab": {
          "base_uri": "https://localhost:8080/",
          "height": 268
        },
        "id": "likely-connection",
        "outputId": "51eccc15-18e0-4a07-b7b7-edde34d2469a"
      },
      "outputs": [
        {
          "output_type": "display_data",
          "data": {
            "text/plain": [
              "<Figure size 432x288 with 1 Axes>"
            ],
            "image/png": "[encoded data removed]"
          },
          "metadata": {
            "needs_background": "light"
          }
        }
      ],
      "source": [
        "# Use the PCA process in order to plot the clusters\n",
        "pca = PCA(n_components=1);\n",
        "X_transformed = pca.fit_transform(X_iris)\n",
        "\n",
        "x_plot = np.arange(len(X_iris))\n",
        "plt.scatter(x_plot, X_transformed, c=y_kmeans_iris, cmap='flare')\n",
        "plt.show()"
      ],
      "id": "likely-connection"
    },
    {
      "cell_type": "markdown",
      "metadata": {
        "id": "parliamentary-hollywood"
      },
      "source": [
        "# Preprocessing data"
      ],
      "id": "parliamentary-hollywood"
    },
    {
      "cell_type": "markdown",
      "metadata": {
        "id": "configured-vintage"
      },
      "source": [
        "> **Normalization** scales each input variable separately to the range 0-1, which is the range for floating-point values where we have the most precision. \n",
        "\n",
        "> **Standardization** scales each input variable separately by subtracting the mean (called centering) and dividing by the standard deviation to shift the distribution to have a mean of zero and a standard deviation of one.\n",
        "\n",
        "**Taken from [Machine Learning Mastery](https://machinelearningmastery.com/standardscaler-and-minmaxscaler-transforms-in-python/)**"
      ],
      "id": "configured-vintage"
    },
    {
      "cell_type": "code",
      "execution_count": null,
      "metadata": {
        "id": "norman-breeding"
      },
      "outputs": [],
      "source": [
        "X, y = fetch_california_housing(return_X_y=True)  # load the dataset\n",
        "X_train, X_test, y_train, y_test = train_test_split(X, y, test_size=.30)  # split in train and test dataset in order to assess the model"
      ],
      "id": "norman-breeding"
    },
    {
      "cell_type": "markdown",
      "metadata": {
        "id": "extended-background"
      },
      "source": [
        "## Normalization"
      ],
      "id": "extended-background"
    },
    {
      "cell_type": "code",
      "execution_count": null,
      "metadata": {
        "colab": {
          "base_uri": "https://localhost:8080/"
        },
        "id": "cognitive-point",
        "outputId": "87721f8c-4cd1-499d-a715-64df4e427e5d"
      },
      "outputs": [
        {
          "output_type": "stream",
          "name": "stdout",
          "text": [
            "Train R2 0.6125407625048611 Test R2 0.591084544974624\n",
            "Train MSE 0.5178172571023563 Test MSE 0.5398202803477221\n"
          ]
        }
      ],
      "source": [
        "min_max_scaler = MinMaxScaler()\n",
        "min_max_scaler = min_max_scaler.fit(X_train) # fit the model to compute the min and max values\n",
        "X_train_new = min_max_scaler.transform(X_train) # transform the train dataset\n",
        "X_test_new = min_max_scaler.transform(X_test) # transform the test dataset\n",
        "\n",
        "reg = LinearRegression() # ordinary least squares linear regression\n",
        "reg.fit(X_train_new, y_train);  # use the train dataset for fitting the model\n",
        "\n",
        "y_pred_test = reg.predict(X_test_new)  # compute the prediction on the test dataset\n",
        "mse_test = mean_squared_error(y_test, y_pred_test)  # mean of the squared prediction errors (i.e., the difference between the true value and the predicted value for an instance) over all instances in the test set\n",
        "r2_test = r2_score(y_test, y_pred_test)  # the amount of variability that our model can explain (i.e., the best possible score is 1.0)\n",
        "\n",
        "y_pred_train = reg.predict(X_train_new)  # compute the prediction on the train dataset\n",
        "mse_train = mean_squared_error(y_train, y_pred_train)  # mean of the squared prediction errors (i.e., the difference between the true value and the predicted value for an instance) over all instances in the test set\n",
        "r2_train = r2_score(y_train, y_pred_train)  # the amount of variability that our model can explain (i.e., the best possible score is 1.0)\n",
        "\n",
        "print('Train R2', r2_train, 'Test R2', r2_test)\n",
        "print('Train MSE', mse_train, 'Test MSE', mse_test)"
      ],
      "id": "cognitive-point"
    },
    {
      "cell_type": "markdown",
      "metadata": {
        "id": "civic-python"
      },
      "source": [
        "## Standardization "
      ],
      "id": "civic-python"
    },
    {
      "cell_type": "code",
      "execution_count": null,
      "metadata": {
        "colab": {
          "base_uri": "https://localhost:8080/"
        },
        "id": "divine-expression",
        "outputId": "6f144771-a27b-4e16-d839-fac6152efcb3"
      },
      "outputs": [
        {
          "output_type": "stream",
          "name": "stdout",
          "text": [
            "Train R2 0.612540762504861 Test R2 0.5910845449746237\n",
            "Train MSE 0.5178172571023564 Test MSE 0.5398202803477224\n"
          ]
        }
      ],
      "source": [
        "std_scaler = StandardScaler()\n",
        "min_max_scaler = std_scaler.fit(X_train) # fit the model to compute the mean and std values\n",
        "X_train_new = std_scaler.transform(X_train) # transform the train dataset\n",
        "X_test_new = std_scaler.transform(X_test) # transform the test dataset\n",
        "\n",
        "reg = LinearRegression() # ordinary least squares linear regression\n",
        "reg.fit(X_train_new, y_train);  # use the train dataset for fitting the model\n",
        "\n",
        "y_pred_test = reg.predict(X_test_new)  # compute the prediction on the test dataset\n",
        "mse_test = mean_squared_error(y_test,\n",
        "                              y_pred_test)  # mean of the squared prediction errors (i.e., the difference between the true value and the predicted value for an instance) over all instances in the test set\n",
        "r2_test = r2_score(y_test,\n",
        "                   y_pred_test)  # the amount of variability that our model can explain (i.e., the best possible score is 1.0)\n",
        "\n",
        "y_pred_train = reg.predict(X_train_new)  # compute the prediction on the train dataset\n",
        "mse_train = mean_squared_error(y_train,\n",
        "                               y_pred_train)  # mean of the squared prediction errors (i.e., the difference between the true value and the predicted value for an instance) over all instances in the test set\n",
        "r2_train = r2_score(y_train,\n",
        "                    y_pred_train)  # the amount of variability that our model can explain (i.e., the best possible score is 1.0)\n",
        "\n",
        "print('Train R2', r2_train, 'Test R2', r2_test)\n",
        "print('Train MSE', mse_train, 'Test MSE', mse_test)"
      ],
      "id": "divine-expression"
    },
    {
      "cell_type": "markdown",
      "metadata": {
        "id": "killing-mandate"
      },
      "source": [
        "# Model validation "
      ],
      "id": "killing-mandate"
    },
    {
      "cell_type": "markdown",
      "metadata": {
        "id": "mysterious-maintenance"
      },
      "source": [
        "- Holdout sets (like before).\n",
        "- Cross-validation"
      ],
      "id": "mysterious-maintenance"
    },
    {
      "cell_type": "markdown",
      "metadata": {
        "id": "killing-miller"
      },
      "source": [
        "## Cross-validation"
      ],
      "id": "killing-miller"
    },
    {
      "cell_type": "markdown",
      "metadata": {
        "id": "placed-vault"
      },
      "source": [
        "> One disadvantage of using a holdout set for model validation is that we have lost a portion of our data to the model training. In the previous case, half the dataset does not contribute to the training of the model! This is not optimal, and can cause problems—especially if the initial set of training data is small.\n",
        "\n",
        "> One way to address this is to use cross-validation—that is, to do a sequence of fits where each subset of the data is used both as a training set and as a validation set.\n",
        "\n",
        "Taken from: VanderPlas, Jake. *Python Data Science Handbook: Essential Tools for Working with Data*. O'Reilly Media, Inc., 2016."
      ],
      "id": "placed-vault"
    },
    {
      "cell_type": "code",
      "execution_count": null,
      "metadata": {
        "id": "south-intention"
      },
      "outputs": [],
      "source": [
        "X, y = fetch_california_housing(return_X_y=True)  # load the dataset\n",
        "X_train, X_test, y_train, y_test = train_test_split(X, y, test_size=.30)  # split in train and test dataset in order to assess the model"
      ],
      "id": "south-intention"
    },
    {
      "cell_type": "markdown",
      "metadata": {
        "id": "comparative-lancaster"
      },
      "source": [
        "### Two-fold cross-validation"
      ],
      "id": "comparative-lancaster"
    },
    {
      "cell_type": "markdown",
      "metadata": {
        "id": "suited-costume"
      },
      "source": [
        "Split the data into two sets and used each in turn as a validation set.\n",
        "\n",
        "![](https://github.com/Dntfreitas/ann_course/blob/main/Python%20Classes/img/cross.jpg?raw=1)"
      ],
      "id": "suited-costume"
    },
    {
      "cell_type": "code",
      "execution_count": null,
      "metadata": {
        "colab": {
          "base_uri": "https://localhost:8080/"
        },
        "id": "specialized-eleven",
        "outputId": "dee4c083-13c3-4caa-f98b-086b3b005941"
      },
      "outputs": [
        {
          "output_type": "execute_result",
          "data": {
            "text/plain": [
              "(0.521352592590407, 0.5294531302487309)"
            ]
          },
          "metadata": {},
          "execution_count": 31
        }
      ],
      "source": [
        "y_1 = LinearRegression().fit(X_train, y_train).predict(X_test) # ordinary least squares linear regression\n",
        "y_2 = LinearRegression().fit(X_test, y_test).predict(X_train) # ordinary least squares linear regression\n",
        "\n",
        "mean_squared_error(y_test, y_1), mean_squared_error(y_train, y_2)"
      ],
      "id": "specialized-eleven"
    },
    {
      "cell_type": "code",
      "execution_count": null,
      "metadata": {
        "colab": {
          "base_uri": "https://localhost:8080/"
        },
        "id": "noble-jefferson",
        "outputId": "e83df7df-a351-41cd-c5bc-48fad8ac4ef2"
      },
      "outputs": [
        {
          "output_type": "execute_result",
          "data": {
            "text/plain": [
              "0.5254028614195689"
            ]
          },
          "metadata": {},
          "execution_count": 32
        }
      ],
      "source": [
        "np.mean([mean_squared_error(y_test, y_1), mean_squared_error(y_train, y_2)]) # combined error"
      ],
      "id": "noble-jefferson"
    },
    {
      "cell_type": "markdown",
      "metadata": {
        "id": "extreme-deposit"
      },
      "source": [
        "### $n$-fold cross-validation"
      ],
      "id": "extreme-deposit"
    },
    {
      "cell_type": "code",
      "execution_count": null,
      "metadata": {
        "id": "judicial-anaheim"
      },
      "outputs": [],
      "source": [
        "from sklearn.model_selection import cross_val_score"
      ],
      "id": "judicial-anaheim"
    },
    {
      "cell_type": "code",
      "execution_count": null,
      "metadata": {
        "colab": {
          "base_uri": "https://localhost:8080/"
        },
        "id": "southern-karaoke",
        "outputId": "9108b64c-1449-4b83-8b60-35936ec6156f"
      },
      "outputs": [
        {
          "output_type": "execute_result",
          "data": {
            "text/plain": [
              "0.5582901717686806"
            ]
          },
          "metadata": {},
          "execution_count": 34
        }
      ],
      "source": [
        "model = LinearRegression() # ordinary least squares linear regression\n",
        "\n",
        "n_fold = -cross_val_score(model, X, y, cv=5, scoring='neg_mean_squared_error', n_jobs=-1) # the result the error will be always negative since this function was designed for its use on optimisation algorithms\n",
        "np.mean(n_fold) # combined error"
      ],
      "id": "southern-karaoke"
    },
    {
      "cell_type": "markdown",
      "metadata": {
        "id": "french-machinery"
      },
      "source": [
        "### Leave-One-Out\n",
        "\n",
        "The number of folds is equal to the number of data points; that is, we train on all points but one in\n",
        "each trial. \n",
        "\n",
        "![image.png](data:image/png;base64,iVBORw0KGgoAAAANSUhEUgAABYwAAAQqCAIAAABr/6zLAAAAAXNSR0IArs4c6QAAAERlWElmTU0AKgAAAAgAAYdpAAQAAAABAAAAGgAAAAAAA6ABAAMAAAABAAEAAKACAAQAAAABAAAFjKADAAQAAAABAAAEKgAAAACYasjgAABAAElEQVR4AezdX+h91X0n/J8lkKY0F0lRxhCNc1GQyIgtdIIJQWjVi5KppaUTwohC1JtcjMzEcaAYQjAEGmzBXvTGP6A4SFpamlbmQm1BQirOwDxBMPygF49/QnxQmjCmNOlN8rz9rrjc7rP3Ovv8/e5zzuuL/Nxn77XXn9c6Z5+9PmftvS956623LvgjQIAAAQIECBAgQIAAAQIECJy3wC+cdwWUT4AAAQIECBAgQIAAAQIECBB4W0CQwvuAAAECBAgQIECAAAECBAgQmIWAIMUsukElCBAgQIAAAQIECBAgQIAAAUEK7wECBAgQIECAAAECBAgQIEBgFgKCFLPoBpUgQIAAAQIECBAgQIAAAQIEBCm8BwgQIECAAAECBAgQIECAAIFZCAhSzKIbVIIAAQIECBAgQIAAAQIECBAQpPAeIECAAAECBAgQIECAAAECBGYhIEgxi25QCQIECBAgQIAAAQIECBAgQECQwnuAAAECBAgQIECAAAECBAgQmIWAIMUsukElCBAgQIAAAQIECBAgQIAAAUEK7wECBAgQIECAAAECBAgQIEBgFgKCFLPoBpUgQIAAAQIECBAgQIAAAQIEBCm8BwgQIECAAAECBAgQIECAAIFZCAhSzKIbVIIAAQIECBAgQIAAAQIECBAQpPAeIECAAAECBAgQIECAAAECBGYhIEgxi25QCQIECBAgQIAAAQIECBAgQECQwnuAAAECBAgQIECAAAECBAgQmIWAIMUsukElCBAgQIAAAQIECBAgQIAAAUEK7wECBAgQIECAAAECBAgQIEBgFgKCFLPoBpUgQIAAAQIECBAgQIAAAQIEBCm8BwgQIECAAAECBAgQIECAAIFZCAhSzKIbVIIAAQIECBAgQIAAAQIECBAQpPAeIECAAAECBAgQIECAAAECBGYhIEgxi25QCQIECBAgQIAAAQIECBAgQECQwnuAAAECBAgQIECAAAECBAgQmIWAIMUsukElCBAgQIAAAQIECBAgQIAAAUEK7wECBAgQIECAAAECBAgQIEBgFgKCFLPoBpUgQIAAAQIECBAgQIAAAQIEBCm8BwgQIECAAAECBAgQIECAAIFZCAhSzKIbVIIAAQIECBAgQIAAAQIECBAQpPAeIECAAAECBAgQIECAAAECBGYhIEgxi25QCQIECBAgQIAAAQIECBAgQECQwnuAAAECBAgQIECAAAECBAgQmIWAIMUsukElCBAgQIAAAQIECBAgQIAAAUEK7wECBAgQIECAAAECBAgQIEBgFgKCFLPoBpUgQIAAAQIECBAgQIAAAQIE3oeAAAECBAgQIECAAAEC8xT46le/moq98sorH/vYx3oLt9xyy2c+85l2tV944YWXXnrp+9//fpJdd91111577ZVXXtneZfOtG9Z58wrMJIdzwZ9J21VjE4FL3nrrrU32ty8BAgQIECBAgAABAgR2JHD11VeP5Xzrrbfed999Y1tfffXV+++//1vf+lYvwb333vv5z3++t3KLL3/wox9/8jd+bSzDdp3H9jq49eeFf3BQKjwoYCbFIMsOV+awldz/zw8/0C3j1z/09soPf/A9K7sJ9rA824qVtqd6FW0OXHvoEUUQOA6BnKakIa+//vqbb75ZWnTppZdefvnlWd7Db1nHYXgurdBx58I+sdB8J/7zD98sH6t8oLJXPlM+UBP1JDsmgY985CON5gxGKJL+61//+mWXXbZ0CkYj5/am9il9u87tnA9o63nhHxCRqjYEjjZIke/vB178xbGW/+YVl9y483le7xb+7Nun6Bf+/rWfPfe9n1248P6zDT99d/PbSz9fecNHL0nd8no/1ZttxUpIImKhOEMrRBXtXa5saPTmH3777RzG/r72qbep1/6b1XustqLErevL3sKdd975iU98orfSSwJbFyjTO59//vnF3696ZX3605++/vrrr7nmGu/Mnsy5vNRx58I+pdB84/z1XzyZz9TLL7+c9K+99trgXvlAZT58JrR/8obfag+TBne3cs4CuXwg1zsM1jCd3phNMLhLb2U++w8//HBvZX055ZKKmnjPC+UijsFCc0bU+A765je/ubsgxWB96spGnWuaQ1+YLf6hw55O/Y82SJFf3Z/7Xh3T9ju0BAL6a7f9ugxi3xljT8o9iUv6Lz9/IQGLe679yS5OMmZbsRi9U7eEIUa7r1IWq/xbuAajFSVN3aW78IMfbcSbKFgj8/TdhQvnMDUmP6w1vpIzGjQU7L4HLG9XIJ/fP3vwj5944onp2ebtWt+xmQH7hbu/uIuD3vT6nGZKHTfnfs+5/uOPPz7xY1U+UCVxAhYZW4pWzLlzV61bPVr2dsz62267bZOpNM8888xY5inrS1/6Uq/Eg3j54osvNupZ4n2NBJtsykF1k92PYN9zxD8CPU2IgKd77OptkN/w/8P/fH9jELu04OybHJLPdo90s61YpnVsUrdwffn5n37qGz/tirWjUfX6kaV9MZig3bkGWoNoVh6rQA5T+ZUvl+BOHEoNOmTf5JB8tnvQGyzLyiKg4+b8TsiP23fdddfNN9+83scqY8577rnns7/3O/lMJdIx55aq2xSBm266qZHs2WefbWxduum5554bS3PFFVdsEv4Yy/a41zsJPO7+1bo9CBztTIqz2xaUiwL2wPieIjLYzmj5Pas2eJGR8HPfe//f/vaPNz/ezbZi4dli3SL2m1d84MYPvo2eq2YyyWLsL5eT3Hjlmld8nA2iRt9gX7le+G9M3fojFMhQKjONx+afr9rgjMdyupxhlVk/q9Ktml7H9cQCUu+cUjbldg/n9T589NFHc9l8r4ZrvMwHM5+pjG+NM9fQm9UueSsmXjB2pH3yySfXvhNk3vlj2Ubgc5/73KwcepVp3N8hT/HoJe6+vOqqq7ov97ncqPM+qzFW1laOhLPFH2u19XMTONogxdmP5FuLFEzvti0OtruFZkrFV67f6EYVs61Ympm5D+1ZCV2KKcvdO3rkqpmxzLN+7Ss+zu54MnrDi7MY2Tlc6zEFRxoC2xV46qmn8mvtdvPM6fLtt9/+wAMPnNcFw9ttzjxz03GL/bIYa8slSPsPUiQIvuplU4tt6a7JyHb/rehWwPK2BG644YaxaTU5bGa+zHqhqFzr0ajhjTfe2Nh67psa93eIRiOsk4uhzqvyjTqfV5W65W7lSDhb/G5LLc9ZwO+92+ydHQUCShUzOyP5r/c324rlVGzrEYreLIaze0OMsm14xcdYvptPexnL2XoCsxLIj71bj1DUBibn5F9fWtiigI5bxGz/mLyYfkdrMs7MBRpjA9H1Cp35L+HrNeo099rRFR9HfK3HI488kjjF4rsl8cedBsHP5tsuFnsAa7Z4JDwv/ANQVsUJAkc7k2JC27ecZKeBgFLXs6tIfqE7TWBKG2ZbsVQ+M0QuXBidjzCldYtperMYzuIFo3Nq1rviI989uQZnseiyphclGUtmPYFDF8ipzFamozcckr8HfzR81tuk4wbd2j8mD+6yi5V33HFHY+L9eiXO/Jfw9Rp1mnu1r/jIw1/WuOIjcbHGW+7QI1z5PT8f7Uwc+853vpNno+QxKLnUIp+I9aacTH/XHe6PVVs8Ep4X/vRuknLOAkcbpNjzPSkyav3y86Oj1sV3QK5BqCvHLkaoCboLiVPceOUK819mW7E0KnMouk1bulzQ2lxJs/jFsPUrPtoXE/WiJEvbJQGBQxTIee1KT7zLb1n1AuDcU71xTtzTSCnf+Ku/Wfxc95J5OVFAxw1C5btyu5MXBktZujK3Ypn+0aifqfYHKs/42PV4bGm7JNiiQOOKj9wqNe/kVY+W7Ttuzj/CNeX+Dpk0sdN5E6v275Q6r5rnVtLv4kg4N/ytQMlkDwJHG6RoDyO3Ltu+Q0EtLqPlocdkvh2wyHyH/KrfHoGXfDK2/9qn3o1x1MwHF2ZbsRwHG5MRaluGxN5ue3ZPFy+KDT7OI1d8NMpKPuUum7XQpQspdyzNYJRkLLH1BA5X4P77758ymsqU2uuuu27wIYj5PT+/2CwdGaaU//5f//NDDz10uFazqrmOG+yOf3ju7wbX73NlPhFLPw6pz9iDRRN+ymgzv6X3HiR555137rMVytq1QK74aLxP8k5edTSeO26O1TmBsPlHuGZ+f4dB29nWeQ5HwkExK09Q4GiDFPvsy8QXlgYXhgbb76ljLuLIkyZyH8eEFdq5Zeuzr14y5aKP2VYsLT+70OM9Aosvct3EWDPzQ0EiC4tig+nPflXY2hUf7fDKYJRksWnWEDhogUyd7Q2EFpuTs9v2Ezoybzl/OeFevEdXL7eUlfFbEvfWe7mqgI4bE/vmN785tmlv65dOTWp/pjKYzFT//CVa8fjjj5dxbHbxwdlbD+6noHRounUsRpx38kpBirxbxrJKcw79Wo/99MgxlTKHI+ExeWrLJgKCFJvo/Xzfxu/qJUUiFBPnPmQ4fc+1P75wYUmcIiVOeXbmbCs25UKPb3920lUtEfvap8J8SSIyjb90wVjo52z91JkpKaI9SadxrUeZ/ZEc0i+JZSTlWfSkUevD3pRRZR7m98Ybb5RfDMrkxssuuyxPpdrFLzM503r99de7JRa+lJubGvzqx689Au09kzbef0vPY/Jj7x/9yZ9OMc8Jd67myFyJdtTj4Ycf3u5YaxFzd2/OSC4Wl5U7LXGw+46g4wbbteHKHD3ab78N85+y+9ILPTIunXjdUw6wiXd84e4v7uJH0Vi9+OKL5cBejuqr3jWm5hCW+u2QTC6//PJf/tClUw4aUzxrmt5XQ+qcz12eLLuV4naaeW3C4sIWr/jY7rUePZBa82P6Is653D9+98WXXnoprcsbuL6jFr+hGrGkKrPqwk6Fk/m5HwmngKSe5ShUuiD/ljfYVj7UUypQ0yx+s+//a71W5vgWjjZIsbd7UkyZrTAxQlHeXvmGzqj7U98YvaAgyTKuXvrszNlWrNS//Vn629/+1wsXVnuE5+AcilpK+4qPWLV3r/lkoRH6aVzrkSLO7lry8wkdZ5GR99/w0RWu3OnWYc7L+ak2A6H291y+uXN7gkxCXvxSX6lp+aLKD4a5LXnjh6CaYQrNid1tt922NERy1113lfrXM4zuQu5WvTSHWmgWGrll62OPPbYUYZ+k3ZqPLedbeWn/ToxQlCJy0Ev6PNGg0Y8pMd3dkL/66quTW7enktviQ0xT+aXXmOQSlSnvkzGf7vpZ9d08Oy7devPNNy/2XVlz9913T/lZOA8rKfdw7b0BSibtsX1YGlMYMh8hf4PZDr7Bur2/0nLj8QqlFTnyrDSAT+IpdBM/OKlDoBIrXPzsJyK59CBWds9Hb+nhulzMMqXmbd589B588MHGIaXuPnb5TE2wuLDTzBeLW1yTA1Telovry5qVrvjI9UFj+eRt3zjk1r129EVc81+6kAFqI83gOzzp07rME8nMo8a+vU1jH4GSLBlOPMfoZbv05X6Ed3Ek3CJ+lFLDXR9DBit87icSS98hx5pg0o/Vh9j4s5+791HxxpC1FL/esx6W7nV2s4lWA2dbsQzX239p+0qnYu3cytZ2hkutahFn13qMxo/GrvU4i1AMXG+SUMWUSSW19Jkv5LwtU/fz2MjFs9hezXPimDS333570udbp7d16cv0QsYk2Tdjm5yoTTkNTZ5JlsTZJb9YJodGKddff33ZWnPuLrR/d+plm4KqRjeTkiznNO2T+72R9qrdfpmBSjtBhNufuMXdkz57La7vrklAqvtycLmH3J04kL5IwCjvusbJfcmzvk8Gi5i4coZ9N+eOi2qv77prJpp3d1nMbTGT+paoiRfTlDU1weLC2C4rrc9hsOY8uGM+HVOGi4P7TllZSy8LeQ5Cd68KVY9m3a15XEL35eJyWlc/erWgxWRlTYrIl0gO7znIp9yxZGPrs0v5dkgmS8vqlvjJ3/i1VDIf20ahO818rEWD6/NmyNfH4Kas7HXfWLKsT4sG+7Ts0r7Wo2rs6Iu4Ue3epin3d6hvhu7ClB1LWWlsPoP5+mhwJefy3ZF3Udmr3iu6V+GJL/cmnILKJ7TijNWwJlhcGNsl6xcTZ810/OSwz2PIYoXP8USioXoKm442SLG3zjv7SXy0tPy0Pv0n+m4u2Sv7dtf0ltvlJnE7wTlWrB0RWLtiPZ/Fl424T9uqm1U7+HU2f6eb/OfLZ8+OHVifVSk6Xw/D2w5nbfmGm35SWFuWL6p86y8dndb0WchXac4m86tp/drrbp2ynNOI/GjfCI787h98rpFP4x5ji3u1p1s3TgH3SbpY7faaxlladpz4s+piEYnXZN/F9XVN+6fmmqy7UKua7s7bpr7sphlbzvskb7Y1Pp6z7bt288+r43KV1lgX7HR9hrKrviV2V5/8PNjIfO2uaeTZ3tT9rOVX3BwwG2+e9u/YZfDT2H2wJjm85yCfclP6YILBlfmYZ5e1vx1SyXyLJYf9Zz5YYntlfrQfS5Bj19im3vr2N9SNN97YS19f7uGLuJZ17gs5pOddMV0176JyVrM0ftdo2t6EZ3UkHATZ5zFksAL18LXPE4nBmpzaSkGKjXp86fnr2E/rU0pdum+j9MamUvTSzBs1XLpvu/R2RGBp5o2KtTeNRRDKXkvnd5RkjQhLwiuDvx63NZJtO/DRbtQcti49hV1ayTIaXJqsJNjkW78WUYIjY6e/6cfGaDn7ju1Y868L3QB8XVkXxk4B90xa6zNloRHcKbtv8iiB9r4ryde2pMLxbMznrykXF3Jq8mcP/vHi+saa2fbdbDsuVxE3PHe0Kefl5fKQHeW/arbt8U/7c7FqWVPS57NWvrnyfs7v5Hk5Za9emuyb0UU9v+9tnfIy5ab0pW/dklWKS8h7vap2KzMYO95p5t3Spy/nio9G4olojW+ofAk2Ju/s4Yu40bp9bsoHIRGKVd9X+UTnINOO37VbsR/huR0JeyZ7Pob0Su++3POJRLfoU14+2iBFe0S6rS5fOrxcbxpFqd7SfRulNzZNzLxBtEnFlsYClmbeqFh702AEoe7SiD7UNFloRFjGwitL+2Ji0d1qzGc539933HHHqt/fi/XPiezE+RTtM7PFnBtrUvOxEFJ7VDDxio9k3jhBHzsF3D9pg2hxU7lb2OL6smbpBSxjO5b17Ytfkib3ymrnsLg11zhs8hbNuWbOkxazHVwz5747uI4bFN7WypVmGm+r0LF82uPJDT9TY4UuXZ9bA5b389KUuVHcYpqyb+MAuLjL2JqEHur8+bE0WZ+PeWPr9E2DM+l2mvn0unVTtq/4aM/NKfmkjxodVC977BZal/fzRVyLay+sHQuYsmNu6rzeGU7CoI37fbRblK37ET7HI+FS/P0fQxqdss8TiUY1Tm3T0QYplo4Mt9LT7eFl+3qNKRVo59AovbEp5bazPceKNa7ImFKrpWka+TeiDzXbdoRl7bjYWHSjljvnhbW/vxcbldHglDPRnJnlvoaLu6+xJmcef/0Xw8+Hz2i5ccXvxCs+2jNpb7nllsE67590sBpjK9tnXY0ZyGMZ9ta3O3f6tdY125yFr3eKWXO4//7763J7Yc59d3Ad16Y+pq3t8eTmn6n1rFKrTCOa8tnJkzIWi9jiZyGZ5xaY7VhhvjumVHWxnr01Of4s/p6x08x7FVjp5eCkj5JD94KdsTzb31CDwZqa1X6+iGtx7YW1R9pLd0zXN+I47Vpl6yb7zkp4aUvXSLAUf8/HkHYT9nki0a7JSW1930m1duuNbY9sNx98Jod2EWMtau91jhUbq/B+1p/FEd4/VlaitotnJ93EjdDP2LUe2T1zQ748evPsbvaHt7z0+zvj/JxhX3fddTmLzcNBM8Js39o9V3J+8obfavdCmPILw+Ds6BSX+1RlkmSJ0OcrsF1csspvHWM3907NB0vJXjkbzhlzziHafdaYSZuqDt6+/rxI2w3pbn355Ze7L3vLS38b6aVffNnOIR263oUbiwVNX5Ozk/TLYH91M5l53822487rnhTdvjvf5VdeeaVRgdxCsrF1d5vGjn6LJS5esLP0s7CYSXtNDrmJFT700ENjyRoH27JLZq6Vr4Z8LwQ8H4fBoMbgz9c7zXysRVPW54LBsauW0rrM0GnPTWu0K1wz+SKe4rC7NImO7S7zpTnv51RnaTXOJcH+jyG7bubEE4ldV+Ow8hekOKz+ek9tzyIRrZtrvif1Hl+sXbGzIMJqTx5dqVn50s1TP8ciOHlgSh7+2vgb2zG7tOM+CWE09t3dFS6Ntmy+KTGd9vd3fpLqjSczzPvC3V/Mr3ON099MbRiLGtQ6l18YaiY5ncqshMHoRiqw9JLLsTO5sfODUo1c8dGuZ3sm7eCvo+dIWm2XLgye2de9rrnmmrq83sLmObTLrYGza6+9NikzQs4vxvW9NLZv4mvtIMX8+262Hbc4xB3rhS2uz4GoO/jPBQVjmec41k3ZS/arH3/7XbThXzt+dC4+K7Xolz/0npkUSz8Lybz7McxnMNciJXbQ/hjmFD8H87GjbraO1TllDT6DNvXMJS2ZxV33HbsEryZYLGLzzBfznL4mX4WpwNhHO0e2dpCi0a72tR6lhvv5Ip6usfWUGSeP2day6ju5/hKTEFgDtu44ZWEPwrM6ElaTczmG1NKnLNR+3+6JxJSiTyrN0QYp2r+Z76ePNx987qgV51ixxlg9nbI0cr+fjhssZcK1HqPhlXuu/clz3xuewfG3v/2vFy6M7jhYk5mszEzRxvf3vffeO3g2mS5O4CC/lo/9/pMrKQZ37LU6EYScCuREKlNS22+bkttYccl27Ewu5wc5Zx0721haz7ELSUpDBn+vO1/SnvDgy5w6DK6vKzcfs7WHZI23XK1DYyEd+kd/8qfdN0x6OefxGYXmbdnIvP1bd0qced8desc1+nS9TXkPtMdv3Wynp+zuta3lvEW3ldXm+eTUvM5Wy60o3njjjQQXuh+oFNH+LCRBL35dPoNZn6Ni+/YxY0fd9ts710T0algcynsgnZvdc7jO3+AleDvNvNRkk3/TurFvt/a8s/adUNrXetQK7+GLuJbVWGjPv1t7x8ZMk5JnvlB6s3tKLHvpTyONKvU27Vr4HI+EjV7b/zGkx95+ubsTiXa5J7jVPSnW7/T2V9f6+W6852wr1m7Z5nfKaOdftiZeMJYsAZQG3XrXepSy8jXw7c/+Qu6IUduYhfyXCMXgydNYDWe1vjGNIiey7UBDToCSZrA5GSi2T57KXjmvzclBSpkC2K5MY/zZ+DUp9WxfI924BUDaPjjwOF/Swe7orfznH77ZW9N7OaU7erv0XvZ+le1tzcvGh3QxcXdNhkZ5zwzWMAOVu+++u5u4t9z+rTuJZ953B91xvb44vpeN6NjYcXL/CKnJY489lpBuPkSJ6OWgmvFY/s1yrzKNz0JS9iIU3X1zVMyUh0aTJ347dPPMcsIovTW9lzkmpCFpWnu2VG+v8nKnmQ+W2Fs59oioJGt/SaW9vazqy4zBBo+TNUFd2M8XcS1ubGFpL6yxY75oxn6iKLktRihqKXk75cNSX26yMBPhTZowtm+j1+Z2DOk2YacnEt2CLEfgaIMUx9G7S78n1j5f39BnvYqdV227jU3Na6Sgu74sN+632pgD0r7Wo5aSCSxf+9QliVbkvyzkv6WMdd+5LWR83jixbo/30pY0vJGm/RiC9SgaJ76NDNu/Jj3++ONj+7bPbwbvdnZwpGNt33D90g/F0vH2YAXyBlgcTXVT5nKhxpuk8W5PJvouCGt33Infk6Id68y0he679LyWMzNubMZZr0rtz8LSj2H7qyFlDQ6t2++9XEUyJfDda0h9udPMaylrL2QQ2zhwNR5E1bi4ZnBGydo17O7YqGo32RyW82N+uxqZlNdIkMB3ohiNBDvadEDCYwLncgwZq0xv/dIj2CYnEr2yvIyAIMX6b4PGgHb9TLex52wrto3GbSGPRkxhbLrEhGs9tlCxA8qi/STIcpFeuzmDN4QvuzTmILTzbGxtnOs3fiTP6Wmi5mPZZjLt2Kb2tR6DsY+DIG2PJ+d8ejQYGOp2X/p68EYhNU1jMDn/vptzx7Uv8Kn+x7rQ7po5tHrs2r3BurU/C+2PWMkwZ/mDOZeVY0Pr9sEn9xzJI67X/plkp5k3GjtxU+PglmtYBjNpR23aXTCY4cSV630RT8x8u8naT5LKiUE7epXK7C7W02jpAQmPteK8jiFj9emub3zWSrJNTiS6BVkuAkcbpDi7m4NenpfATKInjffG2BUfY8GL+GZextLvqnl1wzZq0/7+zm87Swtp3LygETVYmu1YgtzXfWxTe33jnnmNybSNOMvYTNqDI2277W7reoO6xqToWtXGJbJJ0yhX31XDxkIDsLGXTecrkPF55q5Pr0P7szB4L55e5vk+bYSGk3hwgN0Ym5X8E9345G/8WkIVjWhjryb15U4zr6WsvdA4uI19SQ1OSCkVGPuGWrt63R3X/iLuZrK43D50L6avaxo7Nq4Dze6NE4Oaea4eaoe3asotLuxIeIs1rFmN4Z/XMaRWrLHQ+KzVvcbaVRL4HqxQUxaO9saZZ+Phn04hWDvNju5quXZ96o4qVikGF96OdI4/4yPvnBs/2N9v82s9+jke+OvGJIJ8K+euUZu0rz21fjDn/ESW+7TnKae5kVsS1Gsd63nG2oGPTNpMi8aqlCs+Fi8iyElw41rWO++8c7AJcyMdrGT7R+8xpcGs1l7ZrsNYtlMCZ2P7Ll0//75ro82545biS7BTgYzqV8q/8VlIPhM/hnlq9diMiWSS4/xilfKrdeOoW9Mn2/xlHJ700+9AsdPMa93WXihXfIx9igcfRNXopk1+/9/dF3Ebp37jt5Mtbm3s2D5nyInBYm6LaxLeGuuXxcRT1pyX8JS6rZpmDL/x5kwRuzuGTKn/xNKnZCXNFIGjDVJMabw0JyuQKz7G4g6ZNHHjle95sOvZHNHhZ3MEcPNHpRxZL+Qreexm49ttafolV43m/ts5mdjueUCvnpngN9aifJsuBikalwEn3jHx5KZbh72Rdgs9r+Wzj1ur8KV31lzceeLPWbt4+unp9N3aHXfivyy140ftkdLiW33ra9Y4Xo3VYeLHMLs3LgbM1hKJ7pWSiEO+C6bEKbJjkuUvN+fLsT0X3y2dC7nTzHsNWe9l40sq0/p6c2EyFaXxjbnqtR57+yJeT2btvRpE09/Ja5fe3fFYhbttnLg8XX6NY8jSOkwsfRcnEkvrdqwJjvZyjz102NIvts3rsPS0b7AOgys3r0w3h/Uq1s1hcXksarCYcvM1K13x8cCLvzhWYuMenGO7HMf6xvf3VhrYfoNlqsJdd92Vubv33HNPzjV3XZnGBL8UvTj3uHGtR+OS7F23ok06sdeWBgg2L2XpfTHXOL4tna09sfljyebfd3PuuPYofcz8aNYv7ZpzbOnEk/JuDRufhekfw/ZbYuwH2C996UvdmixdTlUTff7s7/3OlKl/O818aVWXJmh8SeUrsndY3ta1Hnv+Il6KsLcE09/JG158cZrC53gMab+Fpvd7Ox9bpwscbZCiMQqdrrNhyt4Xwxq57egmDudVsTVGF2ugTdklNWnEF6azN+7BOaUaB5pm8/fPJg3P9OObb745J16bZLLSvpng17hNd++Er32tx9gl2edLOl1j6Ud4aYhhaVm7+F19wzPFdp0Pou8OtOPa8sextd01jfP1PTS/EVQdLH0/n4V6EV+vDjlQP/3006sGVkqoIrcYWAw3d/PfaebdgtZbbn9J9R5U0ZhOP/1aj/1/ETdk2ncBWGPHbb2T165Y6jwr4Ybh2psGcbYl367V2DGkvddOTyTaRZ/s1qMNUkwfZ+6u73ddh8Ywu92o2VZsP4engtOIL3Rvk5kqNaZ4nOa1HpsPRNvvz8bWTKDIFcWNBDva1Dh1653wNa71SKQjp5KDNTxH0sH6NFa2xwDt+3I3sq2b2g+gbZdeM9nnwqH0XZvuBDtun2+STcpK3HOT3fe5b/uzMP0Uf+w4ubQt2fEbf/U3jZjyWA4JVeQJIE899dRYgqzfaeaNciduuv7668dSdu9EmLdTI/I18VqP8/oiHmvg2OSasfR1/diO23on14JWXZib8Kr1n5J+EH9b8msfQ6bUXJq9CRxtkGI/gu0wQXesu1591s7hQCu26+hJtxcac226UYlGldrI3bKObPm85ifnh4VVJ1BkYFb+NuyCxqlbTvi6P8E1rvVoRDrOi3QNlvaMx+7Z8BqZZ5fBE5ea1ao/7dYdd7dwKH03247bytyZ9ttmd72/lZzbg+rN40dbqeSUTNoDg+m/Xm7yc0Vmpjz00EOPPfZYjvxT6txNk+sH23GKnWberckay40rPrqR9MbbKe/D9ryeUqtz/CJeg2W9XbZ1VL/sssvGKjA4j+B0hMdY5nAMGaub9fsXcOPMjcwb91/cKN93du6Olt9Z9+7/G3MBZluxd2s/tLR408qhVNtZly/jxjM+cpJUvq0bcaKG/3aqONdclp7HrHF2uLSt+f1nyhyKPLsud4bPPZPyiNNuPXNeNWX3sWokq+Q8lkOu+Ci3l2tf69GIdHSrOliHXZAOFrR0ZX6va4SKBu8kujTPboLu+XR3fVlunNgtJt7PmkPpu9l2XPsGBPvpxPMtJVMMGp+pBP6mP4fifBuS0nOkavxQP7F6m/+amgNyDssJHz/88MMN28X65G6a1157bXuktNPMF6s0cU3qnCjDYGPTI/luKo3K7UXHMmyE0esu5/tFXKux64X2UX16uG3wJq+l8mNx1RMRbvTgTI4hjRratDeBow1SzOExnAkx/OBHP2kf7Bo9/eyyOZ5nbfxAI4exTedYsXb05Cwo854na4w1YSvrG5XJBIryINJGnOg0r/Uo8o1vkQzmFx94sXl/5WGf7UxS7hfu/uLaH7d25tmai5bHghR1ZN641iPVa9dt/6RLmzyYoH3n6u7Z8ODu7ZUZVLRHOI1fCxs57zq0cRB9d4gd1+jT3qbpw4bejnN42X7iZj287L+q2/3gTH9SyVYm14Qr0YT8ZdSXr4+xo3dPNcefwQdL95LtOvPF4qasaQQi64NIG70wJRZ27l/Egw5rv1HX27Fh2KveWCSil6z7cp7C3Rpua3kN/Ony2zqGdBu7RoW7u1teQ+BoL/dozNJfg2lsl6XD1MaDIcbyrOsbv+GXNI0xz2wr1rjIojRqaWim+my+0KhMwW9MOj3Zaz2Wsrd/CV+6+1iCdrYlMtL4RGw+hsnJbsaig9XLeW15qzSu9UiMY3DfKSvbbZ+SwxbTxKGd29JzrMbuvbuQLqZs/8K5mL6sWeNMcSyrVdfPp+8OseOi3fgpstsX009eu3vNZDk/3TdqksNL94KyRsqtb1rjg9O4qqgdf+xW/s033+y+7C2vOlTIQSNx83/43/9PviZ6WQ2+XOkzu9PMB6vXWJnHqY5tLd9NideM9UL7mqOabRtnD1/EtSbdhTXeqGX3xo5jX/fdcpcur3HiMU/hpS1dI8EY/gyPIaV1YxVeo+12mShwtEGKie3fPFl7sHo2Z+HHa5SSMU/jN/xk2C53aYLzqlhjGFmUloZm1sAc2yWVGWMs+I1Q18le61Ewt/ItMtYvi+sbp1ZJnJOJXczdWKxGnkW/uLKsKbdPHxsppYZLh4h7Jh1ryJT17dPZ/GKZ/pqSTy9N9mr/2jlxjNHLdg8vD6Xv5tlx7Z+8ppwXto8Pe3gDbFhEBrrtEdF+jm8btqLs3r475sRoS/vWNu05QWOtyNf9xFBFhvGrHsF2mvlYixbXpxpjn/FyGUjjhhR33nnnYoa9Ne0P2t6+iHu12tHL9lF94jtk7JRgrM4nJTyGMNtjyFiFrd+dgCDFprZLB6vrTaZYutc91/6kXfXZVuwr17fedYkO7HMyRUMpcaJGxGTpXJV27xz61vbFqxPPRKcjtIcxjZOJWsTglbp168SFxu9UOatunF40ohu16D2T1nLXWFh6Onv//fevke3SvTaZjbJGfabvcih9N8+Oy+1jGtRTfopsDL0aOc9qU/sQkWHzo48+OqsKj1Uml66Mbcr6pVOlyr7tYOXSgG+jAiWasPS2mu1vnLH8d5r5WKG99Y1nfOQbqhH9aX8MSyltlr19EfeavKOX7aFy49LOWp/GKUFN01s4KeFe2+vLmR9Daj0t7EGgNVzcQ/G7K6Ixk3+7hWawOvZrfCkoo+4//PbPVio06csv+WN7pcR8HY5tLetnW7GlXfPl53+6tzhFozKZRjHWC+0eb/fLcWxtz0/e8+9+7ZOJgOdcYSvsjd+pMpRqjJSm3ElhVqRtrgwS2j/8JiSUO5W2M+ltzRPX2oGk/EK49uBk1fnhvbotfXkofTfPjmt/l+WnyMZld6VrcrPDpX3UTtB+P7f33crWRgC05P/1r39968HfpTVf44PTvq9BO/pQ6tN+vsbYTIGlbekmyAehHRVqX2/SzWpxeaeZLxbXW9N4I2VcPXYpQSaptT+GvVIGX+7ti3ix9DXeqCWTxo7tofKTTz65WI3emk2ufOxlVV7uQXifR8Ix/NkeQ8YqPNhZVm5F4GiDFI2J+luB62bS+DW+JCtxiqVnWkmcNEsjFEm2tMRS7tJk51KxfBcuHeSvEacIXUIbq8aDGpVpTKNYClv8e/+W6qWG5b+9BWJ61djKy/b85LV/9xv7jGx4//+lP9FPNxn7zTxDqbGL53NWHa6lReyZdGl92gnuvvvudoKMRhJ3GOvQ7r5JszRCkfRj8t2sxpanXDIwtu+U9QfUd/PsuMaZcQ4mf/0XrfFAphgkzZRuaqRp/Ag8Nq5r5LbGpnwTLb2a6fbbb28P4BfLTXw2PqtGDGs+631w2g1pVyZHg3bIaWymwJRDTW1XFtqB4zwfqpt4p5l3C9p8OW+ksThOenPsk9IekNdazeeLuFapLKz3Rs2+jR3boeelJzl5z0wJyfUacu7C+zwSNvDP5RjS64vFl40KLya2ZisCRxuk2IrOxEymzPxPOOA//M/3Z1w69m2X9dmaNGO/3tfKZIQ/pcSkn5LsXCq29FqVVD5xigzml47kkyDJPvWNn4Yuu1Sl6QtjEYdGR0yB7VUglUz1kmf9rzRw7P3Q232GL9ujnfzut9L5dH4kzEj1k7/xa4Mg7UF+exSRc/T2T/Qr2SbGPzigyinL2F0zp4+u90m6UqsXE+dxqoMO3ZRhT4fGf2wmSxlBJc3SDsppd/vXlW6557J8KH03z45rnBmnN/Oj5dgkgox4c6jZaY/no73SoWztytx2221L973nnntynBzTKLvnEJoKRyaXR918883xaR8hlxa6aoL2ZVkZuY3FKXJA+Ozv/c7YQLpU4/Of//xifdLkHEYik4YPfoMs7tKeV99Nv9PMuwVta3nsG6cxZp54dJ3PF/G2rBr5pLFj4Z6yVz5Z+XYbzKG8kwc3tVfOWXhvR8IQ7f8Y0u4XW89L4GgfQdoGzfjwy8+3kwxv/fZnh8M6f/vb/5pB8vA+nbVno+j33/DRn1/9keFx+bn+bDyc3SeNsc9G+Euu9ahlzrNiCfZ/5fq3wxC1noMLZTyfniozL0o0oU5wOEPr73e2crWHmJ5d8bG872pJS6eB1JR1IRGK8dr+4tc+VRPufCFfq/lbo5iLFy/29sppTX7yapxQ5nw6j2T/0pe+NPa9m5O/f/zui7lKOefQjXxKuRkSj6XJ+pz1Ll5jkhOFzKFYOgDutWvpyxtuuGHwbG+soInnfyl3z6RLW9pIkI/wI488kiFQI03ZVN5y6b4MROts1Vwdk7knYx26mGfeRYsrZ7XmUPpunh3XeHRiejnvk0wiuPfee3PHxHLlfI4bL730UsKCYx+6Vd8beWc2ssqhLPOk8tt7DmU5av3zD9/MELdUIAU99NBDqxY3mD6Zp41Lj8+pZ6lqRlCpdpmBnJ/4Vv1MDdZhKytzvUPqVio5mGGOnznm54KLdGj56TjXyuV2CUu/CNq/r57BfCslpvQM1BOPy7t9sALpxMXvi27KxRs07DTzbtGbL6fhK2XSVu1lNZ8v4l7FdvGyfVxKifm05iiUN1umXeTzm1OO8k4ePEOYWMPzFZ7DkTBQ53UMmdhHku1N4GiDFKuOPDcUnzjqLqXU8WpdmF567jo59r07mMlsK5bJCH//2iUTBUqyKYnXiCCEKGGjKZkX4bGZF4P+ZWUj82x69tWpU2MaRZzLpvx6nNP3RtE5scs4tg5Qcz699GQ6A4APf/DKxTwzxG2MactZb8IH3VP2xlnyYv7T1+QHz+mnICud/6UO+ySd3uTBlBPHVGXf9F3+1uuRBx54IGUN1mHiyv1cSnoofTfDjpvyvIalo/eJb4bBZJnu3v5Ql1jb4r7t31oX07fXZJrA9MhLPk3rfaDadehuXfuDk6hiO4KZo8GqHZrvkS/c/cVu9caWq0z3q+eyyy4rV+QtFU6fNs6ydpr5WItWWp/Kt4NEvdzav1r3Es/ni7hbsbXfqO0dc4OPTOPKe7VbVm+5vh9669d+eb7C+zwStvHP9xgy2H3tCg/uYuWGAkcbpDi7J8WSH+o3tOvtvtKou7fvxJfTL/ToZjjbimVKyHPfW2EKQ7dRY8tn4YDVZlIkq8QdGnGEXlmrXuuRH20uXNhyM3tVOq+X+fU4P3+1T+5Tt7eHp5MHqL/8ofdcDFybtvQ3jRSxtCY1t00WMsabfgo4ZQp3tzL7JO2Wu95yxlSJOu2UPVGemKxXvbrXfi4lPaC+m1vHLf3drHbljhba15/vqNDBbHNqfscdd+RoNrh1zyvX/uDkIJnYYjuEvWpbMl2uETsYzC2M+cswcnDr2MqxyyV66Xeaea+sVV+mCRNbnThOPn3T85/PF3G3zmu/Uds75v2W+T6rRtO6FVtj+XyF93kkbOPP5BjS7cF2hbspLW9LYPjihW3lfmr5fO1Tl6zxS/5EpcyhSP4TE/eSzbNi+QLI1Si9qm74cj3/6XGHNfJfeg/XegHLhm0/l90zaXa7vyWOtSLDqpxOjW1duj77rjqpoZFnTiMaW+umFJov2vpy4sLeSCfWp50std0ibK+szH5vz8rupT/3lwfUd3PruA2v6MlnbZMDUT6nu3sbr/S2TE1yIVWas9JeM0ycmN0mPdJrUQ4FK42le7tPf5k6bx4VHStup5l3C51+xUemH3Z3XLo8qy/ipbXdPMEm7V3voLRJiWlvCt3kUDafI2HacqDHkM3fdXKoAoIUlWI7CwkHJJqwnbw6uSTP6QPpzn7vLs6zYiVOscbI/92GvXdp+oSI9+635DmyNfEa13o0nnJasl0jz1qfOSz80Z/86RZPRnO5x1ijxm63Npa+rs/X9jf+6m9WndRQd19caDzmrZu4/ZS7bsrecq5y3w9pr9z1Xma4m19N19u3sVfyzOlaI8E8N+3t47B582fVcRueHGdgf+edd25iMvFSgk2KmLhvKHK82uIRYGK5W0+W49gm46Van0Qo9nMoyDfFhsGyWufFhZ1m3isuZ1YT3z8rXetRSpnPF3Gv1Tt6uXbQcO2D0vkKz+dImA49uGPIjt6EJ5vt9ofTM6FcOjLcXT0TTcgEgW0NvJNPctswQlEaO8+K5dt0ixM91mafGClYoyPSwN292eaQcxqYL5KcR26lMmOXeyTz/JK2xilviVCkkjn1n3jetrQhyW1KTSbGMgaL2w/pYNFrrMwvHo899ti2eJPP008/vcXfM/d5KenePg5rdNPiLrPquJwcr/cWynsvn+4Nf2lPx23rILbovOqaVCbRrikHmVVzXin95h+czQNhewtW5psio8q8kVYimph4p5kP1mHKRSup1Rqfmvl8EdeGr/1GnbJj3hJrxCnyvi0HpSDXek5cOF/hvR0Jp+BHbD7HkIkVntjLkk0RONogxdI59lN01k6TD3mZubD2mDlFl/BE8klua9ekt+NsK5Zmbh7ZidjEWEOPJS+nRB/W7s3Gjtk0pejFCs9tTX7pysByk7PqjE/yvd5+t5evq+nf+qlPfpOseU68TGOK7dIfoNKcWu6UDBfT7Id0sdz11uS8KoGVDUMVQUsOyWe7Q4X9X0p6QH03n47L52XVkXneMDnspAnlTZuX6717y17ptbz9ph9eNilr6b7RyOFuw4Nq2hKT9vNxGzXZygcngbC0Yo2uydH7H/73/zMxWLlG/t2GJz6V50yNHXZ2mnm3GltcnnLFx6rXetTqzeeLuFRp7TfqxB1LnGLi2yAfurzh6/t2vU/f+Qrv50g4ET9dvJ9jSH17jy1Mr/BYDtavKnC0N85cFWIX6TP4vPHKS37wo58kYpL7Dky8EqGMtDMT5GyEs7XwRLeB86xY2puHca7KlXYVsc2H+smn3UcrPfy1C54QzB9++8Ji5ilx7Ty7+c9kOV/k+WbNVRXPPvvs0juo1zrniz+xg0w6OHvD19WjC/m6yunXnz34x+37NeYEN3GEOnop2aWUbd0EKznnXCT3Thur6IaTz0u2+yEda8Ia68OSvzyJbY33QHnE4xqFznOXw+q7mXRcGZnnGPL444+3P+A5buS34joSKO+B6fcLHHvPxCFhzaWHl+xeKjBlKDhW1pT19V2URxvmic7T74aY8efiAXBKibtIk1Yk8ph7SP/1X+RpCUsel5Djaiqf90D2mliZvG1K/v/w3N9NV0rmtRMb3z47zXxiA9dIlmqnde03zNJQe6PcmXwRN2q43U3lPfzUU0813mB56+Yaz97JzNqHiPMVnuGRcKfHkO2+W+S2LYFL3nrrrW3lJZ+lAvmSrlM86u0S64//7wQmlmaz/QTzrNjSWgWicW6xfabNcnz21Tx19Wc1j/T75oGVmts8F1544YU333wzD37rRaAzay4PhMt9pHNxxyY9WB5LXvMv2V566aX5fp0nyOa12jXp5jXs5VAqnJW1m7JceioLx91ZgxRdh5JgWx+HXnEbvpxDx6UOL730UhpSDiD1A/6rH792k+PGRJkcXl5//fVUoJaeHXPgypt2PxUYrGc9AnRZasUuv/zyDQ+qg4Vud2WB7X41pGdTRJ5Euy3Y3ldDt/714zY9CNLdPcs7zbxX1kG87IHUz+mxfhEPtjfnM2u/o5b28mCJe/v2TOlzOxKWKu30GLK0UyTYg4AgxR6QFUGAAAECBAgQIECAAAECBAgsFzjae1Isb7oUBAgQIECAAAECBAgQIECAwJwEBCnm1BvqQoAAAQIECBAgQIAAAQIETlhAkOKEO1/TCRAgQIAAAQIECBAgQIDAnAQEKebUG+pCgAABAgQIECBAgAABAgROWECQ4oQ7X9MJECBAgAABAgQIECBAgMCcBAQp5tQb6kKAAAECBAgQIECAAAECBE5YQJDihDtf0wkQIECAAAECBAgQIECAwJwEBCnm1BvqQoAAAQIECBAgQIAAAQIETlhAkOKEO1/TCRAgQIAAAQIECBAgQIDAnAQEKebUG+pCgAABAgQIECBAgAABAgROWECQ4oQ7X9MJECBAgAABAgQIECBAgMCcBAQp5tQb6kKAAAECBAgQIECAAAECBE5YQJDihDtf0wkQIECAAAECBAgQIECAwJwEBCnm1BvqQoAAAQIECBAgQIAAAQIETlhAkOKEO1/TCRAgQIAAAQIECBAgQIDAnAQEKebUG+pCgAABAgQIECBAgAABAgROWECQ4oQ7X9MJECBAgAABAgQIECBAgMCcBAQp5tQb6kKAAAECBAgQIECAAAECBE5YQJDihDtf0wkQIECAAAECBAgQIECAwJwEBCnm1BvqQoAAAQIECBAgQIAAAQIETlhAkOKEO1/TCRAgQIAAAQIECBAgQIDAnAQEKebUG+pCgAABAgQIECBAgAABAgROWECQ4oQ7X9MJECBAgAABAgQIECBAgMCcBAQp5tQb6kKAAAECBAgQIECAAAECBE5YQJDihDtf0wkQIECAAAECBAgQIECAwJwEBCnm1BvqQoAAAQIECBAgQIAAAQIETlhAkOKEO1/TCRAgQIAAAQIECBAgQIDAnAQEKebUG+pCgAABAgQIECBAgAABAgROWECQ4oQ7X9MJECBAgAABAgQIECBAgMCcBAQp5tQb6kKAAAECBAgQIECAAAECBE5YQJDihDtf0wkQIECAAAECBAgQIECAwJwEBCnm1BvqQoAAAQIECBAgQIAAAQIETlhAkOKEO1/TCRAgQIAAAQIECBAgQIDAnAQEKebUG+pCgAABAgQIECBAgAABAgROWECQ4oQ7X9MJECBAgAABAgQIECBAgMCcBAQp5tQb6kKAAAECBAgQIECAAAECBE5YQJDihDtf0wkQIECAAAECBAgQIECAwJwEBCnm1BvqQoAAAQIECBAgQIAAAQIETlhAkOKEO1/TCRAgQIAAAQIECBAgQIDAnAQEKebUG+pCgAABAgQIECBAgAABAgROWECQ4oQ7X9MJECBAgAABAgQIECBAgMCcBAQp5tQb6kKAAAECBAgQIECAAAECBE5YQJDihDtf0wkQIECAAAECBAgQIECAwJwEBCnm1BvqQoAAAQIECBAgQIAAAQIETlhAkOKEO1/TCRAgQIAAAQIECBAgQIDAnAQEKebUG+pCgAABAgQIECBAgAABAgROWECQ4oQ7X9MJECBAgAABAgQIECBAgMCcBAQp5tQb6kKAAAECBAgQIECAAAECBE5YQJDihDtf0wkQIECAAAECBAgQIECAwJwEBCnm1BvqQoAAAQIECBAgQIAAAQIETlhAkOKEO1/TCRAgQIAAAQIECBAgQIDAnAQEKebUG+pCgAABAgQIECBAgAABAgROWECQ4oQ7X9MJECBAgAABAgQIECBAgMCcBAQp5tQb6kKAAAECBAgQIECAAAECBE5YQJDihDtf0wkQIECAAAECBAgQIECAwJwEBCnm1BvqQoAAAQIECBAgQIAAAQIETlhAkOKEO1/TCRAgQIAAAQIECBAgQIDAnAQEKebUG+pCgAABAgQIECBAgAABAgROWECQ4oQ7X9MJECBAgAABAgQIECBAgMCcBAQp5tQb6kKAAAECBAgQIECAAAECBE5YQJDihDtf0wkQIECAAAECBAgQIECAwJwEBCnm1BvqQoAAAQIECBAgQIAAAQIETlhAkOKEO1/TCRAgQIAAAQIECBAgQIDAnAQEKebUG+pCgAABAgQIECBAgAABAgROWECQ4oQ7X9MJECBAgAABAgQIECBAgMCcBAQp5tQb6kKAAAECBAgQIECAAAECBE5YQJDihDtf0wkQIECAAAECBAgQIECAwJwEBCnm1BvqQoAAAQIECBAgQIAAAQIETlhAkOKEO1/TCRAgQIAAAQIECBAgQIDAnAQEKebUG+pCgAABAgQIECBAgAABAgROWECQ4oQ7X9MJECBAgAABAgQIECBAgMCcBAQp5tQb6kKAAAECBAgQIECAAAECBE5YQJDihDtf0wkQIECAAAECBAgQIECAwJwEBCnm1BvqQoAAAQIECBAgQIAAAQIETlhAkOKEO1/TCRAgQIAAAQIECBAgQIDAnAQEKebUG+pCgAABAgQIECBAgAABAgROWECQ4oQ7X9MJECBAgAABAgQIECBAgMCcBAQp5tQb6kKAAAECBAgQIECAAAECBE5YQJDihDtf0wkQIECAAAECBAgQIECAwJwEBCnm1BvqQoAAAQIECBAgQIAAAQIETlhAkOKEO1/TCRAgQIAAAQIECBAgQIDAnAQEKebUG+pCgAABAgQIECBAgAABAgROWECQ4oQ7X9MJECBAgAABAgQIECBAgMCcBAQp5tQb6kKAAAECBAgQIECAAAECBE5YQJDihDtf0wkQIECAAAECBAgQIECAwJwEBCnm1BvqQoAAAQIECBAgQIAAAQIETlhAkOKEO1/TCRAgQIAAAQIECBAgQIDAnAQEKebUG+pCogUuGgAAQABJREFUgAABAgQIECBAgAABAgROWECQ4oQ7X9MJECBAgAABAgQIECBAgMCcBAQp5tQb6kKAAAECBAgQIECAAAECBE5YQJDihDtf0wkQIECAAAECBAgQIECAwJwEBCnm1BvqQoAAAQIECBAgQIAAAQIETlhAkOKEO1/TCRAgQIAAAQIECBAgQIDAnAQEKebUG+pCgAABAgQIECBAgAABAgROWECQ4oQ7X9MJECBAgAABAgQIECBAgMCcBAQp5tQb6kKAAAECBAgQIECAAAECBE5YQJDihDtf0wkQIECAAAECBAgQIECAwJwEBCnm1BvqQoAAAQIECBAgQIAAAQIETlhAkOKEO1/TCRAgQIAAAQIECBAgQIDAnAQEKebUG+pCgAABAgQIECBAgAABAgROWECQ4oQ7X9MJECBAgAABAgQIECBAgMCcBN43p8qoCwECBAgQILA/gWdffU9ZN175npdeECBAgAABAgT2LyBIsX9zJRIgQIAAgfMX+MGPfvzl59/frcevf+hfP/zBD3TXWCZAgAABAgQI7FlAkGLP4IojQIAAgZkKZND+wIu/uF7l7rn2Jwc3vP8/P0w84qfrtbfs9Yff/ll799+84pJf/9CPD06m3ShbCRAgQIAAgZ0KCFLslFfmBAgQIHAwAhm0P/e9NQft91x7MM2sFU344MKF98ykqJumLzz3vVac4mxrivjpDR+95BDjONMdpCRAgAABAgS2JSBIsS1J+RAgQIAAge0IZIZChvcZ2Ce7r33q7X8P/S/Nee5777/hoz/bQ3OOT+/Qe1/9CRAgQIDASgKe7rESl8QECBAgQGC3ArnqpExPKP/utrD95p4WJYKQBu6u2CPW2x2anAkQIECAwKwEBClm1R0qQ4AAAQLnJnB2+cOFMn+h++9ihbpby/JimrXXrH1fjFVLPLsnxao7LUkfjfLfWLrEKXbawJ1mPtYo6wkQIECAAIEtCrjcY4uYsiJAgACBAxbI/R2//dlS/3KFxdv/PvvqJV9+/j03qvjb3y6PwHg3zYULWd7aQzH2NoFiK/ek6PZ3whOdqzmK3oW/f+3tS1e6yc7mU+zqMpZeWd1yLRMgQIAAAQIHISBIcRDdpJIECBAgcGACz7769vg8la7D5ozhlz7tove8jDKe77Z88PaTucYh0yJ6xWWvlJh/B3fp5rm75RuvvHDjlZcsBnrSrh/8aPh5KJu05cj0dtcvciZAgAABAnMWEKSYc++oGwECBAgcnkDCE73JF6UNGZmfBSyG7x/Z2KtL8JtXfODGD767ooRCck/KwYeJnhWXKMlwie/msuOlhCr+/rVLSmVqUbku42ufqq/eXtikLUes9x4jLwgQIECAwAkIuCfFCXSyJhIgQIDAvgTyY/5ghKJbfobrvd/8M31g6V7dHLrLvcF/d1NdXiyxbtrPQmZz9AoarPbgysUdT02vJ+AlAQIECBA4bgFBiuPuX60jQIAAgf0J5Pf8KcPsVGhbUYNMUijXdCxtZEpM9c7rL/f7WKxnQjPd+uy/LfsvsdteywQIECBAgMCggMs9BlmsJECAAAECKwsszoYo96FIRoP3j8zNGjJOLn9fuf7tnw0Wk5X1P0904cLZ3S7fc5PO3OeiREaSsjygJBGBjP9zPUUvYpLMc4eImtWeF2o9a7m5j0b30pWsr2lWbcvR61U0CwQIECBA4OgFBCmOvos1kAABAgT2IdC7BiFFZuRcYxCJDuRWkf/hf+bmEe/+1ahBwgpluP73r727NUuJcdQc3tnwnghFVibBr3+oPHAkr36+NRnmjg9/+O2pMzveyfyc/79eW+idc7cpngABAgQIbFXA5R5b5ZQZAQIECBA4E1iML2QsXX7wr0KZ6dC75KFuWmkhOQ+mz8SE7vrexIrupj0sl1ke3YISo+m+LMv7b8v+S1xstTUECBAgQIBAFTCTolJYIECAAAEC6wv0QgC9AEHJ92yg/p7JFIuXPKxfg3f2LIGP5PzOipn+f5CoV9f9t2X/Jfaa7CUBAgQIEDhxAUGKE38DaD4BAgQIbEHgbGT7nujDYKZnP9r/tLupXvHRXbnqcnl4Z/Z6J1BSavKeglbNc+vpz4Imy6u0/7bsv8St28qQAAECBAgck4AgxTH1prYQIECAwPkILI7AF+9wuYualQH2O7GJXZSwvzz335b9l7g/TSURIECAAIGDFRCkONiuU3ECBAgQOECB3KtiWzGFTN/48vPLp2/MBGnxDhTdOM7+27L/EmfSEapBgAABAgRmLiBIMfMOUj0CBAgQOEiBsZtN9CIUU+7LMNb+3rNCkqw88TSD/3IzyMwUWHwq6lhuO12fiMBz3+vHU7p3rNx/W/Zf4k6FZU6AAAECBI5GQJDiaLpSQwgQIEDg3AQW74i566pk2H/hwnuG/YlQfO1T5XEes7tl5gMv/uKFC+95lkdqW4n235b9l1gba4EAAQIECBBoC3gEadvHVgIECBAgsFygOymgpF68uiHrM7Wh93cW3eitm/Ry8eEd91z7k0l77j1RWt2bP5IqdGu7/7bsv8S9qyuQAAECBAgcqoAgxaH2nHoTIECAwKwEulMDUrEMy89+rn9PHRcjF73oRu/qj8Wx/XuyW/bi3K/1iMAffvtni9WIVa/hy5oy6bqVI9NbaiIBAQIECBA4SgFBiqPsVo0iQIAAgX0LdKcGlLJz14NMIiihiixkuN4LOnzl+uXfwtmr5JB/k0n+G/s7u6Ti3Y3Z8d0X+1pKoaWlWfjUN34agV6TS0XeuSxltFrbasth6Y1y2ECAAAECBE5JwD0pTqm3tZUAAQIEdiaQqQE3fLQfhjibRJA7R/x0sdjMJrjxysXV/TUZ5J/dcjI5vJ1PjWss3gUjKT/1jZ+VCR2DoYF+1tt+XQpdWvTf/va/Xrjwnrtm7K4tqcyh6G27N+RHgAABAgQOVWD5bziH2jL1JkCAAAEC+xXIBIHeRR+N8nvXJpSUCVtMzOEsJvLuvSdrQWfD8nfnUEzMre6+04VUJhGKxQs9ttWW49bbadfInAABAgQIzEdAkGI+faEmBAgQIHDwArnoY2lcoIzVx6ZRDAYvqkv3rhaLF5jUZGUhEYF2br30u3uZJmcOSII4ixGKUui22tJu74Hq7a5f5EyAAAECBGYoIEgxw05RJQIECBA4VIEMwjMUz4B8MFSxdKyeZid4keDC2O7dQXjK+vZnRwvKpiQYC4XswTdNKO1Nc2LSrsm22nI0envoIEUQIECAAIF5Clzy1ltvzbNmakWAAAECBA5dIHe7LE+7zG0XMg5ftTnTd5+ectU67D/9ttoyPZ/pKfevoUQCBAgQIHBqAoIUp9bj2kuAAAECBAgQIECAAAECBGYq4HKPmXaMahEgQIAAAQIECBAgQIAAgVMTEKQ4tR7XXgIECBAgQIAAAQIECBAgMFMBQYqZdoxqESBAgAABAgQIECBAgACBUxMQpDi1HtdeAgQIECBAgAABAgQIECAwUwFBipl2jGoRIECAAAECBAgQIECAAIFTExCkOLUe114CBAgQIECAAAECBAgQIDBTAUGKmXaMahEgQIAAAQIECBAgQIAAgVMTEKQ4tR7XXgIECBAgQIAAAQIECBAgMFMBQYqZdoxqETgIgVdfffUg6qmSBAgQIECAAAECBAgchIAgxUF0k0oSmJ3AU089ddNNN91xxx2zq5kKESBAgAABAgQIECBwsALvO9iaqzgBAucg8MILLzz88MPf+ta3Xn/99RT/3/7bfzuHSiiSAAECBAgQIECAAIEjFRCkONKO1SwCWxXIZR3PPvvsk08++b/+1//qZpzJFN2XlgkQIECAAAECBAgQILCJwCVvvfXWJvvblwCB4xbIZR3f/OY3//zP/3yxmZdffvnFixcX11tDgAABAgQIzFAg0yHz3X3llVfOsG6qRIAAgSpgJkWlsECAwLsCOY955plnnnjiiXJZx7sbOktXXHFF55VFAgQIECBAYNYCb7755s033/zv//2//9znPve7f/C5D3/wA7OursoRIHCqAmZSnGrPazeBIYGxyzqG0r59Q4r77rtvcJOVBAgQIECAwNwEfvCjH//bj/6bUqtMqfj0pz995513fuITn5hbPdWHAIETFzCT4sTfAJpP4OcCjcs6xow+8pGPjG2yngABAgQIEJibQKZOZBpFub1UZkrmWs78mVgxt25SHwIEzKTwHiBwcgK5lCOzPc+l2fndJmdF9d+t1CFXnbz22mv13/XyvOqqq15++eX67/RMPvaxj73yyiv5d8ouCet8//vfbwR3LrvssjfeeCP/DuZ26aWXDq7PygbpL39oYC9TfMckrSdAgMBxCzz66KP/5b/8l8E2/sf/+B9NrBiUsZIAgT0LCFLsGVxxBM5f4ByDFOffeDU4b4EaTynhqq1Up4aoSrhqvTxriKqEq1bKZHqsapNAVaJUuZ68Hasaq3ZiVf/8wzcHI1bZJUGrTAIXuhrTs57AMQlk4uR/+k//qdGiHKVvvfXW2267zf01G0o2ESCwUwFBip3yypzAHAUEKebYK+p0TgIlaLJe4Zvsu16Jx7HXkQWqaohqyqSqpVGqdHFjRlUjUFVVJ75J2nGrZCJoNVHy4JLl5lP/7t/9uynVzsSKW2655TOf+cyUxNIQIEBgiwKCFFvElBWBwxAQpDiMflJLAgT2IiDYtBfm4UJWja0M5/LO2s0nVa09o2q7sar1AlXvMLz7/zHeiUGKklEyMbHiXVNLBAjsRUCQYi/MCiEwV4Eyx3ulh3rUpuTpHjfddFPmn9c13YXcW6H7cnE5d2dYXLm4pvw4Wf9dTDC4pnuDiSwPplm6snuriywvTT8lQb0lRxIbGk0Rk4YAAQJ7EHBAXors/ppLiSQgQGBbAoIU25KUD4FjEMgki2eeeeaJJ57IWHppezyCdCnRnBMkPrVYvdy2YHFl1oy9H8otEgYDVeUOoI1YVbmH6JRYVQ1Rld8qB2u4uHKegSpRqsWesoYAgcMSKD9ReHDpYfWa2hI4LAGPID2s/lJbArsVyDlH/r5w9xf/4bm/e/DBB8tTysaKzNBxbJP18xcYvOD8wx+8crDmbp82yHJAKwdjUqX+5YaaY/GppOkGVnpNPogoVa/O019ufS5VQ3J6raQkcL4CmXJyvhVQOgECpyBgJsUp9LI2ElhTIJeBPP7442MTKzLzM9Mu1szabgQIECCwS4GxyNTSsFS3Uu3Ayn6iVKlPnU7VrdvS5TqdamnKsQQ1UDWWYPr6KrnF60ryLdyuwFj9U5n2joNb3UdzkMVKAgR2ISBIsQtVeRI4NoE8seyb3/zmn//5n/ca9v9+7/8b/EG+l8xLAgQIECBAYA4CiV7924/+m+k1cSuK6VZSEiCwLQFBim1JyofA8QssTqz4H//jf3g42fF3vBYSIECAwLEITH/Cl3tPHEufaweBwxP4hcOrshoTIHBOArkxwX333Xfx4sWnn3460z5Ti0yvOKe6KJYAAQIECBBYWeCll15q75Pv9/wC8X//7//NN35uU9VObCsBAgR2IeDGmbtQlSeBIxc4u73mJ/7oT/4099c88qZqHgECBAgQOCKB559/frA1uVnGvffee+ONN7pT8qCPlQQI7FPA5R771FYWAQIECBAgQIAAgXMTuPrqq7s3zkxs4tZbb73ppptMmji3LlEwAQILAmZSLJBYQYAAAQIECBAgQODoBHJDihqhyB0x7777bjeWOrpO1iACxyAgSHEMvagNBAgQIECAAAECBNoCeXB4mTpx2223uayjbWUrAQLnKOByj3PEVzQBAgQIECBAgACBPQnkKV1iE3uyVgwBAhsICFJsgGdXAgQIECBAgAABAgQIECBAYHsCHkG6PUs5ESBAgAABAgQIECBAgAABAhsICFJsgGdXAgQIECBAgAABAgQIECBAYHsCghTbs5QTAQIECBAgQIAAAQIECBAgsIGAIMUGeHYlQIAAAQIECBAgQIAAAQIEticgSLE9SzkRIECAAAECBAgQIECAAAECGwgIUmyAZ1cCBAgQIECAAAECBAgQIEBgewKCFNuzlBMBAgQIECBAgAABAgQIECCwgYAgxQZ4diVAgAABAgQIECBAgAABAgS2JyBIsT1LOREgQIAAAQIECBAgQIAAAQIbCAhSbIBnVwIECBAgQIAAAQIECBAgQGB7AoIU27OUEwECBAgQIECAAAECBAgQILCBgCDFBnh2JUCAAAECBAgQIECAAAECBLYnIEixPUs5ESBAgAABAgQIECBAgAABAhsICFJsgGdXAgQIECBAgAABAgQIECBAYHsCghTbs5QTAQIECBAgQIAAAQIECBAgsIGAIMUGeHYlQIAAAQIECBAgQIAAAQIEticgSLE9SzkRIECAAAECBAgQIECAAAECGwgIUmyAZ1cCBAgQIECAAAECBAgQIEBgewKCFNuzlBMBAgQIECBAgAABAgQIECCwgYAgxQZ4diVAgAABAgQIECBAgAABAgS2JyBIsT1LOREgQIAAAQIECBAgQIAAAQIbCAhSbIBnVwIECBAgQIAAAQIECBAgQGB7AoIU27OUEwECBAgQIECAAAECBAgQILCBgCDFBnh2JUCAAAECBAgQIECAAAECBLYnIEixPUs5ESBAgAABAgQIECBAgAABAhsICFJsgGdXAgQIECBAgAABAgQIECBAYHsCghTbs5QTAQIECBAgQIAAAQIECBAgsIGAIMUGeHYlQIAAAQIECBAgQIAAAQIEticgSLE9SzkRIECAAAECBAgQIECAAAECGwgIUmyAZ1cCBAgQIECAAAECBAgQIEBgewKCFNuzlBMBAgQIECBAgAABAgQIECCwgYAgxQZ4diVAgAABAgQIECBAgAABAgS2JyBIsT1LOREgQIAAAQIECBAgQIAAAQIbCAhSbIBnVwIECBAgQIAAAQIECBAgQGB7AoIU27OUEwECBAgQIECAAAECBAgQILCBgCDFBnh2JUCAAAECBAgQIECAAAECBLYnIEixPUs5ESBAgAABAgQIECBAgAABAhsICFJsgGdXAgQIECBAgAABAgQIECBAYHsCghTbs5QTAQIECBAgQIAAAQIECBAgsIGAIMUGeHYlQIAAAQIECBAgQIAAAQIEticgSLE9SzkRIECAAAECBAgQIECAAAECGwgIUmyAZ1cCBAgQIECAAAECBAgQIEBgewLv215WciJA4LAFrr766sNugNoTIECAAAECexG4ePHiXspRCAECpyhgJsUp9ro2EyBAgAABAgQIECBAgACBGQoIUsywU1SJAAECBAgQIECAAAECBAicooAgxSn2ujYTIECAAAECBAgQIECAAIEZCrgnxQw7RZUInL/Ay3/5L2tX4qrf/6W676985bt12QIBAgQIECBwuAL/9OWPH27l1ZwAgQMSMJPigDpLVQkQIECAAAECBAgQIECAwDELCFIcc+9qGwECBAgQIECAAAECBAgQOCABQYoD6ixVJUCAAAECBAgQIECAAAECxywgSHHMvattBAgQIECAAAECBAgQIEDggAQEKQ6os1SVAAECBAgQIECAAAECBAgcs4AgxTH3rrYRIECAAAECBAgQIECAAIEDEhCkOKDOUlUCBAgQIECAAAECBAgQIHDMAoIUx9y72kaAAAECBAgQIECAAAECBA5IQJDigDpLVQkQIECAAAECBAgQIECAwDELCFIcc+9qGwECBAgQIECAAAECBAgQOCABQYoD6ixVJUCAAAECBAgQIECAAAECxywgSHHMvattBAgQIECAAAECBAgQIEDggAQEKQ6os1SVAAECBAgQIECAAAECBAgcs4AgxTH3rrYRIECAAAECBAgQIECAAIEDEhCkOKDOUlUCBAgQIECAAAECBAgQIHDMAoIUx9y72kaAAAECBAgQIECAAAECBA5IQJDigDprtaq++uqrq+0gNQECBAgQIECAAAECBAgQOFeB951r6fMq/Ac/+vE///DNUqdf/tClH/7gB+ZVv1Vqc9NNN7322mvZ47HHHvvEJz6xyq67Slt527Y1Wepx5ZVX5t9etKWs7NWypmln3tvLSwIECBAgQIAAAQIECBCYlYCZFO92xz8893c3v/P3j9998d0Nh7aUEXuJUKTizzzzzByq/9RTT33yN36t6P71XzzZqNJ//6//uSR7/PHHS7I77rjjnW55+/81HtHNpKZJJ3bXWyZAgAABAgQIECBAgACBAxIQpJjUWRkYZ25C/l544YVJO+wl0Ve/+tVU6a677uqVlrkGV1xxRVmZBL2t+3+Zet5zzz1Tys00im9961sl5W233Ta4y/333z+43koCBAgQIECAAAECBAgQOHQBl3tM6sFnn322zE14882fXw8yabcdJ3riiSfGSsgEigRWzv3ahwQdMjOixh3GalvX10kWCbIMXtaRlMktoaKZXMNSa26BAAECBAgQIECAAAECBDYXEKSYZPjkk+9eoVAG/7l7xeIoOptef/315PirH7928JYW5YYL3dhBdnnxxRc/ecNvddOXfBIQufTSSy+//PLFglJELqCoVU/6slxzLmvObrExfHONUkT2Gsu/3huilp415SqYsdbV+pSFhBLuu+++euFJb+vgy+r8uc99bjBBWZlsZ3IZS6OSNhEgQIAAAQIECBAgQIDAqgKCFEvEeiPt7mULFy9erDs/+uijX//61+vLLHz605/+0pe+VEf4WZO4QG6pUDY99NBD3ZwfeOCBz3zmM4kCZCpB/noD+0wruPvuu5Og5t8tLolLttl67733fv7zn68F1TV1xywkuvHggw92i0j+uSKjNzfhzx784zJTI7feTCAjN33o7nLrrbd+4e4vdgMr3SLKco1QlPxvv/32xTTdNal2LeJ3/2AgSBHSMikjySKQlnZ3t0yAAAECBAgQIECAAAEChy7gnhRLejBD6zpyHkuau0L0IhRJmeF0YgeJRCzuVS5Y6OacGRMl2WKEIutTgQRH6tSJboRiMfP2mlQ1WfValJepzGBVk9vDDz/ci1BkZeIXuY6jXdYjjzySBIksfOOv/iZhjnbibK13yswug+GPO++8M/GOkk+gEtNZmqcEBAgQIECAAAECBAgQIHBAAoIUSzorUwYyZq6Jspw15a+sTOyg/Lyfl9maORGZzlDH0plNUPftLvSmFZQxfEbm5TKH5JNMklUKqntl+kNZvuaaa7K+FpGVP6/QrbdedtllNf3iQreq2T17dZs2FqdI6xLFKOm7hWZ95j4sllLXZBbJ008/nTkjaVe5CqZuGlx47rnnyvpbbrllMEGuf8mMj7IpVcpcj8FkVhIgQIAAAQIECBAgQIDAgQq43GNJxyXKkCkGNQyR8XP3sovsXGMHGcBnQF6yu/HGG8slGBlLJzTQ26WkSfoMuXN/h7ysEwdyCUOudKgvy47lsotklbkD2ZTrMvL3yiuvZE32TT5joZBSUP23W9XMbiildK8NyaSJ5FzT14XEMkrTUlDqXOqTrbmbRvd6lpq+LtStS2dSBLk2Z5Cr5JnqpTKlO1KNPAGkFlELtUCAAAECBAgQIECAAAECBypgJsVGHde9jUImQSSIUP7LDSzrpIM33nhjsYxsTZggQ+5ECmpIoiSrL5NV8v/IRz5Sdz+7EWZ9tdpCr6q1lAzy63yNl19+eTDTXGdR11933XV1ebBpdWt3oTuTYnC6R+IjJf0NN9zQ3XFxOXf6qCs9jrRSWCBAgAABAgQIECBAgMARCJhJsVEndsfeuS3F4p0pkvv3v//9xTIyFK9hgu7WTCjIcyty4UOZVtDdlOUUt/bEgW5Ve2GCGgepkzV65ZbpHmXltde+PfVjk7/F0EbCMXWuyk033TSWedmxRFXKbI7sNTZRZSwT6wkQIECAAAECBAgQIEBgtgJmUmzUNblLwtL9c13GYpoaF+huyh0xc2OIDL8HIxRJufSiiW5uveVuVet9OkuabsyiPGS0t283npJJIr2tU162a55nmpRMMsFk8HqTsrXWMw8WqYXWa1jqGgsECBAgQIAAAQIECBAgcKACZlJs1HHd0X4umuheClHz7aapKxcXcjlGnYiRsXouHsmNLTJrIDMF6nNPN5lJ0Z0B0Q1YpCbdqQ3taEISr3fJSXcex2Lbn3/++bKy3Dd0MUFZU+uZoEluLFq4EtBJcGdsF+sJECBAgAABAgQIECBA4IAEBCk26qzekL5xx8elxeQmlDVNxuq5g2Z5+Z3vfKeu7xVX109Z6F4nkjy7Va0xguTTTTaY7eYzKeqEiJJ/ojP1Wo/EZQYLLSu7O8anPq410Yp6B5DG7jYRIECAAAECBAgQIECAwMwFXO6xvIO6oYFuyCB7Zkhfh8e5TCPj7V52ucdEb83YyzpNIAnqaDw3a6gP5sz6wfkI5UYSY9l219cHjibPWtXus0tqgu5eveXNZ1J0W5rMH3/88VJESm+HSHo71seRZvexC2R6lfeSAAECBAgQIECAAAECBOYsYCbF8t7pzh1IJKLcYyIPwnjkkUcyqM5QOTeSKLnccccduSNm7jeRm2UmWSYIJISRG2EuL+PChWuuuaYmy30WMiBPJuX2kHV9N1zysY99rE5A+Ozv/c5VV12VKqX0xuNI85COskuG9HlCaglJ1ExSSvfBGbXQ3kJXo7ep8bJb816yGoXJ4117m3ova+ymrO8+jrSX0ksCBAgQIECAAAECBAgQOEQBQYrlvZY7IOR+EzVe0B3VZ+cMlevWDP5rsuX5vjdF8klEo8wIyL/1/hTJvD7so3tPittuu62WlfT5S36DN+ms5aSIxx57rIZUeg3JXR7aExlKPpvPpKj1yULmcZSaZ7l7BUo3TV3uzaTI+kRVEm2pCSwQIECAAAECBAgQIECAwEELuNxjUvflcRIJFnSTZhpCnVOQyQtPP/304rUSCTq07wTZzTDLmZrRzSS7J3CQzGsm3fkICSgk4pA0NZMsX3/99fXl4EKJU3RLSbK8TP3rXTAGd6wra6vrmikL3Zp30z/88MPlZY+3m6Yu92ZSZH0QpuxYc7BAgAABAgQIECBAgAABAnMWuOStt96ac/1mVbfcIaLMI2jMOMi9HjLfIWPyDOa7T+6c3pBSyvTdy90lpqcvNZnSlul1lvI4BK6++urakJf/8l/q8qoLV/3+L9VdfuUr363LFggQIECAAIHDFfinL3+8Vv7ixYt12QIBAgS2K+ByjxU8E3T48AevbO+Q+EUjhNHet2ydUko3n/WKW7WUbomWCRAgQIAAAQIECBAgQIDALgRc7rELVXkSIECAAAECBAgQIECAAAECKwsIUqxMZgcCBAgQIECAAAECBAgQIEBgFwKCFLtQlScBAgQIECBAgAABAgQIECCwsoAgxcpkdiBAgAABAgQIECBAgAABAgR2ISBIsQtVeRIgQIAAAQIECBAgQIAAAQIrCwhSrExmBwIECBAgQIAAAQIECBAgQGAXAoIUu1CVJwECBAgQIECAAAECBAgQILCygCDFymR2IECAAAECBAgQIECAAAECBHYhIEixC1V5EiBAgAABAgQIECBAgAABAisLCFKsTGYHAgQIECBAgAABAgQIECBAYBcCghS7UJUnAQIECBAgQIAAAQIECBAgsLKAIMXKZHYgQIAAAQIECBAgQIAAAQIEdiEgSLELVXkSIECAAAECBAgQIECAAAECKwsIUqxMZgcCBAgQIECAAAECBAgQIEBgFwKCFLtQlScBAgQIECBAgAABAgQIECCwsoAgxcpkdiBAgAABAgQIECBAgAABAgR2IXDJW2+9tYt85UmAwMEJXH311QdXZxUmQIAAAQIE9i9w8eLF/ReqRAIETkTATIoT6WjNJECAAAECBAgQIECAAAECcxcQpJh7D6kfAQIECBAgQIAAAQIECBA4EQFBihPpaM0kQIAAAQIECBAgQIAAAQJzF3BPirn3kPoRIECAAAECBAgQIECAAIETETCT4kQ6WjMJECBAgAABAgQIECBAgMDcBQQp5t5D6keAAAECBAgQIECAAAECBE5EQJDiRDpaMwkQIECAAAECBAgQIECAwNwFBCnm3kPqR4AAAQIECBAgQIAAAQIETkRAkOJEOlozCRAgQIAAAQIECBAgQIDA3AUEKebeQ+pHgAABAgQIECBAgAABAgRORECQ4kQ6WjMJECBAgAABAgQIECBAgMDcBQQp5t5D6keAAAECBAgQIECAAAECBE5EQJDiRDpaMwkQIECAAAECBAgQIECAwNwFBCnm3kPqR4AAAQIECBAgQIAAAQIETkRAkOJEOlozCRAgQIAAAQIECBAgQIDA3AUEKebeQ+pHgAABAgQIECBAgAABAgRORECQ4kQ6WjMJECBAgAABAgQIECBAgMDcBQQp5t5D6keAAAECBAgQIECAAAECBE5EQJDiRDpaMwkQIECAAAECBAgQIECAwNwFBCnm3kPqR4AAAQIECBAgQIAAAQIETkRAkOJEOlozCRAgQIAAAQIECBAgQIDA3AUEKebeQ+pHgAABAgQIECBAgAABAgRORECQ4kQ6WjMJECBAgAABAgQIECBAgMDcBQQp5t5D6keAAAECBAgQIECAAAECBE5EQJDiRDpaMwkQIECAAAECBAgQIECAwNwFBCnm3kPqR4AAAQIECBAgQIAAAQIETkRAkOJEOlozCRAgQIAAAQIECBAgQIDA3AUEKebeQ+pHgAABAgQIECBAgAABAgRORECQ4kQ6WjMJECBAgAABAgQIECBAgMDcBQQp5t5D6keAAAECBAgQIECAAAECBE5EQJDiRDpaMwkQIECAAAECBAgQIECAwNwFBCnm3kPqR4AAAQIECBAgQIAAAQIETkRAkOJEOlozCRAgQIAAAQIECBAgQIDA3AUEKebeQ+pHgAABAgQIECBAgAABAgRORECQ4kQ6WjMJECBAgAABAgQIECBAgMDcBQQp5t5D6keAAAECBAgQIECAAAECBE5EQJDiRDpaMwkQIECAAAECBAgQIECAwNwFBCnm3kPqR4AAAQIECBAgQIAAAQIETkRAkOJEOlozCRAgQIAAAQIECBAgQIDA3AUEKebeQ+pHgAABAgQIECBAgAABAgRORECQ4kQ6WjMJECBAgAABAgQIECBAgMDcBQQp5t5D6keAAAECBAgQIECAAAECBE5EQJDiRDpaMwkQIECAAAECBAgQIECAwNwFBCnm3kPqR4AAAQIECBAgQIAAAQIETkRAkOJEOlozCRAgQIAAAQIECBAgQIDA3AUEKebeQ+pHgAABAgQIECBAgAABAgRORECQ4kQ6WjMJECBAgAABAgQIECBAgMDcBQQp5t5D6keAAAECBAgQIECAAAECBE5EQJDiRDpaMwkQIECAAAECBAgQIECAwNwFBCnm3kPqR4AAAQIECBAgQIAAAQIETkRAkOJEOlozCRAgQIAAAQIECBAgQIDA3AUEKebeQ+pHgAABAgQIECBAgAABAgRORECQ4kQ6WjMJECBAgAABAgQIECBAgMDcBQQp5t5D6keAAAECBAgQIECAAAECBE5EQJDiRDpaMwkQIECAAAECBAgQIECAwNwF3jf3CqofAQL7Erj66qv3VZRyCBAgQIAAgQMWuHjx4gHXXtUJEJi3gJkU8+4ftSNAgAABAgQIECBAgAABAicjIEhxMl2toQQIECBAgAABAgQIECBAYN4CghTz7h+1I0CAAAECBAgQIECAAAECJyPgnhQn09UaSmAVgV/5yndXST6a9p++/PG67eW//Je6vOrCVb//S3WXbdWtZmiBAAECBAgQWCrQ/U5fmlgCAgQIrC1gJsXadHYkQIAAAQIECBAgQIAAAQIEtikgSLFNTXkRIECAAAECBAgQIECAAAECawsIUqxNZ0cCBAgQIECAAAECBAgQIEBgmwKCFNvUlBcBAgQIECBAgAABAgQIECCwtoAgxdp0diRAgAABAgQIECBAgAABAgS2KSBIsU1NeREgQIAAAQIECBAgQIAAAQJrCwhSrE1nRwIECBAgQIAAAQIECBAgQGCbAoIU29SUFwECBAgQIECAAAECBAgQILC2gCDF2nR2JECAAAECBAgQIECAAAECBLYpIEixTU15ESBAgAABAgQIECBAgAABAmsLCFKsTWdHAgQIECBAgAABAgQIECBAYJsCghTb1JQXAQIECBAgQIAAAQIECBAgsLaAIMXadHYkQIAAAQIECBAgQIAAAQIEtikgSLFNTXkRIECAAAECBAgQIECAAAECawsIUqxNZ0cCBAgQIECAAAECBAgQIEBgmwKCFNvUlBcBAgQIECBAgAABAgQIECCwtoAgxdp0c9/x1VdfnXsV1Y8AAQIECBAgQIAAAQIECHQE3tdZPvXFH/zox//8wzeLwi9/6NIPf/ADhyty0003vfbaa6n/Y4899olPfOJ8G5Jwyeuvv/7mm29ee+21V155Zbsy3V4oiXvRlsEcappD77g2jq0ECBAgQIAAAQIECBA4bgFBinf79x+e+7t77rmnvJ7D2P7dmq24lBF7iVBkv2eeeeYcgxSPPvrok08+WStT2nHrrbd+4e4vjsWA/vt//c/f+ta3kjLJ7rvvvizccccd3RyefvrpxThFTfPAAw985jOfKQX5lwABAgQIECBAgAABAgQOS8DlHpP6K8P+zE3I3wsvvDBph70k+upXv5oq3XXXXb3SMoa/4oorysok6G3dz8tMiEjFvv71r3fjC6XoJ554IpGIJFisSVaWCEU23XbbbYsJsub+++8fXG8lAQIECBAgQIAAAQIECBy6gJkUk3rw2WefLYPtXLMwaYe9JMpof6ycTKBIYOUcr334x+++WMMNqWSCJldddVVdk4W//osnP//5z/fqn5VlTdIvTpcom7JvQkXnOD2kV2cvCRAgQIAAAQIECBAgQGBbAoIUkyRzzUJNVwb/uXvF4ig6m3LzhaT81Y9fO3g5Q7nhQjd2kF1efPHFT97wW930JZ8ERC699NLLL798saAU8dRTT3WrVJZrzskha85usTF8c41a1bH8S1WTSS09axJ6yJqx1pU6lH8TRMiVF7l85tOf/vQf/cmfltal0JtvvrkkeP755xeDFNX5c5/7XDe33nIuA0kUprfSSwIECBAgQIAAAQIECBA4dAFBiiU9mB/tMySu1yzUm1Zkt4sXL9adc/OFXNpQX2Yhg/MvfelLdYSfNXWInk0PPfRQN+dyJ4VEATKVYPEmDplWcPfdd3dvtdAtLnWrI/977703I/9aUAota7oVS3TjwQcfrC3KpuSfK0d6cxP+7ME/LjM1cnuOBDLqTR9KVu37SpQ0qXDvTpnRSNvLfIqXX365JKv/ptq1Vr/7BwNBirpvkkVgMcZRs7JAgAABAgQIECBAgAABAoco4J4US3rt9ttvryPnsaTl5gu9rRmKJ3YweA+LcsFCN+fMmCi7L0Yosj4VSHCkTp3oRih6hS59maomq16L8jKVGaxqMnz44Yd7EYqsLPeVWFpcN0ZTEtfYRK7+6O3++OOPlzUJRnTnldRkd955Z+Ip5WWgEtOpmywQIECAAAECBAgQIECAwBEICFIs6cRMGciYuSbKctaUv7IysYMyNSAvszVzIjJ5oY6ly/Mp6u51IUGBupyFTFXIvxmZl8sckk8ySVYpqCbL9IeyfM0112R9LSIrf16hW2+97LLLavrFhW5Vs3v26jZtLE6R1iWKUdJ3C836zH1YLKWxpjtX4vrrr++lfO6558qaW265pbepvMz1L5nxUZZTpcz1GExmJQECBAgQIECAAAECBAgcqIDLPZZ0XKIMmWJQwxAZP3cvu8jONXaQAXwu4ijZ3XjjjeUSjIylExro7VLSJH2G3Lm/Q17WiQO5hCFXOtSXZcdy2UWyytyBbMp1Gfl75ZVXsib7Jp+xUEgpqP7breo3/upvSinda0MyaSI51/R1IbGM0rQUlDqX+mRr7qaxOFei7rW4kBkZZWXq3LugI8i1OYNcZcdUL5Up3ZFq5AkgK1VgsUrWECBAgAABAgQIECBAgMB8BMyk2KgvulMDMgkiQYTyX25gmXF4yfqNN95YLCNbEybIkDuRghqSKMnqy2SV/D/ykY/U3c9uhFlfrbbQq2otJYP8Ol+jXovRyzrXWdQ11113XV0ebFrd2lvIlSYlDJH1iXTUCpRkiY+UhRtuuKG3Y+9l7vRR13gcaaWwQIAAAQIECBAgQIAAgSMQMJNio04sz/IoWeTGmb17Z5b13//+9xfLyFC8N0ovaTKhIM+tyIUPdTzf3TfFrT1xoFvV3lUhNQ6SQstkjW6hWS7TPcrK3Auzt3XKy0Ql6myUXMnSm6+RQuvWm266aSzDEhMpUZUymyN7jU1UGcvEegIECBAgQIAAAQIECBCYrYCZFBt1Te6SsHT/XJexmKbGBbqbckfM3Bgiw+/BCEVSlltXdHeZvtytar1PZ9m9G7MoDxntZduNp2SSSG/r0pfdK0QWnzaS3fNMk5JJJpj04hfdzGs9v3D3F+v6eg1LXWOBAAECBAgQIECAAAECBA5UwEyKjTquO9rPRRPdSyFqvt00deXiQi7HqBMxMlbPxSO5sUVmDWSmQH3u6SYzKbozILoBi9Ske9XG0jjIqpecLI1QpALPP/98ASn3DV3EKWtqPRM0SbCjcCWgk+DO2C7WEyBAgAABAgQIECBAgMABCQhSbNRZvSF9446PS4vJTShrmozVcwfN8vI73/lOXd8rrq6fstC9TiR5dqtaYwTJp5tsMNuVZlJ0IxR5WEm30Jp5ojP1Wo/EZer6xYU6kyKb4lMf15poRb0DyOJe1hAgQIAAAQIECBAgQIDAoQi43GN5T3VDA92QQfbMkL4Oj3OZRsbbvexyj4nemrGXdZpAEtTReG7WUB/MmfXd+0rUfMqNJOrLxkJ94GjyrFXtPrukJmhkMn0mRS9C8ckbfivN6f5XSnn88cfLQkpvh0i6RNkl+dd6jl0gUxNYIECAAAECBAgQIECAAIH5C5hJsbyPunMHEoko95jIgzAeeeSRDKozVM6NJEouecRm7oiZ+03kZplJlgkCCWHkRpjLy7hw4ZprrqnJcp+FDMiTSbk9ZF3fDZd87GMfqxMQPvt7v3PVVVelSim98TjSPKSj7JIhfZ6QWkISNZOU0n1wRi20t9DV6G3qvswlGN3K1ytWumnK/SlqFCaPd+1uXVyusZuyqfs40sXE1hAgQIAAAQIECBAgQIDAwQkIUizvstwBIfebqEPu7qg+O2eoXLdm8F+TLc/3vSmSTyIaZUZA/q33p0jm9WEf3XtS3HbbbbWspM9f8hu8SWctJ0U89thjNaTSa0hCBu2JDCWfiTMpBp9pUmtSFzKPo9Q8awYvBqkps9CbSZE1iaok2tJNY5kAAQIECBAgQIAAAQIEDlfA5R6T+i6Pk0iwoJs00xDqnIJMXnj66acXr5VI0KF9J8huhlnO1IxuJtk9gYNkXjPpzqRIQCERh6SpmWT5+uuvry8HF0qcoltKkuVl6l/vgjG4Y11ZW13XbLLw8MMPl917vIN59mZSJE0Qpuw4mJuVBAgQIECAAAECBAgQIDA3gUveeuutudVptvXJ/RTKPILGjIPc6yHzHRJNyGC+++TO6Y0qpUzfvdxdYnr6UpMpbZleZymPQ+Dqq6+uDfmVr3y3Lm+y8E9f/njd/eW//Je6vOrCVb//S3WXbdWtZmiBAAECBAgQWCrQ/U6/ePHi0vQSECBAYD0Bl3us4Jagw4c/eGV7h8QvGiGM9r5l65RSuvmsV9yqpXRLtEyAAAECBAgQIECAAAECBHYh4HKPXajKkwABAgQIECBAgAABAgQIEFhZQJBiZTI7ECBAgAABAgQIECBAgAABArsQEKTYhao8CRAgQIAAAQIECBAgQIAAgZUFBClWJrMDAQIECBAgQIAAAQIECBAgsAsBQYpdqMqTAAECBAgQIECAAAECBAgQWFlAkGJlMjsQIECAAAECBAgQIECAAAECuxAQpNiFqjwJECBAgAABAgQIECBAgACBlQUEKVYmswMBAgQIECBAgAABAgQIECCwCwFBil2oypMAAQIECBAgQIAAAQIECBBYWUCQYmUyOxAgQIAAAQIECBAgQIAAAQK7EBCk2IWqPAkQIECAAAECBAgQIECAAIGVBQQpViazAwECBAgQIECAAAECBAgQILALAUGKXajKkwABAgQIECBAgAABAgQIEFhZQJBiZTI7ECBAgAABAgQIECBAgAABArsQEKTYhao8CRAgQIAAAQIECBAgQIAAgZUFBClWJrMDAQIECBAgQIAAAQIECBAgsAuBS956661d5CtPAgQOTuDqq68+uDqrMAECBAgQILB/gYsXL+6/UCUSIHAiAmZSnEhHayYBAgQIECBAgAABAgQIEJi7gCDF3HtI/QgQIECAAAECBAgQIECAwIkICFKcSEdrJgECBAgQIECAwP/f3v2F2nXd96KPe325JCSUJthgU8ku3BRhgXEfinCLq4dYui8mbhtKazA2teyXUCJojUvBJgT75Qb3gE+hL5YMcg0mlIQ0iMtly31Q3daI+3CFIe6GvtgS2GCTplVLCqXQ801GOvbIXGuvvdbW3lpjrvkRxWesOcef3/gMQc78acwxCRAgQIBA7wLOpOh9hcRHgAABAgQIECBAgAABAgQmImAnxUQW2jQJECBAgAABAgQIECBAgEDvApIUva+Q+AgQIECAAAECBAgQIECAwEQEJCkmstCmSYAAAQIECBAgQIAAAQIEeheQpOh9hcRHgAABAgQIECBAgAABAgQmIiBJMZGFNk0CBAgQIECAAAECBAgQINC7gCRF7yskPgIECBAgQIAAAQIECBAgMBEBSYqJLLRpEiBAgAABAgQIECBAgACB3gUkKXpfIfERIECAAAECBAgQIECAAIGJCEhSTGShTZMAAQIECBAgQIAAAQIECPQuIEnR+wqJjwABAgQIECBAgAABAgQITERAkmIiC22aBAgQIECAAAECBAgQIECgdwFJit5XSHwECBAgQIAAAQIECBAgQGAiApIUE1lo0yRAgAABAgQIECBAgAABAr0LSFL0vkLiI0CAAAECBAgQIECAAAECExGQpJjIQpsmAQIECBAgQIAAAQIECBDoXUCSovcVEh8BAgQIECBAgAABAgQIEJiIgCTFRBbaNAkQIECAAAECBAgQIECAQO8CkhS9r5D4CBAgQIAAAQIECBAgQIDARAQkKSay0KZJgAABAgQIECBAgAABAgR6F5Ck6H2FxEeAAAECBAgQIECAAAECBCYiIEkxkYU2TQIECBAgQIAAAQIECBAg0LuAJEXvKyQ+AgQIECBAgAABAgQIECAwEQFJiokstGkSIECAAAECBAgQIECAAIHeBSQpel8h8REgQIAAAQIECBAgQIAAgYkISFJMZKFNkwABAgQIECBAgAABAgQI9C4gSdH7ComPAAECBAgQIECAAAECBAhMRECSYiILbZoECBAgQIAAAQIECBAgQKB3AUmK3ldIfAQIECBAgAABAgQIECBAYCICkhQTWWjTJECAAAECBAgQIECAAAECvQtIUvS+QuIjQIAAAQIECBAgQIAAAQITEZCkmMhCmyYBAgQIECBAgAABAgQIEOhdQJKi9xUSHwECBAgQIECAAAECBAgQmIiAJMVEFto0CRAgQIAAAQIECBAgQIBA7wKSFL2vkPgIECBAgAABAgQIECBAgMBEBCQpJrLQpkmAAAECBAgQIECAAAECBHoXkKTofYXER4AAAQIECBAgQIAAAQIEJiIgSTGRhTZNAgQIECBAgAABAgQIECDQu4AkRe8rJD4CBAgQIECAAAECBAgQIDARAUmKiSy0aRIgQIAAAQIECBAgQIAAgd4FJCl6XyHxESBAgAABAgQIECBAgACBiQhIUkxkoU2TAAECBAgQIECAAAECBAj0LiBJ0fsKiY8AAQIECBAgQIAAAQIECExEQJJiIgttmgQIECBAgAABAgQIECBAoHcBSYreV0h8BAgQIECAAAECBAgQIEBgIgKSFBNZaNMkQIAAAQIECBAgQIAAAQK9C0hS9L5C4iNAgAABAgQIECBAgAABAhMRkKSYyEKbJgECBAgQIECAAAECBAgQ6F1AkqL3FRIfAQIECBAgQIAAAQIECBCYiIAkxUQW2jQJECBAgAABAgQIECBAgEDvApIUva+Q+AgQIECAAAECBAgQIECAwEQEJCkmstCmSYAAAQIECBAgQIAAAQIEeheQpOh9hcRHgAABAgQIECBAgAABAgQmIiBJMZGFNk0CBAgQIECAAAECBAgQINC7gCRF7yskPgIECBAgQIAAAQIECBAgMBEBSYqJLLRpEiBAgAABAgQIECBAgACB3gUkKXpfIfERIECAAAECBAgQIECAAIGJCNw+kXmaJgECewocO3ZszzoqECBAgAABAgS2t7chECBA4JAE7KQ4JFjdEiBAgAABAgQIECBAgAABAqsJSFKs5qU2AQIECBAgQIAAAQIECBAgcEgCkhSHBKtbAgQIECBAgAABAgQIECBAYDUBZ1Ks5qU2gYkIfOEb73U70x98/b4a2/vf/lEtr1q49yufqU16nm8NUoEAAQIECKxRoP3f3zWGYWgCBDZewE6KjV9iEyRAgAABAgQIECBAgAABAuMQkKQYxzqJkgABAgQIECBAgAABAgQIbLyAJMXGL7EJEiBAgAABAgQIECBAgACBcQhIUoxjnURJgAABAgQIECBAgAABAgQ2XkCSYuOX2AQJECBAgAABAgQIECBAgMA4BCQpxrFOoiRAgAABAgQIECBAgAABAhsvIEmx8UtsggQIECBAgAABAgQIECBAYBwCkhTjWCdREiBAgAABAgQIECBAgACBjReQpNj4JTZBAgQIECBAgAABAgQIECAwDgFJinGskygJECBAgAABAgQIECBAgMDGC0hSbPwSmyABAgQIECBAgAABAgQIEBiHgCTFONZJlAQIECBAgAABAgQIECBAYOMFJCk2folNkAABAgQIECBAgAABAgQIjENAkmIc6yRKAgQIECBAgAABAgQIECCw8QKSFBu/xCZIgAABAgQIECBAgAABAgTGISBJMY51EiUBAgQIECBAgAABAgQIENh4AUmKjV3ia9eubezcTIwAAQIECBAgQIAAAQIENlHg9k2c1D7n9E//+u//9sNPSuPP/sIdn//cp/fZUQfNTp06df369QRy4cKFEydOrDeipEvefffdxHDHHXd88b77F8O2q3D06NG0GmRbysXBjGqdsS/cYF5+EiBAgAABAgQIECBAYFICkhQ7y/33l//62WefLb97eLbfiWzFUp7YS4Yi7S5durSuJMWVK1fOnTv39ttvD8J//PHHn3jiibm5htT84z/8WmmSas8//3yunDlzpk4nP7e2tmbb1jovv/zyI488MhjRTwIECBAgQIAAAQIECBAYhYDXPZZapjz2Z29C/uTBe6kGt6TSSy+9lJCeeeaZwWh5hj9y5Ei5mAqDu7fmZ6CefPLJ2QxFRn/jjTeSU8iOidlIcrE2SSJjtkKuvPjii3Ovu0iAAAECBAgQIECAAAECYxewk2KpFXzrrbfKP+Z/8slP3wdZqtkhV8rT/m4jZANFEitrfPch2zceeuihknFI4Z577vnggw9qAiKY3/3LN5966qlB/LlYriTJMrtdotxKJ8mArGt7yCBgPwkQIECAAAECBAgQIEDgAAUkKZbCfPPNnz48f/zxx+XhP6dXzD5F59ZHH32UHnc7eSEVcrfNHeRKzmv4tZNfak9qKP0kIZJDHO66667ZgdLJxYsXa+i121wp/ZQr+Zm9CW3PbZMS6m7917Mh6ui58o/v/fhoid1mVzsvhRdeeOH1119v3+wo2yvK3XfeeWc2SVGdH3vssUFv7c+8BpIsTFHZqe0AAEAASURBVHtFmQABAgQIECBAgAABAgQ2QECSYo9FzHN1HonrmQjf/Mmf0mZ7e7s2fu2113Kn/kwh2wfylF6f8HMliYPTp0+XW6+++mrbczlJIVmAbCXInzpc6TDbCs6ePVuPWijV6nCpXLpN5eeeey5P/nWgeqX0U/6bUAdDpP+8OTLYm/Dnr/xp2amR4zmSyKiHPpROcmDEV8/+0dz0Rx0rcy+HStQrGSJjldllb0W9XgoJu078N39nTpKibs1ItcxiNscx6NBPAgQIECBAgAABAgQIEBiXgDMp9livHKxQn5x3q5pTIWrKoNbJWwnJHSQTUa/UQnlhoe05OyZyN8/8g/RBaZIAcqJn3TqRRMbscKXmhx9+WEeZWyihDmaUnwlmbqjpJIdfDjIUuZj8RU64nDvEgotJr9ShH3jggUHNbLsoV5KMmJv+ePrpp5PjKHUCld4GPfhJgAABAgQIECBAgAABAqMWsJNij+XLloH2MIVyvELbJrmDJB3Kldx99NFH80pIzTXs9mJCkgJtJ9mqUH7mNYckINLPgw8+eOedd169erUePPHKK6+UzRTHjx9PVJcvX64P/PlZmi8+JrMNNU/7J0+ebKeWkOZ+06TMrtRvB8317H1ot4q0M6rl1CnvlXz/+98PS7megOvGkFoznZdyDOvFtpD3X7Ljo9Bl7tnrMdip0VZWJkCAAAECBAgQIECAAIHRCUhS7LFkeQzOFoOahsjz8+DpOrmD0kUe4/MSRyk//PDD5RWMPEsnNTBoUuvnkTvnO+Rn3TiQVxjypkP9WRqWPEW6yt6B3MpLE/mT/EJJUmTcJZ/V21C/9Z3vlVHad0OyaSI9l/Da/yZpUqaWgRJzzZvkNI09kxT1VZTSYboavAVTrge5TmcuV6mW8NJDWY6E0R540QasTIAAAQIECBAgQIAAAQJjFPC6x02tWnuMQjZBJIlQ/i9HYyZ3ULrOxorZMXI3aYI8cidTUFMSpVr9ma7S/913312b57TOWl61MAi1jpIsQ92I8f7778/tNu9Z1Ovtaxpzp1Zrzi1kiLzWkWAGd5MfKVeyv2Nwa/AzOY56xedIK4UCAQIECBAgQIAAAQIENkDAToqbWsTyIkPpIq9p5M9sd3PPicijeE0TtE2yoSDfrWjfqmjvZrg9dy609dtyG2peJGlv1TxI3azR3k25bPcoF++//8dbP5b/UzIg2feR9ET6z5/sgMifclZo6SfpmLpXZcEbKyUnUrIq6SFt02q3jSrLR6gmAQIECBAgQIAAAQIECHQiIElxUwuRUxL2bJ/n89k6NS/Q3pr9REh7N+V6dMXg+jI/21DLOZ21VZuzyEdGZ9/4aPMp2SRSGy5TaF9FyQaKegZnPWIjneQo0NJVNpjMjl5HqXHmwyIlSZFbbT+1pgIBAgQIECBAgAABAgQIjFFAkuKmVq192s+WgfZViNpvW6denC3kAb5uxMizel4eycEW2TWQnQL5tEepfzM7Kdow2oRFem7f2tgzD3Izr5xkOtlCUvIL2VKRKZeNIe+8806ZYGY9K1Ov1DiTNMnHVgtX+klyp9ZRIECAAAECBAgQIECAAIHxCkhS3NTaDR7pF5z4uOcwOYSy1smzek7QLD/zgY96fTBcvb5Mod2hkD7bUGuOIP2UrMGCDlfdSTHoanZfSVIV9V2P5GUG9dufdSdFLsanfkIl2Yp6AkhbX5kAAQIECBAgQIAAAQIExiXg4My916tNDbQpg7TMI319PM4GgTxvD7rLGRODK7v9rNsEUqE+jeewhvphzlxvz5Wo/WQrQarVnwsK+S5GuZs+a6jtt0tqhQWdLLmTIhtA8mcQWDtWhigJkZyjWYbL6ItTJC1RmuQ7IzXOINSyAgECBAgQIECAAAECBAiMVMBOir0Xrt07kExE2QuQYyDPnz+fh+o8Kj/55JOllxy4kNcZct5EDstMtWwQSAojB2HuPcanPnX8+PFaLecs5IE8ndSTF8qtNl1yzz331A0Iv/vbX7733nsTUkZvz4CoHZZCPtJRmuSRPl8GLSmJ2knqtB/OGLStP1uNenG2kGxOCT4CiS0VEl6bSqifFKlZmHzedbaf9krN3ZSL2RuSKbTxt5WVCRAgQIAAAQIECBAgQGB0ApIUey9ZTkDIE3XNFwyeivOoXO/mIbxW27vfn62RfvI8Xx7j8996PkU6rx/7aM+keOKJJ+pYqZ8/6W/2ZYp2kAxx4cKFmlIZTCSnPCzeyFC6WnInRR23xlavpJDkQkmmZG9FiTwX2zdQ2sq1PNhJkevJqiTbUisoECBAgAABAgQIECBAgMCoBbzusdTy5XMS9V/+S4M8Ztc9BXnezsN/2ZjQdpekw+KTINvKKWdrRttJmidxkM5rJ+1OiiQU8hXP1KmdpPzggw/Wn3MLyVOkVTtKquXn1tZWPQVjbsN6sc66XplbyJdEI9aGV6plrATw6quvlp/nzp0rhQHv3D4HOylSJwjLNJzbm4sECBAgQIAAAQIECBAg0JvAbTdu3Ogtpm7jyQkLZR/Bgh0HOesh+x2STcjDfPvlzuUnVUZZvnk5XWL5+iWSZeayfMwLapaBYvLF++7fH8iCzt06WIFjx47VDr/wjfdqubfCD75+Xw3p/W//qJZXLdz7lc/UJj3PtwapQIAAAQIE1ijQ/u/v9vb2GiMxNAECmy3gdY8V1jfP2J//3NHFDZK/WJDCWNy23F1mlLaf/Q236ijtiCuVy0D7C3KlgVQmQIAAAQIECBAgQIAAgbELeN1j7CsofgIECBAgQIAAAQIECBAgsCECkhQbspCmQYAAAQIECBAgQIAAAQIExi4gSTH2FRQ/AQIECBAgQIAAAQIECBDYEAFJig1ZSNMgQIAAAQIECBAgQIAAAQJjF5CkGPsKip8AAQIECBAgQIAAAQIECGyIgCTFhiykaRAgQIAAAQIECBAgQIAAgbELSFKMfQXFT4AAAQIECBAgQIAAAQIENkRAkmJDFtI0CBAgQIAAAQIECBAgQIDA2AUkKca+guInQIAAAQIECBAgQIAAAQIbIiBJsSELaRoECBAgQIAAAQIECBAgQGDsApIUY19B8RMgQIAAAQIECBAgQIAAgQ0RkKTYkIU0DQIECBAgQIAAAQIECBAgMHYBSYqxr6D4CRAgQIAAAQIECBAgQIDAhghIUmzIQpoGAQIECBAgQIAAAQIECBAYu4AkxdhXUPwECBAgQIAAAQIECBAgQGBDBCQpNmQhTYMAAQIECBAgQIAAAQIECIxd4LYbN26MfQ7iJ0DgQASOHTt2IP3ohAABAgQIENhsge3t7c2eoNkRILBGATsp1ohvaAIECBAgQIAAAQIECBAgQGBHQJJix0KJAAECBAgQIECAAAECBAgQWKOAJMUa8Q1NgAABAgQIECBAgAABAgQI7Ag4k2LHQokAAQIECBAgQIAAAQIECBBYo4CdFGvENzQBAgQIECBAgAABAgQIECCwIyBJsWOhRIAAAQIECBAgQIAAAQIECKxRQJJijfiGJkCAAAECBAgQIECAAAECBHYEJCl2LJQIECBAgAABAgQIECBAgACBNQpIUqwR39AECBAgQIAAAQIECBAgQIDAjoAkxY6FEgECBAgQIECAAAECBAgQILBGAUmKNeIbmgABAgQIECBAgAABAgQIENgRkKTYsVAiQIAAAQIECBAgQIAAAQIE1iggSbFGfEMTIECAAAECBAgQIECAAAECOwKSFDsWSgQIECBAgAABAgQIECBAgMAaBSQp1ohvaAIECBAgQIAAAQIECBAgQGBHQJJix0KJAAECBAgQIECAAAECBAgQWKOAJMUa8Q1NgAABAgQIECBAgAABAgQI7AhIUuxYKBEgQIAAAQIECBAgQIAAAQJrFJCkWCO+oQkQIECAAAECBAgQIECAAIEdAUmKHQslAgQIECBAgAABAgQIECBAYI0CkhRrxDc0AQIECBAgQIAAAQIECBAgsCMgSbFjoUSAAAECBAgQIECAAAECBAisUUCSYo34hiZAgAABAgQIECBAgAABAgR2BCQpdiyUCBAgQIAAAQIECBAgQIAAgTUKSFKsEd/QBAgQIECAAAECBAgQIECAwI6AJMWOhRIBAgQIECBAgAABAgQIECCwRgFJijXiG5oAAQIECBAgQIAAAQIECBDYEZCk2LFQIkCAAAECBAgQIECAAAECBNYoIEmxRnxDEyBAgAABAgQIECBAgAABAjsCkhQ7FkoECBAgQIAAAQIECBAgQIDAGgUkKdaIb2gCBAgQIECAAAECBAgQIEBgR0CSYsdCiQABAgQIECBAgAABAgQIEFijgCTFGvENTYAAAQIECBAgQIAAAQIECOwISFLsWCgRIECAAAECBAgQIECAAAECaxSQpFgjvqEJECBAgAABAgQIECBAgACBHQFJih0LJQIECBAgQIAAAQIECBAgQGCNApIUa8Q3NAECBAgQIECAAAECBAgQILAjIEmxY6FEgAABAgQIECBAgAABAgQIrFFAkmKN+IYmQIAAAQIECBAgQIAAAQIEdgQkKXYslAgQIECAAAECBAgQIECAAIE1CkhSrBHf0AQIECBAgAABAgQIECBAgMCOgCTFjoUSAQIECBAgQIAAAQIECBAgsEYBSYo14huaAAECBAgQIECAAAECBAgQ2BGQpNixUCJAgAABAgQIECBAgAABAgTWKCBJsUZ8QxMgQIAAAQIECBAgQIAAAQI7ApIUOxZKBAgQIECAAAECBAgQIECAwBoFJCnWiG9oAgQIECBAgAABAgQIECBAYEdAkmLHQokAAQIECBAgQIAAAQIECBBYo4AkxRrxDU2AAAECBAgQIECAAAECBAjsCEhS7FgoESBAgAABAgQIECBAgAABAmsUkKRYI76hCRAgQIAAAQIECBAgQIAAgR0BSYodCyUCBAgQIECAAAECBAgQIEBgjQKSFGvENzQBAgQIECBAgAABAgQIECCwIyBJsWOhRIAAAQIECBAgQIAAAQIECKxRQJJijfiGJkCAAAECBAgQIECAAAECBHYEbt8pKhEgMG2BY8eOTRvA7AkQIECAAIGlBLa3t5eqpxIBAgRWF7CTYnUzLQgQIECAAAECBAgQIECAAIFDEJCkOARUXRIgQIAAAQIECBAgQIAAAQKrC0hSrG6mBQECBAgQIECAAAECBAgQIHAIAs6kOARUXRIYv8AXvvHe+Cexwgx+8PX7au33v/2jWl61cO9XPlObTM2wTlyBAAECBDZSoP3fyo2coEkRINCJgJ0UnSyEMAgQIECAAAECBAgQIECAwNQFJCmm/jfA/AkQIECAAAECBAgQIECAQCcCkhSdLIQwCBAgQIAAAQIECBAgQIDA1AUkKab+N8D8CRAgQIAAAQIECBAgQIBAJwKSFJ0shDAIECBAgAABAgQIECBAgMDUBSQppv43wPwJECBAgAABAgQIECBAgEAnApIUnSyEMAgQIECAAAECBAgQIECAwNQFJCmm/jfA/AkQIECAAAECBAgQIECAQCcCkhSdLIQwCBAgQIAAAQIECBAgQIDA1AUkKab+N8D8CRAgQIAAAQIECBAgQIBAJwKSFJ0shDAIECBAgAABAgQIECBAgMDUBSQppv43wPwJECBAgAABAgQIECBAgEAnApIUnSyEMAgQIECAAAECBAgQIECAwNQFJCmm/jfA/AkQIECAAAECBAgQIECAQCcCkhSdLIQwCBAgQIAAAQIECBAgQIDA1AUkKab+N8D8CRAgQIAAAQIECBAgQIBAJwKSFJ0sxMGHce3atYPvVI8ECBAgQIAAAQIECBAgQODQBG4/tJ7H1/E//eu//9sPPylxf/YX7vj85z49vjn8d8SnTp26fv16fl24cOHEiRP/fXnN/28VXsBb6yTWo0eP5r+DbEu5OJhJrbOg50ETPwkQIECAAAECBAgQIECgNwFJip0V+fvLf/3ss8+W31092++EuFwpT+wlQ5Hqly5d6iRJkajOnDlTAnvooYdeffXVubP54z/82ttvv51bjz/++PPPP59CbVXqb21tzeYpap2XX375kUcemduziwQIECBAgAABAgQIECDQuYDXPZZaoDxgZ29C/ly5cmWpBrek0ksvvZSQnnnmmcFoeYY/cuRIuZgKg7vr+vniiy/W1MluMWQbRclQpMITTzwxt1r6mXvdRQIECBAgQIAAAQIECBAYu4CdFEut4FtvvVUesD/55KfvgyzV7JArvfHGG7uNkA0USaz08+7DxYsXa/Zht5hz/bt/+Wa5myTL7HaJciv9JFXUyfaQBXNxiwABAgQIECBAgAABAgRWFZCkWErszTd/+vD88ccfl4f/nF4x+xSdWx999FF6/OJ998890iIVcrfNHeTKu++++2snv9TWL/0kIXLHHXfcddddswOlkzz219Brt7lS+ilX8jN7E9qe2yYl1N36r2dD1NFz5R/fezc97Da72vmgkGDqezSDW4Of1fmxxx4b3Gp/5jWQZGHaK8oECBAgQIAAAQIECBAgsAECkhR7LGL+0T6PxPU9hW/+5E9ps729XRu/9tpruVN/ppBjF1544YX6hJ8reVY/ffp0uZUTGdqey0kKyQJkK0H+1OFKh9lWcPbs2XrUQqlWh0vl0m0qP/fcc0899VQdqF4p/ZT/JtTBEOk/b44M9ib8+St/WnZq5HiOJDLqoQ+lkxwY8dWzfzQ3/dGOVcr1BY2YLNhPkbDrxH/zd+YkKWrzVMssMtPZsVwhQIAAAQIECBAgQIAAgfEKOJNij7V78skn65PzblVzKkRNGdQ6eRpP7mDuGRblhYW25+yYSMM88w/SB6W3BJCdCHXrRBIZs8OVmh9++GENYG6hhDqYUX4mmLmhppNz584NMhS5mPxFTricO8TgYrIJJTGRBMrg1uDn66+/Xq4kGTE3/fH000/XszYClWTNoAc/CRAgQIAAAQIECBAgQGDUApIUeyxftgzkmblWSjlXyp9ysT1tIXezJyJP4/VZunyfojavhSQFajmFbFUoP8trDuknnaSrDFSrvfLKK6V8/PjxXK9D5OJPA3r88cXHZLahpnlatVPbLU+RFEOyGKV+O2iuZ+9DDW9uIRVKPiUN99z4cPny5dLJo48+Ore3vP+SHR/lVkLKXo+51VwkQIAAAQIECBAgQIAAgZEKeN1jj4VLliFbDMpegFTN83N97aK0rLmDPIfXz2o+/PDD5RWMPEsnNTBoUhqmfh65c75DftaNA3mSz5sO9WdpWF67SFfZO5BbeS8jfz744INcSdv0s1sqpAxU/9uG+q3vfK+M0r4bkk0T6bnWr4XkMsrUMlBiLvHkbk7TaN9nqfVrob7ocf78+XpxbiHIdTpzuUqrhJdgynIkjHwBZHEAc8dykQABAgQIECBAgAABAgT6FLCT4qbWpT1GIZsgkkQo/5ejMZM7KF3nrM3ZMXI3aYI8cidTUFMSpVr9ma7S/913312b57TOWl61MAi1jpKH/Lpf4/3335/bbd6zqNcfeOCBWp47tXq3fdFjz1RC8iOl4cmTJ2sPcws56aNer0mQekWBAAECBAgQIECAAAECBMYrYCfFTa1d+UBG6SLvNZRXGwY9zj0nIo/iNU3Q1s+Ggny3Ii8+lG0F7a2UM9yeT/uDJvVnG+qdd95Zr6dQ8yB1s0Z7N+Wy3aNcvP/+H2/92PNPciJFI+mYPV/0SDqm7lVZ8MZKyYmUrErZzZFWu21U2TNCFQgQIECAAAECBAgQIECgNwFJiptakZySsGf7vJcxW6fmBdpb2XowN81R69SjK+qV5QttqOWcztq2zVnkI6Ozb3y0+ZRsEqkNFxTqHoekY5JHKDXrTo0UcjFhlLFyFGipkIzG7Oh1lBpnPixSXznJOywLXg+pbRUIECBAgAABAgQIECBAoH8BSYqbWqP2aT8vTbSvQtR+2zr14myhbj3IrTyr5+WRHGyRXQN5mM+nPUr9m9lJ0YbRJizSc/vWxp55kGVeOWl3RiSbUBMKddbZspFJZZrZNpKL77zzTrlVzg2t1QaFGmeSJjlYtCR00lWSO4OafhIgQIAAAQIECBAgQIDAGAUkKW5q1QaP9DfzT/o5hLKGkmf1+orE1atX6/XBcPX6MoV2h0L6bEOtOYL0s+frJEvupFgmpFIn2Zn6rkfyMgsa1p0UqROf+rnWZCuS71jQ0C0CBAgQIECAAAECBAgQGIWAJMXey9SmBgaP93mkz+NxOT8i+wVmPzaRMyba7MCCweo2gdSpT+PZklA/zJnrc3dS7HaQxOxY9bsY6bOG2n67pP0i6WzzcmWZnRSpmZ0Osz3UtELZKlKm+frrr5eaGX1xiqQlSpN8Z6R+ybUsweyIrhAgQIAAAQIECBAgQIDAiAQkKfZerHbvQDIR5YyJnKqQz2rmobp9VD5z5kyOYMh5EzksM9WyQaC+0bDnMMePH691cs5CHsjTyeBFiTZdcs8999QNCL/721++9957E1JGX/A50nykozTJI32+kFpSErWTjN5+OKMGMyi0GoNb9Wdex6g7QerFFLJlo2QTEm2tULMw+bxrW3m2XHM35VayPzXtMlvZFQIECBAgQIAAAQIECBAYnYAkxd5LlkfunDdR8wXtU30a51G53s0TeK22d78/WyP91E0Z6aeeoJnO68c+2p0U2QpRx0r9/El/cw/prONkiAsXLtTdB4OJZO/D4o0MpZ8ld1LUQRcXso+jRJ5q7Rsoc1sNdlKkTrIqybbMrewiAQIECBAgQIAAAQIECIxO4OdGF/FaAs7nJJIsaIfOv+HXPQXZvJCH/7Ixoa1TXmporywuZ2tG20maJ3GQzutxku1OiiQUXn755dSpfab84IMP1p9zC8lTpFU7Sqrl59bWVt3aMLdhvVhnXa/cTOHcuXOl+YB3bp+DnRSpE4RlGs7tzUUCBAgQIECAAAECBAgQ6E3gths3bvQWU7fx5ISIso9gwY6DHAOZ/Q7JJuRhvv1y5/KTKqMs3zwjpvPl65dIlpnL8jGruRkCx44dqxP5wjfeq+UpFH7w9fvqNN//9o9qedXCvV/5TG0yNcM6cQUCBAgQ2EiB9n8rt7e3N3KOJkWAQA8CXvdYYRWSdPj8544ubpD8xYIUxuK25e4yo7T97G+4VUdpR1QmQIAAAQIECBAgQIAAAQKHIeB1j8NQ1ScBAgQIECBAgAABAgQIECCwsoAkxcpkGhAgQIAAAQIECBAgQIAAAQKHISBJcRiq+iRAgAABAgQIECBAgAABAgRWFpCkWJlMAwIECBAgQIAAAQIECBAgQOAwBCQpDkNVnwQIECBAgAABAgQIECBAgMDKApIUK5NpQIAAAQIECBAgQIAAAQIECByGgCTFYajqkwABAgQIECBAgAABAgQIEFhZQJJiZTINCBAgQIAAAQIECBAgQIAAgcMQkKQ4DFV9EiBAgAABAgQIECBAgAABAisLSFKsTKYBAQIECBAgQIAAAQIECBAgcBgCkhSHoapPAgQIECBAgAABAgQIECBAYGUBSYqVyTQgQIAAAQIECBAgQIAAAQIEDkNAkuIwVPVJgAABAgQIECBAgAABAgQIrCwgSbEymQYECBAgQIAAAQIECBAgQIDAYQhIUhyGqj4JECBAgAABAgQIECBAgACBlQUkKVYm04AAAQIECBAgQIAAAQIECBA4DIHbbty4cRj96pMAgdEJHDt2bHQxC5gAAQIECBC49QLb29u3flAjEiAwEQE7KSay0KZJgAABAgQIECBAgAABAgR6F5Ck6H2FxEeAAAECBAgQIECAAAECBCYiIEkxkYU2TQIECBAgQIAAAQIECBAg0LuAMyl6XyHxESBAgAABAgQIECBAgACBiQjYSTGRhTZNAgQIECBAgAABAgQIECDQu4AkRe8rJD4CBAgQIECAAAECBAgQIDARAUmKiSy0aRIgQIAAAQIECBAgQIAAgd4FJCl6XyHxESBAgAABAgQIECBAgACBiQhIUkxkoU2TAAECBAgQIECAAAECBAj0LiBJ0fsKiY8AAQIECBAgQIAAAQIECExEQJJiIgttmgQIECBAgAABAgQIECBAoHcBSYreV0h8BAgQIECAAAECBAgQIEBgIgKSFBNZaNMkQIAAAQIECBAgQIAAAQK9C0hS9L5C4iNAgAABAgQIECBAgAABAhMRkKSYyEKbJgECBAgQIECAAAECBAgQ6F1AkqL3FRIfAQIECBAgQIAAAQIECBCYiIAkxUQW2jQJECBAgAABAgQIECBAgEDvApIUva+Q+AgQIECAAAECBAgQIECAwEQEJCkmstCmSYAAAQIECBAgQIAAAQIEeheQpOh9hcRHgAABAgQIECBAgAABAgQmIiBJMZGFNk0CBAgQIECAAAECBAgQINC7gCRF7yskPgIECBAgQIAAAQIECBAgMBEBSYqJLLRpEiBAgAABAgQIECBAgACB3gUkKXpfIfERIECAAAECBAgQIECAAIGJCEhSTGShTZMAAQIECBAgQIAAAQIECPQuIEnR+wqJjwABAgQIECBAgAABAgQITERAkmIiC22aBAgQIECAAAECBAgQIECgdwFJit5XSHwECBAgQIAAAQIECBAgQGAiApIUE1lo0yRAgAABAgQIECBAgAABAr0LSFL0vkLiI0CAAAECBAgQIECAAAECExGQpJjIQpsmAQIECBAgQIAAAQIECBDoXUCSovcVEh8BAgQIECBAgAABAgQIEJiIgCTFRBbaNAkQIECAAAECBAgQIECAQO8CkhS9r5D4CBAgQIAAAQIECBAgQIDARAQkKSay0KZJgAABAgQIECBAgAABAgR6F5Ck6H2FxEeAAAECBAgQIECAAAECBCYiIEkxkYU2TQIECBAgQIAAAQIECBAg0LuAJEXvKyQ+AgQIECBAgAABAgQIECAwEQFJiokstGkSIECAAAECBAgQIECAAIHeBSQpel8h8REgQIAAAQIECBAgQIAAgYkISFJMZKFNkwABAgQIECBAgAABAgQI9C5we+8Bio8AAQIECBDYReDKlSuXLl26fPny9evXU+XIkSMnT548derUiRMndmnhMgECBAgQIECga4Hbbty40XWAgiNAgAABAgRmBK5du3bmzJmSm5i5+eNsxfnz548ePTp7yxUCBAgQIECAQM8CXvfoeXXERoAAAQIE5ghkA8Xp06d3y1CkQW6lwsWLF+c0dokAAQIECBAg0LGAnRQdL47QCBAgQIDAjED2UCQBMXN5/oWtrS37KebTuEqAAAECBAh0KWAnRZfLIigCBAgQILCLQN7y2OXOnMsrVZ7T3iUCBAgQIECAwK0VkKS4td5GI0CAAAECNyGQNzgWvOUx23Eqe+ljlsUVAgQIECBAoFsBr3t0uzQCI0CAAAECQ4F8uWOlJEXa5xDNfAFk2JHfBAgQIECAAIEuBeyk6HJZBEWAAAECBOYJrJqhSB/7aDJvZNcIECBAgAABArdCQJLiVigbgwABAgQIECBAgAABAgQIENhTQJJiTyIVCBAgQIAAAQIECBAgQIAAgVshIElxK5SNQYAAAQIECBAgQIAAAQIECOwpIEmxJ5EKBAgQIECgF4GcgrlqKPtosuoQ6hMgQIAAAQIEDkpAkuKgJPVDgAABAgQOXeDs2bOrjrGPJqsOoT4BAgQIECBA4KAEfIL0oCT1Q4AAAQIEboXASl8h9f3RW7EkxiBAgAABAgQOTsBOioOz1BMBAgQIEDh8gfPnzy8/yEqVl+9WTQIECBAgQIDAIQlIUhwSrG4JECBAgMChCBw9evTChQvLdJ1qqbxMTXUIECBAgAABAp0ISFJ0shDCIECAAAECywqcOHFia2trwYmYuZUKqbZsj+oRIECAAAECBPoQcCZFH+sgCgIECBAgsLrAxYsXr169evny5evXr6d1chMnT57MoRXSE6tbakGAAAECBAh0ISBJ0cUyCIIAAQIECBAgQIAAAQIECBDwuoe/AwQIECBAgAABAgQIECBAgEAXApIUXSyDIAgQIECAAAECBAgQIECAAAFJCn8HCBAgQIAAAQIECBAgQIAAgS4EJCm6WAZBECBAgAABAgQIECBAgAABApIU/g4QIECAAAECBAgQIECAAAECXQhIUnSxDIIgQIAAAQIECBAgQIAAAQIEJCn8HSBAgAABAgQIECBAgAABAgS6EJCk6GIZBEGAAAECBAgQIECAAAECBAhIUvg7QIAAAQIECBAgQIAAAQIECHQhIEnRxTIIggABAgQIECBAgAABAgQIEJCk8HeAAAECBAgQIECAAAECBAgQ6EJAkqKLZRAEAQIECBAgQIAAAQIECBAgIEnh7wABAgQIECBAgAABAgQIECDQhYAkRRfLIAgCBAgQIECAAAECBAgQIEBAksLfAQIECBAgQIAAAQIECBAgQKALAUmKLpZBEAQIECBAgAABAgQIECBAgIAkhb8DBAgQIECAAAECBAgQIECAQBcCkhRdLIMgCBAgQIAAAQIECBAgQIAAgdsRECBAgAABAmMUuHjx4tWrVy9fvnz9+vXEf+TIkZMnT546derEiRNjnI6YCRAgQIAAAQIRuO3GjRsgCBAgQIAAgREJXLt27cyZMyU3MRt2shXnz58/evTo7C1XCBAgQIAAAQKdC3jdo/MFEh4BAgQIEPgZgStXrpw+fXq3DEWq5lYqpNrPNPODAAECBAgQIDAGATspxrBKYiRAgAABAj8RyB6KJCCWxNja2rKfYkkr1QgQIECAAIFOBOyk6GQhhEGAAAECBPYWyFsee1f67xorVf7vRv5fAgQIECBAgMA6BSQp1qlvbAIECBAgsLxATspc8JbHbD+pnCaz110hQIAAAQIECHQr4HWPbpdGYAQIECBA4GcE8uWOlZIUaZxDNC9duvQzvfhBgAABAgQIEOhYwE6KjhdHaAQIECBAoBFYNUORpvto0gyoSIAAAQIECBC41QKSFLda3HgECBAgQIAAAQIECBAgQIDAXAFJirksLhIgQIAAAQIECBAgQIAAAQK3WkCS4laLG48AAQIECBAgQIAAAQIECBCYKyBJMZfFRQIECBAg0J1ATsFcNaZ9NFl1CPUJECBAgAABAgcoIElxgJi6IkCAAAEChyhw9uzZVXvfR5NVh1CfAAECBAgQIHCAAj5BeoCYuiJAgAABAocrsNJXSH1/9HAXQ+8ECBAgQIDAIQjYSXEIqLokQIAAAQKHI3D+/PnlO16p8vLdqkmAAAECBAgQODwBSYrDs9UzAQIECBA4YIGjR49euHBhmU5TLZWXqakOAQIECBAgQKAfAUmKftZCJAQIECBAYG+BEydObG1tLTgRM7dSIdX27ksNAgQIECBAgEBnAs6k6GxBhEOAAAECBJYTuHjx4tWrVy9fvnz9+vW0SG7i5MmTObRCemI5P7UIECBAgACBHgUkKXpcFTERIECAAAECBAgQIECAAIEJCnjdY4KLbsoECBAgQIAAAQIECBAgQKBHAUmKHldFTAQIECBAgAABAgQIECBAYIICkhQTXHRTJkCAAAECBAgQIECAAAECPQpIUvS4KmIiQIAAAQIECBAgQIAAAQITFJCkmOCimzIBAgQIECBAgAABAgQIEOhRQJKix1UREwECBAgQIECAAAECBAgQmKCAJMUEF92UCRAgQIAAAQIECBAgQIBAjwKSFD2uipgIECBAgAABAgQIECBAgMAEBSQpJrjopkyAAAECBAgQIECAAAECBHoUkKTocVXERIAAAQIECBAgQIAAAQIEJiggSTHBRTdlAgQIECBAgAABAgQIECDQo4AkRY+rIiYCBAgQIECAAAECBAgQIDBBAUmKCS66KRMgQIAAAQIECBAgQIAAgR4FJCl6XBUxESBAgAABAgQIECBAgACBCQpIUkxw0U2ZAAECBAgQIECAAAECBAj0KCBJ0eOqiIkAAQIECBAgQIAAAQIECExQQJJigotuygQIECBAgAABAgQIECBAoEcBSYoeV0VMBAgQIECAAAECBAgQIEBgggKSFBNcdFMmQIAAAQIECBAgQIAAAQI9CkhS9LgqYiJAgAABAgQIECBAgAABAhMUkKSY4KKbMgECBAgQIECAAAECBAgQ6FHg9h6DEhMBAgQIECCwu8DFixevXr16+fLl69evp9aRI0dOnjx56tSpEydO7N7IHQIECBAgQIDACARuu3HjxgjCFCIBAgQIECDwqU9du3btzJkzJTcx65Fsxfnz548ePTp7yxUCBAgQIECAwCgEvO4ximUSJAECBAgQ+NSVK1dOnz69W4YiQLmVCqkGiwABAgQIECAwUgE7KUa6cMImQIAAgWkJZA9FEhBLznlra8t+iiWtVCNAgAABAgS6ErCToqvlEAwBAgQIEJgvkLc85t+Yd3WlyvM6cI0AAQIECBAgsB4BSYr1uBuVAAECBAgsL5CTMhe85THbTyqnyex1VwgQIECAAAECnQt43aPzBRIeAQIECBD4VL7csVKSImQ5RPPSpUvsCBAgQIAAAQLjErCTYlzrJVoCBAgQmKLAqhmKGO2jyRRlzZkAAQIECBDoTECSorMFEQ4BAgQIECBAgAABAgQIEJiqgCTFVFfevAkQIECAAAECBAgQIECAQGcCkhSdLYhwCBAgQIAAAQIECBAgQIDAVAUkKaa68uZNgAABAuMRyCmYqwa7jyarDqE+AQIECBAgQODABSQpDpxUhwQIECBA4IAFzp49u2qP+2iy6hDqEyBAgAABAgQOXMAnSA+cVIcECBAgQODgBVb6Cqnvjx78AuiRAAECBAgQuCUCdlLcEmaDECBAgACBmxM4f/788h2sVHn5btUkQIAAAQIECBy2gCTFYQvrnwABAgQIHIDA0aNHL1y4sExHqZbKy9RUhwABAgQIECDQm4AkRW8rIh4CBAgQIDBf4MSJE1tbWwtOxMytVEi1+e1dJUCAAAECBAh0L+BMiu6XSIAECBAgQOBnBS5evHj16tXLly9fv349d5KbOHnyZA6tkJ74WSe/CBAgQIAAgfEJSFKMb81ETIAAAQIECBAgQIAAAQIENlLA6x4buawmRYAAAQIECBAgQIAAAQIExicgSTG+NRMxAQIECBAgQIAAAQIECBDYSAFJio1cVpMiQIAAAQIECBAgQIAAAQLjE5CkGN+aiZgAAQIECBAgQIAAAQIECGykgCTFRi6rSREgQIAAAQIECBAgQIAAgfEJSFKMb81ETIAAAQIECBAgQIAAAQIENlJAkmIjl9WkCBAgQIAAAQIECBAgQIDA+AQkKca3ZiImQIAAAQIECBAgQIAAAQIbKSBJsZHLalIECBAgQIAAAQIECBAgQGB8ApIU41szERMgQIAAAQIECBAgQIAAgY0UkKTYyGU1KQIECBAgQIAAAQIECBAgMD4BSYrxrZmICRAgQIAAAQIECBAgQIDARgpIUmzkspoUAQIECBAgQIAAAQIECBAYn4AkxfjWTMQECBAgQIAAAQIECBAgQGAjBSQpNnJZTYoAAQIECBAgQIAAAQIECIxPQJJifGsmYgIECBAgQIAAAQIECBAgsJECkhQbuawmRYAAAQIECBAgQIAAAQIExicgSTG+NRMxAQIECBAgQIAAAQIECBDYSAFJio1cVpMiQIAAAQIECBAgQIAAAQLjE5CkGN+aiZgAAQIECBAgQIAAAQIECGykgCTFRi6rSREgQIAAAQIECBAgQIAAgfEJSFKMb81ETIAAAQIECBAgQIAAAQIENlJAkmIjl9WkCBAgQIAAAQIECBAgQIDA+AQkKca3ZiImQIAAAQIECBAgQIAAAQIbKSBJsZHLalIECBAgQIAAAQIECBAgQGB8ApIU41szERMgQIAAAQIECBAgQIAAgY0UkKTYyGU1KQIECBAgQIAAAQIECBAgMD4BSYrxrZmICRAgQIAAAQIECBAgQIDARgpIUmzkspoUAQIECBAgQIAAAQIECBAYn4AkxfjWTMQECBAgQIAAAQIECBAgQGAjBSQpNnJZTYoAAQIECBAgQIAAAQIECIxPQJJifGsmYgIECBAgQIAAAQIECBAgsJECkhQbuawmRYAAAQIECBAgQIAAAQIExidw+/hCFjEBAocjcOzYscPpWK8ECBAgQIDARglsb29v1HxMhgCBngTspOhpNcRCgAABAgQIECBAgAABAgQmLCBJMeHFN3UCBAgQIECAAAECBAgQINCTgCRFT6shFgIECBAgQIAAAQIECBAgMGEBZ1JMePFNncDuAl/4xnu733SHAAECBAgQGI3AD75+X431/W//qJZXLdz7lc+s2kR9AgQI7EPATop9oGlCgAABAgQIECBAgAABAgQIHLyAJMXBm+qRAAECBAgQIECAAAECBAgQ2IeAJMU+0DQhQIAAAQIECBAgQIAAAQIEDl5AkuLgTfVIgAABAgQIECBAgAABAgQI7ENAkmIfaJoQIECAAAECBAgQIECAAAECBy8gSXHwpnokQIAAAQIECBAgQIAAAQIE9iEgSbEPNE0IECBAgAABAgQIECBAgACBgxeQpDh4Uz0SIECAAAECBAgQIECAAAEC+xCQpNgHmiYECBAgQIAAAQIECBAgQIDAwQtIUhy8qR4JECBAgAABAgQIECBAgACBfQhIUuwDTRMCBAgQIECAAAECBAgQIEDg4AUkKQ7eVI8ECBAgQIAAAQIECBAgQIDAPgQkKfaBpgkBAgQIECBAgAABAgQIECBw8AKSFAdvqkcCBAgQIECAAAECBAgQIEBgHwKSFPtA04QAAQIECBAgQIAAAQIECBA4eAFJioM31SMBAgQIECBAgAABAgQIECCwDwFJin2gjaPJtWvXxhGoKAkQIECAAAECBAgQIECAwE8EbudQBf7pX//93374Sfn52V+44/Of+3S9NbrCqVOnrl+/nrAvXLhw4sSJtcTfeiaAuaRtnaNHj86Nc7bOIP8yt2GtM3fcuQO5SIAAAQIECBAgQIAAAQLrFZCk2PH/+8t//eyzz5bfa3y23wlov6U8n5cMRTq4dOnSupIUrWciefzxx59//vnBnL77l29+85vfzMUjR44k1MHd8vOP//Brb7/9dsq1hzNnztQJ5vrW1tZsnqLWefnllx955JG5PbtIgAABAgQIECBAgAABAl0JeN1jqeXIY3/2JuTPlStXlmpwSyq99NJLCemZZ54ZjJYn9jzzl4upMLi7rp9vvPFG3d2wfAzZRlEyFGnyxBNPzG344osvzr3uIgECBAgQIECAAAECBAiMS8BOiqXW66233ir/dP/JJz99H2SpZodcKY/9u42QXQnJCPT2pkOyCa+++mob85133tn+nC1nq0W5mLTL7HaJcitZjCSP1rVhZDZmVwgQIECAAAECBAgQIEBgfwKSFEu5vfnmTx+VU7s8/Of0itln5tz66KOPUueL990/90iLcrxCmztIk3fffffXTn6prV/6SULkjjvuuOuuu2YHyhAXL16soad+Kdeey5WfHLEx/3CNMkRa7dZ/PQmijp4r//jeu2my2+xqPLsVkk1I2O3LFx9//PFulcv1Kv/YY48tqJkXSXZ7W2RBK7cIECBAgAABAgQIECBAoCsBSYo9liP/RJ8H4HoCQj20Is22t7dr49dee62crVCvPPTQQy+88EJ9ws/15AVOnz6dQm5lQ0Hbczk3IVmAbBzInzpc6S2bCM6ePds+27fDpXLpNpWfe+65p556qg5Ur5R+yn+TJnjllVfaIdJ/3hwZ7ET481f+tOzUyPEcSWTUIx5KJzke4qtn/6hNrLRDDMqZ7/vvv19GzNCDjMygcvszE6lx/ubvzElSpOfyMkiqxSRzb5srEyBAgAABAgQIECBAgMC4BJxJscd6Pfnkk/U5ebeqORVikKFIzTw8J3cw9wyL3Mr1tufsmCidz2Yocj0BJDlSt060GYrdQtrtekJNV4MZ5WeCmRtq+jl37twgQ5GLyV/kPMvdRpm9niRLuZix6hscs9UGV15//fVyJcmIuQmRp59+up6+EbpkeQY9+EmAAAECBAgQIECAAAECIxKQpNhjsbJlIE/ItVLKuVL+lIvJHZR/zM/P3M2eiGxnqE/Os9+zKK2SFKh9ppCtCvlvnsPLSw3pJ52kqwxUq2UPQikfP3481+sQufjTgB5/fPERD22oaZ5W7dR2y1NkdskslPrtoLmenQ41vAWFbKPINpDaNgmdJRtevny5dPvoo4/O7T9vxGQPSLmVILP7Y241FwkQIECAAAECBAgQIEBgFAJe99hjmZJlyBaDmobI03L72kUa19xBHsLrqZAPP/xweQUjT85JDQyalCFTPw/YOd8hP+s2gbywkPca6s/SsLx2ka6yUyC38l5G/nzwwQe5krbpZ7dUSBmo/rcN9Vvf+V4ZpX03JJsm0nOtXwvJZZSpZaDEXOLJ3Zym0b7PUuvPLaRhTc3MnqA52yTsdYJzAUuTBJzwygIlsHwBZPmQZgd1hQABAgQIECBAgAABAgTWKGAnxU3ht4cmZBNEkgjl/3KAZd04MPdsyNxNmiAP2MkU1JRECaX+TFfp/+67764h/uQgzPprtcIg1DpKHunrfo1seZjbad6qqNcfeOCBWp47tXp3UCjZhHIxOYXydsmCrR/JmJTKJ0+eHHQ1+JmzP+oVnyOtFAoECBAgQIAAAQIECBAYnYCdFDe1ZOVbHqWLvMWQP7Pdffjhh7MX8+Bd0wTt3Ty65ysVec2hbCJob6Wc4fa9TaANdZAaqHmQulljMG7Z7lEu3n//j7d+7O9Psgn1jM9syljwPY4kaOrulVOnTu02XMmSlDxL2d+RVrttXdmtE9cJECBAgAABAgQIECBAoBMBOyluaiFyJsKe7fNexmydmhdob+VEzLwQkYftuRmK1CxHV7RNli+3odZzOkvzNmdRPjI66LbNp2STyODu8j+TTchZG6V+5pj57ta2Hq6ZLSdz30ApDWvk+dRI7aq+1VKvKBAgQIAAAQIECBAgQIDAKATspLipZWqf9vPSRPsqRO23rVMvzhbyOkbdiJEn87w8koMt8lSffQH1u6c3s5Oi3QHRJiwSSfvWxp55kJt55SRj5cSN+gWTFOpXPwYg77zzTrlSThId3K0/a+RJoyT9UQAXpz9qWwUCBAgQIECAAAECBAgQ6E1AkuKmVmTwSL/gfMc9h8khlLVOnsxzgmb5efXq1Xp9MFy9vkyhfU8kfbah1oxA+mmrze32ZnZSpMNkE5KYKGmXZBPm7npIvqa+65FMzdwwysW6kyI/I1bTH8lW1DNBFjR3iwABAgQIECBAgAABAgS6EvC6x97L0aYG2pRBWuaRvj4M5zWNPF0PuivHQw4uzv1ZNwXkbn32ztEM9TOcud6eK1E7yaN+qtWfCwr1g6Pps4aaCGtGoFZY0MlN7qRIz8mP1IES/OxYr7/+ermYaouTJi1amtTPkaY8t+fZsVwhQIAAAQIECBAgQIAAgX4E7KTYey3avQPJRJQzJvIhjPPnz+cRuv2y5pkzZ3IiZs6byGGZqZaH/6QwFhwP2Y59/Pjx+jP7C/L4nU7KYZD1epsuueeee2py4Xd/+8v33ntvQsroCz5Hmo90lCZ5gM8BliVTUDvJKO1nMuqgg0KrMbi1/M8aydwmNS+TD77OrVAv1mxOudJ+jrTWUSBAgAABAgQIECBAgACBsQjYSbH3SuUNhfqRztTOU33+1H+oz4NxvZuLSSvkXYP8N3X27rqpkX7qpoz0UzrJ/XRer7c7KZ544onaOvVLSHMP6azVMsSFCxfqzzTJn/ozZzos3rZQat78Tor006LVAEohOzuqbftOyqBa+TnYSZGLy+RZ5nblIgECBAgQIECAAAECBAisXUCSYqklyMcjaiaiNMg2hLqnIJsXtra26isMtcckFxaf+1hrlkK2ZrSdpHkSB+m8dtLupEhCIRmHmr9IDyk/+OCDgz4HP0ueoh0lFfIz8ddTMAZNBj/rrAfXV/3ZJlnatufOnSs/B+BtnVoe7KTI9bAs07D2oECAAAECBAgQIECAAAEC/QjcduPGjX6i6TySHP1Q9hEs2HGQsx6y3yHZhDzMt1/uXH5qZZTlm5fTJZavXyJZZi7Lx6zmZggcO3asTuQL33ivlhUIECBAgACB8Qr84Ov31eDf//aPannVwr1f+Uxtsr29XcsKBAgQOFgBZ1Ks4Jmkw+c/d3Rxg+QvFqQwFrctd5cZpe1nf8OtOko7ojIBAgQIECBAgAABAgQIEDgMAa97HIaqPgkQIECAAAECBAgQIECAAIGVBSQpVibTgAABAgQIECBAgAABAgQIEDgMAUmKw1DVJwECBAgQIECAAAECBAgQILCygCTFymQaECBAgAABAgQIECBAgAABAochIElxGKr6JECAAAECBAgQIECAAAECBFYWkKRYmUwDAgQIECBAgAABAgQIECBA4DAEJCkOQ1WfBAgQIECAAAECBAgQIECAwMoCkhQrk2lAgAABAgQIECBAgAABAgQIHIaAJMVhqOqTAAECBAgQIECAAAECBAgQWFlAkmJlMg0IECBAgAABAgQIECBAgACBwxCQpDgMVX0SIECAAAECBAgQIECAAAECKwtIUqxMpgEBAgQIECBAgAABAgQIECBwGAKSFIehqk8CBAgQIECAAAECBAgQIEBgZQFJipXJNCBAgAABAgQIECBAgAABAgQOQ0CS4jBU9UmAAAECBAgQIECAAAECBAisLCBJsTKZBgQIECBAgAABAgQIECBAgMBhCNx248aNw+hXnwQIjE7g2LFjo4tZwAQIECBAgMCtF9je3r71gxqRAIGJCNhJMZGFNk0CBAgQIECAAAECBAgQINC7gCRF7yskPgIECBAgQIAAAQIECBAgMBEBSYqJLLRpEiBAgAABAgQIECBAgACB3gWcSdH7ComPAAECBAgQIECAAAECBAhMRMBOiokstGkSIECAAAECBAgQIECAAIHeBSQpel8h8REgQIAAAQIECBAgQIAAgYkISFJMZKFNkwABAgQIECBAgAABAgQI9C4gSdH7ComPAAECBAgQIECAAAECBAhMRECSYiILbZoECBAgQIAAAQIECBAgQKB3AUmK3ldIfAQIECBAgAABAgQIECBAYCICkhQTWWjTJECAAAECBAgQIECAAAECvQtIUvS+QuIjQIAAAQIECBAgQIAAAQITEZCkmMhCmyYBAgQIECBAgAABAgQIEOhdQJKi9xUSHwECBAgQIECAAAECBAgQmIiAJMVEFto0CRAgQIAAAQIECBAgQIBA7wKSFL2vkPgIECBAgAABAgQIECBAgMBEBCQpJrLQpkmAAAECBAgQIECAAAECBHoXkKTofYXER4AAAQIECBAgQIAAAQIEJiIgSTGRhTZNAgQIECBAgAABAgQIECDQu4AkRe8rJD4CBAgQIECAAAECBAgQIDARAUmKiSy0aRIgQIAAAQIECBAgQIAAgd4FJCl6XyHxESBAgAABAgQIECBAgACBiQhIUkxkoU2TAAECBAgQIECAAAECBAj0LiBJ0fsKiY8AAQIECBAgQIAAAQIECExEQJJiIgttmgQIECBAgAABAgQIECBAoHcBSYreV0h8BAgQIECAAAECBAgQIEBgIgKSFBNZaNMkQIAAAQIECBAgQIAAAQK9C0hS9L5C4iNAgAABAgQIECBAgAABAhMRkKSYyEKbJgECBAgQIECAAAECBAgQ6F1AkqL3FRIfAQIECBAgQIAAAQIECBCYiIAkxUQW2jQJECBAgAABAgQIECBAgEDvApIUva+Q+AgQIECAAAECBAgQIECAwEQEJCkmstCmSYAAAQIECBAgQIAAAQIEeheQpOh9hcRHgAABAgQIECBAgAABAgQmIiBJMZGFNk0CBAgQIECAAAECBAgQINC7gCRF7yskPgIECBAgQIAAAQIECBAgMBEBSYqJLLRpEiBAgAAb5KXaAAATJElEQVQBAgQIECBAgACB3gUkKXpfIfERIECAAAECBAgQIECAAIGJCEhSTGShTZMAAQIECBAgQIAAAQIECPQuIEnR+wqJjwABAgQIECBAgAABAgQITERAkmIiC22aBAgQIECAAAECBAgQIECgdwFJit5XSHwECBAgQIAAAQIECBAgQGAiApIUE1lo0yRAgAABAgQIECBAgAABAr0LSFL0vkLiI0CAAAECBAgQIECAAAECExGQpJjIQpsmAQIECBAgQIAAAQIECBDoXUCSovcVEh8BAgQIECBAgAABAgQIEJiIgCTFRBbaNAkQIECAAAECBAgQIECAQO8CkhS9r5D4CBAgQIAAAQIECBAgQIDARAQkKSay0KZJgAABAgQIECBAgAABAgR6F5Ck6H2FxEeAAAECBAgQIECAAAECBCYiIEkxkYU2TQIECBAgQIAAAQIECBAg0LuAJEXvKyQ+AgQIECBAgAABAgQIECAwEQFJiokstGkSIECAAAECBAgQIECAAIHeBSQpel8h8REgQIAAAQIECBAgQIAAgYkISFJMZKFNkwABAgQIECBAgAABAgQI9C4gSdH7ComPAAECBAgQIECAAAECBAhMRECSYiILbZoECBAgQIAAAQIECBAgQKB3AUmK3ldIfAQIECBAgAABAgQIECBAYCICkhQTWWjTJECAAAECBAgQIECAAAECvQtIUvS+QuIjQIAAAQIECBAgQIAAAQITEZCkmMhCmyYBAgQIECBAgAABAgQIEOhdQJKi9xUSHwECBAgQIECAAAECBAgQmIiAJMVEFto0CRAgQIAAAQIECBAgQIBA7wKSFL2vkPgIECBAgAABAgQIECBAgMBEBCQpJrLQpkmAAAECBAgQIECAAAECBHoXkKTofYXER4AAAQIECBAgQIAAAQIEJiIgSTGRhTZNAgQIECBAgAABAgQIECDQu4AkRe8rJD4CBAgQIECAAAECBAgQIDARAUmKiSy0aRIgQIAAAQIECBAgQIAAgd4FJCl6XyHxESBAgAABAgQIECBAgACBiQhIUkxkoU2TAAECBAgQIECAAAECBAj0LiBJ0fsKiY8AAQIECBAgQIAAAQIECExEQJJiIgttmgQIECBAgAABAgQIECBAoHcBSYreV0h8BAgQIECAAAECBAgQIEBgIgKSFBNZaNMkQIAAAQIECBAgQIAAAQK9C0hS9L5C4iNAgAABAgQIECBAgAABAhMRuH0i8zRNAgQIECAwK3Dt2rWPPvoo1++6666jR4/OVpjUlWhAmNSKmywBAgQIEOhQ4LYbN250GJaQCBAgQIDALRB45pln3n777Qx05MiRS5cu3YIRux3i1KlT169fT3gXLlw4ceJEt3EKjAABAgQIENhsAa97bPb6mh0BAgQIENhbIHsoSoYiVSeerNkbSw0CBAgQIEDgMAUkKQ5TV98ECBAgMAGBPOFnG0L+XLlyZaTTzVse2UtSgs9EOpnFSy+9lGCy26WTeIRBgAABAgQI3AIBZ1LcAmRDECBAgMAmC7z11ltlG8Inn3wy3nlmA0WyLZ/9hTs+/7lPdzKLN954o5NIhEGAAAECBAjcMgFJiltGbSACBAgQWL9AnsNzUuaSx2T+07/++7/98JPUT/bhjjvu+OJ99899gH/zzTfrxMpzfloNTqAs45Z+Fo++5KAZMTX/8b13d+uz9JNqNZJSf7fRE2EqJ/JPfWonT1E6aTMXqfbuu+/+2skvtRTLzG5uVwvW4uLFi61qKbeR1LuzhTJW4syq7TbftCphp7BbndJPKlTD0mS2fmpmLVJzt78kueUPAQIECBAgsIyAgzOXUVKHAAECBEYvkMfLM2fO1JMX8nZD3ibI9oHyz/WDgzPz4sa5c+fKmZrtzB9//PEnnniiPrKm2vPPP1/7bGtub2/nZ55dv/uXSWK8OaiT4c6ePfvII4+0TZYctHT756/86exGgza8zK5UeO65537zdx774z/8Wp1OmXt7OmZwTp8+XYJJ/aeeeirlevGhhx569dVX28m+/PLLCX752Q26eu211775zW/Wuc/GM6hQa9bY6pVBIQO9+OKLdabl7mz/yYC88sor7aLM1knbapjDRJOYaP/+5G4JZnbErMJXz/5Rm8QZBOknAQIECBAgsEDATooFOG4RIECAwIYI5Ely8ISZB9Qnn3wyj6ZzZ/j9739/8KBbquWx//Lly/VoyfQwt3l7cTZDkbsZ/dlnn02hzVMsOWha/e5vf7l9wK7DJbw8HtefpfDjHMnPZknK3Jf/ikcokqFoJ5sdCrXz2Ujmzq7UT1f1iyo1zhLP1tZWyf7slqFI/Q8//LC2mi0MgqwVBhHOBpCaJYbdTJKxev/99wf9JM+SePL3YXC95IaSvaoBKBAgQIAAAQLLC/xvf/Inf7J8bTUJECBAgMAYBf7sz/7sb//2b0vkSUx8+ctf/vmf//lkLup3uPMzWyTq1O75P49t/b//Ty6mZq4/8MADP/dzP5f6qZAm99577y//8i+n/M///M+ln9IwOw5+4zd+4/6f/EkhFz/9f/zv//mf//l3f/d3ufV7v/d7v/Vbv3XnnXfmNYRS/x/+4R/2MWgexfMsXUf82te+lvB+6Zd+Kd3m3/D/r1NfKrf+5m/+pgyUgPOnxNZG+4Mf/CCzK5X/5V/+5S/+4i9K+dd//dd/5Vd+JeX24ne/+91yt/z3q1/9arpafnZtV4WxxFMp0m2yACWe//iP//jsZz/7wx/+MGGX4TKvoppzNH/xF3+xjaQt//7v/35tUuf7X//1Xwm1/v92sociGYfSqv2bUK5kmr/6q79ah6iG5a9Kqd8Glvgz4tzrf/AHf9DGpkyAAAECBAgsKWAnxZJQqhEgQIDAWAXyVkL5x+1MIM+T3/rO98pW/N3+4T3VUqFWK9N++OGH6wsRV69eLTsg8q/l6aTuuXj00UfbnRGlYV6dyNsWdfN/qVDiyb/AJ7Z6a8lB2+M52xETTHorgw7+m4f8+g/7dR9B2R/RvvQxaDX4Gbq8/pAzF3K9xrz87Nre6oaF5GiqapIUpU5Cyp8PPvig7FDIuDX4tpNBOfsv6o6Gdr6pVtIipX7e8iiF9m9CKtQwksLI6IPO8zNZj7zzkkL2qrQ7Wer1BFltUy191teCZntzhQABAgQIENhNwCdId5NxnQABAgQ2ROAnh0H+dC6PPbaTL8izaJ4wd5tkfQ7Pk395ys1jbamc5+fdWs29Pujq7rvvrtXa2HJxUDNXZgfNnoLaPO+MJHFQH8Jr81qhFNr9Gk8//XS92+Y76sW5hfJIH7EMMRil/ixQC2ZXeo55zQLkMb5OsKYY5gaw58X2TZDBOy81WRCoOkr7NyEVktcoQ9RcyWDE6pb5ZitNvZs8US0/+OCDtZwzQWtZgQABAgQIEFhewE6K5a3UJECAAIFRCrTvFORti3YO99xzT90H0V7P83YOvHznnXfyyFofa9sKy5ez1SJnWMyeXFB6yKNsfYRectDUz3N+DTubMvInV1544YXa1SC89noOgKx3P/7441peXDh58mRNRrQ1l59dbRXzWk4hPSf+9sr+yhEuDZP1mBtq7raJg8HfhJpbyXJnIWZ7KFtIyhBJRlT/Nmc06HN/E9GKAAECBAhMXECSYuJ/AUyfAAEC0xKoJz4umHaeUdv9/Atq7nlrwRmQpW1NGaw06P/9P/7n4OseeWbOCwvloxuLo8pXPGuFdvdBvTi3UJ/h27vLz65tNbertsJNltttDoOu2p0jg78JbX4hHxOtez1qD7Npi3pLgQABAgQIEDhAAa97HCCmrggQIEBgEwTytc66eyI7FHKAwt//f/9/PilaX0xYcpJ5uaB+aDNt88XKfMAi/SSVMNvDSoPmgTknIKS3+pJC6TBvf9RXP9ohkgGpP9sXTG4mX7DM7NqdCzWAwy7s9r5Gxm0TE23CIrfaTSU1c7RqqG3/q7ZVnwABAgQIECgCkhT+JhAgQIDAhgu0G/Lzmc92tnNPl6hPucksZM9COYghz/k1c9H2sKDcvmaSExByxmR57SLnbtZW9TF+H4Omt6QqkkBJJqV22A5aL2ZrQC23FY4fP16vr1po+9ltdvt+2l81mNSvGyjK+xpze2j3R7SrkMp5tac2ad+OqRd3K7Q7UwaJj92auE6AAAECBAgsEJCkWIDjFgECBAhsgkD7GPnmm2/WvQb5GmU9WaCdZ5uMqJv8c0RFW6eW2+fwwXNv+4/z9W2CJDvq6QnppDZfftDEX6eQHhJhTqOo8bSD1ov1o5sZ/a/+6q/q9fachXpxyUI70G6zqymYJfucW21u0iECOTE075tUivbQyrwLU7vKlNtqNaGTVaht20+01Aq1h8WFdmfK4pruEiBAgAABAssIOJNiGSV1CBAgQGDEAnmMz2sR5XTGPPHm7IY8iC44ETN3S/IilfNRyTz95p/Z56YzgtJmQDJE2ZqRzs+fP9/uU8iXL/NUnzMgBodE5jG+/Lv98oO+9dZbeYskuzxy5GR5X6PdBdAOWtcswZ86dSp7DdpZZ8Sagqk1ly+0A+02u5qCWb7bWrM90zRHhJTgM+XyOdIzZ85kdVI5cy9fBs13XpOBKheDnBxEO998Qbb0nI901MUtfxNyvV3cNuNTg1lQaP8CeN1jAZRbBAgQIEBgSQFJiiWhVCNAgACBEQvkm5R5ai1PsJlGeSjNc36eY9sH1DLDfFSyXkyhlEtSYJBiSP02A1J7Lv3k5YK0KoPmv/V8imRMajD1MX75Qcu2hXQ4G0zyDu0bDSWMxJBC6udPuZL/5mLeZKk/91FYZnY1BbOP/vPZ1DrBGnzJAbWv3iTtUjrPQpw9ezancpSftclg6ISdQ0aefPLJcr0sbq2Tc0NWetcjDbOT4vOfO1p68LpHlVQgQIAAAQL7FvC6x77pNCRAgACB0QjkCfZb3/lenuFrxClns8PcfzZ/5JFH8rBaa6ZQKifT0V6s5VwfHGCZ+uUf2DNEyrVmUgPpOXsBcohDuVhfiFh+0Pxzfdtn6af0vFveYe7cb2YbRRl0z9nVFEwVWL6QZEGyCSXDUudY3ukoiaFysUrmZwxzmOgsTlan3e9Q8hSDavmZtjk3ZPkI1SRAgAABAgQOQ+C2GzduHEa/+iRAgAABAh0K5B/h80/feWRd5hG9nFmw5D+tl54z5dn6hzRowkuOI4mAudPJkQ11J0I+KZLAFkR4Myu10uz2MVBZhdk5Ll6dijO7HDWGQwKp/SsQIECAAAEC+xCQpNgHmiYECBAgQKB3gZymUd9lKEmK3iMWHwECBAgQIEDgU5/yuoe/BQQIECBAYAMFcvDkBs7KlAgQIECAAIFNF5Ck2PQVNj8CBAgQIECAAAECBAgQIDASAUmKkSyUMAkQIECAAAECBAgQIECAwKYL+ATppq+w+REgQIDAJAXuvvvuwQcsJslg0gQIECBAgMDIBBycObIFEy4BAgQIECBAgAABAgQIENhUAa97bOrKmhcBAgQIECBAgAABAgQIEBiZgCTFyBZMuAQIECBAgAABAgQIECBAYFMFJCk2dWXNiwABAgQIECBAgAABAgQIjExAkmJkCyZcAgQIECBAgAABAgQIECCwqQKSFJu6suZFgAABAgQIECBAgAABAgRGJiBJMbIFEy4BAgQIECBAgAABAgQIENhUAUmKTV1Z8yJAgAABAgQIECBAgAABAiMTkKQY2YIJlwABAgQIECBAgAABAgQIbKqAJMWmrqx5ESBAgAABAgQIECBAgACBkQlIUoxswYRLgAABAgQIECBAgAABAgQ2VUCSYlNX1rwIECBAgAABAgQIECBAgMDIBCQpRrZgwiVAgAABAgQIECBAgAABApsqIEmxqStrXgQIECBAgAABAgQIECBAYGQCkhQjWzDhEiBAgAABAgQIECBAgACBTRWQpNjUlTUvAgQIECBAgAABAgQIECAwMgFJipEtmHAJECBAgAABAgQIECBAgMCmCkhSbOrKmhcBAgQIECBAgAABAgQIEBiZgCTFyBZMuAQIECBAgAABAgQIECBAYFMFJCk2dWXNiwABAgQIECBAgAABAgQIjExAkmJkCyZcAgQIECBAgAABAgQIECCwqQKSFJu6suZFgAABAgQIECBAgAABAgRGJiBJMbIFEy4BAgQIECBAgAABAgQIENhUAUmKTV1Z8yJAgAABAgQIECBAgAABAiMTkKQY2YIJlwABAgQIECBAgAABAgQIbKqAJMWmrqx5ESBAgAABAgQIECBAgACBkQlIUoxswYRLgAABAgQIECBAgAABAgQ2VUCSYlNX1rwIECBAgAABAgQIECBAgMDIBCQpRrZgwiVAgAABAgQIECBAgAABApsqIEmxqStrXgQIECBAgAABAgQIECBAYGQCkhQjWzDhEiBAgAABAgQIECBAgACBTRWQpNjUlTUvAgQIECBAgAABAgQIECAwMgFJipEtmHAJECBAgAABAgQIECBAgMCmCkhSbOrKmhcBAgQIECBAgAABAgQIEBiZgCTFyBZMuAQIECBAgAABAgQIECBAYFMF/hcxw4T8hgHnPwAAAABJRU5ErkJggg==)"
      ],
      "id": "french-machinery"
    },
    {
      "cell_type": "code",
      "execution_count": null,
      "metadata": {
        "colab": {
          "base_uri": "https://localhost:8080/"
        },
        "id": "postal-geography",
        "outputId": "b198e217-4fa9-45b3-e47c-386614b6eab7"
      },
      "outputs": [
        {
          "output_type": "execute_result",
          "data": {
            "text/plain": [
              "0.5282462043712458"
            ]
          },
          "metadata": {},
          "execution_count": 35
        }
      ],
      "source": [
        "loo = -cross_val_score(model, X, y, cv=len(X), scoring='neg_mean_squared_error', n_jobs=-1) # the result the error will be always negative since this function was designed for its use on optimisation algorithms\n",
        "np.mean(loo) # combined error"
      ],
      "id": "postal-geography"
    },
    {
      "cell_type": "markdown",
      "metadata": {
        "id": "ongoing-spokesman"
      },
      "source": [
        "# Grid Search"
      ],
      "id": "ongoing-spokesman"
    },
    {
      "cell_type": "markdown",
      "metadata": {
        "id": "declared-native"
      },
      "source": [
        "It's difficult to test all parameters' combination values for a particular model to find the one that maximizes the validation score."
      ],
      "id": "declared-native"
    },
    {
      "cell_type": "code",
      "execution_count": null,
      "metadata": {
        "id": "narrative-turkish"
      },
      "outputs": [],
      "source": [
        "from sklearn.model_selection import GridSearchCV"
      ],
      "id": "narrative-turkish"
    },
    {
      "cell_type": "markdown",
      "metadata": {
        "id": "other-battlefield"
      },
      "source": [
        "## Regression"
      ],
      "id": "other-battlefield"
    },
    {
      "cell_type": "code",
      "execution_count": null,
      "metadata": {
        "id": "wicked-architecture"
      },
      "outputs": [],
      "source": [
        "X, y = fetch_california_housing(return_X_y=True)  # load the dataset\n",
        "X_train, X_test, y_train, y_test = train_test_split(X, y, test_size=.30)  # split in train and test dataset in order to assess the model"
      ],
      "id": "wicked-architecture"
    },
    {
      "cell_type": "code",
      "execution_count": null,
      "metadata": {
        "id": "complicated-hughes"
      },
      "outputs": [],
      "source": [
        "param_grid = {'fit_intercept': [True, False],\n",
        "              'normalize': [True, False]}"
      ],
      "id": "complicated-hughes"
    },
    {
      "cell_type": "code",
      "execution_count": null,
      "metadata": {
        "colab": {
          "base_uri": "https://localhost:8080/"
        },
        "id": "virgin-defensive",
        "outputId": "3813e820-1439-4b10-be1e-49e0abffd30b"
      },
      "outputs": [
        {
          "output_type": "stream",
          "name": "stderr",
          "text": [
            "/usr/local/lib/python3.7/dist-packages/sklearn/linear_model/_base.py:145: FutureWarning: 'normalize' was deprecated in version 1.0 and will be removed in 1.2.\n",
            "If you wish to scale the data, use Pipeline with a StandardScaler in a preprocessing stage. To reproduce the previous behavior:\n",
            "\n",
            "from sklearn.pipeline import make_pipeline\n",
            "\n",
            "model = make_pipeline(StandardScaler(with_mean=False), LinearRegression())\n",
            "\n",
            "If you wish to pass a sample_weight parameter, you need to pass it as a fit parameter to each step of the pipeline as follows:\n",
            "\n",
            "kwargs = {s[0] + '__sample_weight': sample_weight for s in model.steps}\n",
            "model.fit(X, y, **kwargs)\n",
            "\n",
            "\n",
            "  FutureWarning,\n"
          ]
        }
      ],
      "source": [
        "grid = GridSearchCV(LinearRegression(), param_grid, cv=2, n_jobs=-1) # perform grid search with two-fold validation\n",
        "grid.fit(X_train, y_train);"
      ],
      "id": "virgin-defensive"
    },
    {
      "cell_type": "code",
      "execution_count": null,
      "metadata": {
        "id": "extensive-conversation",
        "colab": {
          "base_uri": "https://localhost:8080/"
        },
        "outputId": "9a988860-edbe-49e5-d7f6-2446bef75fd2"
      },
      "outputs": [
        {
          "output_type": "execute_result",
          "data": {
            "text/plain": [
              "{'fit_intercept': True, 'normalize': True}"
            ]
          },
          "metadata": {},
          "execution_count": 40
        }
      ],
      "source": [
        "grid.best_params_ # exports the best parameters"
      ],
      "id": "extensive-conversation"
    },
    {
      "cell_type": "code",
      "execution_count": null,
      "metadata": {
        "colab": {
          "base_uri": "https://localhost:8080/"
        },
        "id": "altered-michigan",
        "outputId": "9f06b7bd-346e-4860-ca33-aa9f8a8f319b"
      },
      "outputs": [
        {
          "output_type": "stream",
          "name": "stdout",
          "text": [
            "Train R2 0.6055268089043857 Test R2 0.6043957421808925\n",
            "Train MSE 0.5220043228666617 Test MSE 0.5343872136997112\n"
          ]
        }
      ],
      "source": [
        "y_pred_train = grid.predict(X_train)  # compute the prediction on the train dataset\n",
        "mse_train = mean_squared_error(y_train, y_pred_train)  # mean of the squared prediction errors (i.e., the difference between the true value and the predicted value for an instance) over all instances in the test set\n",
        "r2_train = r2_score(y_train, y_pred_train)  # the amount of variability that our model can explain (i.e., the best possible score is 1.0)\n",
        "\n",
        "y_pred_test = grid.predict(X_test)  # compute the prediction on the test dataset\n",
        "mse_test = mean_squared_error(y_test, y_pred_test)  # mean of the squared prediction errors (i.e., the difference between the true value and the predicted value for an instance) over all instances in the test set\n",
        "r2_test = r2_score(y_test, y_pred_test)  # the amount of variability that our model can explain (i.e., the best possible score is 1.0)\n",
        "\n",
        "print('Train R2', r2_train, 'Test R2', r2_test)\n",
        "print('Train MSE', mse_train, 'Test MSE', mse_test)"
      ],
      "id": "altered-michigan"
    },
    {
      "cell_type": "markdown",
      "metadata": {
        "id": "respiratory-medication"
      },
      "source": [
        "## Classification"
      ],
      "id": "respiratory-medication"
    },
    {
      "cell_type": "code",
      "execution_count": null,
      "metadata": {
        "id": "federal-guest"
      },
      "outputs": [],
      "source": [
        "X, y = load_breast_cancer(return_X_y=True)  # load the dataset\n",
        "X_train, X_test, y_train, y_test = train_test_split(X, y, test_size=.30)  # split in train and test dataset in order to assess the model"
      ],
      "id": "federal-guest"
    },
    {
      "cell_type": "code",
      "execution_count": null,
      "metadata": {
        "id": "radio-defensive"
      },
      "outputs": [],
      "source": [
        "param_grid = {'kernel': ['linear', 'poly', 'rbf', 'sigmoid'],\n",
        "              'shrinking': [True, False]}"
      ],
      "id": "radio-defensive"
    },
    {
      "cell_type": "code",
      "execution_count": null,
      "metadata": {
        "id": "intended-router"
      },
      "outputs": [],
      "source": [
        "grid = GridSearchCV(svm.SVC(), param_grid, cv=2, n_jobs=-1)\n",
        "grid.fit(X_train, y_train);"
      ],
      "id": "intended-router"
    },
    {
      "cell_type": "code",
      "execution_count": null,
      "metadata": {
        "colab": {
          "base_uri": "https://localhost:8080/"
        },
        "id": "visible-government",
        "outputId": "728da257-05b2-4fcd-f2f8-2dea9af31925"
      },
      "outputs": [
        {
          "output_type": "execute_result",
          "data": {
            "text/plain": [
              "{'kernel': 'linear', 'shrinking': True}"
            ]
          },
          "metadata": {},
          "execution_count": 45
        }
      ],
      "source": [
        "grid.best_params_"
      ],
      "id": "visible-government"
    },
    {
      "cell_type": "code",
      "execution_count": null,
      "metadata": {
        "colab": {
          "base_uri": "https://localhost:8080/"
        },
        "id": "palestinian-omega",
        "outputId": "89b1a3ae-cdc7-4d25-dc99-d4751afeeb29"
      },
      "outputs": [
        {
          "output_type": "stream",
          "name": "stdout",
          "text": [
            "Test Acc 0.9473684210526315\n"
          ]
        }
      ],
      "source": [
        "acc_test = grid.score(X_test, y_test)  # compute mean accuracy for testing\n",
        "\n",
        "print('Test Acc', acc_test)"
      ],
      "id": "palestinian-omega"
    },
    {
      "cell_type": "markdown",
      "metadata": {
        "id": "welsh-import"
      },
      "source": [
        "# Pipeline"
      ],
      "id": "welsh-import"
    },
    {
      "cell_type": "markdown",
      "metadata": {
        "id": "meaningful-sandwich"
      },
      "source": [
        "The purpose of the pipeline is to assemble several steps that can be cross-validated together while setting different parameters."
      ],
      "id": "meaningful-sandwich"
    },
    {
      "cell_type": "code",
      "execution_count": null,
      "metadata": {
        "id": "favorite-valuation"
      },
      "outputs": [],
      "source": [
        "from sklearn.pipeline import Pipeline\n",
        "from sklearn.metrics import classification_report\n",
        "from sklearn.datasets import fetch_lfw_people"
      ],
      "id": "favorite-valuation"
    },
    {
      "cell_type": "code",
      "execution_count": null,
      "metadata": {
        "id": "biblical-joshua"
      },
      "outputs": [],
      "source": [
        "lfw_people = fetch_lfw_people(min_faces_per_person=70, resize=0.4)  # fetch the data"
      ],
      "id": "biblical-joshua"
    },
    {
      "cell_type": "code",
      "execution_count": null,
      "metadata": {
        "id": "deluxe-pennsylvania"
      },
      "outputs": [],
      "source": [
        "# load the data; different way, but the same thing\n",
        "X = lfw_people.data\n",
        "y = lfw_people.target\n",
        "target_names = lfw_people.target_names\n",
        "n_samples, h, w = lfw_people.images.shape\n",
        "\n",
        "X_train, X_test, y_train, y_test = train_test_split(X, y, test_size=0.3)  # split the data into training and test dataset"
      ],
      "id": "deluxe-pennsylvania"
    },
    {
      "cell_type": "markdown",
      "metadata": {
        "id": "fuzzy-universe"
      },
      "source": [
        "## Intermediate step: How to choose the number of components for the PCA?"
      ],
      "id": "fuzzy-universe"
    },
    {
      "cell_type": "code",
      "execution_count": null,
      "metadata": {
        "colab": {
          "base_uri": "https://localhost:8080/",
          "height": 285
        },
        "id": "improving-norfolk",
        "outputId": "d5c49be4-327e-4018-83e4-0fcafbd53825"
      },
      "outputs": [
        {
          "output_type": "display_data",
          "data": {
            "text/plain": [
              "<Figure size 432x288 with 1 Axes>"
            ],
            "image/png": "[encoded data removed]"
          },
          "metadata": {
            "needs_background": "light"
          }
        }
      ],
      "source": [
        "# Choose the number of components\n",
        "pca = PCA().fit(X_train) # by default, it will use all features\n",
        "plt.plot(np.cumsum(pca.explained_variance_ratio_)) # compute the cumulative sum \n",
        "plt.xlabel('No. of components')\n",
        "plt.ylabel('Cumulative explained variance');"
      ],
      "id": "improving-norfolk"
    },
    {
      "cell_type": "code",
      "execution_count": null,
      "metadata": {
        "id": "continuing-joyce"
      },
      "outputs": [],
      "source": [
        "# Apply PCA\n",
        "pca = PCA(n_components=150).fit(X_train)\n",
        "\n",
        "X_train_pca = pca.transform(X_train) # reduce the features on the train dataset\n",
        "X_test_pca = pca.transform(X_test) # reduce the features on the train dataset"
      ],
      "id": "continuing-joyce"
    },
    {
      "cell_type": "code",
      "execution_count": null,
      "metadata": {
        "colab": {
          "base_uri": "https://localhost:8080/"
        },
        "id": "computational-pregnancy",
        "outputId": "d8738cba-a03d-491a-c9ed-5cae673ecc65"
      },
      "outputs": [
        {
          "output_type": "execute_result",
          "data": {
            "text/plain": [
              "{'gamma': 0.0001, 'kernel': 'linear', 'shrinking': True}"
            ]
          },
          "metadata": {},
          "execution_count": 52
        }
      ],
      "source": [
        "# Find the best configuration\n",
        "param_grid = {'kernel': ['linear', 'poly', 'rbf', 'sigmoid'],\n",
        "              'shrinking': [True, False],\n",
        "              'gamma': [0.0001, 0.0005, 0.001, 0.005, 0.01, 0.1]}\n",
        "\n",
        "grid = GridSearchCV(svm.SVC(), param_grid, cv=2, n_jobs=-1) # perform grid search with two-fold validation\n",
        "grid.fit(X_train_pca, y_train);\n",
        "\n",
        "grid.best_params_"
      ],
      "id": "computational-pregnancy"
    },
    {
      "cell_type": "code",
      "execution_count": null,
      "metadata": {
        "id": "communist-antigua"
      },
      "outputs": [],
      "source": [
        "model = grid.best_estimator_"
      ],
      "id": "communist-antigua"
    },
    {
      "cell_type": "code",
      "execution_count": null,
      "metadata": {
        "id": "civilian-tulsa"
      },
      "outputs": [],
      "source": [
        "# Create and apply a pipeline\n",
        "pipe = Pipeline([('scaler', StandardScaler()), ('svc', model)])\n",
        "pipe.fit(X_train_pca, y_train);"
      ],
      "id": "civilian-tulsa"
    },
    {
      "cell_type": "code",
      "execution_count": null,
      "metadata": {
        "colab": {
          "base_uri": "https://localhost:8080/"
        },
        "id": "unlikely-sense",
        "outputId": "67000209-cd72-4c19-aab4-bb5aad1ed62e"
      },
      "outputs": [
        {
          "output_type": "stream",
          "name": "stdout",
          "text": [
            "                   precision    recall  f1-score   support\n",
            "\n",
            "     Ariel Sharon       0.75      0.62      0.68        29\n",
            "     Colin Powell       0.68      0.75      0.71        64\n",
            "  Donald Rumsfeld       0.63      0.81      0.71        32\n",
            "    George W Bush       0.86      0.82      0.84       155\n",
            "Gerhard Schroeder       0.72      0.74      0.73        31\n",
            "      Hugo Chavez       0.88      0.82      0.85        28\n",
            "       Tony Blair       0.74      0.71      0.72        48\n",
            "\n",
            "         accuracy                           0.77       387\n",
            "        macro avg       0.75      0.75      0.75       387\n",
            "     weighted avg       0.78      0.77      0.77       387\n",
            "\n"
          ]
        }
      ],
      "source": [
        "y_pred = pipe.predict(X_test_pca)\n",
        "\n",
        "print(classification_report(y_test, y_pred, target_names=target_names))"
      ],
      "id": "unlikely-sense"
    },
    {
      "cell_type": "code",
      "execution_count": null,
      "metadata": {
        "id": "described-spectacular"
      },
      "outputs": [],
      "source": [
        "def plot_from_sample(samples, h, w, labels=None, cmap=plt.cm.gray):\n",
        "    \"\"\"Function to plot images from an numpy array.\"\"\"\n",
        "    for i in range(len(samples)):\n",
        "        sample = samples[i]\n",
        "        plt.subplot(1, len(samples), i + 1)\n",
        "        plt.xticks([])\n",
        "        plt.yticks([])\n",
        "        plt.grid(False)\n",
        "        plt.imshow(sample.reshape(h, w), cmap=cmap)\n",
        "        if labels is not None:\n",
        "            plt.xlabel(labels[i])"
      ],
      "id": "described-spectacular"
    },
    {
      "cell_type": "code",
      "execution_count": null,
      "metadata": {
        "colab": {
          "base_uri": "https://localhost:8080/",
          "height": 181
        },
        "id": "competent-engagement",
        "outputId": "856210a4-4695-4187-bb72-3735a6b08374"
      },
      "outputs": [
        {
          "output_type": "display_data",
          "data": {
            "text/plain": [
              "<Figure size 432x288 with 3 Axes>"
            ],
            "image/png": "[encoded data removed]"
          },
          "metadata": {}
        }
      ],
      "source": [
        "figures = np.random.randint(0, len(X_test), size=3) # select 3 random images\n",
        "\n",
        "plot_from_sample(X_test[figures], h, w, labels=target_names[y_pred[figures]])"
      ],
      "id": "competent-engagement"
    },
    {
      "cell_type": "markdown",
      "metadata": {
        "id": "burning-florence"
      },
      "source": [
        "# Feature selection"
      ],
      "id": "burning-florence"
    },
    {
      "cell_type": "markdown",
      "metadata": {
        "id": "interim-nurse"
      },
      "source": [
        "Why use feature selection?\n",
        "- **Reduces Overfitting**: Less redundant data means less opportunity to make decisions based on noise.\n",
        "- **Improves Accuracy**: Less misleading data means modeling accuracy improves.\n",
        "- **Reduces Training Time**: Fewer data means that algorithms train faster."
      ],
      "id": "interim-nurse"
    },
    {
      "cell_type": "code",
      "execution_count": null,
      "metadata": {
        "colab": {
          "base_uri": "https://localhost:8080/",
          "height": 164
        },
        "id": "considerable-dispatch",
        "outputId": "cfcb3a54-c5b5-4a6a-f9f6-392bf9d7429f"
      },
      "outputs": [
        {
          "output_type": "error",
          "ename": "NameError",
          "evalue": "ignored",
          "traceback": [
            "\u001b[0;31m---------------------------------------------------------------------------\u001b[0m",
            "\u001b[0;31mNameError\u001b[0m                                 Traceback (most recent call last)",
            "\u001b[0;32m<ipython-input-58-b19cf0f321c8>\u001b[0m in \u001b[0;36m<module>\u001b[0;34m()\u001b[0m\n\u001b[0;32m----> 1\u001b[0;31m \u001b[0mboston\u001b[0m \u001b[0;34m=\u001b[0m \u001b[0mload_boston\u001b[0m\u001b[0;34m(\u001b[0m\u001b[0;34m)\u001b[0m  \u001b[0;31m# load the dataset\u001b[0m\u001b[0;34m\u001b[0m\u001b[0;34m\u001b[0m\u001b[0m\n\u001b[0m",
            "\u001b[0;31mNameError\u001b[0m: name 'load_boston' is not defined"
          ]
        }
      ],
      "source": [
        "boston = load_boston()  # load the dataset"
      ],
      "id": "considerable-dispatch"
    },
    {
      "cell_type": "code",
      "execution_count": null,
      "metadata": {
        "id": "smaller-prefix"
      },
      "outputs": [],
      "source": [
        "print(boston['DESCR'])"
      ],
      "id": "smaller-prefix"
    },
    {
      "cell_type": "code",
      "execution_count": null,
      "metadata": {
        "id": "latest-battle"
      },
      "outputs": [],
      "source": [
        "# load the data; different way, but the same thing\n",
        "X = boston.data\n",
        "y = boston.target\n",
        "feature_names = boston.feature_names"
      ],
      "id": "latest-battle"
    },
    {
      "cell_type": "markdown",
      "metadata": {
        "id": "natural-gallery"
      },
      "source": [
        "## Variance threshold"
      ],
      "id": "natural-gallery"
    },
    {
      "cell_type": "code",
      "execution_count": null,
      "metadata": {
        "id": "lesbian-order"
      },
      "outputs": [],
      "source": [
        "from sklearn.feature_selection import VarianceThreshold"
      ],
      "id": "lesbian-order"
    },
    {
      "cell_type": "code",
      "execution_count": null,
      "metadata": {
        "id": "hearing-miller"
      },
      "outputs": [],
      "source": [
        "selector = VarianceThreshold(threshold=1) # drop features with a variance lower than 1\n",
        "X_new = selector.fit_transform(X)"
      ],
      "id": "hearing-miller"
    },
    {
      "cell_type": "code",
      "execution_count": null,
      "metadata": {
        "id": "yellow-grill"
      },
      "outputs": [],
      "source": [
        "print('Selected features:', feature_names[selector.get_support()])\n",
        "print('Dropped features:', feature_names[~selector.get_support()])"
      ],
      "id": "yellow-grill"
    },
    {
      "cell_type": "markdown",
      "metadata": {
        "id": "suffering-burke"
      },
      "source": [
        "## Univariate selection"
      ],
      "id": "suffering-burke"
    },
    {
      "cell_type": "markdown",
      "metadata": {
        "id": "effective-factory"
      },
      "source": [
        "Univariate feature selection works by selecting the best features based on univariate statistical tests. "
      ],
      "id": "effective-factory"
    },
    {
      "cell_type": "code",
      "execution_count": null,
      "metadata": {
        "id": "tutorial-baseline"
      },
      "outputs": [],
      "source": [
        "from sklearn.feature_selection import SelectKBest, f_regression"
      ],
      "id": "tutorial-baseline"
    },
    {
      "cell_type": "code",
      "execution_count": null,
      "metadata": {
        "id": "usual-bracelet"
      },
      "outputs": [],
      "source": [
        "selector = SelectKBest(score_func=f_regression)\n",
        "X_new = selector.fit_transform(X, y)"
      ],
      "id": "usual-bracelet"
    },
    {
      "cell_type": "code",
      "execution_count": null,
      "metadata": {
        "id": "mental-profession"
      },
      "outputs": [],
      "source": [
        "print('Selected features:', feature_names[selector.get_support()])\n",
        "print('Dropped features:', feature_names[~selector.get_support()])"
      ],
      "id": "mental-profession"
    },
    {
      "cell_type": "markdown",
      "metadata": {
        "id": "synthetic-climate"
      },
      "source": [
        "## Recursive feature elimination"
      ],
      "id": "synthetic-climate"
    },
    {
      "cell_type": "markdown",
      "metadata": {
        "id": "occasional-mississippi"
      },
      "source": [
        "The Recursive Feature Elimination (or RFE) works by recursively removing attributes and building a model on those attributes that remain."
      ],
      "id": "occasional-mississippi"
    },
    {
      "cell_type": "code",
      "execution_count": null,
      "metadata": {
        "id": "honey-berlin"
      },
      "outputs": [],
      "source": [
        "from sklearn.feature_selection import RFECV"
      ],
      "id": "honey-berlin"
    },
    {
      "cell_type": "code",
      "execution_count": null,
      "metadata": {
        "id": "fallen-engineer"
      },
      "outputs": [],
      "source": [
        "estimator = LinearRegression() # ordinary least squares linear regression\n",
        "selector = RFECV(estimator, step=1, cv=2, verbose=True, n_jobs=-1) # perform two-fold recursive feature elimination using all cores"
      ],
      "id": "fallen-engineer"
    },
    {
      "cell_type": "code",
      "execution_count": null,
      "metadata": {
        "id": "qualified-plumbing"
      },
      "outputs": [],
      "source": [
        "selector = selector.fit(X, y)"
      ],
      "id": "qualified-plumbing"
    },
    {
      "cell_type": "code",
      "execution_count": null,
      "metadata": {
        "id": "textile-executive"
      },
      "outputs": [],
      "source": [
        "print('Selected features:', feature_names[selector.get_support()])\n",
        "print('Dropped features:', feature_names[~selector.get_support()])"
      ],
      "id": "textile-executive"
    },
    {
      "cell_type": "markdown",
      "metadata": {
        "id": "tired-typing"
      },
      "source": [
        "## Pipeline with feature selection"
      ],
      "id": "tired-typing"
    },
    {
      "cell_type": "code",
      "execution_count": null,
      "metadata": {
        "id": "informal-australian"
      },
      "outputs": [],
      "source": [
        "clf = Pipeline([\n",
        "    ('feature_selection', VarianceThreshold(threshold=1)),\n",
        "    ('classification', LinearRegression())\n",
        "])\n",
        "clf.fit(X, y);"
      ],
      "id": "informal-australian"
    },
    {
      "cell_type": "markdown",
      "metadata": {
        "id": "wrong-desire"
      },
      "source": [
        "# Neural networks with scikit-Learn"
      ],
      "id": "wrong-desire"
    },
    {
      "cell_type": "markdown",
      "metadata": {
        "id": "animal-beach"
      },
      "source": [
        "scikit-learn offers two functions for neural networks:\n",
        "- ``MLPClassifier``: Implements a multilayer perceptron (MLP) for classification. \n",
        "- ``MLPRegressor``: Implements MLP for regression problems.\n",
        "\n",
        "It also has **different solvers**:\n",
        "- L-BFGS: Use for small datasets.\n",
        "- Adam: Use for large datasets.\n",
        "- SGD: Excels at most problems if you correctly set some special parameters."
      ],
      "id": "animal-beach"
    },
    {
      "cell_type": "code",
      "execution_count": null,
      "metadata": {
        "id": "piano-dividend"
      },
      "outputs": [],
      "source": [
        "from tqdm import tqdm\n",
        "import pandas as pd"
      ],
      "id": "piano-dividend"
    },
    {
      "cell_type": "markdown",
      "metadata": {
        "id": "chief-patrol"
      },
      "source": [
        "**Note**: In order to use ``tqdm``, you have to run the following command in the Anconda terminal: ``conda install -c conda-forge tqdm``, and restart the kernel."
      ],
      "id": "chief-patrol"
    },
    {
      "cell_type": "markdown",
      "metadata": {
        "id": "asian-style"
      },
      "source": [
        "## Classification"
      ],
      "id": "asian-style"
    },
    {
      "cell_type": "code",
      "execution_count": null,
      "metadata": {
        "id": "warming-theme"
      },
      "outputs": [],
      "source": [
        "from sklearn.neural_network import MLPClassifier\n",
        "from sklearn.datasets import load_digits"
      ],
      "id": "warming-theme"
    },
    {
      "cell_type": "code",
      "execution_count": null,
      "metadata": {
        "id": "juvenile-brazil"
      },
      "outputs": [],
      "source": [
        "X, y = load_digits(return_X_y=True) # load the dataset\n",
        "X_train, X_test, y_train, y_test = train_test_split(X, y, test_size=0.3)  # split the data into training and test dataset"
      ],
      "id": "juvenile-brazil"
    },
    {
      "cell_type": "code",
      "execution_count": null,
      "metadata": {
        "id": "romantic-delight"
      },
      "outputs": [],
      "source": [
        "# Get some attributes for using latter\n",
        "no_samples, no_inputs = X.shape\n",
        "no_outputs = len(np.unique(y))"
      ],
      "id": "romantic-delight"
    },
    {
      "cell_type": "code",
      "execution_count": null,
      "metadata": {
        "id": "dirty-locator"
      },
      "outputs": [],
      "source": [
        "figures = np.random.randint(0, len(X), size=7) # select 7 random images\n",
        "plot_from_sample(X[figures], 8, 8, labels=y[figures], cmap=plt.cm.binary)"
      ],
      "id": "dirty-locator"
    },
    {
      "cell_type": "markdown",
      "metadata": {
        "id": "alternate-niagara"
      },
      "source": [
        "The ANN will have the following output:\n",
        "\n",
        "![](https://github.com/Dntfreitas/ann_course/blob/main/Python%20Classes/img/classification.png?raw=1)"
      ],
      "id": "alternate-niagara"
    },
    {
      "cell_type": "markdown",
      "metadata": {
        "id": "powered-wildlife"
      },
      "source": [
        "### Data pre-processing\n",
        "\n",
        "Lets apply data-normalization."
      ],
      "id": "powered-wildlife"
    },
    {
      "cell_type": "code",
      "execution_count": null,
      "metadata": {
        "id": "macro-proposition"
      },
      "outputs": [],
      "source": [
        "scaler = MinMaxScaler(feature_range=(0.01, 1))\n",
        "scaler.fit(X_train) # fit only on the train dataset\n",
        "\n",
        "X_train_scaled = scaler.transform(X_train)\n",
        "X_test_scaled = scaler.transform(X_test)"
      ],
      "id": "macro-proposition"
    },
    {
      "cell_type": "markdown",
      "metadata": {
        "id": "developmental-present"
      },
      "source": [
        "### Train all models"
      ],
      "id": "developmental-present"
    },
    {
      "cell_type": "code",
      "execution_count": null,
      "metadata": {
        "id": "lonely-diesel"
      },
      "outputs": [],
      "source": [
        "solvers = ['lbfgs', 'sgd', 'adam']\n",
        "hidden_layer_sizess = [25, 50, 100]\n",
        "early_stopping = True\n",
        "max_iter = 5000\n",
        "validation_fraction = 0.15\n",
        "no_repetitions = 5"
      ],
      "id": "lonely-diesel"
    },
    {
      "cell_type": "code",
      "execution_count": null,
      "metadata": {
        "id": "molecular-lucas"
      },
      "outputs": [],
      "source": [
        "nets = []\n",
        "\n",
        "with tqdm(total=len(solvers) * len(hidden_layer_sizess) * no_repetitions) as pbar:\n",
        "    # foreach solver\n",
        "    for solver in solvers:\n",
        "        # foreach number of hidden units\n",
        "        for hidden_layer_sizes in hidden_layer_sizess:\n",
        "            for _ in range(no_repetitions):\n",
        "                nn = MLPClassifier(hidden_layer_sizes=hidden_layer_sizes, activation='logistic', solver=solver, early_stopping=early_stopping, max_iter=max_iter, validation_fraction=validation_fraction) # create the classifier\n",
        "                nn.fit(X_train_scaled, y_train) # fit the classifier using the train dataset\n",
        "\n",
        "                nets.append(nn) # save the ANN\n",
        "\n",
        "                pbar.update(1) # update progress bar"
      ],
      "id": "molecular-lucas"
    },
    {
      "cell_type": "markdown",
      "metadata": {
        "id": "nasty-cisco"
      },
      "source": [
        "### Test and analyse all models"
      ],
      "id": "nasty-cisco"
    },
    {
      "cell_type": "code",
      "execution_count": null,
      "metadata": {
        "id": "exterior-pregnancy"
      },
      "outputs": [],
      "source": [
        "overall_results = []\n",
        "\n",
        "for net in nets:\n",
        "    \n",
        "    score = net.score(X_test_scaled, y_test) # compute mean accuracy for testing\n",
        "\n",
        "    # save the network's results\n",
        "    parameters = net.get_params()\n",
        "    parameters['Accuracy in Test'] = score\n",
        "\n",
        "    # save the network's results\n",
        "    overall_results.append(parameters)\n",
        "\n",
        "overall_results_pd = pd.DataFrame(overall_results)  # convert to dataframe"
      ],
      "id": "exterior-pregnancy"
    },
    {
      "cell_type": "code",
      "execution_count": null,
      "metadata": {
        "id": "beautiful-messenger"
      },
      "outputs": [],
      "source": [
        "table_results = overall_results_pd.groupby(['solver', 'hidden_layer_sizes']).aggregate([min, max, np.mean, np.std])['Accuracy in Test'].sort_values(by=['max', 'hidden_layer_sizes', 'min', 'std'], ascending=[False, True, False, True])\n",
        "table_results"
      ],
      "id": "beautiful-messenger"
    },
    {
      "cell_type": "code",
      "execution_count": null,
      "metadata": {
        "id": "chronic-depression"
      },
      "outputs": [],
      "source": [
        "print(table_results.to_latex(float_format='{:0.2f}'.format))  # just curiosity"
      ],
      "id": "chronic-depression"
    },
    {
      "cell_type": "markdown",
      "metadata": {
        "id": "bigger-prospect"
      },
      "source": [
        "## Cross-validation and grid search"
      ],
      "id": "bigger-prospect"
    },
    {
      "cell_type": "code",
      "execution_count": null,
      "metadata": {
        "id": "automatic-report"
      },
      "outputs": [],
      "source": [
        "X, y = load_digits(return_X_y=True)\n",
        "X_train, X_test, y_train, y_test = train_test_split(X, y, test_size=.30)  # split in train and test dataset in order to assess the model"
      ],
      "id": "automatic-report"
    },
    {
      "cell_type": "code",
      "execution_count": null,
      "metadata": {
        "id": "rural-blink"
      },
      "outputs": [],
      "source": [
        "# Apply the MinMaxScaler\n",
        "scaling = MinMaxScaler(feature_range=(-1, 1)).fit(X_train)\n",
        "X_train_scaled = scaling.transform(X_train)\n",
        "X_test_scaled = scaling.transform(X_test)"
      ],
      "id": "rural-blink"
    },
    {
      "cell_type": "code",
      "execution_count": null,
      "metadata": {
        "id": "latter-spare"
      },
      "outputs": [],
      "source": [
        "param_grid = {'learning_rate': ['constant', 'invscaling', 'adaptive'],\n",
        "              'learning_rate_init': [0.001, 0.01, 0.1],\n",
        "              'momentum': [0.1, 0.5, 0.9]\n",
        "              }"
      ],
      "id": "latter-spare"
    },
    {
      "cell_type": "code",
      "execution_count": null,
      "metadata": {
        "id": "peaceful-silicon"
      },
      "outputs": [],
      "source": [
        "grid = GridSearchCV(MLPClassifier(solver='sgd', hidden_layer_sizes=[10], max_iter=1000), param_grid, cv=2, n_jobs=-1) # perform grid search with two-fold validation\n",
        "grid.fit(X_train_scaled, y_train);"
      ],
      "id": "peaceful-silicon"
    },
    {
      "cell_type": "code",
      "execution_count": null,
      "metadata": {
        "id": "anonymous-training"
      },
      "outputs": [],
      "source": [
        "grid.best_params_"
      ],
      "id": "anonymous-training"
    },
    {
      "cell_type": "code",
      "execution_count": null,
      "metadata": {
        "id": "czech-county"
      },
      "outputs": [],
      "source": [
        "cv = cross_val_score(grid, X_train_scaled, y_train, cv=3, n_jobs=-1)\n",
        "test_score = grid.score(X_test_scaled, y_test)\n",
        "print('CV accuracy score: %0.3f' % np.mean(cv))\n",
        "print('Test accuracy score: %0.3f' % test_score)"
      ],
      "id": "czech-county"
    },
    {
      "cell_type": "markdown",
      "metadata": {
        "id": "about-biodiversity"
      },
      "source": [
        "## Regression"
      ],
      "id": "about-biodiversity"
    },
    {
      "cell_type": "code",
      "execution_count": null,
      "metadata": {
        "id": "metric-exclusive"
      },
      "outputs": [],
      "source": [
        "from sklearn.neural_network import MLPRegressor"
      ],
      "id": "metric-exclusive"
    },
    {
      "cell_type": "code",
      "execution_count": null,
      "metadata": {
        "id": "disturbed-jurisdiction"
      },
      "outputs": [],
      "source": [
        "# load the data; different way, but the same thing\n",
        "X = boston.data\n",
        "y = boston.target\n",
        "feature_names = boston.feature_names\n",
        "\n",
        "X_train, X_test, y_train, y_test = train_test_split(X, y, test_size=.30)  # split in train and test dataset in order to assess the model"
      ],
      "id": "disturbed-jurisdiction"
    },
    {
      "cell_type": "code",
      "execution_count": null,
      "metadata": {
        "id": "finnish-purse"
      },
      "outputs": [],
      "source": [
        "no_features = [2, 4, 8]\n",
        "\n",
        "pipe = Pipeline([\n",
        "    # the reduce_dim stage is populated by the param_grid\n",
        "    ('reduce_dim', 'passthrough'),\n",
        "    ('classify', MLPRegressor(max_iter=5000))\n",
        "])"
      ],
      "id": "finnish-purse"
    },
    {
      "cell_type": "code",
      "execution_count": null,
      "metadata": {
        "id": "downtown-brisbane"
      },
      "outputs": [],
      "source": [
        "no_features = [2, 4, 8]\n",
        "\n",
        "param_grid = [\n",
        "    {\n",
        "        'reduce_dim': [PCA()],\n",
        "        'reduce_dim__n_components': no_features\n",
        "    },\n",
        "    {\n",
        "        'reduce_dim': [SelectKBest(f_regression)],\n",
        "        'reduce_dim__k': no_features\n",
        "    }\n",
        "]"
      ],
      "id": "downtown-brisbane"
    },
    {
      "cell_type": "code",
      "execution_count": null,
      "metadata": {
        "id": "animated-defeat"
      },
      "outputs": [],
      "source": [
        "grid = GridSearchCV(pipe, param_grid=param_grid, n_jobs=-1, cv=2)\n",
        "grid.fit(X_train, y_train);"
      ],
      "id": "animated-defeat"
    },
    {
      "cell_type": "code",
      "execution_count": null,
      "metadata": {
        "id": "shaped-beach"
      },
      "outputs": [],
      "source": [
        "grid.best_params_"
      ],
      "id": "shaped-beach"
    },
    {
      "cell_type": "markdown",
      "metadata": {
        "id": "inner-worship"
      },
      "source": [
        "### Feature selection"
      ],
      "id": "inner-worship"
    },
    {
      "cell_type": "code",
      "execution_count": null,
      "metadata": {
        "id": "boring-might"
      },
      "outputs": [],
      "source": [
        "selector = grid.best_params_['reduce_dim']\n",
        "X_new_train = selector.fit_transform(X_train, y_train)"
      ],
      "id": "boring-might"
    },
    {
      "cell_type": "code",
      "execution_count": null,
      "metadata": {
        "id": "listed-youth"
      },
      "outputs": [],
      "source": [
        "print('Dropped features:', feature_names[~selector.get_support()])"
      ],
      "id": "listed-youth"
    },
    {
      "cell_type": "code",
      "execution_count": null,
      "metadata": {
        "id": "danish-point"
      },
      "outputs": [],
      "source": [
        "selected_features = selector.get_support(indices=True)"
      ],
      "id": "danish-point"
    },
    {
      "cell_type": "code",
      "execution_count": null,
      "metadata": {
        "id": "elementary-medline"
      },
      "outputs": [],
      "source": [
        "X_new_test = X_test[:, selected_features]"
      ],
      "id": "elementary-medline"
    },
    {
      "cell_type": "markdown",
      "metadata": {
        "id": "empty-rouge"
      },
      "source": [
        "### Train all models"
      ],
      "id": "empty-rouge"
    },
    {
      "cell_type": "code",
      "execution_count": null,
      "metadata": {
        "id": "historical-equity"
      },
      "outputs": [],
      "source": [
        "solvers = ['lbfgs', 'sgd', 'adam']\n",
        "hidden_layer_sizess = [10, 15, 20]\n",
        "early_stopping = True\n",
        "max_iter = 5000\n",
        "validation_fraction = 0.15\n",
        "no_repetitions = 5"
      ],
      "id": "historical-equity"
    },
    {
      "cell_type": "code",
      "execution_count": null,
      "metadata": {
        "id": "rising-liberty"
      },
      "outputs": [],
      "source": [
        "nets = []\n",
        "\n",
        "with tqdm(total=len(solvers) * len(hidden_layer_sizess) * no_repetitions) as pbar:\n",
        "    # foreach solver\n",
        "    for solver in solvers:\n",
        "        # foreach number of hidden units\n",
        "        for hidden_layer_sizes in hidden_layer_sizess:\n",
        "            for _ in range(no_repetitions):\n",
        "                nn = MLPRegressor(hidden_layer_sizes=hidden_layer_sizes, activation='tanh', solver=solver, early_stopping=early_stopping, max_iter=max_iter, validation_fraction=validation_fraction)\n",
        "                nn.fit(X_new_train, y_train) # fit the classifier using the train dataset\n",
        "\n",
        "                nets.append(nn) # save the ANN\n",
        "\n",
        "                pbar.update(1) # update progress bar"
      ],
      "id": "rising-liberty"
    },
    {
      "cell_type": "markdown",
      "metadata": {
        "id": "cutting-guidance"
      },
      "source": [
        "### Test and analyse all models"
      ],
      "id": "cutting-guidance"
    },
    {
      "cell_type": "code",
      "execution_count": null,
      "metadata": {
        "id": "contrary-march"
      },
      "outputs": [],
      "source": [
        "from sklearn.metrics import mean_absolute_percentage_error"
      ],
      "id": "contrary-march"
    },
    {
      "cell_type": "code",
      "execution_count": null,
      "metadata": {
        "id": "linear-foster"
      },
      "outputs": [],
      "source": [
        "overall_results = []\n",
        "\n",
        "for net in nets:\n",
        "    y_pred = net.predict(X_new_test)\n",
        "\n",
        "    parameters = net.get_params()\n",
        "    parameters['Mean absolute percentage error'] = mean_absolute_percentage_error(y_test, y_pred) * 100\n",
        "\n",
        "    overall_results.append(parameters)\n",
        "\n",
        "overall_results_pd = pd.DataFrame(overall_results)  # convert to dataframe"
      ],
      "id": "linear-foster"
    },
    {
      "cell_type": "code",
      "execution_count": null,
      "metadata": {
        "id": "affiliated-tamil"
      },
      "outputs": [],
      "source": [
        "table_results = overall_results_pd.groupby(['solver', 'hidden_layer_sizes']).aggregate([min, max, np.mean, np.std])['Mean absolute percentage error'].sort_values(by=['min', 'hidden_layer_sizes', 'max', 'std'])\n",
        "table_results"
      ],
      "id": "affiliated-tamil"
    },
    {
      "cell_type": "markdown",
      "metadata": {
        "id": "expanded-password"
      },
      "source": [
        "### Select the best network and export it using Pickle"
      ],
      "id": "expanded-password"
    },
    {
      "cell_type": "code",
      "execution_count": null,
      "metadata": {
        "id": "biological-steal"
      },
      "outputs": [],
      "source": [
        "from joblib import dump, load"
      ],
      "id": "biological-steal"
    },
    {
      "cell_type": "code",
      "execution_count": null,
      "metadata": {
        "id": "experienced-hands"
      },
      "outputs": [],
      "source": [
        "pos_min_error = overall_results_pd['Mean absolute percentage error'].argmin()"
      ],
      "id": "experienced-hands"
    },
    {
      "cell_type": "code",
      "execution_count": null,
      "metadata": {
        "id": "commercial-desktop"
      },
      "outputs": [],
      "source": [
        "best_net = nets[pos_min_error]\n",
        "best_net"
      ],
      "id": "commercial-desktop"
    },
    {
      "cell_type": "code",
      "execution_count": null,
      "metadata": {
        "id": "detailed-optimization"
      },
      "outputs": [],
      "source": [
        "dump(best_net, 'best_net.joblib')"
      ],
      "id": "detailed-optimization"
    },
    {
      "cell_type": "code",
      "execution_count": null,
      "metadata": {
        "id": "blessed-brunei"
      },
      "outputs": [],
      "source": [
        "best_net_loaded = load('best_net.joblib')"
      ],
      "id": "blessed-brunei"
    },
    {
      "cell_type": "code",
      "execution_count": null,
      "metadata": {
        "id": "transsexual-homeless"
      },
      "outputs": [],
      "source": [
        "best_net_loaded"
      ],
      "id": "transsexual-homeless"
    },
    {
      "cell_type": "markdown",
      "metadata": {
        "id": "separate-darkness"
      },
      "source": [
        "## Extra: Plot loss curves"
      ],
      "id": "separate-darkness"
    },
    {
      "cell_type": "code",
      "execution_count": null,
      "metadata": {
        "id": "distributed-cycling"
      },
      "outputs": [],
      "source": [
        "nn_sgd = MLPRegressor(hidden_layer_sizes=[15, 15], activation='tanh', solver='sgd', max_iter=max_iter)\n",
        "nn_sgd.fit(X, y);\n",
        "\n",
        "nn_adam = MLPRegressor(hidden_layer_sizes=[15, 15], activation='tanh', solver='adam', max_iter=max_iter)\n",
        "nn_adam.fit(X, y);"
      ],
      "id": "distributed-cycling"
    },
    {
      "cell_type": "code",
      "execution_count": null,
      "metadata": {
        "id": "measured-binding"
      },
      "outputs": [],
      "source": [
        "ax = plt.axes()\n",
        "\n",
        "plt.plot(nn_sgd.loss_curve_, label='SGD')\n",
        "plt.plot(nn_adam.loss_curve_, label='ADAM')\n",
        "\n",
        "ax.legend();\n",
        "\n",
        "plt.xlabel('i')\n",
        "plt.ylabel('Loss')\n",
        "\n",
        "plt.show()"
      ],
      "id": "measured-binding"
    },
    {
      "cell_type": "markdown",
      "metadata": {
        "id": "Tz_O_R_Rbp2_"
      },
      "source": [
        "# Neural networks with TensorFlow"
      ],
      "id": "Tz_O_R_Rbp2_"
    },
    {
      "cell_type": "markdown",
      "metadata": {
        "id": "1Qp2k028atzg"
      },
      "source": [
        "\n",
        "\n",
        "---\n",
        "\n",
        "**STOP HERE:** Do the following: Runtime > Change runtime type > Select GPU for the hardware accelerator.\n",
        "\n",
        "---\n",
        "\n"
      ],
      "id": "1Qp2k028atzg"
    },
    {
      "cell_type": "markdown",
      "metadata": {
        "id": "d7XUA4Hqbv_P"
      },
      "source": [
        "TensorFlow’s interface is Python, but its core functionality is written in C++ for improved performance. TensorFlow code can be deployed to a GPU, a remote system, a network of remote systems, or even mobile and edge devices.\n",
        "\n",
        "**Google Colab already comes with VMs with TensorFlow installed (for CPU and GPU execution).**\n"
      ],
      "id": "d7XUA4Hqbv_P"
    },
    {
      "cell_type": "code",
      "execution_count": null,
      "metadata": {
        "id": "BpFNT1ChhHZb"
      },
      "outputs": [],
      "source": [
        "import tensorflow as tf\n",
        "import numpy as np"
      ],
      "id": "BpFNT1ChhHZb"
    },
    {
      "cell_type": "markdown",
      "metadata": {
        "id": "aaiNfaFOf6PK"
      },
      "source": [
        "## Tensors\n",
        "\n",
        "The primary data type of TensorFlow is the tensors. A Tensor instance is an n-dimensional array that contains numeric or string data. \n",
        "\n",
        "A zero-dimensional tensor is called a scalar, a one-dimensional tensor is called a vector, and a two-dimensional tensor is called a matrix.\n",
        "\n",
        "A tensor may contain numbers, strings, or Boolean values. Like NumPy, every element of a tensor must have the same type."
      ],
      "id": "aaiNfaFOf6PK"
    },
    {
      "cell_type": "markdown",
      "metadata": {
        "id": "TlZcM-vjojks"
      },
      "source": [
        "### Create a Tensor"
      ],
      "id": "TlZcM-vjojks"
    },
    {
      "cell_type": "code",
      "execution_count": null,
      "metadata": {
        "id": "6GWCrK36burZ"
      },
      "outputs": [],
      "source": [
        "t = tf.constant([1, 2, 3, 4])\n",
        "t"
      ],
      "id": "6GWCrK36burZ"
    },
    {
      "cell_type": "code",
      "execution_count": null,
      "metadata": {
        "id": "DA11HMdopBMk"
      },
      "outputs": [],
      "source": [
        "zeros_t = tf.zeros((3, 3))  # it is always good practice allocating memory beforehand\n",
        "print(zeros_t)"
      ],
      "id": "DA11HMdopBMk"
    },
    {
      "cell_type": "code",
      "execution_count": null,
      "metadata": {
        "id": "psza9AZIlgML"
      },
      "outputs": [],
      "source": [
        "# Tensors can also be created from NumPy arrays\n",
        "t = tf.constant(np.array([[0, 1, 2], [3, 4, 5]]))\n",
        "t.shape"
      ],
      "id": "psza9AZIlgML"
    },
    {
      "cell_type": "code",
      "execution_count": null,
      "metadata": {
        "id": "nO0_sBoMqbBi"
      },
      "outputs": [],
      "source": [
        "# NumPy arrays can also be created from Tensors\n",
        "arr = np.array(t)"
      ],
      "id": "nO0_sBoMqbBi"
    },
    {
      "cell_type": "code",
      "execution_count": null,
      "metadata": {
        "id": "sZf0p5fdhtmm"
      },
      "outputs": [],
      "source": [
        "# TensorFlow has some functions also to generate Tensors\n",
        "t = tf.range(0, 10, delta=0.5)\n",
        "print(t)\n",
        "t = tf.random.normal((4, 4))\n",
        "print(t)"
      ],
      "id": "sZf0p5fdhtmm"
    },
    {
      "cell_type": "markdown",
      "metadata": {
        "id": "WVn65BQRqMmk"
      },
      "source": [
        "### Indexing"
      ],
      "id": "WVn65BQRqMmk"
    },
    {
      "cell_type": "code",
      "execution_count": null,
      "metadata": {
        "id": "JO3oHHJYqIi1"
      },
      "outputs": [],
      "source": [
        "t = tf.range(0, 10)\n",
        "t"
      ],
      "id": "JO3oHHJYqIi1"
    },
    {
      "cell_type": "code",
      "execution_count": null,
      "metadata": {
        "id": "9prJieY8qIgg"
      },
      "outputs": [],
      "source": [
        "t.numpy()[0] # get the first element"
      ],
      "id": "9prJieY8qIgg"
    },
    {
      "cell_type": "code",
      "execution_count": null,
      "metadata": {
        "id": "UfTbxSh8qIeN"
      },
      "outputs": [],
      "source": [
        "t.numpy()[-1] # get the last element"
      ],
      "id": "UfTbxSh8qIeN"
    },
    {
      "cell_type": "code",
      "execution_count": null,
      "metadata": {
        "id": "RBqVE6JErNyx"
      },
      "outputs": [],
      "source": [
        "t.numpy()[2:] # get elements from position 2 forward"
      ],
      "id": "RBqVE6JErNyx"
    },
    {
      "cell_type": "code",
      "execution_count": null,
      "metadata": {
        "id": "xVzBjCnjrNvU"
      },
      "outputs": [],
      "source": [
        "t.numpy()[1:3] # get elements from position 1 to position 2"
      ],
      "id": "xVzBjCnjrNvU"
    },
    {
      "cell_type": "markdown",
      "metadata": {
        "id": "NDwZiy2DrGaA"
      },
      "source": [
        "#### Multi-dimensional indexing"
      ],
      "id": "NDwZiy2DrGaA"
    },
    {
      "cell_type": "code",
      "execution_count": null,
      "metadata": {
        "id": "tJtpmfKzqIbQ"
      },
      "outputs": [],
      "source": [
        "t_multi = tf.constant([[1, 2, 3],\n",
        "                       [4, 5, 6]])"
      ],
      "id": "tJtpmfKzqIbQ"
    },
    {
      "cell_type": "code",
      "execution_count": null,
      "metadata": {
        "id": "17s924GpqIY9"
      },
      "outputs": [],
      "source": [
        "t_multi.numpy()[:, 0]  # extract the first column"
      ],
      "id": "17s924GpqIY9"
    },
    {
      "cell_type": "code",
      "execution_count": null,
      "metadata": {
        "id": "3K0lE_4SqIV0"
      },
      "outputs": [],
      "source": [
        "t_multi.numpy()[:, -1]  # extract the last column"
      ],
      "id": "3K0lE_4SqIV0"
    },
    {
      "cell_type": "markdown",
      "metadata": {
        "id": "zWTI_k7SskK7"
      },
      "source": [
        "### Tensor attributes"
      ],
      "id": "zWTI_k7SskK7"
    },
    {
      "cell_type": "code",
      "execution_count": null,
      "metadata": {
        "id": "Yxq28qWLs4Ry"
      },
      "outputs": [],
      "source": [
        "t_multi = tf.constant([[1, 2, 3],\n",
        "                       [4, 5, 6]])"
      ],
      "id": "Yxq28qWLs4Ry"
    },
    {
      "cell_type": "code",
      "execution_count": null,
      "metadata": {
        "id": "wCWpOK5Nsm5R"
      },
      "outputs": [],
      "source": [
        "t_multi.ndim # number of dimensions"
      ],
      "id": "wCWpOK5Nsm5R"
    },
    {
      "cell_type": "code",
      "execution_count": null,
      "metadata": {
        "id": "_Prmu4bktEnp"
      },
      "outputs": [],
      "source": [
        "t_multi.shape # shape"
      ],
      "id": "_Prmu4bktEnp"
    },
    {
      "cell_type": "code",
      "execution_count": null,
      "metadata": {
        "id": "ldHzXH0ttuMg"
      },
      "outputs": [],
      "source": [
        "tf.size(t_multi).numpy() # number of elements"
      ],
      "id": "ldHzXH0ttuMg"
    },
    {
      "cell_type": "markdown",
      "metadata": {
        "id": "hhGgStiYuLYv"
      },
      "source": [
        "#### Typical axis order\n",
        "\n",
        "![image.png](data:image/png;base64,iVBORw0KGgoAAAANSUhEUgAAAXYAAADkCAYAAACMhw+ZAAAK3WlDQ1BJQ0MgUHJvZmlsZQAASImVlwdQk9kWgO//pzdaQihSQgtNkCIQQEroAQSkg6iEJJBQYkwIKnZlcQVWFBERUBd0EUTB1RWQtSAWLCyKDawLsigo62LBhsr+wCPs7pv33rwzc3K/OTn3lDv3zpwfAEowVyJJh1UAyBBnSsP9vRixcfEM3FOABiSgDiBA4vJkEnZYWDBAZHr9u7y7i/ghcstqIta///9fRY0vkPEAgBIQTuLLeBkItyI6wpNIMwFAHUXsRsszJRN8G2GaFCkQ4cEJTpnizxOcNMlolUmfyHBvhI0BwJO5XGkKAGQbxM7I4qUgcchhCNuI+SIxwusRducJuXyEkbxgdkbG0gkeRtgM8ZcAQKEhzEr6S8yUv8VPUsTnclMUPNXXpOB9RDJJOnfl/3k0/1sy0uXTOZiIkoXSgHBk1UTOrydtaZCCxUkhodMs4k/6T7JQHhA1zTyZd/w087k+QYq96SHB05ws8uMo4mRyIqdZIPONmGbp0nBFrmSpN3uaudKZvPK0KIVdKOAo4mcLI2OmOUsUHTLNsrSIoBkfb4VdKg9X1C8Q+3vN5PVT9J4h+0u/Io5ib6YwMkDRO3emfoGYPRNTFquojS/w8Z3xiVL4SzK9FLkk6WEKf0G6v8Iuy4pQ7M1ELufM3jDFGaZyA8OmGQQDf8AAUcgaCcIBG8QADvABvpmCFZkTzXgvlayUilKEmQw28uIEDI6YZz2bYWdjZwfAxPuduhJveibfJUTHz9gkdOQqlyLGvhnbkh4AmvQAUN46Y2Mi70slEIBzZ3hyadaUDT3xgwFEoAxoQAvoASNgBqyAHXAErsAT+IJAEIrUGwcWAx4QggwgBcvBarAB5IJ8sA3sBGVgH9gPasARcAw0gVPgHLgEroEb4A54AHrBAHgBRsA7MAZBEA6iQFRIC9KHTCBLyA5iQe6QLxQMhUNxUCKUAokhObQa2gTlQ0VQGVQJ1UI/Qiehc9AVqAu6B/VBQ9Br6BOMgskwDdaFmfAcmAWz4SA4El4Ep8DL4Gw4B94Kl8JV8GG4ET4HX4PvwL3wC3gUBVAkFB1lgLJCsVDeqFBUPCoZJUWtReWhSlBVqHpUC6oddQvVixpGfURj0VQ0A22FdkUHoKPQPPQy9Fp0AboMXYNuRF9A30L3oUfQXzEUjA7GEuOC4WBiMSmY5ZhcTAmmGnMCcxFzBzOAeYfFYulYU6wTNgAbh03FrsIWYPdgG7Ct2C5sP3YUh8Np4SxxbrhQHBeXicvF7cYdxp3F3cQN4D7gSXh9vB3eDx+PF+M34kvwh/Bn8Dfxz/BjBBWCCcGFEErgE1YSCgkHCC2E64QBwhhRlWhKdCNGElOJG4ilxHriReJD4hsSiWRIciYtIIlI60mlpKOky6Q+0keyGtmC7E1OIMvJW8kHya3ke+Q3FAqFSfGkxFMyKVsptZTzlMeUD0pUJWsljhJfaZ1SuVKj0k2ll8oEZRNltvJi5WzlEuXjyteVh1UIKkwVbxWuylqVcpWTKt0qo6pUVVvVUNUM1QLVQ6pXVAfVcGpMNV81vlqO2n6182r9VBTViOpN5VE3UQ9QL1IHaFiaKY1DS6Xl047QOmkj6mrqc9Wj1Veol6ufVu+lo+hMOoeeTi+kH6PfpX/S0NVgawg0tmjUa9zUeK85S9NTU6CZp9mgeUfzkxZDy1crTWu7VpPWI220toX2Au3l2nu1L2oPz6LNcp3Fm5U369is+zqwjoVOuM4qnf06HTqjunq6/roS3d2653WH9eh6nnqpesV6Z/SG9Kn67voi/WL9s/rPGeoMNiOdUcq4wBgx0DEIMJAbVBp0GowZmhpGGW40bDB8ZEQ0YhklGxUbtRmNGOsbzzdebVxnfN+EYMIyEZrsMmk3ec80ZcYwNzObmIOmmqYc02zTOtOHZhQzD7NlZlVmt82x5izzNPM95jcsYAsHC6FFucV1S9jS0VJkuceyazZmtvNs8eyq2d1WZCu2VZZVnVWfNd062HqjdZP1yznGc+LnbJ/TPuerjYNNus0Bmwe2araBthttW2xf21nY8ezK7W7bU+z97NfZN9u/mms5VzB379weB6rDfIfNDm0OXxydHKWO9Y5DTsZOiU4VTt0sGiuMVcC67Ixx9nJe53zK+aOLo0umyzGXP1ytXNNcD7kOzjOdJ5h3YF6/m6Eb163Srded4Z7o/r17r4eBB9ejyuOJp5En37Pa8xnbnJ3KPsx+6WXjJfU64fXe28V7jXerD8rH3yfPp9NXzTfKt8z3sZ+hX4pfnd+Iv4P/Kv/WAExAUMD2gG6OLofHqeWMBDoFrgm8EEQOiggqC3oSbBEsDW6ZD88PnL9j/sMQkxBxSFMoCOWE7gh9FGYatizs5wXYBWELyhc8DbcNXx3eHkGNWBJxKOJdpFdkYeSDKLMoeVRbtHJ0QnRt9PsYn5iimN7YObFrYq/FaceJ4prjcfHR8dXxowt9F+5cOJDgkJCbcHeR6aIVi64s1l6cvvj0EuUl3CXHEzGJMYmHEj9zQ7lV3NEkTlJF0gjPm7eL94LvyS/mDwncBEWCZ8luyUXJgyluKTtShoQewhLhsMhbVCZ6lRqQui/1fVpo2sG08fSY9IYMfEZixkmxmjhNfGGp3tIVS7sklpJcSe8yl2U7l41Ig6TVMki2SNacSUMGpQ65mfwbeV+We1Z51ofl0cuPr1BdIV7RsdJi5ZaVz7L9sn9YhV7FW9W22mD1htV9a9hrKtdCa5PWtq0zWpezbmC9//qaDcQNaRt+2WizsWjj200xm1pydHPW5/R/4/9NXa5SrjS3e7Pr5n3for8Vfdu5xX7L7i1f8/h5V/Nt8kvyPxfwCq5+Z/td6XfjW5O3dhY6Fu7dht0m3nZ3u8f2miLVouyi/h3zdzQWM4rzit/uXLLzSsnckn27iLvku3pLg0ubdxvv3rb7c5mw7E65V3lDhU7Flor3e/h7bu713Fu/T3df/r5P34u+76n0r2ysYlaV7Mfuz9r/9ED0gfYfWD/UVmtX51d/OSg+2FsTXnOh1qm29pDOocI6uE5eN3Q44fCNIz5Hmuut6isb6A35R8FR+dHnPyb+ePdY0LG246zj9T+Z/FRxgnoirxFqXNk40iRs6m2Oa+46GXiyrcW15cTP1j8fPGVwqvy0+unCM8QzOWfGz2afHW2VtA6fSznX37ak7cH52PO3Lyy40Hkx6OLlS36Xzrez289edrt86orLlZNXWVebrjlea+xw6Djxi8MvJzodOxuvO11vvuF8o6VrXteZmx43z93yuXXpNuf2tTshd7ruRt3t6U7o7u3h9wzeS7/36n7W/bEH6x9iHuY9UnlU8ljncdWv5r829Dr2nu7z6et4EvHkQT+v/8Vvst8+D+Q8pTwteab/rHbQbvDUkN/QjecLnw+8kLwYG879XfX3ipdmL3/6w/OPjpHYkYFX0lfjrwveaL05+Hbu27bRsNHH7zLejb3P+6D1oeYj62P7p5hPz8aWf8Z9Lv1i/qXla9DXh+MZ4+MSrpQ7OQqgEIWTkwF4fRCZj+MAoN4AgLhwar6eFGjqm2CSwH/iqRl8UhwBqG4FYGL0ClkPQCWiTESVPQEIQzTSE8D29gr9l8iS7e2mYpGakNGkZHz8DTI/4swB+NI9Pj7WND7+pRop9j4Are+m5voJ0UO+MbI+IvPM9YfMVTXgHzI18/+lx3+uQFHB39Y/Aeq/G40h2niQAAAAVmVYSWZNTQAqAAAACAABh2kABAAAAAEAAAAaAAAAAAADkoYABwAAABIAAABEoAIABAAAAAEAAAF2oAMABAAAAAEAAADkAAAAAEFTQ0lJAAAAU2NyZWVuc2hvdBhXYesAAAHWaVRYdFhNTDpjb20uYWRvYmUueG1wAAAAAAA8eDp4bXBtZXRhIHhtbG5zOng9ImFkb2JlOm5zOm1ldGEvIiB4OnhtcHRrPSJYTVAgQ29yZSA2LjAuMCI+CiAgIDxyZGY6UkRGIHhtbG5zOnJkZj0iaHR0cDovL3d3dy53My5vcmcvMTk5OS8wMi8yMi1yZGYtc3ludGF4LW5zIyI+CiAgICAgIDxyZGY6RGVzY3JpcHRpb24gcmRmOmFib3V0PSIiCiAgICAgICAgICAgIHhtbG5zOmV4aWY9Imh0dHA6Ly9ucy5hZG9iZS5jb20vZXhpZi8xLjAvIj4KICAgICAgICAgPGV4aWY6UGl4ZWxZRGltZW5zaW9uPjIyODwvZXhpZjpQaXhlbFlEaW1lbnNpb24+CiAgICAgICAgIDxleGlmOlBpeGVsWERpbWVuc2lvbj4zNzQ8L2V4aWY6UGl4ZWxYRGltZW5zaW9uPgogICAgICAgICA8ZXhpZjpVc2VyQ29tbWVudD5TY3JlZW5zaG90PC9leGlmOlVzZXJDb21tZW50PgogICAgICA8L3JkZjpEZXNjcmlwdGlvbj4KICAgPC9yZGY6UkRGPgo8L3g6eG1wbWV0YT4K8J+AGgAAQABJREFUeAHsvXecXcdxJloDDHLOGZhBBgiSAEiCGYkgRZEUJdmiIinJlqW3Ds/7k/32j7f71uvf2l571/baz367kixbliWRFHMOADPBTCKTAAiQyDnnMJgZvO+r6urT5947GKQJAG8DczpVd3V9XV2nT3efcytOwkkJx8SKNB0JJ5HgaSxVESJGm5TwoPon5SRKeTmr0glSBvlwEQUSyvzL+LselfWvPP7K9ie1ponFRLCNm1Oa39RVFNp7jCgfVEpXkdFbepLreeonRt2L0EKr8wQY7TL/gIl5Zfwz3VBEoDKuNRbP8i09yS3rnysR/PL4i5rhKvMZsD8VJ+thwaPkpg+U35M4oa8It8Y03Siza1FeQUJBVAtqWomMNKnMv4x/Wf9sNKbjIht5FirKK0goiJbHHxBQTEoAkyZdqPanTbTgsaszo07RfVBp2HQouxKB4PxGYHDhqgkgCDRZPgqEpwFNy2dobVlSmX8Zf9cG6IIrm/tl/XMkEmwMlPL4IzSfXfuDJ351OQNu2hKGEfUkLKn4OPIBpll237MiuXBIoqcFcfFFsSRLs5OngngncFVVJhkn0pf5G4AZKnlELDe5kpCdUMY/ASULprOysv6psgCc8vhXDdFBphczYxkywdpZnmlTGraUWEczjz817NbCrPG+ROl9mzSxwSBL06k65CKWnl6LspW1XrKmxMrSkg2Hc3XmIsVlirKVtV7K/AFXuf+Dzvj9sliFilJyOpWLFJGqjjE1Vl/Wv6B0FeXxR71oRH+KNapgOoLybbQO1TBTM4WWQY0yN3DJe7FuS7bH5FyDrDqjA1G6OUoelh1SNWIpZf4Ai1AoHETXEC7wyvgHBAydsv6pygRVyfQnA6k8/hwcDq2L3/5gxl4PidWc+opLNBoeICRmdj3lzPxcecc3Vmi5es0RZjwaSM4IGgnlyjNCV+ZvOOgdo9z/qiM5RQnwwGsgOSNoJJQrzwhdWf8Mh7L+qTKojuQUJcADr4HkjKBECMcdTcN0th2VLU8Zj96BA5mcicsalczOc3zK/IlnGX+CUFqzyvoXRl15/JXtT+khUpRagdOO8VRnLpcnV3SglR5tmcHOlbJI0EONlCweSsMj89IkyNSMkrmnvouV+WedUhK+Mv6qXGX9K48/jI/SQ+TCtj9t7CE82IGcQaS4uVzEA4HLnNJnpgTFjMDvGEVknqGgJrlJ0E5wlPmnkJTxD2jA08GYByfTwLL+KUA+zIpg8ozy+MtbuBQoPUF24dqfbMZOoTha3M+GSVHISBomLM4pTMniMeQB94u4ZglG0jBhcU5hShaPIQ+4n7ErChlJw4TFOYUpWTyGPOB+EdcswUgaJizOKUzJ4jHkAfczdkUhI2mYsDinMCWLx5AH3C/imiUYScOExTmFKVk8hjzgfsauKGQkDRMW5xSmZPEY8oD7RVyzBCNpmLA4pzAli8eQB9zP2BWFjKRhwuKcwpQsHkMecL+Ia5ZgJA0TFucUpmTxGPKA+xm7opCRNExYnFOYksVjyAPuF3HNEoykYULmYMYenAd0sZdpzOYfHfwkaKQN3M1A6FVZWV6zFKsGcQ0ktE5S5h9gI0AJ6EnQoCrj75AYYB5LdCogWdY/H1yuUeXxd7Hbn/BJAQ6KrPPjeEgCpSk81f2kAILZix/cOM1/s4JPg8pRi5Yun9ZWmsJT3U9LlPmX8YfW6SN1Wf/K4++zZX/0BaWcWYyRGMhbyxIxp9T9Vk4GkJB7ydEJSpRlUi47RmKggVJZslM6X/cjhRPEhHwglx0jMZAnLhFzSufrfiR1gpiQD+SyYyQG8sQlYk7pfN2PpE4QE/KBXHaMxECeuETMKZ2v+5HUCWJCPpDLjpEYyBOXiDml83U/kjpBTMgHctkxEgN54hIxp3S+7kdSJ4gJ+UAuO0ZiIE9cIuaUztf9SOoEMSEfyGXHSAzkiUvEnNL5uh9JnSAm5AO57BiJgTxxiZhTOl/3I6kTxIR8IJcdIzGQJy4Rc0rn634kdYKYkA/ksmMkBvLEJWJO6Xzp69cd07m67as4qdXCmJlfehbTpHDx8m7M3bds0AcCLYlLYQ1envRl/ooCLhkqhldArYw/Aco5R8r1zn0jAm5l/VMoVINwCZoUMXT8mFAef4oCLhkqhldA7QIZfzpjpyjm2PhkFGgwSUNuGqOMHESalmaE2jLvlJkZWVp7LBIDSpfGyvzL+Jf1rzz+1CakhiGxKBY8ZWZCndDFYAxcUPanwLAXGG6Ikt23EvkTEfNiF9JkcaPLqDWURSNhmpSGI0EMWO6paSJxuGVk1BrKopEwTUrDkSAGLPfUNJG4zB9Q2HavaZTiVgK8NCkNZ0h6yHJPTeO0rtcZtYayaCRMk9JwJIgByz01TSQu9z+gKPd/pi0ayqJRUdKkNBwJYsByG6KJhr0hAg4J23hJKGIwBiI7CzSUzlzPc7+xEo3zr62tk1WrPpa9e/fKoEGDZeTIKlSavyUdP14j27dvkw0bN0jbijYyZOgQGT58hDHH1Vtz5MgR2bRxo+zYuVNGjBghXbt2kd179snWLZtk7Jhx0rtvb2nXtl2o3kvFajRw/PgxWbV6tRw7elwGDOiX45Nxysru3LlL21VfVyeXXnqpdOzYMamwcfkT4hDM6m44L0+Tj6Wlyvxbu/6nvWXh0r25Z88e2bJlsxw+dFjGjB0j3bv3lMrKtlqksATH0tq1a+XgwQNy2eVTpFfP7qALYyoSx0BBE/Lpn675VHbu2CX9+/eTqqoR0qYNeeZp8rG0OtO/utoTsmXzVtm6bav069sfY2qYVLZjPflxbiWLa6vHl1P4dMc/K5OnycesFq/rQuz/tn/6p//lTylohCdK6AHPixQRSxPYQXADwDhovbhmIxKOwfA91wxcZhphrD2W80Dj/GtqamTevLny7PPPy/Fjx2HYR0rHDjCOSaU7d+yUF158UR595DF59733YDw7yPgJ46VtG24zOA+RzZs2ywMPPgjaeTIChr9du3byzjtvy0MPPQSlrJI+ffpIB5S1lmflKAfxoDgHDhyQB+5/AHzelQ4dwGf8OJV/PwbJ4kVLZfny5TJq1CitgwWWLl0qTz71pCxauFCuvOIq3Ey6Iu/05beKWg7/Mn8i0Prx/3j1Kpk79wV59bXXZPToUdKzV0/odyXanuhxULtPPl0tDz6AcfDCC3Ll1KnSr19/62Zew7g63fH/7NNPy7PPPqeHq8ePmxhuJj44jaHHotrHgLXt6JGj8uZbb8rjTzyh9qN6ZLW0xxiP5RrAf//+/bJi+Ufy7jvvYlLWR7p07nre7Y8B07r6P34rxgxJ2mnWXFNYD+f9eORckzPlYFcliANywI//2oWhkNKEcuppblYuyydgpZ3z5914Bwz3qy+9LK+++oqs37ChiP+uXTvlCSjF8889DSP9oLw+/03MInZmDMGFxwO3YVZPI/7iiy/hCWCfnDhRI5s2b5ZFixYLZzwnMHNw5/wtbvLjo2py5OgRVcK5c+fKypUrUbPJvxqz+EcfeVDuu//eRKYK2YgnhJdw05k7d54cPnJYq8tkblz+lD/DWjbT+Mif6RVNgH+ZPxFoOf0/Xfy3bdsGA/cmjOwz0POdcqKGuuyKEjQuRLdt2y4vYTw9/PBDsh1Pr6VcKf0nXaH+bcBk6aOPPpRNmzYht1arCtwQLs0/yzf9rzlRKx9//LE899yzOhE6fvx49nlbrbE0/ls2b5EHHnpYfvGLf5PNGMefFf3n7TocT+QKWHYPrggz7DzwYZWMqLM/tE8Q0TgiId27ShPiDN1rstyM5tz5V7Zto0sYPXv2kp1QwvXr1svll11GyfAfnPB/Dx4tFy9ahCWYYVJbtx4z842yYsUKGTx4cJT/RG2NGu9PP/1Epl01Tfr36yt9+/aVq6++Wjq2b4elmLGY6XfWahuUX2HRw0aBv8stsuD99zFbel26dOli0IGCzjba26C1BNDchYS/9TtAbqH+L/OHzvAxuBH8qZU6ySC5Epuu2SGE4vGf0njlyiLwMSVGROMN87/22mulT+/eeHLFEzKXMZW/8ea1If5WP+qFq5B69XWsuG3SrFPzX7dunTzyyCMyeNAg4VKnj0arVas8Lf7nIr+tUOQ5NzV/NewZ45SdCc1rmqph3Kr1FuAd6gTqJ7cH7wDr+YAiK9SCFmc0lM/uuTFLA149Ixou4F8Joztl6hTp3ac31uE2yScwzOoC//0w6hswi9+7b69859vfwbLN85jh78As4iO56aabIv9dWOv+9NNPpba2XqZMYX19pXfvPnINDPvkyy+DQe6qSzNsf0PyY9MCeWH4FMjPKKHID5ggP+os+J1CkwHXxuSPBErY/PiX+YeuauX4n1L/VM8yTWPItDhLo5QaO4X+s5SODRIH/b/m6mkydcpULJ20w9Jn8fr66Yx/WoxoNSrqbTKkCWiRN1H9Yv6Cp+hIpGViTWxlHP9na38a5Z+1PAjR9PzVsKt0gXlkCZBiWAOOnlFrjBfNM0peCWCkhAIYoGbKlByXhEJL2CWrQ8vj4qUtoKmR3mmY1waa0adXbxk2fLisW79e1q5ZY3SBPzdclq9coXyvvvYazN73yLvvvifLVyyP9ZHb9p075FOU5RPAFKwrcqN0z+49snTJEnl/wQdy+x13yKjqauncpTMUq14OHz4s87BmuXDRAtxQtkibykpdO58yebIcQh4f+yhDbW2tPPX0M/LqK6/K5q1bpD3W7f/sz/5cBg8ZJLNn3aRt4A2hDtRs//zXX5eFixfJrt27pQueECZdconMvmm2jBk3Tjq0b2/0vBIEBcmQ4jWHbjPh7zfqMv/WjT91hbY2GuzckMp0SNUK0/uT0B+OVeqmKRvlE6mvr5fXX58vH+AJdPXqT+TgoQPSvVt3GYsZ+Y033qj62qlTJxSxcm+++aZ8hKfjSRMvkekzZki7NmZ2dmJ5dNHCxfLGG/NxYAHLp23bSnVVtUy5/HLpjEMLyz78UKZhz4kzfuWPhrFthw4dkvfff0+WLl4in3zyqdTV1+Lpur9MxpidM2eO9MU+2GEsh87HXsJ99/9a9u7ZKzUYgz/96U9lLWbwV115pVRVVaGm1OXlJ6MotQbIOXMa40XzsrJsYaRswfFnSzFonzYH7YONjE47lAn4b013QVIikhtBWtYKZHQmo9/LQ205r7iOM+FfWdlORo8aLQs++ABr1pvkyOEj0qlzZ5WH8U9XfSoDBw6QkdVQnCmTdQNz/dr1OPGyW3r0wOkAKNXObTuwjLNOuvfoIWPHjpWeUFau1y9YtFDuve8+mTBhggweOEjr3bZ1G9Yqn9V1e27QdGjfUTp16oh1+x2ycsVK3FzW4gZgSy51dfWyA3XvAa/jx44Jd/jX4KQAHw2PHTuiUIFEDu47IL/65S/l6NGjugF7DL4uIS1ZLNtw0/nyl74EpbyqoJNaB/4UoiX7v8z/NPAHSDYiOfDwZ6sbDCG9YPyxP7F3pVMTdCxpOE0+sP+AvPDSi/LUk0/q3hA/2cBTXPv3HVQjy0nV5z9/m8zBk3D7DjYJef/9D2Tu8/Pk+O1H5YYbbhAMNpzO2SqvY1nykccewdr3FunUsRMOPHSQPbt265IpbwzL8UTdCRuk1153rbURjeA9ZuHCRXIEm6m7MfHhvhhP8PBQwrJlH8o+hL/73d+SuhN1ONm2W7Zu3So1J05I5ZHjWOPfKNuxz3AURl8dhTKxi+VnFplRqSMNErUMEtxp0Ahak/7bUgwb6UJ4g+mHDk3EUCFTEoYzWQNSTMwVAg3iRevG4Y6mpOeB/+jRI6Vvvz7CjVIe6xpRVYUd+ErZjPDGzRvl0kmXqdGeMGEijPxAbMasVCN8xRVX4AhkhWzfsR3HGrdIFcr1HzAAp186ynGcuKHxp6HmTKG+vk6VatmyZfK//r//JUePHZWb5tyE5Zpr1LAv+3CZPPH4U1jr3yEjulQRCWkLRZ44aSI2YEfJaswwqMCzZ8/GCZvewn0Byl+LTdp9+/fJO2+/LTdOn478m/So5YdQ7gce+LU89uhjOhO5Em2twHHN1J0u/jXHamQbZNyxfTs2hblxlvSX4x+SPMfrxgOK67jaA7aZf8zPHn4Zo7NZi8coP5exRo8cJR1x87OS9LR2UxXnz+Lumkn/juKI6wqcVDqBWV0977AQzFoWfMbPQX6tDxVS3LA6ESR0Loi6/CHJc+i3x1LjgP4DZeCgAXjaM2PpENFXWnZGbDWCGmeaOfIlc9Ly5NjixYulpuY4+qUbM/Aff8BbyZCyCPkHDh4U/F5DrOsYjvGuxsmaf/yHf8RS5na5YuoV0NUbZeiwYTDs++QpnOx67bVX9dDByOoqHKkci0l4W31CXr9xPZ5+9+psnz/atmDBAnnwoQfkgw8WyO233y7XXnONToRWLF8hz899Xj5CfxwC/72oVx0bDocm6lMCDf+smTNlEo4Hb4M+8/DBeziFtmv3Trntttt0rPA02mQ8PX+IjdsemKxNu+pqpe+Fp3urjJWazC6/ZYRrM+mfdpX3f9qAc+CfLcUQMXcmr8aMqQHq2ZmfABOok6IZGUJaj7MAkT/mRaLzwH/UyNHYDB0q7296T5bgCOHAwYOkDrNiLpPwTs4ZbycY65HVI2XIsCHy/nvv4yjjO3IJljpofHhqYBeWXm6HYnD2TadNxqDWz2AiQvw34rHxzTffkpUfr5A/+uM/lu/c8x0ZO26s0t/xhTulB84H/8u//EsozAlKpdyImcpHeLRciNl/l85d5O577naV0nJYNdQlm7vv+bZ87atflVE4jkZ3DDP8HTihwJMMa9auwY3kmHTGk4i5M8OfS1BPPvmEPPzgw7J732784G2yYUtBWR0lppC8d2jcfHaPGgdgkXWmWTvesN24Uw5WpS7UyRldVVWV/PVf/7X6rLcp+p8NY5Mj/9AMeprmGQX8eSrpD/7w/9SnPJ6wOt/yJ82wIFng14ZPF//eMERf/epd8pt3fUUGDhiYVGfSulinIz9pt2/fIf/pP/8naYt/OiNnjcxgdQyg/9k/dXg/hDNi3smZzdkvT4vRgP7gB/+HfOc735apWP5wR0P/5//tL/Sp+dHHHsPY+CM17KyX5fWCwGE8Tb/86stYylkgM2bOkL/6q7/ChKs7sitkP54IONH67m9/V3lrOZRPx98ll0yU3/qt35a77/5mqFSkCsuwtTg5894H7+s+WW9s1vLQA0+y8TTcQEzUbr/jdrkSyzBsj+urt13vGB5BvrbVPbZfG+IE7hthlnV2+qe1pQzOA//MsLN2VMjBG3mwUxnJWu4Sma/EIQiPYoX7X5qo9drsjEGj4DVpf6Q/F/7VI6tw9ny4rtnxjj971mzZuG2DbFi/Acawk0y9YgoeDztgPbCHDB86XCqxmUMl/da3vokZx349w84z6tOw2aPn4Ck/2sn/DPlUlce2li1dIu0q28vnbvkcTtoMDbKclPZ4Qvj8bZ+XufPmyWYsAanTanDBYNF6FINUfqACwXkDmDlrpr48ZeUw+Nu01fP2b739ls60+NQQDfsZ4t+vf1/Ierd88QtfxEwMJpiiWYO0RRzESZXIYzy18CYOr1QJh4dxFTFcLTMm6lPR//Uf/liOHT/qFMYPJKwnOlSi/D2RDJpB/7gHshuP7f/4j/+IdeJxsU3nS34TmrIQM2i+gXXa+LfFnk+3bt3C+w0RrQCWxa1KH12BJvDJ+Jv+derUGXtIk6UXnhipr3QVuJOn/c/DBcsxEdkLQ+uAbNuyTd557x2lnw09HTd2nIZ5ISuOP+4HLVu2VN7HkiiXQ6RDyCQF9R8e3+PYtGGTDBg8ELP123QpR60C8rp26yoTJk7QJ+A3589HYYBG3BDS8Qd15OmaK6/ADSVR1l5YV+8/oL/qLJ+iazGhU5Ysp4VxCeOP6tUU9qel7V/K33qVgpu06jkW9snTGGPAQCItnfsxmCSk+ZpseUkwKrgCzwz8GVVgk91hIodIm9YfcjkTHoRjTdzIWYYZ+3E8aq7E2VcuxfTp3QdLMZfrMggHyhAccxyEx9ulS5fJwQOHZcOm9bIFG5s9uneXq666Sm8AdoejcVPNwCwLjBDkmvouLM/0wQsPXNLh7N7aDXXBC09VI6qkJx79tmIdUZ1m4oIKLGj1+QBnemX7Sj3Vw40fvtSkXQL5CUHHTh105lMHY6xLBVZrBhbiWm9ELxBYYsjkjaOd9O7VS/+UQpkg5H4oRi+flMSSYEJ+yiD3Cfj4f7Jeh6839rz3f6zYW1MgP5M1KaQ7/lxmqcUG3CA84VVXVWnpvJhJLAkq4blcvC73k7rySUksCabdbSIFwbwej6qPi+rfScyOu8lX77oLT6qT1JCqgcQThHZ6KPseNkZ/jNnuPrxs5/p/8PBBWfvpWl1O+bdf/EJefOkl6KczMWwX46ABX/Lj6RddxmF9INGeD/q/EWvde7A+3h3LQKOwL9Y2bKaSjm+F8wW90WPGYC19IQpTYP5p89W48ybXo2fP0JmaBd1uq4cSyJNLPdoqb1oBf8tEccfSfaWz+jQpyuYEbAT+knqN2pM8I6R6VH2LJMEm5e+3a29f8Avu/JTEBbL2ZfSa7plIjsEYiElZSiDzutyPtZ4dfxrVQdjcpLFdhfVzfh6AZ9X3wRCPx4mSvjiXbm+aigwaOgTKMxpriYvwAhLOtH+0XA320CH81MAw6YCTK+44m6YS+B5BLdanT2Dtnet87dt1wKw6E4AKzPROmPkXvq5t8yWrVbEIxThwOBB4vr0dZlBRn7wBBfw9WX2tKEE2BmOg2fDP2sNQxp/TNMYakj8OFK3AyoZbQEgBUF5dBrXlabpnIikGYyAmZSmBzOti5zIzurPTPy0emcTAafCPjEOgqfhbmzhxGDsBs96rrtS150LuBIPr2zSwNNyq9yh6HHs0Bw4eUAPKNXa+8c2bQgWPH4ZO5JvanFEPHTI4jgv2Ozl7/3NcHsOeUldMxDhWCraMtFwPGG/uj5mz/vfxRyPuY0srVgttXcgnAppZex4OaUhJ+ZOC8TjOXA+Yoa6p8PcbQNPzB3KAWzvHRTJYgoRBTANBwQgZHkZRhTHSR5A8kIGULj547vnmPxgKVV1dLW9hE5Iz5uV4nZjHIXmipW1igIdixj5x4kSsa5/Ad2ZW69tsXI8fhQ2fjtihd+cqgskGkdLkNlCsNlg2oWLXYjM1kxDZEIz11CPQJixjuKxtggKyEk/TLka1jLfBjaletS3LNf5ALuHP8q0V/0wwlwHohBHUkPwtr39Zfxiu3nYiHbBGkmMe05iHdPZRdDHogUw7mkP/s6YU88/hT2HUlR7/LqvrP+utwPhpj+O2lTDeM2bOkjGjRyORFOSFxx743JSn/vNzBbbRm8gf9J9LiZw4kZbfouG+BoZUaA1qQlw3blFP5J/oP9vGWuky/E0gU7WT2holiJRsahQ6lNYaLir754LBsAM6xci6UmW3i+GiwIAA2Tm6kGvwhkhJL6VIVBv1eafk6tVmWFusuqAYp8mfHwHjUcUavHL81jtv4eTLKumHjw9NnHgJqsv485QBH/e4a78WRw95moUnNyboumHG/yRmI2wfPJu5AIhumMn06N5NN0MPYNe+Fga+XThfzhnDfpxu4YznWM0x5ZnBws3K4BBw+Xm/8ZsGj5gp2KGHjD8wSPizBkfV/VBrCS+lyORnQ5z/+cS/uAHgzyaAGQ04pdMWNSf/2KjS/HP4awNjK9lwtBctRlIOp1CnyhLrLxVIKUrzz9XbhPyL8NfmNjT+TT9c/yl/t67dZOjQIXpkcBY2PadPn6GG3qXmGv1WHAOm/nfHkmZb/0gXIaCyhf4fgqfiXj1746TaJv3MwJVXYEPTNQP6fwxr5GvWrNGz6MqfDBL9Z3XsM7rgWf1JivaZx5UIl1aqf03R/1w1Di5FyhTQMiJ0Cr1DaY88RkFdtI6xeCAMSW6yLM9q4yjxmkIZ7yIlOHv+PEJYXcUPBHWQp598Wk+wDB48BDP28crI+fPjR1zPHjdugsx/4w0o0lq8ZdpbxvGDXWiLyYQglSFEOGvm6Obxrksvnawzjrnznsf6/GYS4o8vI53A0auX9fsyNm3I5Odshy8n1Z+sQ1k+xloZu1rL7LE0z98b4/zJx9ukYV6cKA1qxRl/Zrn8TYU/ecSmOH/6YbbUIvy1UXYpxT/F3wBK8A+IsXRKd0HhXyA/l/5oTAwLzwwx9YL8FDjR/37YnJyKEys8Avzqq/Nx+mSNFjZc7Dz5P/3TT+R7v/09+Zu//Rs5jq+bEjXFKun/iZdMwIf6qvUG8eijj+tSKd/1oOOR3yWLlwrX+HlmnvzpeHX9J7967Ne4Y7yCewTq4GsCIpoU+Od7TyvMamDBEFPvwu9/X8Qi/BAtEzUezlewTO4sl3FHzyFJcj0v+DHHi7CzNNET2Afnhz/X+HiWfQw2ZVat/liViuvmg7DuDhbGN/Dv2bOHXI5PBfBFo4OHDup3Y0bz8VLFA7Fqv6GiRbjLBi0djpM3N06/Xp5//hl8h+JRLMmc0DfuOEvhh4ruu+9ePffOT/aSocvfHTOeLnijbs0na+RHP/qRjBw1Esev8MIRWFF+OruiFEdD4K/phIxpOkqQ4hgzSILIhUHWogXUd/5aOSNNiD9qL8mfbLVZzG8B/mTbmPxKEy4Rf08knB6m7xgzqOlJrucFP+aEbmkp+b1ZWO/TFhsgFiw1/pTKSeFz+XLOTXPwnsYT8syzT0Hvj+rJs8EYXzytNQ8nwZ566ild/54yeSqOEOtMSPFhNca/Amvr3THbn66f/njzzTfkT/7kT2QyXhrkE/O6tWvlFXzI7wQ/8sWmBf7Z+LP26iOsB+HzaSQ6MrICWN7Eejyeyjfgje5n8fb3ocOH8D7FaEzOhrIU/qxcKfl1/HmlIEs4uDCaa+lJrgMd/Jjj7JpB/ytdtsz8BHFpVOD4eOVrpN4upqf0SqdpDNGhrBJHkfLRkKymPFSa1mdFz44/29oTJz94FnYzvqE+ZMhQqca59fY4Sx1d4N8db5zyTc4X8XLDsCHDQFctvVA25c/1eZ5974all8rKDsCijT5mTpk8Rb773e/ijOyT8sorr+DzBCtwGqebnpvtCp8fPeLuPTeq6Fhn9ahqbOKOl9VY0+epgsvw6jSXhNrhBZRuOCHA3Xyuy6f8T+L1bX5GgMfAOuKYmr+clOLl9WdoI2SVMEtdLhoImwJ/41bI3z7hFMdes/MvgKOQPxrdRg/up1gZ0YWm/6XxN/nb4imVb3hSl9riTW3dtVTFyI9nJnEdna/1c/mlPfaT6LritBlf+OGM/IUXX5C3sY/FWXu/fv30Expr8Z0lPvXOmj1LZvLTAaiDrgPeHu2M5csOON1FVNu0rZArcJ58P5YrOVdahI/zbdywUT/VQbPTGZuqozDB4ic/OCboOK7bt0fbUQ/Ho+1faZZeuO/F9yU45th2670Kbdu0aVdre5965ik5ipes2n+hvRr25tP/RvQPjU3Hs41Vk+Bs9Q9HMDJwAvskKTPqzEuZa6mgFAxn1Vii3ZQQDnenLB/EYTaqafkMrSlLOjv+fKFjNt4GPYrX9fnS0iV49MvqzPjzaOM111wtc26+GW+A9pDLLrtUNzBBERzW06EoY8aN1VekB+PcrZ5vRy6/Cvm93/4dGPkeeNvuNeEXJbfzVA5o7sELS2+NeUuO4hO81VXVWhf5jx07Xm4BrwM4pbNuw3r9pABnCgPwNHH1tVfjBZnDdkogcCfm3FAdNmK4XIfvZYwePSbyV5JWij+1Ie1/blpxwEYtaeL+L+TPzlf2jmshfzTOjvQR0JT27PTvjPl7u+xunLT1/PLv06ev8DtGnIBwyZInsBJmaIUpFLHi7w7w43f8BkvPPr00j4cPGP+DP/h9vGsxWF579XV8W+lTvOW9RU918eji7DmzYdRnqs7qggaqHD9+LJZYpssY/FANT6XxUxq9evdS48+ngJcwMdqA8cCZ9ThMfCaMnyC/xtvW/ASA3xx4CmYkzsnPwLo+32jlsmZorqLHsTwRb5Tz1E6/vv1wfJg3lZP6mwrf+tY3dPlz29btypvfuqFLVVITEvk97pNa1nWh2D9KhidOdXpHdGHMD0NB+9o6nFc6HyRZaj7FqJKrFsTFRneSYcH0rmS9xfQLiz/fpjuBzdKe/rpyKuVnQP7Qk1m/JfIvWrhI7sJbk0/hBxd4OqnQtXT/8/MQX/riF+UxLDFcdtmk0LwLS/+s0TYiC/FVe8VLE4y/Gmx0Hjh4CBOg7niyxDwRSx9FrkD/+Q2kNWvX6cRn9Ngx+lTACQwdP663EQadb5Zux/eVfvjv/7187/vfQ0627p23NqnMaVirs0sB/yRHgy2tf03BX9G0O5FKr/clnW5ZNNhXg5JXB5WIZKlmjnlPU8eyXp4JWjArWZzNPCugdXC65+W1mJXl1UKs1MOWYnWG3GIGIM5KFmczzxieLX9+A6UrZu/qihk0OX9j2XLyn5J/2HQ2cAxpQ9tSWoP++Yz9bPv/lPKzW5pY/1qKf/sOnfDCG95g7YAZtBt1a4x3tw3URP7jOOZ4/6/vkx/+8If43tL/xgk2HCQI42//gUN4p2Ql/vhbCYNkwCB+QsH0WmHMak1SXadaqf63QP9Xsg8McwcPKbETmEuHPCWMniXjaskcDhlNQDzSkEh34kOG3XvJL2xZKGu9gALEFyB/ffGJYNCZKBbm9TMg/yn7n3vOXI4JiLS2/reG2YzxQtW/U+LfhPpH7HyTlHquWHpHh/4u1P/OnTvi90/761cWueRyBEuWg7Akw/2sLVs34xtOH6Cek3LLLTfjmHJ4wgt1O4ukarAs25/C/q/0QaaA6SXtFQunyWkuwbV4SC3MDOjbemvIZGUspVE2R2u3a8pIy1qZNDnUEmou8zc8AiqF4ASUWgX+aIR2vV7QUG1ra+l/3Hi47u5tK9AuJvtcoxBii4fUwszWhL8BnsmobW0Z/Nu1bS83XH8DPuVxEN91fw2/jfCufgq7EjN+HgPmuvY9+BjeLTffor94Vsb/zPUv7p6EkzlRpdNAPPpF3YdCNKC/aZEY1k7RWDo7j9kIWG1l/hGKFBwNX/j4o49hOKk7xcrT8v2vzaKi2qT9IsSfIrWu8cdfKOPnP/hlVf5k5T58hI9vtvbFBu8EfL2Rp2r0JSdsqPphC954y/anxBAq0licaoqG18ZXRqInBxhFRjJdcbJYLiuRhZgZnBdlPV6WSqb1wosdlWVayTJ/hUgvDiK7IuB6YeGPR2XIoDdvbX/r6n9dJHJgA75mTBgh6CGTwZB/YeFvcnjbW8v44zed7sSm9RfxV+Ti+EdOGX+D5wz0D/dIqmhwSdDAzOWCKBDAUyVJ6b0O+hzBINAZWlYqo/AMbWhSSRIs8yfCFw/+1rWqNZlitJr+D4pnp+BMT9WYXDz4Z4MPofL4C31cMMIuIvuDF3F9sEFWBlPhQpKhwKvRml6AMBTN8i3kdXp24fBIpm5gF6jIl8Ey/xycjqElWuzCxT90bjZ1b139z6WYsv5dxPoXRGut+nce7R9m7C6s+67Z9JNwErQyheY6I4h1et1uvGONoFDyaNazm0QEnQRZnWmwzJ/AXoj4e5tbWf9TofhHdSvrH0CgK4+/C9n+hM8NugFlh5rZND8L+9NbzFZKL6cjgoXhvAxg4TqZOm7cmNNcRKw+xDTDc0nj5eln4TJ/wy9Coug4bvQzrAJlq8Gf5tyfMrSVaG5r6n+73RTix3iWVta/oFUOiaJzYegfjYy3VJvfyvQvGMECgM9N//QnfZJ5c8LDoTB+SX+GBtCzVC/vdtz9+DouRkWuPCIxjoCX14oj2xjQ5EivMb9Yqpd3vu6X+QfUWhj/k/gsHyfCsQ8RSMPefy3V//VqtYO+RbWLgbL+AYHYXz70ElS8/3zcuV8efwG1Fhh/esAr7TTVcb2/Zamm4q74eYVn/zpl3Lz2BO180Ie4lsSlsIaUvMyfoBGhDBXDK6Dmo0axtYtTtl78re26N4lgkCRK4O1nQov2PwBsUf4tLX+Z/0XT/wUnd/3ei6EWR1+Sph2fDUO3MUoa6UGUc6S3TC2JS1ZDjlDpLA/XWF+Zf8SECLn1ZjhgpF7EqxBTlrZMrQcXq6+QjvEE61hfkkaKc+FPxi3JnyKegn8FvlNi2ODaFPI3wr/J8S/zP2X/X0z4Fxh239yyAZCYA6qEOlN8BjHgg/5rWpZhhLmr1xtHi42bLBqonQ7RULcGkroyNmX+Fwr+/n5jvBOhP7XrW0v/B6XiLSw2qax/AYtsxHEYZrHy+GvN4y8adlforOO8E33jwSl8VJKSQ6GUS2hDttFZGSbpEEoKe4kkKdRd5m/YOEIAT4OGZYpXgNoJsihCRmdlmNGc+LO5tsvSMvxNXr8ajjn5sf7iqSmeFi7rn2FjV6J4oemf97yNAu9p+Elnu3RJUsi+MPsfht0F1S7zqPcefN/4TEQOwbxZdwACjI6UVotIiGe/dOL1lfkHxBQpxykCdhHgr2aT60aY4rTO/ndNzvT0YsJfZSmPP7NEtomC8MVtf2DY8wJ6NOgBAEgNttkev8Yjv5rgN4AwJLxarQER/Ged/kvhWf1OGFJCNMsv88+wcOTNv1Dw58o1+92+O23SZDKV+996MyBS1n+FI9OP8vjPsDj98a9LMbYJx3lVVkVFA3c2pXAyVUJEcrt42a1CTTmyfeian16DSmt9Zf4XM/6cE9u6X2vsf7aJr3S4YkNny/ofrIj1V5iuGUIOk2YhUh7/wZCZ54i1pP3TscZNALpszm1xv2YNDUaasy9m6gW5WQWa6P2uZ4e0cEwJZZI4SmTFU05kYC5N1XCZ/4WFfxj4aiu161tb/6M90Cl9qcOVLvHL+peBUR5/wOICsD82idJ+s8EWhxx6MIY1kKo3ZGMZXjTPKHnlzCxSAgBzusqqQZsIRYqQTy+rQxNB4qUtkC+jMV6UKCtb5t/68OeN27upNfY/1YifRuZRzqhz3mYqoyaSKnMa48UFC8Gy/rU+/aOh8n5tjfpnWmUt9HbSiMawBs5M/2wpRmu2mtLi+h1w5p2KiRbIysbyBY0xG0+1pwtNznlZHUqCS5l/AMigMVgKcDVAM+wMX4c4xjjJ0ERLyQEfeiOrwxidP/zV2IXpekvwpzynkp8vTnG+jl88DvppCJT17+LQv8b636RsOv1vCf62FEPOfFy2UceYuXQGE9M8kPkKjJYNisCsgrpsXHti8MOM3oqW+RdixjWqBFED3CHM4DcaAzFLLaBrUfzRFv1NUZsuZcrRqvof5r0As4sGfyDeov1f5t/s+OMXlILj87I7WpMQVY82N8l2Ms5zSJhlmSFauWKFfPLJJ7Jn7x4jyQpIu3btpFfPXjJ42GAZVTVKunbrarkpg7Pkf6KmVgFsDx6FTtvoDUX96W+wKi34b9q0SVasWCm7du6UO+68Q389XYucofzOJm3D6fCP9GcpP/siKRqrY6BF+RO/2AgEEC+FP0nUJUJoOZbXgBO4b4RZ1jnIn33n1HQ2VNps/FMBW0L+0+R/Aj9EvXHjRlm6dBl+9Wiv/uqRzSysj/n0E/sDgSGDh8iECRNkyJAhWQbka+r+r6+vl7r6Ou1L2hxtkzesGfi7hrrf3Pwzw84WqMDJINJZPJrkgHgr3ec0IOSZLtoK47KPPpTnnnlWVn28Sgek7p1xdgbaysr20rtnb/yW4WCZcsVUue6aa2XcuHHSpg0eHs6Sf11dvaxbv05WrliOXzYfIvzZLXXWKK03PIuDhd2IePVsF2fjho3yzLPPyIrly2X6jOnSrQtuOlT4IKPTRb8B+bN8hFhWGfHCYMP8SadVOr+zxF8ZGbPWw5/CQQcUCrStFP4tKb+egiH+bNvFiH94OjpX/avBb5Jy0vYgfoR6/foNpl/oTfYsl6744S/qsKouwLzmmqulK8bRkCGDVS3Plb9W4pcS44/LaQfx49gfvP+BdOzQUUaNHiX9+/VX3WOxpuZvozs00JVdfV6aj78uxag2kys6JOq0xnMxppjmWygjRtwo7bpty1ZZsmSJLPvwQzlw4IAcPXZUjh87LseO1siB/ftl1eqP5eGHHpK//R9/I08++aTs3oWZPR2K5zhmI8zyeTV8LB6Ia2qOy0svvig//tGP8eO4r2e0Xpn6vATYQ3rQ9VjnXsxAaNTfe+89tPkYyL2ChGkSjI3VmsnW6RmG86j6vJyaP+m9iLK5SPjb+INk/Mpjgksh/i0nP40REL9I8c9AP3f9qztRJzvxRLtw8SJZsXKF7Nq1S47p+D4mx48f13Fz7CjCGD/HEK+pqZE6fIPHNPvc+Zca/5lKVciJ2lpZv269/OQnP5Gnnn5an77Pp/yN8WdbovPBHJW+6eV33jZj9wZ4KlofmhBSQEBLQ7pCWk33TOQzqKVPyhWYkf/85z+XgYMGSbvKSs1ih69fv15+9JMfy5OPPyEvvPCCjBw1Su76yldYMLgz41+LWcSrr74qa9etg5LBIKvL2uQh95mtYZfFfaRbULfStBa7INULJ7Sap+meiZQYjIGYlKU0zN/4nZn89jQSGhaZxECL8+f0ja2xq0sIrB1L9y1LKc9J/7S+M5EftCSP7uLC35Fwn2Jq2HF3/zTlN3hPyi233CK/++9+T6ZPvx71hUpCxRVSr2k6gw/1ni/+sZkMaKVZzZxAckK5HKsG/DFs5niu+7GYy+0+M9Rd+P0Pw47hhimVDzITPi+ppiGpCBiAEGdjARLr35PoVg5NvJSCtcu2WGbRpRbU0LFjR6muqpI/+L3fl+UffiSbN2/CEspKLx14BP4wCMePY5Z/6CDaWC8d8GjVA51F520h/5MVeLmExgN/8RvQ4G0u6yQq2759B4TrhJ06dZKuXbm+n5e/XoGwZRqW5+zjEB7tKEf37j2kkr+aDpfyzxkhZ1uSv5fyG4jVdP7xZ73ekFT+FuIflKtNnKJnrSvE31robaccAWskZa3PwqX1j6W8jtORP6Vm2MuynubgD46BZcvIf/r8HQ9FlY3GM39Fm7YFiJHK00rjfxJr4EeOHpWDBw9I585dsVzTWdpgbDUm//59+3Ty1q59e+nZo4eWyfUXmkQo61CRpZO/ORvVFvM09u7pjr86tJkT00OHDkmfvn3VrhXq3779+9S+0M5169YNjEvLr22sq5OjR48Ag8Mqf6fOnaUtJsA5ebQGyIICZ6L/MOzeqQFS9fJVKCMkmfIFughWCBR4bLg+3hJWRtShJhhICj1s6DDp3KWLcJPjJDc5vEtR/d59e3QT840335B169bK4cNHtKc6duosgwYPkJkzZsrlky+XXr1647Frndx7773yEW4SfEScO3ce1vHbylVXTZOrpl2l62ybcPNY8MFCefvtt2QHaOrxuNYF636jxoyWGdNvlEsnXSrtO7S3FmKNrq6uVtasWSOvz39dli1bKnv27IX+tpERVVUyc+Z0uezSy6RX795BIvVOcYnCgyZRLcjpSpHDVeE1jK3SoBhIytEFjmntpRuRUrQQfzYBwnIARckQaC3yc98Uw1vh03uPXQKcFwH+UTHOD/7sTmJGl9yrLaHoGgiRjnmXLsvOf+01+eCDBbJ+4wZMnI4KDzuMHDVSrrvuepl8+WTp2asHa9aaautO6Fr+66+8Jh8tXwHbsFtO1JyQdu3bSU8cwuDG7M033yxDYU92794lb731tjz66COyc8cOeX/B+/LjH/9EbcW3vnm3fPzxSnn/gw+kA24KX/ril6Rr926Qw+wfN4I/+mi5vPzSyzJr9kyZBJvQpWsX2bp1i/zqV/fKVVOvlO07dsqChe/L/n37YQtGyN133yOjsNqwe/duWbhwkbwJe7UFy9DHjx/DzaqzDB02VKbfCHtx+WWYkJpMvDkcPXxYXnnlVflg4QLZumWzTh4r21ViH2KoXD3tatitK2XAgIEqPzXzbOxvsnnqPcX6EgUIADPVBqXRsZPM0Hi65ZLOCEHHpTVESOuuHnepw0cOyYdLP5R9e/fKwIGDpXrkSGRbvceOH8XGxwJ55LFHZeGCBTqr5t0ZW9yyF3f3l1/dLatXfyI/+MG/k2kw3EeOHJFPPv1UDh7ar3fyHTu2yyerP9XlHa4Hbti+Xua98KI89+yzKLda+vfvL5Xt2srB/QdlEdYJ13y6BnV9X0aPHm1NRDN4uuahhx+Wg9gf2I89geNYJzywd5+89sZ82bhpg3zzG9+EgZ+NWbwVMckL5UeeJtFkaNcocUBPwbOw1eHyGwznA/9WxD/gQElbo/xsnrfsosT/POofBz3xqq8P2gvLrt0brgqlJeT0n0bg4MGDMm/ePHn0sUdk04ZNOtvuhMka1+hXrFypBvzAgf0y56abpWPnTmp0V328GgcanpVnn3paTuCpvYumt9FZ7p49u2BM3+R+qdz6uTloWlvh+N+yGcYVY3bv7r2ydu0a6Y6ZfT0mjxz/Tzz+OAx2Z7l5zhw7kReM2KFDh3Vf8Gc/+xfpjUnbiBHVWCHoAMO7Tf71Z/8qKz5cLvsPH4JtWYWn9krZjPTbb79DDf/8N96UxyHTJ5+sUXvVvl17qamtkcWLFoN+tXwd9mLaVVdhItpLarDv8NIrL8mDv34QtmST8uCpHe5PLAL9xx9/LAeA011fvUuXr6NeAliDNYwgRE5lf6Nhz5sfFEotN3sL9YWu1L5L13UtPcnlbRz/Dx0+KMtxl92BO50uYSCtBnfg7Vt3yIMPPYCN1f1y001zsHN+DcjN/G3eskWeee4Zeeapp+Tqq6+Wb91zt969TqCjPsTa2X333Yc78qNy6WWXwhhXI2+AfPlLX4KB/hQz7ZNy5ZVXym9+5TekCh3Trn2lvPba63I/ynBmf/ttt8vtd35BunbuojPxJ558Qn75y1/IiOHDpdtX+dhkjp0y97nn5Mtf/rICzOOZH0PxfowNmWdx2mfQwEFyzbXXSGcoJV1J+RUwCAw/ImNR3Djq9KlkL46D8kQPncsfifmyDAcRew99wTpY3B3pOdtgIh9h+RQ0ePBgPU4a+ybMPAv5h6kyqgoN0lB6+0Grz7X/2eKEP9ugUQpgU3XlSnw0CW1JkDrv/AMTY9cAf6UJl/Mt/+nwb0h+bkBu3LBBarCE6L8jnPZ/qhfWfGLJb9/4pmVAGYQnMdWubFMp/fr3xVJBVzzd2tHgqH+Nye/MKup1GYUnY/riwEHencR4b6cGtG/ffmq8KMOaTz6V//HX/0P27dmHWfEsufXWz+kptj179sjDjzyM2fZbuhnLJ+NJEy8RPse/gr0zjl+W//3f/32doXMZdQNm+6+8/DLG76/kUZQdMngQ1vqn64m4NWs+1aPLY8eNkTvu+IJceumlOkuvwfr7AUwO62rrME8kNi6MSC2e0nlgYhdm30eOHdando47prN98158QXnPmjkLRn+EPuH36dNb3n33PfnlL36BGftCtRc33XQTbFJ/zNy34Sb2vDz22OMYk+2lO5Z9r732OkxAD8o//fin2A9ciyeNOXLnnV/UY9X7DuyTX0GWD/hE0bGDfP7zt+pSU4XPHjmcUpDD2GKSpSe5yLMdTS2UZVBcX6tO1601PVSeKiGT0jy9lQAUPp7cfvvtiNoHlnwe6uvhv/Xbvy1f+c2v6GzZ61u2dCnuWqtwTGm0/MVf/jcY6CrtFI7F8eMn4vGrp/zxH/0R7spbdOll8uQpMmPGDLkXnb8bO/QTxk+Q2QCXOn0CBpqbs2vWrJU5APGv//ZvoMhYw4JBvAI3gGHooIULFukRRx7LMndS2rfvIN/9rd+Sb939LRk1cpSupU27ehrO5e+XX/zi56o0W/HIxccwdzn5CbWB6Nm56I6d2+XXv/613I+/fVjmITnl5+BiwWjiWA0MPA045de1QOaCTG2Tpomu5U2C8v7VX/6lnRduhD+z6ZRPaLjjb+nn2P9F/Lm7YW1m/c3Pn7JSJuVezB/JXGpzZ7RGfFb6XyR/I/zB6lT4b8bM7ne+/33Ztn0HJgXHi/qf7WabKQF9xReAY9jRNmmCaZVKppOhP/zDP5SbMGvt27uP0p+Kf7QFrIoO1ZCeJ9AWL16ikwrWnPLv1qUb6p8tv/u7v6fjZBMmbM/D0H247EOk/a58+9vfkUmXTkIZFR5LMJfLn//FX8jLL2M2++BDMuY/jlEjuHrVKhXia1/7mtyDMpyxs2euwgz4Kozhl19+RbZv3y67YXy5pj1+/HgsvUyWp596Rg3wDTfcIJdcMkll1KVhg4BSQAzUFOJsB+tlgq25hzHHCRZSaWy/ctdX5Qff/514EIQT0zfeeAMYLIZ9uVn+63/9r2qfuNxcX1uPCes0nPnfpG0ciyPd0zBRrcGeIVcKaLfm3HyLzJ41O+LfG0vLzz33LCbERzAZ3iHdsFTUFgM9xd/aaPhrc8MlEQspuHkHaXLZXlhFj6NBzUBaVwSFiWkZWh0aHj56XH7ZZOnUuSMIkMB0PBIdxvIJj0rNmztXy9XUnsBa93TUchJ33RkwzhP15QLOpNtzGQZlqdD7sPbOs+a1WCPngKvnDgl5I19nr6jNX3w4UV+LJZpPZPu27TJs2BCs312rd04VB2Xbd2inj0e//vX90hfLM8OHD5M35s9nbdIesxg+LQxAetuwWconjqoqzOy7dkNbanQJyJVC28CLOoOY8qM1KjOFxP/o+mHj5Rvf+IaeKlBZkOPtIiX/uZHXkiysI7Qgj0zgPl71sfzt3/ytKg0xZJlT8de6wFBLpw0LZbMk9Lk2jFzOoP8L+POTvVZNqJmyNCN/CprJRFEK+KMtth9E7FLa8yN/o/yVKy/Wd1lbjX8txszOnTvkT//Ln8i4seNARTr8hf5X4RBlj9ZjJm36w7jRpAaeaZzcDMLTXQ8sUYAocaw36IWmFsuvuaFMj+49dW28L/SZrFL+3AgchjHFs+R0O2B83333fdCdxBLqNJSr1gmTZuLSt38/qa6u0jG6GBPCOizZ9ob9+OEPfyjf+53vabhzp46qj9x4pVFdu2adxrnEw7V6c2gz/mXQIBZlDMdtdSwF0UOe0Zv8gUrbSv1n3kSs5VdjXZ3LLKie//EUv0onef369ZNbb/mcPsHzkAVz22Cfj4b5ptk3yYYN6/Vv06bNmKS2E9J/tPxDeQTLvbV4Crv0ssukCnVPmDBeBuEEYT2e4vv2s83Zsx1/uhSTzUrYKApHZw3UaJj2pzmkoMCqPEqrKVaOAxmh4cOGy/d/8APpgzWrtm1xPydI+HcCd62NEPLX998v77z7jm40XHrJJdg06Y31rV66hLIOZ1EfffRxVYg92DDZt/eA7Ny1Uzc1eUpFuZFJrr2m1JqKzt+8cTPu+oeEhnQE2hI7GAEW5VraNTD47Cw7tWNzDizVqVJ2wazD5ef6XQcsd1RADp7LpeI1KD/q1qbxyoACh0toQHus3XHZhH90Gf4a0zSvwfkzXoQ/KJnKx8XDwKQeNzMvdyr+3o7AKOEfGxvqQZxMz7T/01awCk7XuRDqEsSOQBJTMdBMgZuGv7HN8C+SH7qiImZzTrSKbTk/8jfKvxH5eSLsBPaL+BR7+ZTJ2jLFTVuoHcQoXBq2lJjMvALcneJM8OchxgCWjMZSx5e+gKWOyy5HVRxT7GhoJGBri5MyHHd6yABFDsH4rl+/TniTug+HHbhEqkaQEIen0qWYzW/BZiJvRPWQmUsYQwYNxlJjBda/l8mTWGfnsgiXMPfiSXcb1tN34YbXoWOnsKRpRp1yWe/hSpkJi15gfTTJcplKp/IrDdNJw8cd5qAhoWyvXn30sIeNeeaJbNm2Fe3YjTZv0afv+fNfg53DIohVoxPAT7CHt23rdtmza7eu/48bP07uueceeeihh+Wdt9/RFysHYqN02NChUlU9Ek8XE2TCxFE/ZXEAAEAASURBVAl6ak+ZkP9ZjD817GbmtAbIgZgKwwrDn0kZrspOLyp7SLUiVhOmDQpI91495frrr8PsYJBuOHjJeigy18y4i33vvffpW2KfrPlEZ/cHsYnx7ttv4/HlZVmJXWyCzuOJrLkNjGo3rFW1VQVFijaAOXbDoFlXh8ZQWfYfOoDZ/Qlp37G9dorzd/FozHVGoQm88LaD+zVepOncsYuerrEy5JDBofig94ybXa3OkOYMQnOM0CNBV0J9rN9KsRDlQCwtr8WsbFYDS1l7rDTLcfUpUKTlI2FWujibeUw9O/5kYXU2ID/vl4lRaXb+Kvqp5fcZ+9ng36j8p8G/MfxZhf+RH51JZNdT4q8kRsdy54I/azH9rJCB2N+agtMi03GyLFdnLkKOXBat1afcdngaXof9gj04hcKZMfHGIIcNxR/G1ISJk2QoJjxtKyr1yXzx0iXyEmzBArxJegSTF9ZTj4lMZbsOeghCx6vWw7Fr40AtK6qrt4EagAryMx3tsQPZ2jSUQrkw6Fif2i8SUSotVqHLL3xqD7VoQbbn2PET+vIlT97xEyq270UqtAdVsdpLLr1EqkeO1Ccl7st9+Td+A5PX9rIQ6+nrsQKxbOkyTHDfxlNJH8h/idw0a5YuYffDU4xNOI1rypsNSFPBRlM0DZFKJriBtCykxEFo5FqFEqqoOeEsWYdDlklpwMEbwhvgybaBBkz4tNIRs9bLsMY2f8Rw2YRvT6xdu14uQacuWbJQfv5vP8f63Ws4cjRJ19JGjKjS45E9caPYvHUr1umWQRd4TJKdSbZm0kLfKGPOBmi0CUwtTrkcwxEkd9b9tryzGxs5NP69+2CtEa7C79ZaGWunQwkqH5xuZjIQmDGV9alJswgT8g7pvkTEDOfPlmtJpbdCmneG+JeSP9eAJubfqPzsf+DlsJxv+Rvl34j81jDefULfnCH+58q/0fHH9rv+aRu1qXpBlupTs+mfNpY9yUZ5uxrX/zaVnER10Jno13DiYyKe0DlB48g19a/QM+In8LIh3xfhUukuPKHz6OL99/9ax/KMmTOkCgZyJPbGaCi5THrPPd/GceiDWkc2/tEwq9SAYjtjJrKoiyqH2Q8Gua7Op/Di8Z/KqSJb1aiZNynal8FDBuGk3DdkJGbcPLZIR/Z8uuGaeu2JWhmC5WA+oZPvwIH95ftYq9/xhTtk+cqPZQnW6JdwbxEHNObOfVZP3tCoc3OVhyK0NjSDlQYPEXMWL8a/0geZEuhFEQnFLJwmp7kksnhILcxEQSZxAh/vdayMqfh/BC//1MDgUli9MyHv+efm6g7ztGnXyD//80/1Ua4NHuvwNIYd6136ASJWweNBVAIka33ma8RSADiXgrp26SL7sB63AxtP6hL+3ND5BXa0N2GDg5tTiho62Bx9C7MIO1//MMC0ioTK6QJ5yMk8VhnU13iQUKtmqtZuV2cUiyqR5VnQisV85+yDI8lIgs3BX9mFNiasNaj8cVHc9AJCpT1/8jfK35EryR/dQsPpeVEAE4jJ7Hu64FkkxhvIDFTnjj9wUmPUUvwT+Qv1X0VvXP7OHTvjJE5//X7UpEsuk5tvmaMbkgBeUeR1NQ5N8IXFHjggwTHP770swHp7T6y1/3ts9n4VNwS+pEh7wT++wV5z4jiWIMOkwTtH+xFths+kFH+17/W4iSOPkzQe6yAVVwUOY7VAp/NIYRr/cV1IKRjkn+bZhUtNPXp2xwtLB3HIYqR87tZbgyG2fNa5ds0a2YFDHX0xcaSRPoAz8EswQ+/TF9/LGjIExzRvkc/hDV6e0lmBc/R///d/h+PZL8izzz4nN954I8p0ivxZa8o/i4fUJJMPC9oKFTjJ0MRw0aNfDBOMNKOhcFIP71oKEHwtizx+dY0fEnr+uef1OCSFnoIXE7hkchiH93msqzN2v/sgvT02eio5xQeqPJ/6GM6hkubIkaM4/3o8toBcuC7nMxvezaurq2UQwOMJFm6MHsF5WW0FqjuKzZbVq1bjmzUPC08dcN2fT2FspMmYSUr5GUP1IY9sEyEZbcCxnFFm8ueLWu654K9tY6UlmtQc/BsQXZONPxpGDNk+/4uFrNHnIn+sqkTgdOTXJpHQJu1FtZyx/ic1nA5/kp9afhtFef1LmJwieH74sxY4eCGEiPVbkqAkhRfnzyOAV+OIMB/X570wF+N+OYI4iwQDzkndDhxyuP+B+3Gy5M/0HRJ+/+kgbQGOIHbCTJ/vn7TDBwR5tJf020D/yiuvYI19lx2mCO3RSWI7TCNhLzgDr8HSjbUUb73DplRi8/LAwf2yErNjzqQpBzcwN2BP78WXXtQ33V1GbTv0tvT4FxmHEzicPG7FKsIjjz6m38Wi/WH7yJ/vwPzN//xb+Y//93+Uuc8/L4fxlumadWvl//nP/0n+4R/+AV/IXKry01bxwEZ/YNQNb9ZTxk5ho5h4no3+2VKMluYlcWigIQJYeKuiY9BC2p8eDkmZBwNIgnVYXvn7v/t7HEPqjs0Un7GdlGM1x3C6ZRM2D96GMAP02NWQoUN0DWrYsGH4+mNPPZd+33334qjUaK2XyzXvvf8+jPEq7Qh+WIzr9HQEkZuu7Kj5MOAD+g+QMWPGyNQpU/Gyw2ycjNmmx5L+X7TliqlTpR0e89Z8ulbfMuObqDxKNXDQQDmw+oAKqOOb8ruUqF9lDfIzzOWPBh2LBufQseIMLxIgBs9mExb1MuqfAf5WLysLNbjPaiPTpuOfazcjRfwxOIhhTGfg/MnfOH9SNCw/JwX8n3NngH+uHCNRzvOHvzYvaWZAsIi1JjQBf61X+RuOYZpSjBsJS/Dnux+zZ86Sec/P1Tc0aQD58g4nXkdwvO+NN+bL3HlzdS9uEpdp9Il7qC6RLlq0CJPA5/Q8fBc8gfOzAouWLMaH/17SWTDr4tvidDSSfbFWzQMRixctwdnwX+oSB991GT1ylAwFv1dff1V+9rOf6dupXXBEkkenFy1aiBWEI2i6agNkoBA+GQu6U4A/TwNde+21eEt+hbb/7/7n3+l7NEynUV+4YKG8iJcjaYs4O++OE3VHcRKpW/euOCH0rvLYjmONbBNtGY9B0thzj+GG66/HicDw+XEfxAX8ES3t0PS4FKMUlMWpQ2VpkvUYCJCo2fnMyKRLV8y2+/aRnVg64ZFG3JZCtQBIG4fHG4xyfvxr1uyZ+uIQXzpgvdded50eIeLB//txamYkDDs/ILYfb4HyyOMMHIfkuhXf1rI7Lta6EObxxFUw+p/iRaWHH3lQ5sy5RSZOmqifH9h/4CBeLMJLT8/gU8Kg4Z1/245t+ubrbbfdipcY7tD1L34Vjrv4fGRsizsowYgiouEdcZa1bx88fvXoaceeYmYU3QJh+uXZ7kcqt+aKRZKbBN0ip0mni79P/7ys+y3Jn22IytXq5LfW5e7V56D/5xt/ImdzpdBOeKcaf+ebv5sE6h83B7k80B9H9npyHPA4cqErof9dYUAvx1P5t7/9bcxe58lS7JPxNMmgwQNxYuawnnbr1aOXzJw9S99DaYd3ScaOHSvX4xw6PxXyJiaBR7Fsy/Px/NAfT4H1xhn862Av+PkPfpqET+E8yjlyVJW+wPguvtL6At503YqJ3ezZs3GuvUpunD4dyz1bYUQX62Yu30I9euSY3jRm3DhDPx/Cm0cbjH/OvCthW/i00A0GmZ8xUBfw582DL1fyC7YPPvggXqZ6RdasXYNj3j30zdh1WCqqrqrCC5NfwWcCpulbqRU4zvitb9yDN+sfweGQj7GJvAcvPA5Ww077w5N3s7B5es1112ub2OMp/ho7jf7HjD3cjbwG90NnZZUywWI2Lr32QJh4w0eMRIdcr99KUMuYmUfdcOjeoxs2EAbBGE/D2c1J0hfrTU4y/QasK+HRi0cRuanAzwd0hrBjxo7RF5Guw52sF9744s54Z3QKHZXrtttuw8H+Q/LWm2/pehU7gR3Dt9i+/rWvymjcRPiJYP5IANfm++EbzbOwGfPlL38F35kYrDOFfgP6yVVXXKnHMzvzRgPn8nPG2R/Hkvg4yXOofGsvZipldnFMY1kXzkmC4jPqtJHkLPBnEXWBodfZXPydvful+TM3tPQ8y+983S/N39EAVQF/Lcem8VHtLPDX8snlTPlry5yv+6E+5nGEWuvt2tj4O9/8M9HwQT+czx40ZDDWf2+Q4djE7MMXnApcSf4YP3xTky8njRs3Vl566WWd6a5etQY3qZM4EXe53Py5m/H7DNfpkgSr5Bj9jS//hvTDkuzzmCDyHRaOQ57BvwH2ZTpeTPxk1SeYgb8GG9JXl2jpj6gaqW+Mc3K5ds1anKTrontyfLnxC3gTtR/OiD+Fo5ObN2+GQa2FDRqn33QZB5/r4tXV1WpzeGSTLw3Nwdvx/N4Lw3Qp/qSl4ab/LD59sA5vuK9dt0GXkqdOnYI19Fsxq78G7eunZXnT+MY3v6Zr7K+88jJexvxEJ5vUu+pR1TJz+kzcfG6UwVhBKHZn0P94jKEqJc41y5NZGcI+y/JsSw0Kx+KewccirAliQ0N/wYRZ0aEu/MeqjNbH86lcY2NnZQ6LHCjLkyq8C7MAluIwFtuoUrXBefLaehx/JDveUfHoRcdTMuRrj2R48wrnSXk8knVTRNal+VjfT/nzlWrnTxreMMAeTwH2hqo2OMjPNfw6vFHGc+6VaDc3X7KWZ/JbGW1W0cWpDK4YS+g8jT6dgnVK/N//4H35DmZCTz75FN7iHRXKaOGii9d+PvkbE6/Z/Yw1H6XvuusuHUzjJ4w3zJSsmDbVI6uhcfkb45+1JKs9lf/Djz6UO79wpzyO/ZvL8KmKiLkWbHr+afuyFhIbugr9/YIv3H6n3Hf/fVhKvCKqVx49j7lvpQuvMVcDMZaQeRp9umL5MUqkjuvTGH80fvZSTlqOZUo7UvElxVqcy+dyplofkHO9ncsoXLLVAa8dBFoUqMP7GXUnuM+ACOyQjz/yZxLz+STBM+RmSrDfBlvA9zs49jm++VRPn0etuVmmv7amz0GwQbATlIP5dbA7bWg70A6lpy3CZ1BAoXRspymwsg7oQBKs56vdQ91k4XSUydfciQiytIx91oDtY5pelI7yk7/JwRLF+BfyJ1VWs3EInxRwdiTwTnHf0tyux2yl9HLuGy2FAQ54HdaNtq1cxRpBHutj0SiulSeofK0/dSmHdm3CI5GWIxU7D0YeR6r4KObO71kEiRsS2i5B2Qb4swPatCnxaAmh2V7d7GnPaZ25bKEmbV2UMioVGeZmMZE/aLVoqfJZPeyTiFeSHPlTO9gxqg0ZgSt1k/M3ISIqIRDlZzvZfrYjeEEexM6H/I3wb0z+iKM23PFzn4mN4H+O/NMnCO3HXDsQAXiGnzZFc3nJ2l1Kf1AMekHj1Jj8jfIvkB+jRNroEozzdd9axStdQ/z5sl+7DrANSoRL8gTFJHOGP5vP787QpFiK59M3vm2RX5hLY007kcrPEnrOHMapfcfS/NsU2B21RW065HqY9dA5/mwXbypsY+ry8lsLVQY0m2+m8p9VnOKX1uDhM9c/XfwOw81qIQ91MaCxYlCZbKleXu0LUt03UJmQzmytWKwPAS+PHBM0H9BYpNeYX8r8iYSfrcdkQV1rw/8kfzkJ6hT7EIE03NL9X69WM+h7VPsYUExjew3icLVUb7/j7v750n9yUU5FjWge/hS2iLUiUOZPGJq6/8njTPHX6WdayGYGVOos1VQ8KLprLbkF55Q6OUCa+5aNcoFAa8Al1OTFPVvjZf6EgQg5qo5XQK0U/oHcf8ii9eFvbdf7DoJBEu1vXjJJkaeRIFCgMPpQqpT8gc7ldt+SUe509Q8FW5Q/GlyKP1/i0Wc+QtCU8jfAv9nwL/Mv2f9ng3+2rgBQOeRsDOBqteXTGEtGjeuYkkZ61pM61miZWjcu6qckMVzmb9jgGvFMMCGSDeEPq2lGIYIZAqyxleDPpuCPXmmXyHqm8kf6wppPX/4KPPJY23CN9SVtQtUN4h/pz54/mZbmj3R0Llm0DH/KZC0r8zcciEhrtn8Fht2Uh41mP5quZoKEZM1WJQw0SpEnCzTueb2Z9msoiwZCp0M01O0KldXkISh7mb/2kULPnizC07FyXDOC5sSfC3HGr2X4U4eMcwP8g+7SrEaKVqR/uqQTbuihqdrZZf03lVdMMmBc6RPf+zX2btDHhESDTodIK+r/tJWZmKe2f9Gwu8hZQTepfAikcwoPkpJDoZRLaEO20VkZJimESWEvkSSFusv8G8cfqDmAincuoimGK6+W15z4k6PtsrQMfwJwSvnDbNhbSXo6K9Py+sdTWnqS3btVfcPS2sj81DlhlnZK+UHmJdL6LNzy8lvbvIXeWLaubH/S/sp6Wz9lZoBFgoifB3zjM1K4xhfA6grA6kHrxZUbIiHOj+2Yc98yPOZ0sUAwCZEpCwfifLd+lvkTQ8gfQUQg4G1YIxLiLYG/3kT43IopZkvwV+FPKb9rUoZTBKwV6J9/z8T13n1vtfdxENEGSBZR3WjJ/m8c/zikM9i9wa0AfxtWcXDFxrZm/DFj9wYHTQjRTC9Sg2kq5Fc9peSR2AGhb7xaVStE8J918mUEuqx+JwwpIZrll/lnWCh08ZLhT9Bw/jUQquewKtaI4D/TWwJ/rlyTrx3/skaGpmq7cYELKaHdWX65//kRPe1AeonL+p+JPgELSAYcmaMGqAX7v8wf4Dcz/roUY5sAnFdlw4mbNebctzy9OplmIZLbRUhVkHlZ3GpKr8ahzJ84nAv+ds7Ru8F7TMFvJfhzcNu6X2vsf7aJ82KAFVyr0n+MRX7glk5b6M1UKBHxjg/prbH/2fa057M2evPPRf+D4GX5CbPirGMt7MsgIYVbaSKhx5SCsy8m6AUpWQWaGPBFPvMiIQOhTKTQpKy4EmtaeklTNVzmn8df39YDYgHriG5rwT8YHp0raONiC1tJ/6M90Cl9qSNVvBBuef2z8UbUyvpPEMr2JxtG0IjMgAIcw8YmUarANtjsahoUwxpI1dsVTOvxixobzswiJTrAHO/G5nRwZxQhlZ5ROB1JYlgDsVYtozFeNM8oef1M8ofhJNStVX7qnfYQ2xg7TrsxuSiF0THVyzCsWVqQMXWxGq8YqQyeTf+zLv00KxpqrWBCYItgU/MnC+dWir8NIzRIhTZqDfJyHuS3Go1zKf4tLX+ZP3so6XyPnaL/bSlGexZU6NW0ePwOsGUpVRHIWiArG8urhsSYGh4ysJSgPjkvq8MYoS3+iGlZZf5EoABXAxQGCRaTM86IeAGdGYeWwV+NbZiut8b+5yKHniPA8ZOIH9Jai/4ROnan9mFBv3r/k4Btj+0voGvJ/kezyuNf+8P1SyNhLLtnnRz7TzELdJZFGANxQqVBI2DQc2wpRgugEk9lnC6dwVhKMQ3Slb2WDQ3Rsl7AfBvXziD4pm3Glkbcs71omb9h63jQL8QISfrwBSz5UaXoCuhaFH+0RX+aTBvBFobGtar+B3YFmLUa/We7fGgVttGzNN2JMogRUtei/Y8WlPk7COyO0IlNqP/ZUgyfl90V6kcJm2ukRpiVTB5lva7gK40TopitBHkCiMr8M8TOGH/DkXP2pGhWH+FlzOFubvzBr0X5u+inkp/7FO4SEDXV2+/50TfCrGQT6T/uOdq8jFFoQTPxb2n5y/zj0I2qp4GG+z8z7CQEnZK6AiVLIfkKQyzOwEI5lPaiSmF8QyYjZs6Zx0UDz1ZaXpCgaV5Jmb9B43hEoELA8Q+4ccaeI3WA1eelhfHXpwoXqXX1v56CCThGEFuR/mkXJg9kiqL3v/YsU8rjr1XrfzOOPzPsqjXQC6DiwGhSnEU7QdQgalFGHINeWnOzfE3mJawBB7LwJBKsuVXiNZT5E48cGgZq0hWxs0BGymSF3Wi9uPoJRUhvLvxpf7Rt/MojW9bM/DOmDekfbjIEQ9tp0LUq/QsdBfiysZLgmAUDsCZCxLlx+UOB1iq/TfeskaX0HzkmeVl+73r7eHkBHnbnTxMRJqBMSpNZi6Z7psdjBgOxaEJlaV6X+0ptJfJGCgReuJD2s8gfM8nDR47IPPzs18oVH+OnBNfrz3P97x/9SAbgN2SvvPIq/CTgjfrB/pbC/wh+zeoF/CblRx99JFvwY7+H8MPEP/7Jj/X3HadMmSIzZ8/SHyvRLi/sU3R2U/c/f1j4ZbRvGX6ibdv27XIUv7v5b//2b/Lte+6Ryydf3uT8VW1dbvcT/T+GH2t/GT/WvGTJEtmFX7k/hJ93vPeX9+oG+VT8bm90n0X9j8IjUJYfNllBMFRCEIYdj+eYUvnk0NLzmqZpSEqKx3CcjTnYsagHskFqD9+W7rll/meOP/uhDr/29Oabb8rjTzwhB/YfwM+CHVLDxB8D74ifEpyOn9fyxzE3ks2Jfx1OmLz91tvy4EMPyL59+/WnyR5CmL/vyB88mTlzJt8Jgjtz+a2UzTHOVv/qa+vkrbfewu/q3id79+7HL/rUyAMPPCBTrrgChn0yWUTXEvrP/n0b7fvFL34p+w8exE+2Hcdv+T4sU6ZMFhp2H4tnK395/Hn3toz+NTX+GFpu1Kkqwfir2mSCayOQbY0JdCE7a6DTF/opRbKuimq8JruphJh6Fraawrohksr8iQjwAGDd8ePAI/Cbk4MGDgQuJ/GDvEf1B3Grqqqlqqoq+SWplsG/G9o3vGq4/tbj0WNH8cPBR/HzY/yh4VFSXV2tP10YejxMKkJMPQs3Zf93wy/GDxk6FD883EsOHzqIX6g/igkOsNUvbjU9fyq/cSk9/rp27SoDBw/Cjyh3xQ8j7xfO4NvpLwnZ7dp71X3DqtQ1pSiPv9izjeCfIXlh2h/TEpUiKIB6iQIEc0oSV0QNR4Q8vSghZOCOqPXbxbggBYHAMeSGmHpl/hlmGUqWZnHu612B2eVll12Gn9nCbySGD8VcccVUuXQSf7cTTgu0HP5TJ0/FstAV0qkTf3Qcy0dYjrl00iT8MDDaBzEyydjYEFOvefp/2lVX4YeGr5eO4YfLx40bhx9S5o8ONw//xuSfdtU0ueH6G+13RfHTjxMmTZQBuJHT+b6uhi1Fr7lgC/d/S+vfZ5l/NOz54Q/VTjWH2gItzCli3Hnz9CTX88LaT8wxywSt9BRP4LDPwsquzF/HaLwAMkdN04DtJZdM1NlvzfHjupzWu3dv/Jj1aPyKe/iF8xbGfzx+9X3MmLH47eB6aYebTx/8yvvoMaNlyKBhQaysz1ui/8eNGyvjx4/TJ6BK/Hj5ZKz9u+FsDfo/HjeaS3Hjbo/fF+3YuZNMHD9e+vfrb9j5GEPM9CLRDs9r4f73td/YMu/u8vhvcv2PB5/xQBiY0chSWyzOx1N3WYjKlNEzP81TVbNKvGioM0RDUX3ICQXT+qxomb/iegr8e/ToIaNGjpKxY8dKJX6Ffdq0aVI1ogpr7J28E1sU/549e8ooLL1MmDAR6+ltZOqVU619neyHylu6/7t17yEjq0eifRNggypkDG6KfXBzbC36161HdxkxfLiMHTMGeyp1Mhx9y5s3XTpeGA/DiEE4jB0TwqK45qLl8ae4tLT+NSX/gu8emXqEfld1iD/IC9XI0oO+JNqU5Vmi3ZQRDjRZPqu1RE3LZ2jFWRJ4hhsMK8rSy/wVAYDMGfD06dOlI35d/Zabb5Ghw4d6FvyWxl9k9KjRMmvWDKz5t5UZM2apoWot/c9frB81aqTMmj1bjzsOGzZUevTomehZy+of9b26ulpmz7lJx8ywoUOkJ9oXXRhbjGdjwxLL44+otLT+txx/XYrJZuVUDyqGKUd252fc1h09BwlhRSWXonTMM0XDNVaZ0EVjTUrUE2elkdgyWFiL8VLmTxQSFBX/kdVVMJgzsBE4RK65ZpoMGmDLMERSwY+QJiWbEf/h2OCdfuMMGTxwENp3tQwYhPY1I//G9G941Qi5ec4cxW3YsBHStWsX4OZYtbz+jcITxRe/eKcMBH7c7O3Srav2LC/ReGcpCMWet3AL939j+LPp5fGf6JvqXhLXIC9nZv/a/imcPtaF9TjOi+O3qKkUqieZsliI3ZFXIWtKeEBM2hUJk8FcnI1ay/wV0TPFv127DnpChoP+SmwGdu6MjcpigIFv1nPF2U2HfzssEXXr0U2Gon1cKurSpUuJ5jUd/8b0r11le+mANewTdSdkxvQZ0q1791al/1z7b4+nsboTtXLjjTdgxt5DReLFetSu1qfl8adoFCt4i+l/Y/pn/Xj+9R+nu7IfK9NG6LAzZclZCIKF5OAZKa4WbyDTqZDNN/uC2sVSLJ2mGnnKgWG6jHGayxyLh9TCTBLQIf1i5n+i5rieFe+NzUkagiLXwvLX1pyQXXt3S78+faVtJdvnHdU6+v/4sWOybv16rP+PwP4E1/9bl/4fP14j69auwxr7cD3B461jPxuSAU+HlRmpQ/rFrP82l81sRCq6hj+D8mPznwd3AzQNKEYDyUX4NZSQK88IXdROy9VrjtDIeG0gOSNoJJQrzwhdmb/hkJqGHFAhG14DyRlBI6Fc+VaIP1cCa+vq9E3YivRjYEGuXPsbkbVUdq78WcjPEXqyrhY3xbaoPipuKVYl086Vf658SQ6nTsyVZ4QuimG5es0RGhmvDSRnBI2EcuUZobvI+cOwhwXunPQme7yShI/y8LiuFzGJBA0HsmpLzc6SchlhkhiCZf5l/Mv6Vx5/Zftz2va3xFJMakwZLm3GT2WH9RYbqildPJQ+VUepMS/zL+Nf1j8fSqlfHn8NjQygRHDclVSfi9/+4MEzQSEJ2mZbLhdQBQJ4ildK70DS50YoCGzXPpbKKDwDNDkOaX262ZfLRflAYNXHaFZxCJX5l/Ev6195/KmRKmEmPgP2J5ux02YSCPeLrGWWYCQNExbnFKZk8RjygPsZu6KQkTRMWJxTmJLFY8gD7hdxzRKMpGHC4pzClCweQx5wP2NXFDKShgmLcwpTsngMecD9Iq5ZgpE0TFicU5iSxWPIA+5n7IpCRtIwYXFOYUoWjyEPuF/ENUswkoYJi3MKU7J4DHnA/YxdUchIGiYszilMyeIx5AH3i7hmCUbSMGFxTmFKFo8hD7ifsSsKGUnDhMU5hSlZPIY84H4R1yzBSBomLM4pTMniMeQB9zN2RSEjaZiQOdlWUbi72bFD1sVs/tHBT4JG2sBsGoRelZXlNUuxahDXQELrJHrskWVIkDBNgkZa5u+QEK0UK4fS0nnNUqwM4hoo4x+R8UBZ/4LaUEFcw+AnQYOqPP4cEgPMY8mYCki2xPirwKEYtISNcs2OrckFSlN4qvu5Ivrigb05WrBxCvK4CatFS5dPaytN4anupyXAg6Lpkk6ZP9Ut9jDgKuMfNF5Vp7T+pNpUmsJT3U9LlPWvPP5azv7oqZicWsZIDOS1tUTMKePhFSSoPXVaJ/B4gZ/LjpEYKKAujjrlZ4n/cXz46xg+NXsMZ5z5co1uK1S0lQ4d20mnjp3x1wFffAzfeHOAiqHTlFx2jMRAA6WyZKd0/OtxPq/m+DH9FG5NTY3U1eI33dBAfr+ibbu2+i2bTvhmfDu8GETn5fORXKpmNXRxSufvfqR3gpiQD3j2gQMH9PPH/PxBF7yBqt/cyZOWjHl55+t+JHaCmJAPpNn1dfVyFD8CchzvJhBHOt6QNRQDvGnY43Z3fGKA7y5oFtL08FDwtTAvLBzv6jE1BnLZMRIDka6hgFO63O5HeieICflALjtGYiBPXCLmlM7X/UjqBDEhH8hlx0gM5IlLxJzS+bofSZ0gJuQDuewYiYE8cYmYUzpf9eNxx1DAiJzUEnNpXroEg9JJWV0awiXOFksUyPEK+bm0Mn98EOqkzH9jvjz99FPy1ptvycaNG6X+ZL30xke3rpp2tdx5550yG98/6Y63KNNR3Rz4c5ZWV1srTz/zjMx7YZ4s+OAD2bJlq9ThnDg/jzsaHy2bgW/H3HH7HXL55ZcXaUCur5u5///qv/+VPPHEkzIYnz34d7/7ezLnpjlmKNEOW3iAdWxi/du9Z488ih/UeOedd2UffkClAjdEe4WwXm+MxJeN8jH053/25/hC5fgiHLMEQ5Tx5uj/jK+Hyvz9rtqc+Be8pugP7FRgdIze5ZM0KgeUym/+ruPe4Jjhfao+qa0yLYeLl8+RaSThVeZfEv+t+Bm3p558Uh5+6CFZ+fEqzOrqMLvsJu3xRufe/XvlpZdekpUrV8q7774rf/D7f4Dviw+Qdpgls7Kmxp9vN67fsEH+5Z//WV7Bz7qtXbtW7WD37l31tfj9B/bjp+iWytp162ThwoXy3e9+F9+RmY4Pb/lr8i3T/4cOHZJFixbJc7gZLVu6VD8xwB+2ML115Exrm1r/D+HXkp5/fq4sXLBQDuIHQHhDISo+Hn1YcGaOryHLgf9wwLI8o2hQsd3l8ee9SCiJSGnXMvqXteX88S8w7HFeotIn6hB5Z6CgEZw5IEfTsoxImwWcLlI3oIxOZ5WW+Ud1VCgPHDwgSxcvlp//67/Khx99iJ9JmyrXXnedjMGncdvicXznzl3y+quvyZKlS+RJGP+B+FGGu+/+lvTBq/yGZdPiv3nzFnnl5Zfxc3P3y+7du/WHQK655hqprqrGj4G0lUNo/5LFS+Stt9/GDehlOXGsRgbio2WTLp2EpSN8ahiaFFsIfWqO/j9RewI3o/Xy05/+FL/PukJ/DEQVmvzxl01jTJuRFFzT6D9/yYn9t3XbVuByqUzAbLyysh14Eg1zbAPNPVvXE78ApW3KGhaoUs9xjeha6SwaiJ1Oqw4c8hVnsaaRPzYJjCyccWQjs1iZ/6nsbzTsDmgGnINoM4akywPipAS4CdQE3pzX5nGvy8owpvVx2hGcl8hSvEyZv6F8UjZt3CSvzX8ds/H3pQpfJbzrrq/Ib/7mb8qgQYMVxRMnTuj32f/5n/9JXp8/X371q3tlDr5c2ANLNJVt2dVNi//qVat0KWPNmk9l2tVXyz33fFtuu+1W6ec/DoEWLFi4QLrjO+O//OUvZe4LL8icW27GD3APlGHDh2nrmrP/ieuWLVvk5Zdekccef1xO4Js2bbAvwf0KOvW5FAK65tD/Wnzo68D+/bJ96zadNPGrk+zjSnzorUIwPceV/6Ue7YF/Emn8lG+x89GU5RiuvFpeefwBh4vY/mC0e0cHJYg64QE33aYaShWCebPuA4AUIPDiWgCRsCiY/XC212eEHsvKeQVl/oZNhazHh6oW4BG9S9fOcjMM4vU33BiNOgHnj218/vOfl9WrV8nc5+fJhx8u0zLD8Z3xbt2w3MFuQT+YPjvi5wd/fHNI1qxbqz+w3aZNW/n6V78uM2fOCEY96/+pU66QvXv2yfLly+WFF1+U+bhR8Sf+hsOwu6qo8YqK0HT9f+z4Uaxlvy3/+q8/w8/PtZHO+ArloYOHlXO07miM428NxDVAd771n79tumH9Bmyc1ki//n117Xzq1Csi28KAjxBLL4+/rD+o6Fk/aeQzZn9wbCId4BkYxMUcFaa085mN5foAMExjtcgk4PyvWIdCWZ1l/oZfQCTAkeGT4c+lleuvv04+97nPya233ipDw0w9xZ9fJ+QMnbNibrRxSeTIseNNjj9/rHr/nr2yf/8+8KqQyydfLv3728+4FfZ/nz78ibxx+Mk8PIVs2owfaz6oWqJynEJ+kzO7nqv+vf/e+/Lcc8/LduxbfOMbX8dm7mTFjRy4f2RjI8OfKak7V/5WV6b/Bw8ekk2bN2m/jdBfS+oDkubjr+1pRvwL5S/zBwLnCX9dirFNUD6cJfe8cIeLnMws25VKzwZoIxDROCIhPbQNBMzzGaLXZLkZDUhAZutFZf5+e9Rv4itIjtRJ/TWir3/9m3LHbQfxS0lD9Nd+DGP2BeiA4348yu/ZvUeOHDmMtdlK6de3n32j3bsraI7XiuTzgn+HDh1wGueLUj1yJHgflUmTLpEOHXCcUfuWXLL+r8GS0VG0j47l2rblGnLz6t9WLME8/fTT8t5772Fm/P+39x7wehVHnmgpJ4QyQRJIAgUQwUSRwSDAxoADnhljbJx21/Y+r2c93p19v5nf2vue39vZN2N7zK7HAXbsXSfA2GMbY4IJxphgk7MESCgBCiggUM7v/6/q6q7zfd+VLle60tW950j3dHV1dVX3v6v7nK9Pnz5Hy6c//Vn5xjX/iHn25xVK4l+ZfknOjeqkKRotMk7gKNPwJ7wFW6a13/9X46LIB85UOGnCJHymb4RsxvTQarbpiuUyEs9KuLxxIJeJ0oga2nP26/7ffcYfHdh9qskHFbhM5SiOmnwJtyoKgTu0CyRHy/Dki4MKmk4lQxzc2r5Bsyv8hx44FB+CGArhgD+zAndyXn/9dTy8vEceePABGThgoJxwwok6d8017fnoJPx5EeFn+o48cpL+QhiMdeq9evkPwtLenMdegrtSTsXwYn4ELgQjRtiqmF3VP1UV9Q31p/O8Df/jr4Tt27fKLbfcIr///e/1wx+cxz72uGNk8CB8pASHTlcxhGKqdvVMU3o37EOplj9qdf9f89YanTrjahfyHsBS1gcfeggPUpdi7n012n6YjBs7VqZPPxq/iE6Ucfiqkr477gXUMGHDwtb9L8Fc/G9n+O8N/9tb9nVgpw/QjYlChgBOkmkl3HtUODm4Zyt5qSNL6m9Vxope87UsYcr0XHRoKk61/eiXVcwco5UrVsqiVxZi3voNmf3ii/IrPATkQ8x3nHACVsRcJYdiIOCqCsey0/HH/PoQfsUptGls/wVYgfLoY4/L7NkvyOAhg+XUU2fo6h1vbS8nnSjTSrSuvwmZJM+78r8NeHGK+PzsZz8XLr+89D2XyeWXXy79cGHiB7dd0w5ck/LHKfag/Z3h/xampPjBD8xR6fOKl16eK6uWYyoNv274gjhXRQ0beqCcdPJJ8r73vx+/3C7VZxj9+rMbWx/bVf13Zt91uG8ZFlC9l+pf2y/j5O76vw7s1oDWk/zuQbuIzZEQ77Y7WfCCmLfRGWyM93ug5DKVoLZPzCKGeC3YGDvB/4knn5Dvfve78ugjj+GOfZm+sci54vdhWuTDV30U0zBcRgg1ivW+xX/9hnVy+223YZ327bJly2Y5atpR+NzbWXLIobjzTE72duvPbK3ytvK/7Tu2CadgvvOdb+MXw/My84KZ8t73XS5jx9nKEuyIp+oIlbYF4n5HrPAlfrWRyGz23Vb22Qh225O0hYB316txcV6INf4cxJ968ik5GM8oJk+ZIpMmTdIHqlxjz4erd999Dx6MP69l5MtoB+NdBcIQsXu79rVcKE/U0R7/U8M8NeSt7VcbZG/3Px3YtW/4IEI/9QOtnHzPOerDJWKUypgSMJTIgcvqnYLdLgQZ017bByQdxH/58uV44We+jBo9UjZsxJ3dm9tk3rx5+lYqP6XGB618A3Vf478Nd6E/+uGPdY37C7hbPwJr7/+f//crwg9I9+2DF6g6WH/6V3v9b9mS13X65Ybrb1D7l2Ap5oxTTzOPVfvRbeGVe9H/1+JlpFVvrMKqHD5IFrniiivkyiuvxN35yfqsYvu2HXhh6S35+U0/k+tvuFEvTF/5v7+C1USHy9nnnCMH4FuyCQnN793QIkhhder+lxrYx6juO/7owK6NHy/VVl9j84x4TNYEPQVgNN7iQpCEFcqEJ/Xln7muLBqo7ScHTMFO8D8bHzg+FHOthG/duvXy6OOPYV32PfLsc8/J177+NYyXO+S8887Tu7rc2fci/rS/ZMkS+Tlek+eAOnv2bDn66Oly9SeuljPPOEsOwJ4s5jruHIh1QvtvwhTMI48+grX9P9YHkld95Co54/QzZdCggRX7es+u9q0QWiqQ0T0tA89BRpkd9//+eA5y7rnnyjX//X/IGuxZw20XjsZD3eFY4aR30yjIyFEj5Aq8t7AZv3auueZVWbpsiT5PmYgVNEcdzW0FOm6/UkGrVqqRVbOz61/b37P+XwZ2NiMaVC/qbsPvojyuTR1O+Q7AXdx/aiYZdxANeaKc/Rjl2ZOTdG0fgLxd/A8/7HDhH7Hcge0FjjpqGvZkGSjLV6yQJx57AvuO/ItMOHwCBvay9JDNuTfw54NSrqm/9dbb5IYbr5eX8eLScce9Q/7sig/K5ZdeLsNGcNAKRwfq7wrMl9y7kk5jql89jTd2b7/jNpkzd65cin1qLrrwIjl0/FiMJ6EEtE8kyWKAXxnYSc3ioZiZ3IP+379vf5k6ZapOS21Yv16fOwzQ1S+lfH3w/OKII4/Q5xJHo50feuiP2ALhWXntnYtlGgZ29ijrXc31t7k4Vqvuf0R0b/g/fQiG1Jf2Nv42sHsBUAh3I2Vlp3cBLyRCHi6cycCI6cq2tEBaXclw9aBNKrFq+0QRhwNUJTNYYBO3Xuj4R06eLDPPv0AWzJsvL77wotyLlR8fwF3eqaeeIr0x5aH4JpBt3i/oBD8lmcXdwJ87T87GnjW/vvlmufGnP8Xc8EJdyfGJj39cX6Iax3ltr5aHe9A+alUqA70P3P+A3HP3vbIdH4U+evpReIv3FXlz9ZsmwwG69w5ZvGQx3j7drEtG+YuHU1hDhw6VwyceLqNHjlaVucxRfzbl6JloBlPZlhbIJv/nBZl/PAhJORwgFBP/Ro8eLVOmTpU/YT+gpVgxswYPVYP2ks2YCYcgkfid2f5aiNq+tYXisHfxt4HdGyC7hF/XnQEB961GWeV7IuQzmYnMKpwk5ro8dHPIUbnzoNt65kZZ5Xti97a/FTskbsZ2rpyPHoDlhH10bhp1zj3U6n/4hAly6ikny7XXXqtLIN944w19+MbdFR0+RcwjHu4B/LmccBvW6/FO/Vvf+pauFV+HO1A+BPzSl7+E6ZczdNOvzrKf/aQQSvFOfe7cOdiMrL/84Ac/kB/86Id+E6XpuC8X7qzICxIHyv/+jW/Id7/zHfzCOE6+8IUv6B2+gteI1R7yvx3AbAt2xWRIO/37Ya06VunYAYa7OEg+k/AppK1btukvtdB0aSD3DCVr4SSe18XDoKTufxEU0A5eZBMv5Xuix3MCiZw1SBnPdXmo0pZjd/HHwI4fn7hj8ZszM161pDywmgrGQoNfKUTO6kQZpOPki6fW9tuP/+wXZst9uAPn26Sf+OQndU1zHyzTa8SfS/f6Y+Ann1MLHCy2429v4M99xBdhh8f//OX/In/CVAFHT+558qUvfUkmTz4C68a5Dj+NPUq1v/67638AAKtxsI4ec/7Fm80+PyXGCxJXpGzbvF0H+d7oFGPxdu+G+OauljnkRr5G/E3EPbx9/s877xewXPWV116TEdjt8uyzz8b6/hEJIdiAOq8/L/BaJqQewJ0zdQO1VDA3y8rq0T77df93tBraE+z9cfzDwA63VB8wt7GbP3chVjY5BlgVOcMhu0+KtgjcwZgUhhbo84tCRa+aru0TKzsK/s8985x8//vfk00YaPiSynnnvTO/tp+ENViFO8+FCxbyd7sMP3A4thgYhpUV/Infufjz4x+zZs2W//bf/qv8CTs4Dhk6RN518bvko1d/VB+Y6puoYQTZm+3/GbxZetFFF+XBkQTt67chSePfddf9T3ns0cew9v8QrG1/r5yC6asReA7Ah72Ur/hpAtxbKeJfpaNE2/hzK4Hf/va3cvddd2Or5TG4CE5OA3tpf7e/Chf2F2bP0ov1VPwSGoOpmbaP9tnXCsI/6v4PJOMvYDS8Xrg7uf33NP42FaNekRxAg+CAeYDJplXan6sygjrHIcMZKWSXKfc0ZsVQii5HDXrU9hvQLCjxpZmNGDznYlrhlltuw1K3CdiSd1SaO7dWWLdunT5Q44c4OB/7jnccjwdxh+IlJe7J7ih3Dv5cZnnzzb/SDcgG4eWjd1/8bqylv1If9vXHBmXl6Bz7XrvkkBX/O/GkE4R/dhhWpTxGcX3485hbHzP6IN0O+fLLLsNgnvBHFstl8T3t/wdgT/2tmIp5Blv2Dh48BFsdPKpt6/vtsIS0z43gHnv8cUx1zcMXngbqBmq2Dj/UyUkN6/7XE8efPLBXmx9dJHouvQr+XIYYxt17nB9SPS2FOcWz2K0alDiDVISf6pHmnaq2ryBPnXykvBN36fPnzZff3Xs3VsBMwUc0+ulSRu65wkH9JbxVydUffGGJy+MuueQ9MhFz7no43J2A/4YNG+UxfC3pX7AKZ+26NbqqY/xh4/DlpO3yCB7yqQ/APi9OvgMtW50DGlftDB+ZlvVZSfdJ+9M0IdKluPC/7LdMQKQadzCdH1I74P/jsQPncccfL+MPOwxvny7AhfvX+nnDk089FRgdoNNpnILjh1R4Z893FvhAnDtj8kUmLwWLmvtm3f8Ul9wy3mSd4P9dDf++6snqtLn6xkqDKtch+12L46K+U3VzV8MkHNClwo06LdWz6lCelJZ7es9qebujfX7GbsvmrfjmZz/Olihc7an/Mccer/uv34Ptbl/FXCwfTnIb33e+E1MyePvwJczR3n777fI83qocNGAQ7jpPV3nuFFhpjtQsbeHPuWauDhnAPWaQsT3tvwirTPhVJG6ixfblvjXf/va38QD3Oq2gXbhTY6sbQAj/jz/2OPnif/iinH/++crlycqKRNIt/I/PDLi1LXeyVCWUyxSI3fI/lNQKoFM1jLSn/tE+6U240A0Y2L+a16rkRUaZ0eop41Bc4GZgEL/yyg/JN//pW7o1BD8Awgv5O447XtZji+F7770PU1wPyTLMx3NVzN/+7d/KVIS8uEf7u6o/22Lzpi36rdQ+7Of63wu3a/wN4SLP+NuxT3uWp9S/Pf4fbUR505VhRRQGVLiUsRLtAfbtK7gKc4EnwuFOTaQawYytGfMQWLsoAs50dSzpsMOeA4dSXjVBG6WwSqfqTva5Tezv8KWhy/BTv3wWbtf4DxzQX045+RS59rrr5BtYtfEwvot55513Yk/z+7GfeB/9Kb8Or+3zhZXLsP/JZz7zb2T82MOwekYvHzRgxy7wX4X9Z27Ha/+XX34Z5nlHeqadtv+C+fNl0YJFST8+2YY3KdetX6vtz6Xg7Fj0BU7y8QFlL0xu899YbEXM6aWcsWKldftz9Qp3Zrz8ssvxxi23to2dWrvwbvkfP7qthw7qjl37/Z/79vwam4xd+p5LdFqH6opPQ3Mb+B+JNeqf+tS/wgZug/B26fVYrvqCvDz3ZemPdufFjL+KuFEZ3yb+2Mc/pi94cb8dHkX/ruvPj3mwfBdffLG9uKYaeLK8UVfd/x2N9rc/W2Nfj386FVPuilgJ7YIISeNP2zo5Czg8clVBxNl4d4wiowJJJXT41IqHqg3J2oGolX/d3/4KbAPATajOw5uGHNjbW3/CM2ToAXIyljL+zd/8jczCKpmFmNdeuux1fet0JHZJHI+XlabggRo/cDzx8ImYf0cTK6Ttx3/5ytflpp/dhDchz5MRwzGwp9vK2DJsuuy8KNi0adPkX/3rT8rMCy9QPm1aa+LMgUwZoPkfUXYTng86aIx+/o36PEehmZdsPSnJNL56z8/vnYW3brmVguVjismRonY9mxnQSHO/81BlkJL870MfulJOw5efhuOB6XHHHwfxdEVqsG+6kQ9EK//n9rs/vfFGOX3GDPvQCIvVDvv9+w/AFgvj5aqPflhOPPlE/AKbI0uxt836TeuRvbc+BOdumMccc7RMmTxVBuPhtF92rCrtq/+beLOV/nfiiSfqwO71N9S0sFDHWuJPVZremEJ7bdWfaYaRAmQ62lH/2j5Riyh3HH8d2O3e2RsPsQbdoZnYZvnIjQeOZTFNlbJRWgVNmtGo3pKZ1nPsr8W67jlzX9Kld2+3/lzDzJ/t/Jbo0VgZs/z1FdjZcZWs27BeX6g5BFMyI0eMsmmKAjnMlMiu8N+wDjsgYlDRNfOazfIWDSy1azQuH+CNwuqMM87cgqYkDz/48dJP3p/EjWoKc9sdUB9ceAbhIeDbaX9Oc8yZMxergzYin9k39bvnfzMwEJ+A78hyemKgLyFU9WbDziy7HZEb7W/asBk7SM7R6ROVDDoYdyhcX+x//bF6afIRU2TCYZPkZHw9iSuc+IuGvyKG4qI+BvPpw/nx78aLUzKkOpsNINWtYZoI01j0vw1Ys88j2tdWiflD2YsGzZY0GjfWv0UF1Yrl2nn9a/tojT2Af1/qMB+xBtI7kOw0wYIKevfzJvK4dVJtUKpp9ADkjXvDlLscm3ntifbtJy7r33H8h2F/7gPxh13NDfTURqV1EvW28ac6KvM/NGjSnYJswuI78EJNP+nfFytfGtuekhCK7Z+VISF5TtbXHv8zYSp1TXvG/wZju+HBVJorQZrHruuvg6NnJXbEQS9wDEmWmrbH/7kV79ixh+pfo32WyA8z+Tbrz7Kg07Ecml/bzBquPfibpJWgQ/Yzxj23/ycHARJoh07AHzOdbBrrIEbGZiOdJBI7pjKfxdtIpAAO+8mWZGjOHZ6V6oH2d+hm34ShK9ef94hss67X/uax5ntd2f+Sx3c9/99uU0x2Oaj7v45R+eStRkbX9H+WzI+2/B8tnJLYvrFOnpNsnSMFARnvVCF5p2RRa3cHCauQp+fZ76V3w4ang66sLoK/tXFqLxSza7a/3xIEV2pB7hP/C+24T+wHHFrbtxaON3Jdyf9C8ZXsmv7XWMrW8db4R9nOGf8wC5qO4IzK8QdejNhvBR2DXCznS9krARPTn8szc6FTbgSJUt1VHUkBmbV9gwYAOoYZtwpoKeLQIXR5UoVOuREkKgqaXBduf9ajXHZaAMBKpb9S5/bXXzXuTv2x3YvZjzYjnVBHkKgK/rttP9WdylvW328sILBP7LtVGK/ta2vHhjLG7vgfQM1TMeZMyQgDHUwb74pSMyBQh8mtEvJpXhPwGZcmMU+AkoqFKNit7fOHkla+S9ZfmwErQjgPG5skd0Mw92X70+f3pX2CsjP7vXi7BIEdvTjCZ9SUNobmVpkKwsiWj870f07FqP/xYhOMBrLu/2yjCjqIJ4AQ7Kz99fmUtr+1ZoRVOXth/OO6hWKdZEMpUqrJJFkrl9cuJYXAdXreRnjswZxlcFm122Pso8PrFZlwJ5SIexepv5UIBWpq4pSiQVNi9gCvk0k3d4891v4Yn1ode82+V7ChENv5DAVpvga86/m/+x/v2FMlupD/RTirEFusHn+I0M77X98MnBN5so0tzYMJoIlmIvVmAhH3BRXLMbqKK7MUyxilkK6Zg6xn6SH2ub0tP1K8HtsAOK5EiKhaZwv4E5PtAIgYsR10GaG/mU8+0vVCoQKqxe7FXAc18zDt3PiK35CwAZb5QSdRSnAZ3HZ8tGMdysdtClRuL9rfVf25ta7ht0HX7+/p+u/K/q7w34ilpyzfhnUsH/DLR/vw3137bNCdtf9GLBNl+Xiw6fVwoof0P/V31DWPVd2s/mlLATZyrllDSzMKh0SySriYcfVso4IneMixBsDpVcAGK6ZoKsyZPsTUdM+yv2XrNlmOfT8+89l/KwOw7zZ/uutKGYJBSAAOhwBDi2GCSSk/EUkdnUOq5zN82Xl9Wdt2tIP2WWrWuQzEVQVkGuyveWutLF68RD772f8jfwzbS+PWrWydY39X9V+7dq2+lPX5f/c5bAN8wB6v/67sGwZt478e7yksWbpE/v0X/r1+qINt+Xbw3137LB/7V1vtz/X/q/GSEt8A7on9j3Xu7uOPbikQrlupodU1cKLz2lEo5zA0rudP4wUGDqQgyX+KEkUdRDwr0wLt+ZWVR5BMKDvLe77A9fxu18Ouap+v+A/Dyyb8mhC/MF+pacKOl0JHiXVnTEFk5dJhfF50gQDYOiCAoIjelSvKTEsyyOe5s87Ey/hCYB4+YffVr31VPo7X1vmloyzLRtwL9tXMTuq/YMEC+bu/+zu5+qNXy+ETJu4fYOx7AAA0nUlEQVTx+u/K/q7wX7ToFVn4d/9VPvKRjwjfFH27+O+u/V21P/d+/4e//3u0K9qTTWqUVYsOwgYP+DOmLBKVw7ien3bdRRh21f7HyuT6gPDya9W6Sf3Tm6eltexKlmsX6pp43nolSwaJjcnDQ4ul1kZENeBkNiyV5wwyZRDhHU7kWizxuoF9VphfQLpw5kyZhI4fj0pdU0KF16L+MX8znXBDglI4NeIf81DmCXwQ+zvfvVZmzrwQm0xNSa2R9OwF+7tq/2eefQ4ffb5Gzr/gfLxef2wsfgs6lRspSuG0q/rvyn6DgzfZfAEf7L7mmm/Iee88T048gVsFm4fvLfvVAjXXf87Lc1G+a3Dxt3LZ2XL1hP7X2P7dsf4Nj5947eKBM/1Bj8BDnC/V+ME+zkODLG+8cqa8JWpOnIqGImVUsJX1BR41dQf76eEaHax6hLru8/qzAPZnxbRz18DfcMK+WHooVBmvKqLmbZaoNcDJatIox/iewT8XRctHa3vXfrVmrewbCF3b/7wWoU2IZHfo/161pjDUNTtR4L2N+jcM7HavovbQ9sEdcxHoJnbAYJJRXklwgRC63lxa012iSdblEE26G7thMbMf20/TJWk1XAuc9nH9CTLxV7AL4ixoie07/FkGe35jPtqimCxqONyvisMpVaJJ1uUQhVJLLjWmUIm1o/5Z2PUWg3vFfqoVS22W3b5N13VZ/0tAW2kziFqbEmsH/m3WP7Wtw9EkBwYM7c/288DudSzAuRPbbK9XUzFQYUoC3AxKJFxb4Zmc5SFXXS1k9hyBlXR3P/usI+tfuftIUHWF+nO+noeFXQ9/e7hI1+3C/qcNWVrTKJ4N3H3p/7wh68r+R9/jYZh1Pf+zJrS2tDJaecvZR7PCMTnLQ25ntz96hztaKkQukxP6iEWLkiQc8YZu5Q1AKVTAs2smRFKcndIODy3BYy6XM0CXpWWJ/d5+xkBHzq5Xfy2Rj+5dEn/6Gv8Fn9B4ci3yk78ZB5EUz9jnvJaQNeV8TnTQ/3QaxnUgTORes++mFYCq/VIGCpngHq//Tuxbm7jF2j7xcDTcT7xdmGJpWSIL78z/MbB7htQSKVraJQ7Y1iR+zn1fGV6AVCRXizQtAOLU6fukFP0u2IPsA7gd3Elbq9xF65/L1nXbH6s0w1H7X8WTPNKq/7n/KXou2IP6n2LirtM968/fs2kFm/4489rqEi2LVCuuze8dSpMQqTxFLZcKHbmQ7BosjGezYNl7jn3Cpz/FEtpds/5eRm89a3Q9G5kaFpG93v4oE/7bj799YT81nELTyj4TCBLTEkyIqXjlbHr2evtrmVi+fWQfZg2L2j4R6Iz214HdHzSXex4D3M+xEZTWKz5LRAlwigJlZpdhz9MMmZPyhDg1qAxFE0G14Yhcpfdz+31Qib598QpBqnhXqz+/HMTy+U+9roY/X6jiBzq4sbA6WAEQ8fALYx/5H4vVD3vT9+KvMgUv+LuSIc4aJID3lv/zHYc++GBLtruX7adBIPfwXA4DK/OdSMXTqNL7ef/fG/Xv83/hMADpbHYfaeCZeaU1KcJLScTJ0rSSN6WYSjSACRW91tequky46NBUnDy3EdU8+7P9rVu3yrZt2+XMs87Em532zUqvba7zPqz/9i1bZQvKyE/PHTBkSCpa18F/65YtsnnLZjn3nHPkAHxNyp7y+m+gMDzuI//btnWLbNy4Sc455yz9EAr7gLdrV/D/bdu26fdT6X/Dhw237pdK6OVk3860El2n/Vng/bn/Bw9N2DMwtDPmu4k/tjrWF8x1jC4tmezxN0K6nGaDmQhlKuUqzEY5jTszhdXA6xZ0QKAb2uceMa+88qpMmjjJPlSMGmu3cXgcgX2EP/eKWbhwIco3UV+kYnFy0TLhhUxhI79l3JkprAbBiOuEQIv237hpo8yfP18mTZqET9jxs3o4XLXF2oi7UNWwc5t1IKWFfWssN5TCrER0UJ+Pb9FORPkGDYrlc6EUVoMWZYZAB+xridyUF1Pjxtyk+C2Qw/F9XH4MO4tmwusERifYzxVN9rLZTNT2rQ07jr8O7I1KEqzGxpmDTiPmrWR2JqX5m5QERhjEWukOkjFZ6ZJWqEYhTWlKDozafu7EETtHyMOY5nRJK5SneagpTcmBUeNf458uIu4zDN1DPIxpTpe0Qnmah5rSlBwY3cz/ysDuCDAM9VV2YzzLNic0c7JwISAUvwFZEhLVqKQxnjM0JzRzsnAhIFTb5wy6/k4ouDjVCGJj3OWaHKXZdbJoJGr8a//DNFntf53X//Thae5z7HCMuD1exWLcYuXMCcN0mKQ/bqswk1JKlAdbbNSk3VWonPJcbW3fsHE8ClJG1fhnRGr/IxR1/6t0FR9gNOSp54w/dsfOOlcQ0TE2sIJAIOlKu3W4Lg+DsiorxAIZxDtGui4Pg5YqK8QCGcQ7RrouD4OWKivEAhnEO0a6Lg+DliorxAIZxDtGui4Pg5YqK8QCGcQ7RrouD4OWKivEAhnEO0a6Lg+DliorxAIZxDtGui4Pg5YqK8QCGcQ7RrouD4OWKivEAhnEO0a6Lg+DliorxAIZxDtGui4Pg5YqK8QCGcSbSLtjbxjUm678HOKpkEejrPI9EemZzERmFU4Sc10eqgGeGu48avsF10asFNSAbCYzUeOf/KogUvufYuG+5GHd/7KnVCFBzJ2nmpD4nqhDV9bhcHqqh+Qr7bo89Ax7YPzDwI6fJ8GikVVLXogglutpswFBPpNOlEE6Tr54am2/xr/2v9yjU78qvSMOAnX/a8QJo4dCFfDKpBM9c/wJD0/pNgBDg0QrjpHvbuagFaDbS2XNINgoRVO0k6WgNvJr+xmP9gLeIJeRBVHjX/tf3f+8g8RxJvcSJEY+ZWOa521/mHOD6Mz+Fx6epibWoK17a1bA5JrvsljkdDipYXlgwdSUW4lkMWVKMQ26v/0d+OhoT64/K1/XP7m+BgkNDTrf/2v/697+lwf26vCLSseRm47X2BH1rT5zTHPJ5Jgqm0b29OZfTskDvnOcwetgoU1FNd6d7C9ZvFR++KMfyZtvrjYAce5J9U+/n7XWDkBd/6q/d1b/24q3TpctfV1u+tnP5PXXlzn8tf91s/Gnt9cnrilVF/M3zsIAH10vytM7YppeBUxJcByQPp6nUGe/Usaoz7KakL0Xa2qijSjP1JjW1e3zQ8c//OEPZdUbq8PX4h2cVJcaf2307tj+3g/2hf9v3rRJXlv8mvziF7+Q5StW5o4T+1N373/7En916r0w/tk+SmqNJxse4xDjG1UxrfBThjCaljRj2kMN0EmmpNOMMZVXTVDFhQWb+W207mN/I74Sv+iVRbJk8WLh693lCLgos3vWv6e3/76s//p164QfA1+Gu3XuuVPt1LX/sdt1h/FHp2LKXRGrxMa1Bi53vozbvJ+ngJF+UVc4Ksc0AwfnrDLI5cGakhznPS0LWwIzaxJP3cc+N9aaMnmqzHnpJVm5amWPq7/vP5Iaua7/XvT/FfC3l19+WaZNPSpvQNfT+l9P8D8d2O1nmA2uel/M2+041pZhOlHWJTkM+xBO8XxPbRFN1RMFw2DenEwBM9gT7A8dNkxmnHaqPPXUU7JkyTJg2rPq39Pbf1/Wf8niJfLEk0/C/2Zg58kDU/es/a+7jT/2ERq2ax684XaMKy+4IEkcKbBIjtuQnp+n5vxJDJniwzHee6t652rEOHpfnvN3T/sHHTRaLr30Unn66adk1qxZ8taatwBUz6l/T2//fVX/JUuWyPPPPy8rlr8uM2deICNHDLf+3MP6377C3wfNvWEfe+7bUK1nPdkAY4WwETayYyplLJ64jYmpJrZeMyVSmU3Aa+6eaH/QgCEy+cjJctoZZ8jjjz8q9957L/YXx3xnBFqxI2YJoTYgNnYbiarD4M4Px2r8e6T/rV+3Xn7729/K7OdnybvffakccvAh0rd/f/cuc73a/7S/pW6T6P2z/2EqJg0NbNQ0PpSKGZWXXkFG275RYCfxojbds9NGxU7Ps98bn1Diz+APvO8D+FJRP7n/D3+Qe+/5naxdv1a2b9evIFcQrfFPXlf739vuf1zeuGrlKrn9ttvk0ccfkxGjRsrll18q/XVQL50xrUyu+J1Hav/b//yvbx54K4MtmpQPdJSHk8+Pk0ytnfN568cw4UCWZ2VOz2uXB8QgZ3fzFIwKQHdz+/w02YwZM2QZfhbfcfsdcuNPb5ReGPCPnHSEjBg5Uobgy0r9B+COCp+pyyACI4epxr9g0eA55l6J2RP9b8f2HVhttUnWrl0nK1a8Ls9juu/nP/+5TJg4US655BKZOnUK0IEn9eD+193rj4sxvMCHixajRZWVYs70sGXPsp8wHIiaxCqMEAmkq6yyUsyZHrpwDi3Bkz1sSE7RkBpIl62yUsyZHrpwDi3Bkz1sSE7RHfLkk0/J9ddfLz/58U/konddLBdddJGccfoZMmnSBOnVG9+mbMzoCj3M6U5Ygid76KnVBgmpgXTZKivFnOmhC+fQEjzZw4bkFA2pgXTZKivFnOmhC+fQEjzZw4bkFA2pgXTZKivFnOmhC+fQEjzZw4bkFA2pgXTZKivFnOmhC6dwy5ZNMnfuPLn/gQfkzjvukD8+/LD85ec/L1dc8UGZMmVyQ4cMSgLpKqusFHOmhy6cQ0vwZA8bklM0pAbSZausFHOmhy6cQ0vwZA8bklM0pAbSZausFHOmhy6cQ0vwZA8bklM0pAbSZausFHOmhy6cQzzD3I61TjpwuJCHWaiZMJG2BZtTGjklniknPGw2mzkm0rZgc0ojp8Qz5YSH2VozYSJtCzanNHJKnNSG9evxNuAymfPyHHn80cflpTkvyeLXFuO7lOul/8BBMpiffyujexqXkRO3o73QevHBNEur2l2ekepIXomz9XvxdzjluEaKM0EpLwNufEB2tKH6maGT7A/E5+QOPfRQmX700XLiyafIKSedhAscy2kFy/a9oCwffuHxO6gP/+lhefyJJ2QOMFy2bJls2YxnF/tZ/b1abxd/TuOthy/xe7XDhh0o48aNw7LGaXLKKSfLkXimM3r0aBkwYEAFD8MysDIDvDaOVvhH0WYVjZwSz5QTHkaFDbSJtC3YnNLIKfFMOeFhg80YNZG2BZtTGjklniknPIwGG2gTaVtQU9AhGIbDMzib7gXa50w82bjugyEWBIJWJ3OqEjnmyQ16yO4Z9r1TLpg/D28GLpGVK1dgYN+gc/B9+/Zpwt86PdAhhDrycujF4BcHsRbwUopvpWmr+8RqgtiyeiaGPFrj3xn2t+MD35s3b5QN+BD0unVrZfXq1RioNsgIrN647NLLZdpR02SofrzaSuYlXfXGKnnm6afl1ttux0C+ST9wzWcYQ/C+wKBBg2w+OV8Uum79dxd//vbeiosb25YfSR8zZowO7hMnTlQMeve2F83ZdlVbhmcV1Z23f1aRs3preJgTKkROVSLHgozzGPJo7X9McUnSJVblWlo551QlcqwIZK1M47F/2u+FmRiMB60qaNXyc2sJ53ro0hbymmF3WT7opHSI+3WibQdr0IWoOmSF7XY9rCTqXVxt3xzTBv2ETxfFnxc3fqh6zZp1+AWzRF7CC1xcnscPV48bP17OO/dcOemkE3HnOSZX5DX8snnkkYflwQcfkhUrV8r0o46S6dOnyxGTj5SDxhwkQ4cOlQH9+8HfwkvWXbT+Ve+txtrwcAilgadV76j7X48dfzDHbrfsedDMHpSJqoe1iLkk7xR4Y+RhFnWBzKgSleQcyURVuEXMJd2uh1nUBTKjSlSScyQTVeEWMZd0ux5mURfIjCpRSc6RTFSFW8Rc0u16mEVdIDOqRCU5RzJRFW4Rc0m362EWdYHMqBKV5BwxYs2aNfIUXqj5H9/8phx8yMFy6XsulfPPP18GYnpqLdJ+c+ttcufdd8oO3O3/1V/9B8whH4m0QeqH2UrWmTkVopKcI5moyLaKuKTX28Ms6wKZUSUqyTmSiapwi5hLul0Ps6gLZEaVqCTnSCaqwi1iLul2PcyiLpAZVaKSnCOZqAq3iLmk2/Uwi7pAZlSJSnKOZKIq3CLmkm7XwyzqAplRJSrJOZKJqnCLmEu6XYb8EV+51vNOuvysIW0xP9tveOP72S8K6ddutVPxljwJsACMauiZEXp+Ta7tG0gBFcMrocZWazgcv+6IP++4zzrnXPn7v///ZAPWYt94ww14MPiyIvDoY4/KzTf/SoYNPVD+4av/IMcfd4xOvTgOBhPwqv1PoVDPwanRg9x/KFT3f0UBp4KK4ZVQ20/6nw7srIod/MHOA+fc+oGHlB2h13gdVTTLq4JwokZLVN04aRgkChlsZX2BR021/QxXT8Efz01l/Ljx8qEPf1gOOuQQufba78qbmH//3vf+F+7Qp8iHr7pKRgwbAcdq5Vnk1f5Hp1F0cGqFkjlV6Gt1/zNI4DuGl533l/GnYWC3R29aI9QjdIdUyegUqHCS0SpbvbNclXC92VtMd4kmcZdDtLZf469eYY7VH6s5TsbqmGkYyF984QX55rf+Sd56603Mpx8jx2D1TN9+fasuV4m5XxWHU6pEk7TLIVr7X+1/6hXVga3Euvb4lwd29/FScB/EfaGbS6C2SlLSr2aKQDgF2cQ1vZaHLO1CwZjnCKx0paztGzaOEMBT0rCMeCWoXaBEQZmc5WHC/oj/qFGjZDIG9mHDhsuPfvAjOeKISTJt2hQZcsABlbr6LUlkdof65/r00Pav658QaEf7Y2C3ASMPEBaFBie4hI5HlshkdVj3ATjJenbNi0iKp1XzQZ8lZO05nxO1/Rr/5FMIxmN1zAknniBz5s5BeBKW841XD6ODuceog5YI0hFJ8dr/vKd5aMB4zHHKgKHf1/5X/E+dLYHVlcc/DOzepMnzc6FTf0FLpxRn5FBXSZZYVZOrRboCgDj16MswyvOMLljbV0Rq/BWG4nNV/xs1ehReiZ+qMkdNmSojsf2CHT4ApSHJ3QqJtf8BDPyv+1/PGX90KsYewvHHeelOfKPRO4yFlqZnF1MRRCpP8cqlQl0JyVVNFnMeddf2iUKNf3v8b8CAQTL20HFy0sknyTC8uNSnD390JodMQfEt+mbtf45H7HnOq/ufu0/36n+6jp2N23Swk8TWt+t9EmMXxB1SkwyTU5qRSUcQVDLEk8amoEkkMmr7PRX/bditkG/lPvjQH+X8894pwzG4V4/a/9Q3CEruMplIvBCvgldiTSKRUfe/Lt//0vtJ2Quqzdc8LlvLByklLc4zj3I9KHJOeWiS8WwpMT3TmXD5wFDS4jzzqO0bDqFn5z4ekHOhFBYMHb8smwnPEhhKWpxnHp6/tl9wcspDQyqeLSWmZzoTLh8YSlqcZx41/oZDT/Y/m4pxd4BnFKcA7T9xwXSnMSJIKWkCJHOKZsgxu7tHZuMkbZUAKYiXHLX9Gv/kIOYa1luVFbxESRMgmVMa5Ox5UO1/hk/CtRIUDA3ouv/tz/2vTMVwEG/xggfbns7goTd6DEtaoWI6aU1pSg6M2n6Nf+1/jd0m97vQU9qU2VkvrfsfL1SALl/5CWNgdLPxpwzs0V1CfZXdGM+yzQnNnCxcCAjtAMplHUNJUqpRSWM8izcnNHOycCEgVNuv8a/9rzLKVfpHZQBss1M1JzRzitpM1f2v08cfnYqpAM6It3eYiskykcgrZ+zax7NnVTG2Mg8NeeJDFzvYqZxOLJVTniup7TtYGaIKUeOf4TBfqv3Pu44C4x1MQ57q/ueQdPfxx+7YWduKR9hYXFhBIJC5V3WUcF0eBj1VVogFMoh3jHRdHgYtVVaIBTKId4x0XR4GLVVWiAUyiHeMdF0eBi1VVogFMoh3jHRdHgYtVVaIBTKId4x0XR4GLVVWiAUyiHeMdF0eBi1VVogFMoh3jHRdHgYtVVaIBTKId4x0XR4GLVVWiAUyiHeMdF0eBi1VVogFMoh3jHRdHgYtVVaIBTKIN5Gtp2L0XroM65qrLYXKD4mZzETWVjiNF47GckXJlNaCVcoVEjOZido+gGJrFkQKzU2bN2/eLNuxjNDTfcEg435wfpIbIPXGjlz9+vaV3vhmq+51r5k8J6QzmYnMKpwg5gYqYZRMCS1YmqL8kJjJHbINW/ny259kDcDHm/ug3O7VWaxi1yMtUluwdmp/B/eW36witEvMoopIu9UStkhtwdqp/WDNs3rIfJEudp1qkdqCpdLKD4mZzES2VTi1/YiFo17CFqktWDvDHwO7fRzPn1u1yu88D6nQaQ9LoRqpKBFpl8MwgimF2r7h0RqhnQzMyOaDlSNaDaPGSJsUP7+3cOEr8saqlfpJNQ7ecApNNL298Hk8THFopBe+YHSAHIIdFvnB7YHYmKtZY9V68RTyW0l3Tvtzvftbb74lzz73DOz20l0gDz30EKVZknLsefu8WPKCMnvWbHzST4DXoYrZ3qx/rF/xkL2Hf23fEYiYR7qkd8b4F+7Yk1ENYgEin4WJaV649oc5NwhOEZdBKdrJUsVeZmWi/UaDZM4NorYv8uori+Ta714rv7/v99gtcU1q3oSSNo7RvfgtVHxarU+fXrj7HSBjx42V0047Xa780JUyduyh2F2xX0C5bXJv4b9u3Tp57PHH5PP/7vPqZF/+z/9F/uzPP1i8txPbf/ny1+UnP7lebvnNLXIoBvUP/tkH5QPv/4CCsrfq31YL1PbTmNOJ7d8W9uTvLfzDXqdpiNXAHmwaJ/FzoSzOm7rqXXYucim9svyHvVU35dbMRTPTUkyD2n5Bs6BkPIvvKfw3btwsi155BZ+gm4Wpi234nNwY/fSc3qVbk9kZH9TcCrfknf3ry16X556fLS+/PE8WL14sn/7MZ2XykfyuJj66zcMLvw/bn198XPPmGnn22We1SCtXrdAwoddp/vfmm2/Kk088JT/68Y/lBdyxH/+O42TVqjfUNk+dbV8NdQH8taL7sP17uv08sFeHXzhgHDmSR5Yhhh7q3uPOGlI9LYU5xbPkW2VncCyoLr+r7QMbv3J2Kv5sA8P/4IMPlnPxXdHTTj9NBAM559D1wwL0BfxtxcC/YsVyfIt0jjz51JPy4osvyKuvvoqtc/mR6cvksMMOU13ZN/Zh+5tpqxsLpT7IKIlO8r+tW7fqd1p/dfMv8Tm/p2T79m1qsPZ/wMCjk/E3IzjX44/kJzpc/uOH4p8GFc4X2gehS7tQLsoz7m1GWnuPKbEozpVoMqVDecoY9ZmsCdX2Oxd/bRi0T2/849z5BRecL1d95KPZG1rhv2jhIvnxT34s//RP35RluHu/+eab5Sh87CIP7MxdafCG6F5o/1hu+iNnknKlOsn+66+/Lvf9/j75+b/8iwweNAgPTzfQKo70CzTZ9XLU/s/nOQoPIHFw3FcsHtsxiSZEizwZMU0beh/73772//Dpdoen+D/h8kFdaYU0nAheOgrMxuRNkcKdZEo62cZUXjVBtRVWbb+z8dfrt96Zs034V+1irewfdth4vQBc8u734K50uzz88MOydPESbTvTgbM2IvRZU4duSzPG7Oz2569AHtwqOt2naLyz7P/2jt/KTT+/STZt3CRnnn2WHMAPgKAIat8sd6r9pFyDroC/Vn4ftn9Ptq9TMeWqyK6WWkK7IuKMpstqTKH32C9aFWAUR6G101JHVok0710eWib0Mx/AszBSSONPVZpennkwhUdtn1gYNgkRBIZOPpNQ4HBy3D1MGO7A4KxNrN82p7DrRGYlLc4zj154iDoUH5AeffAYtbZmzRrZvIVL+zxfKcXSZcvk2WeekacwdbN8xQpZgZ0ZOc0zctRozOePllNmnCrHHnOsHHTQQdScdIi8gimel16cI6tWrpQp0ybLxMMnyfOzZ8ljjz0m8+a9LCtXrJSDscrl+GOOkZNPOVU/kYdiJR2mybaeBkK8kMBmPlL9qfulOS/JCy+8KL3Bo54JEw6zAVnL0kb9k6Lofw899JDceecdsgYPoC9+18Uy49QZ8uLs2SgI7PPnAsvguHvoemr/BzRs+9L+qQVb+5/jBvHd9X+q6o7jjw7sdo9mnRJDbOrkCWdirYD7mXE7NCmlWbdJd3veh0wgZfSItRU1OKe2TyT2Ef4YnfiPWyywDDs4uHPE4sFASYsnriZt3LAJywnfhHwvOWDIAboqRn2HqVC1ZcsWuf/B++Weu+/R+fhXX3lVNm7cqGvmt2AumvuoDz9wmPzh/gfkwpkz5cKLZ2KAP071sSgL5y+UO+64XWZjcJx54YWycf0d8txzz8psfO90BVadrFm7XoYNP1D++OAf5YSHH5WZF10oV1xxhRXXqpKqgYjWo5SeyavwEPiWW27BYHwXLhIr5MSTT5BTTj0V9RjQrvqzmtS4bRse0uLbqz+96SZ5+tnn9HnDVVd+RL/H2qc/uxes8YITBnPa5+Elqv2fSBAVDtNAIwKkIBlSjhex4xG5lsWQVFVFIAmW3FG9iTGte9nvq9XROjtM4GQnDBBYvVP1CYcdxk5dOslkjw1CcW+WcpVNj0xr+0BqX+GPRlPTersLEreXVhSUiQ3KA4zUtgxWLl+OVTHPyjNPP6N3WtOOmiqjsK5dO6SK7sBd8Gwd7O7E9MRmvKhz7PHHysFjDpKBmHvevGWTzs2/PGeO3HX3XVhZ85r0G9AfK2umyMCBGFjhf2+sfgOD+iy5//779WKw+LXFMmjwIBmDB7xT8d3TbfiV8QpW87z44ot4YPkCfg0slzOw/HLMQWOkH5ZeZhdm8VFou3BxIN4m69avlbvuuktuuP4n8sxzz8s0fJFp+nSUD7oHDojLNlvX3+Hhnd7q1av1Tv2eu++WAw8YKhdddJGccebp4N1puPEMSOPigNr/kzM5KgqooarY5MbbOf6paeGd9fijlzSHFVD2dSdTnp7cbQmb0ZEdU4tE4jYmUgCH/WRNiVRGvRplcVS7naMhitX2FYUISyPEFk/cxkTN3R78IYNBigPwG1iax5Uu+UAn05+q7DygN2/eIo888og+MH300UfxIenBMnPmhTLh8MO9uXTe/Vd4oHrfvb+XLXirlXfT/+mv/1omT56MgXMgXt7ZLPPmvyw/wcD6v77/fXkGUzWcp//A+96v6+PNNn2jF+7M18nv7r1Xjj/2GPmLv/hzec97LpUjjzxSB+jbb79Nvos1+A888ABWoTwpnA6ZeeFMGTFihPoTT4RE8YMT8nnAW6vflCewYuUb//gNmTt3rhwLvR/72Mfk6quvLneKpfJKtYX/ZryENAdTOV//+j/K6jfekA9e8UG55JJLdJ0/M/JCR/vbcdKORyaVkcsE5ar2VEayNIGJOIxuy36RSHliVs1vp7r/GdKKRg/BH78VzRv8biv4Qybz0kOAYk6Sk3ZJmNtSLN6dx2y1faKxL/FnC9D+3Jfnyve+9325/Y47cgMxjQM7Bxy8pCzzFsyX5Vj9sWbNWtxdD5QTTjhB/vwv/kIm4/ujfrCl77vvPr2jfuf558tnPv0ZOfroo7ANgc78yYCB/fW7pf/xi/9R/nDfHzCPvgprzt+SZa8vCwM7teDAYEz7f/2f/k+ZecFMGYlvnvbFdgYs0vtwIXgNd/JcjbJ8+Qp5+JGH5fQzTteBvZSFlNZC3lq7Rv748J/kL//yL5HvNTn99NPlU5/6FF6y+lCH8H8Jvzhu+ulNemG6AoM6LyoTJ06U1Zia8YPT6zao1/6v99VsisphjH3p/yxOd7NvUzFaswra7M3WH9gp/C6CZBJjp3O6ISfH8Hx4VkoX+ZQbQb5QlETLW9tPAAMYB5FkQnaP4Q997HD8/9aat2TO3DmyaNHCNJjTmFnkmS/9bNiwQUaPGoVvjp4s555zjt6hcmqkb98+FNajT68+8uUvfRlbFSzCW6l4wHn88ZhTt0HdJHYg3kcfUo7H2vfZs19AGXZAP4fBdLD9weuPbQsOx6+Bo7BWfuSokTqoqwQKxCmXcePG6TLNJUuWyJu4G9+2FWvHLSs6q5Wd8qvfWC23/eZW+c53voMHs4vkvZe/Twf0s7Fuvx/2kWk6duF/S5YukXvxS+I3t/4GD1wnyFVXfViOP+54vJyLhWashpYh+nykU+shqP0/eVhpKmuKXeCfEGxqNmUwMR3edWilmOj++OepGMUhopUQiSzzVsADpiZXEx1LJFqCJ3uYBdybocqnYmr7QCACtbfw17aiYZHRI0fL0cdM1zlsDva9kbZ+w0Z5ZdEieX7WLNypL5NxY8fLxRdfrNMrJ594kkyZOkUHM1WQTtwfZcZpM+SY446R/n374Q59gN5Vv4m78tVvrpbVq1bLyjdWyhK8tcr5ce5Xo0cY17nJCqd+OLBPnDhRhh54YLl4oLgKD8IBSOcfj63b+G4sE/nHKRC9ZCnvLsyB9+vXXx5//HHZunm7nDpjhl6cDsacfD6QLfd+NVBtEo9twXTUffilceutt+meMJ/+9KflpJPwce3hw1RVr95m354rMRcVh6P2f8O57v+dNv7hjj1dydypPUx+COzDYTHzSzpvNdUFXaenVgZvCulgknTV9m0scdw9TGA6hhZNmCFQTPcE/jvsoSnHnrHjx8q7L36XXHb5ZWqO1tau3yBzX3pR57lvu+02fYDJB52jRo5Qed6hNh5s//6Q4QPN2QsWYtrjVTwgXYKPUK/UP769yqmTFViN8sorr+lqGR37qCrXHwT+98WFYczoMQh5x99c/3gf5uXQ4ZwY4Y/qeHD+nVNH/XF3vnnzpjSdtAYPYUWwQKfYzfY1W7JotNvnsss7ML//Ii5KvEt/73vfK4MHD8ZFEBco5OeKHS7/xAZ7+pB386aNwr1reAzCw2PukOm6vK/kerfDft3/iB6A2hP+D03qVY67h9pa3kopkrxhf8Afd+wNNciDLmvIgxKg/S4DpOHZOFw7ItlVNbedspXkv4ireJB1kdp+wVzB62z82aBmcvCgwTIOg/v06dPBYAPx6CWnnHKinHzyKfrA8je3/EZ+8IP/rStjhmK54ulYiWIDVWl/Zl2CgfyWX98iv/zlL/UumcsfOahyC9sB/fvJkMEHYD79UB3Ut23fYmXgHXtof97p9sEgyDn53vwZwIPFVV8x/9NSatzvi3VYhxowNdGycepn7NixMmr0aPnTHx+SG2+4EQ9hj9BpnuHDh5t9igb7lpPKoSj4/82/+pU8/KeH9RfAtKOmyUosneTySfNmLH/E84f58+bri0pr166VBbi4cf09jxNOPFGG4deHlg228oVJ6wCBdtiP9fdsSSEUBJ00qEejFOLEprbfbfFPWwpoKzc4QXEGer37Nch8lKG9VX74DubJ7MUDdjpzYc2e+0lxMNqwozEkt7bfmfiXdiTUzfhjUkYmHjFJvvKVr2CQWiBcDXPP7+7VJvvnf/4e5sqHhDl0aMMeKV/92ld1YOcmYSNHDJfzZ14gR02dhm0HDpdJEyfKJKxsGTNmlHzu334Ouu7SNjYXiPb914C1Pz0hu4mS9Ds6E0P6l/1DBP4Kn1O+ZeHKnI999Go8WB0pn/zEJ2QpHrjeetvt2H1xrLzv/e/V/MxXDHg5jBfx58ZiS5Yuk7Vr35Jvf/vb8s///D8tH7DjQgPa3bx1i2zENNYyvKC1YP48+e511+qYfdddd8upp5yS+hNsaNGt/LTUHvsmR0nP52HMT1jq/tdTxx/98oAPuuow2Ucyoezo5u5Y7oSen/2I44KHBiqk0SvyeMHMkMn6KK8dMmnNZjOhCVk+iVlgXM/vdj2s7SfUdoH/do5aOkggyPPcVfz5oYiDsZfM5z73Obnmmmt0eeLTTz0t1157nXz8kx/XNerEff36dbpT5IMPPCh8oHnWWWfJp//NZ2T6MUfjRaYhOt8+ePAQ3UuFH+tYu26tbMAOk9swP87llnmsUoJlMF9pu/056Cc/gDhzaPuD6OV3+fCv02ecJu889zzZhDX0f/XFv5J//PrXcef+Rzls/Hg57h3HyxGTJqmtqv1itVAi45FnOp5FbMD0Cn1P59JpW0d/TL9s3Y679rdk6dKlOoXEZxcjRo3QgX0ApqiQhf/tAOH+qwxWQBMzoewsb7nS2bie3/3ew9r/E2q78H/HT0HNsGdiv8RflypEp1HfLN4d6poq6l6TXIuB5/fB20MTQT7veJRF1GxYKs+en3Rtn3hUncpiideZ+KOdiD+HmtgqGgO/Hwbic84+W57EOvDFSxbLa/i78cYbME1zkgzGw9KheEGHH5hYuHAB5tCXY9qlD6Z1jsYr9hcJpztUD060sRVTM8sw8PGOdiNW2vArTus3bijtr4MyBPEfGx4gL3PjaKo/uqUqxgueuhwFWZBHpTWB9A5dAjkCSyU3Yx+XyzEnzjn3+37/e3nwwQd1ff3nP/9521NeTSaFZlF15TaBfb7heiYuWFtxV26GIMh8SOMgsR4D/hNYV/+LX/5CP0xyAZZpnnfeeSo69tCxSV9SbllzpPZ/Qrlz/H08cdAAvR4+7nhoXOhKDNWKk2GcMiHw/OR0F/zjGjRWC5VkNfGXsQ08rbhJgMx9zAGrIEQBPajPlCmAOGmYUqtBsFXbT0AFTIgknNTx8zFuT+HfCw/7TDfOrfAHm29+Xoj12osWLZCf/vRnuob7Fiwj5APO47D3OJdE6ufoEPbp3Uf3aO+POXUeqhsnLklcumyp3H777XpXz/l3bnm7CQ8fVYZn3dsFdYcednRfuthYf+qlBH9p+J07eXqwDqpRCaW4Qod35+//wPsxnbJE357l7pTcrng61toPxvYImqdV/ZFCG5Tl0Rb+b+Blpf79B+jbp6NHH4QPkszAcsirNM/OT6wJEcDfTuxTgkdb9i3Vz5Q2ZZoPJ8/vEiWs7XcX/H0SM7WtXSs1gtYv3aE0fXEKOEGSUV5JKMKZcr2mkWylSjRJuhyiSXejGxYztf09hn8ClVMJuUl2gv+ZZ5yh+7dMmHC4rvq48Ybr5eFHH9YNsPpjbTlfzefqD655X7BgHjYBexabf62UN95YpfuyLFgwX5cLfv0fvqav5PPOnvPBW7FEpdE+hxr1gVTGFKgHef17Mxc8mQNd82EaLKkIXH75e+WcM8/Wcs7CKpfrrrtOXsMDX+45r8dO6m8Cu/C/XFDa1xIiW7GvVImaSkhm1u7aTxotcL1Zu9kp0dq+IuA4IbKf45/v2NnG9MXsj5m2n5dW5ZSqwqTptDEHWHq4No+7XsvDmOpjz0yH5ygcz1PbN5QdIQC2p/H3AR3t0R78+2GjrLPOOAuv4l8tX/7yl3Xp4q24a+c0wyWXvAdvdJ4mXC3Cvdq5yda8efN124EReIjKz8Y999xz+te7d1854ogj9O3R9bgI8E63tX06CSudjlB/rhwkPky2vDx7xDj285p0SkM4BPvOXIYpmSX45fCDH/xQrr/hBp0u4ZTRGHxFikfKrfrftv9r5qQBU0JG8ayFR5xlNC5tGddtkuN07f+d7v/Aurvhj4HdHU19yaOVqhanTDLJHw3wxIOeEoeAI6XJiFjvwl0VBg/Nn5TU9oFQGFAzbk54muOl4glVT2O0Y/jzjdFhww6Ug7Ft7kisTR80cJDqLg3oNop9Tn+PGz9Ozsfc8Uy8qDMHr9ZzK93Hn3hcZuAhJfV88Qtf1IH+d7/7nczDVgUrsG6d69/79umHT++NkvfjG6CXXnYpVozMx74zvxZ+Uo4rbtxvuMSRe76MwcZhw1G+3pjWyUcqCv2NUx68YIzBFsBDIcdljYon/IwPKvnrgYMoP3zBw/2PD1aPOXa6vAtb7HLPGNaB6/QPG3+YjDpnVFhr3lx/KDRdsd0C/tQ9aMAgredIbI42GOvnvV5u34dtT8joerN7hmwjS+Sspb9pzZAjlDXrsbS6/wE//O8p+GMK03/AVjwhuGkcMMyh87mapU22i1kYzzkLCJcyXrFaqCitdDVLTm5ke9zCeM5ZQLiU8YrVQkVppatZcnIj2+MWxnPOAsKljFesFipKK13NkpMb2R63MJ5FB1SusZ6PJXmjsEf6MdjffOrUqe1q/9XYMOyBh7j6Zak+SOQuiXyj84ChQ/WB6NNPPy2znp8lr+AFpfXYp6UXthUYibczDx07Dm+sTpMTsBqFyyG5CRinaSZMmIgPeFyg9ZiP6ZpZ+K7qsmVLZMKkSTLjFDycHcr573CgKgvwoHbWrNlYgbJEJk2cqFvv0j4fznI/mNuxpJETPOfj4eXRqJvfeTsmi/BWLevP/MOGDceFaQYepk7BIODD5NvHfyMfIKdloZySOhrvBUzHF6Yi8m6/1KbKKVYLVWQTVc2SkxvZHrcwnnMWEC5lvGK1UFFa6WqWnNzI9riF8ZyzgHAp4xWrhYrSSlez5ORGtsctjOecBYRLGa9YLVSUVrqaJSc3sj1uYTznLCBcynjFaqGitNLVLDlZ2RzYObTzLrqiImQyMpxDmhZI46og30148fxOIVttQdT2uy/+27Ff+Sa8hbnmrbd0b5chWPLIF5XiUbd/923/uv9jXMT/nR2d4f/hjr3BdGXwZlpkpEtAZOXs4fKQ0zOR1IR4ztdANIlERm1f7ycjJBm+Gn+/1y4uG4BSMsQzbg1Ek0hk1P5X+x+mvaJLZPfpGv0vrIphKW3cVSLdgBdm9bKjMZ40W8mbOxUzas2VMDGK54zkx6PoUC7kjIOYEpoxZ8hqNK3kre37PCugqvFP/mITMIzU/kcUqn2JHO9tuc/V/W+/Hn90YLfGtJaMTc41xHrsrJE1Q8mb82vWHEtjDIddHklvJSg6VASn2n6Nv/qCuYa5RYNfmUMV3zH/gmiDnF3jav8zfCodL/XGgqEBXfe//Xn8KVMxPtHjrZpCugCdwcOGZI2WtEI1ymlKU3Jg1PYBdB6WMnyOkIc5IRAlrVAhWUlNaUoOjBr/Gv/a/xq7TR73Qk9pU2Zno+Te7n9lYI/FbaxFYzzLNic0c7JwISBke1U3D2Qq1KikMZ41NSc0c7JwISBU269MWhVsSDWC2BjP0s0JzZwsXAgI1fjX+IdJw+IbpBqdqDGepZsTmjlZuBAQ6u7+F+bYDVACk6fgwlRMQSVQNmGpDM2HFqkM1ca0htLW4oMFO9ioTmeNYCjPldT2HawMUYWo8c9wmC/V/uddR4HxDqYhT3X/c0i6+/hjd+ysbcUjbIAtrCAQyNyrOkq4Lg+DniorxAIZxDtGui4Pg5YqK8QCGcQ7RrouD4OWKivEAhnEO0a6Lg+DliorxAIZxDtGui4Pg5YqK8QCGcQ7RrouD4OWKivEAhnEO0a6Lg+DliorxAIZxDtGui4Pg5YqK8QCGcQ7RrouD4OWKivEAhnEO0a6Lg+DliorxAIZxDtGui4Pg5YqK8QCGcSbSLtjLyN4Emi48+GoT4U8GmWV74lIz2QmMqtwkpjr8lAN8FTbr0KCmINXTUh8T6zxzzgVIlMBJeM5lh7W/pcQqPtf1SUQc+epJnTZ/oeBHT/PvNB5XKiWXpND3dj6nqVp+VjO6kRxkjj54qm1/Rr/2v/SeJr7Vekdua+B5X0u8yivokE+k07U/c+R6EnjT3h4SrcBBBokmh5kjBwEQlPf7ilrBkGndNCz3to+QMko1fjX/gcf8H7J3hZ9g/G3d+TcIOr+133Hn/DwNA2xGrR1baMTmVzzXRZdJh1Oalge2DA15VYiWUyZUkyD2r5D6IgRJOMlBItA4jcxUoYa/4BM7X/a24AI3Cj1uLr/KQIJDQ32//EnD+zV7o9GjyM3K97oCPmtRneQ4Caelu48c4r3MPv9CKXOIFVoNVfbJwzlqPGvDkTuY0DI/Ct7GZ3XcKv9T9HJyHgXq/tf6lcOSPcbf/DRHIygueWtvqyus7hDmH87MfITMjloSmtgNEQ1n/JaJERWbb/Gv/Y/642xX+SOl4imtAZGQ7Tuf0BAMWkBTGTtr+NP7zyC56Yugzqr7p1K6eREOSAC6fALgcGFszIgkGRKOjKku3HlVRNUW2HV9mv83RvgC+5sHtb+50gEbAyUuv8Rmp47/vz/iDIFPVIg2o8AAAAASUVORK5CYII=)"
      ],
      "id": "hhGgStiYuLYv"
    },
    {
      "cell_type": "markdown",
      "metadata": {
        "id": "bRxfc7i4vNmf"
      },
      "source": [
        "### Reshaping"
      ],
      "id": "bRxfc7i4vNmf"
    },
    {
      "cell_type": "code",
      "execution_count": null,
      "metadata": {
        "id": "mqacR13GvNBe"
      },
      "outputs": [],
      "source": [
        "t_multi = tf.constant([[1, 2, 3, 4],\n",
        "                      [5, 6, 7, 8],\n",
        "                      [9, 10, 11, 12]])"
      ],
      "id": "mqacR13GvNBe"
    },
    {
      "cell_type": "code",
      "execution_count": null,
      "metadata": {
        "id": "yhqesK-lvWMS"
      },
      "outputs": [],
      "source": [
        "t_multi.shape  # get the shape of the array. In this case, 3 rows of 4 columns"
      ],
      "id": "yhqesK-lvWMS"
    },
    {
      "cell_type": "code",
      "execution_count": null,
      "metadata": {
        "id": "79a6tsrPvosS"
      },
      "outputs": [],
      "source": [
        "tf.reshape(t_multi, (2, -1))  # reshape the array for two rows. The number of columns is inferred"
      ],
      "id": "79a6tsrPvosS"
    },
    {
      "cell_type": "code",
      "execution_count": null,
      "metadata": {
        "id": "0tvIL4uKv099"
      },
      "outputs": [],
      "source": [
        "tf.reshape(t_multi, (-1, 2))  # reshape the array for two columns. The number of rows is inferred"
      ],
      "id": "0tvIL4uKv099"
    },
    {
      "cell_type": "code",
      "execution_count": null,
      "metadata": {
        "id": "LONZBd9wv069"
      },
      "outputs": [],
      "source": [
        "tf.reshape(t_multi, (4, 3))  # reshape the array for 4 rows and 3 columns"
      ],
      "id": "LONZBd9wv069"
    },
    {
      "cell_type": "markdown",
      "metadata": {
        "id": "l-gfZLaOnVer"
      },
      "source": [
        "### Vectorized functions"
      ],
      "id": "l-gfZLaOnVer"
    },
    {
      "cell_type": "code",
      "execution_count": null,
      "metadata": {
        "id": "L65ce7_vnYwc"
      },
      "outputs": [],
      "source": [
        "t1 = tf.random.normal((10,10))\n",
        "t2 = tf.random.normal((10,10))"
      ],
      "id": "L65ce7_vnYwc"
    },
    {
      "cell_type": "code",
      "execution_count": null,
      "metadata": {
        "id": "qN28k9ZhnbcD"
      },
      "outputs": [],
      "source": [
        "t1 + t2 # element-wise addition"
      ],
      "id": "qN28k9ZhnbcD"
    },
    {
      "cell_type": "code",
      "execution_count": null,
      "metadata": {
        "id": "MCtgeTZHn0sN"
      },
      "outputs": [],
      "source": [
        "t1 * t2 # element-wise multiplication"
      ],
      "id": "MCtgeTZHn0sN"
    },
    {
      "cell_type": "code",
      "execution_count": null,
      "metadata": {
        "id": "Of1cB_UcoDgI"
      },
      "outputs": [],
      "source": [
        "t1 @ t2 # matrix multiplication"
      ],
      "id": "Of1cB_UcoDgI"
    },
    {
      "cell_type": "code",
      "execution_count": null,
      "metadata": {
        "id": "CgTZhVvDp0ua"
      },
      "outputs": [],
      "source": [
        "tf.math.log(t1)"
      ],
      "id": "CgTZhVvDp0ua"
    },
    {
      "cell_type": "code",
      "execution_count": null,
      "metadata": {
        "id": "aOKnPC6CyFB6"
      },
      "outputs": [],
      "source": [
        "np.mean(t1) # NumPy vectorized functions can be still applied with TensorFlow"
      ],
      "id": "aOKnPC6CyFB6"
    },
    {
      "cell_type": "code",
      "execution_count": null,
      "metadata": {
        "id": "Ovp0pSdhzuvr"
      },
      "outputs": [],
      "source": [
        "np.mean(t1)"
      ],
      "id": "Ovp0pSdhzuvr"
    },
    {
      "cell_type": "markdown",
      "metadata": {
        "id": "AOgZMgjO-TtJ"
      },
      "source": [
        "## Simple example"
      ],
      "id": "AOgZMgjO-TtJ"
    },
    {
      "cell_type": "code",
      "execution_count": null,
      "metadata": {
        "id": "_-1YZtzZ68c-"
      },
      "outputs": [],
      "source": [
        "from tensorflow import keras\n",
        "from tensorflow.keras import layers"
      ],
      "id": "_-1YZtzZ68c-"
    },
    {
      "cell_type": "code",
      "execution_count": null,
      "metadata": {
        "id": "Sc1AV61C6-u7"
      },
      "outputs": [],
      "source": [
        "# Create some dummy data\n",
        "X = tf.constant([1, 2, 3, 4, 5, 6])\n",
        "y = tf.constant([3, 5, 7, 9, 11, 13])"
      ],
      "id": "Sc1AV61C6-u7"
    },
    {
      "cell_type": "code",
      "execution_count": null,
      "metadata": {
        "id": "OUvLfMyJ6YO9"
      },
      "outputs": [],
      "source": [
        "# Create the model with 5 hidden unit\n",
        "model = keras.Sequential(\n",
        "    [\n",
        "     layers.InputLayer(input_shape=(1,)),\n",
        "     layers.Dense(5, activation='relu', name='hidden'),\n",
        "     layers.Dense(1, name='output'),\n",
        "    ]\n",
        ")"
      ],
      "id": "OUvLfMyJ6YO9"
    },
    {
      "cell_type": "code",
      "execution_count": null,
      "metadata": {
        "id": "jT1Uh1x97vo7"
      },
      "outputs": [],
      "source": [
        "# Compile the model\n",
        "model.compile(optimizer='sgd', loss='mean_squared_error', metrics=['mean_absolute_percentage_error'])"
      ],
      "id": "jT1Uh1x97vo7"
    },
    {
      "cell_type": "code",
      "execution_count": null,
      "metadata": {
        "id": "jriLKvxN6vZY"
      },
      "outputs": [],
      "source": [
        "# Check to see if the model is what we pretend\n",
        "model.summary()"
      ],
      "id": "jriLKvxN6vZY"
    },
    {
      "cell_type": "code",
      "execution_count": null,
      "metadata": {
        "id": "Ugj60Jld6vV3"
      },
      "outputs": [],
      "source": [
        "# Let's train the model\n",
        "model.fit(X, y, epochs=25)"
      ],
      "id": "Ugj60Jld6vV3"
    },
    {
      "cell_type": "code",
      "execution_count": null,
      "metadata": {
        "id": "p6SIvt6y9vbA"
      },
      "outputs": [],
      "source": [
        "# Evaluate the model\n",
        "model.evaluate(X, y)"
      ],
      "id": "p6SIvt6y9vbA"
    },
    {
      "cell_type": "code",
      "execution_count": null,
      "metadata": {
        "id": "g8UOaOYs8Wqu"
      },
      "outputs": [],
      "source": [
        "# Make predictions\n",
        "model(X)"
      ],
      "id": "g8UOaOYs8Wqu"
    },
    {
      "cell_type": "markdown",
      "metadata": {
        "id": "VshBsDm_5dur"
      },
      "source": [
        "## Digit classification"
      ],
      "id": "VshBsDm_5dur"
    },
    {
      "cell_type": "markdown",
      "metadata": {
        "id": "kwu4b_uzJg43"
      },
      "source": [
        "The MNIST database contains 60,000 training images and 10,000 testing images of handwritten digits.\n",
        "\n",
        "Each image in the MNIST dataset is a 28x28 grayscale image containing a digit from 0 to 9, and a label identifying which digit is in the image.\n",
        "\n",
        "![image.png](data:image/png;base64,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)"
      ],
      "id": "kwu4b_uzJg43"
    },
    {
      "cell_type": "code",
      "execution_count": null,
      "metadata": {
        "id": "_gm_kUGWks6v"
      },
      "outputs": [],
      "source": [
        "from sklearn.model_selection import train_test_split"
      ],
      "id": "_gm_kUGWks6v"
    },
    {
      "cell_type": "code",
      "execution_count": null,
      "metadata": {
        "id": "U7k0rNHU5TK8"
      },
      "outputs": [],
      "source": [
        "(X_train, y_train), (X_test, y_test) = tf.keras.datasets.mnist.load_data()\n",
        "# Extract a validation set\n",
        "X_test, X_val, y_test, y_val = train_test_split(X_test, y_test, test_size=0.15)"
      ],
      "id": "U7k0rNHU5TK8"
    },
    {
      "cell_type": "markdown",
      "metadata": {
        "id": "1wWh3vQDKfB8"
      },
      "source": [
        "### Data pre-processing"
      ],
      "id": "1wWh3vQDKfB8"
    },
    {
      "cell_type": "code",
      "execution_count": null,
      "metadata": {
        "id": "37v-4rqcM2J_"
      },
      "outputs": [],
      "source": [
        "# Let's normalize all the datasets\n",
        "X_train_scaled = tf.keras.utils.normalize(X_train)\n",
        "X_test_scaled = tf.keras.utils.normalize(X_test)\n",
        "X_val_scaled = tf.keras.utils.normalize(X_val)"
      ],
      "id": "37v-4rqcM2J_"
    },
    {
      "cell_type": "markdown",
      "metadata": {
        "id": "h7psMjqTdCl8"
      },
      "source": [
        "### Data augmentation"
      ],
      "id": "h7psMjqTdCl8"
    },
    {
      "cell_type": "code",
      "execution_count": null,
      "metadata": {
        "id": "IwCpifeCdNq8"
      },
      "outputs": [],
      "source": [
        "data_generator = tf.keras.preprocessing.image.ImageDataGenerator(\n",
        "        rotation_range=30,\n",
        "        width_shift_range=0.25,\n",
        "        height_shift_range=0.25,\n",
        "        shear_range=0.25,\n",
        "        zoom_range=0.2\n",
        ")\n",
        "\n",
        "# Add a color dimension to the images \n",
        "X_train_scaled = np.expand_dims(X_train_scaled, axis=3)\n",
        "# Generate augmented data from MNIST dataset\n",
        "X_train_generator = data_generator.flow(X_train_scaled, y_train)"
      ],
      "id": "IwCpifeCdNq8"
    },
    {
      "cell_type": "markdown",
      "metadata": {
        "id": "ZUfMa0tsuu_b"
      },
      "source": [
        "### Model creation, fit and test"
      ],
      "id": "ZUfMa0tsuu_b"
    },
    {
      "cell_type": "code",
      "execution_count": null,
      "metadata": {
        "id": "PcK2Yp-2Svqb"
      },
      "outputs": [],
      "source": [
        "# Create the model\n",
        "n_output_labes = len(np.unique(y_train))\n",
        "input_shape = X_train_scaled.shape[1:]\n",
        "model = keras.Sequential(\n",
        "    [\n",
        "     layers.InputLayer(input_shape=input_shape),\n",
        "     layers.Flatten(),\n",
        "     layers.Dense(100, activation='relu', name='hidden_1'),\n",
        "     layers.Dense(100, activation='relu', name='hidden_2'),\n",
        "     layers.Dense(n_output_labes, activation='softmax', name='output'),\n",
        "    ]\n",
        ")"
      ],
      "id": "PcK2Yp-2Svqb"
    },
    {
      "cell_type": "code",
      "execution_count": null,
      "metadata": {
        "id": "akZWrHYxSvsy"
      },
      "outputs": [],
      "source": [
        "# Compile the model\n",
        "model.compile(optimizer='adam', loss='sparse_categorical_crossentropy', metrics=['accuracy'])"
      ],
      "id": "akZWrHYxSvsy"
    },
    {
      "cell_type": "code",
      "execution_count": null,
      "metadata": {
        "id": "MBQhgOwGSvvF"
      },
      "outputs": [],
      "source": [
        "# Check to see if the model is what we pretend\n",
        "model.summary()"
      ],
      "id": "MBQhgOwGSvvF"
    },
    {
      "cell_type": "code",
      "execution_count": null,
      "metadata": {
        "id": "QLtcm5pnSvxj"
      },
      "outputs": [],
      "source": [
        "# Let's train the model\n",
        "model.fit(X_train_generator, batch_size=500, epochs=4, validation_data=(X_val_scaled, y_val))"
      ],
      "id": "QLtcm5pnSvxj"
    },
    {
      "cell_type": "code",
      "execution_count": null,
      "metadata": {
        "id": "TsyPvelaSv0A"
      },
      "outputs": [],
      "source": [
        "# Evaluate the model\n",
        "model.evaluate(X_test_scaled, y_test)"
      ],
      "id": "TsyPvelaSv0A"
    },
    {
      "cell_type": "markdown",
      "metadata": {
        "id": "cHEF62zkwgZv"
      },
      "source": [
        "## Transfer Learning (cats *vs.* dogs)\n",
        "\n",
        "The idea is after a person has learned to perform some task, learning a new but related task is usually easier because knowledge of the first learning episode is transferred to the new task.\n",
        "\n",
        "So we can use an already trained neural network and train just a part of the network with our data. The already trained neural network can be seen as a feature extraction mechanism.\n"
      ],
      "id": "cHEF62zkwgZv"
    },
    {
      "cell_type": "code",
      "execution_count": null,
      "metadata": {
        "id": "4T1xvsD5xmuC"
      },
      "outputs": [],
      "source": [
        "import tensorflow_hub as hub\n",
        "import tensorflow_datasets as tfds"
      ],
      "id": "4T1xvsD5xmuC"
    },
    {
      "cell_type": "code",
      "execution_count": null,
      "metadata": {
        "id": "dGwfmDLqxzAP"
      },
      "outputs": [],
      "source": [
        "(train_examples, validation_examples, test_examples), info = tfds.load('cats_vs_dogs', with_info=True, as_supervised=True, split=['train[:80%]', 'train[80%:90%]', 'train[90%:]'])\n",
        "\n",
        "num_examples = info.splits['train'].num_examples  # Gets the total number of samples\n",
        "num_classes = info.features['label'].num_classes  # Gets the total number of labels"
      ],
      "id": "dGwfmDLqxzAP"
    },
    {
      "cell_type": "markdown",
      "metadata": {
        "id": "yuHDiQNtynxk"
      },
      "source": [
        "### Data pre-processing"
      ],
      "id": "yuHDiQNtynxk"
    },
    {
      "cell_type": "code",
      "execution_count": null,
      "metadata": {
        "id": "k90kp1iYymbN"
      },
      "outputs": [],
      "source": [
        "BATCH_SIZE = 32  #@param {type:\"integer\"}\n",
        "IMAGE_SIZE = (224, 224)\n",
        "\n",
        "# Let's resize, normalize and split the dataset by batches (both training, validation and testing datasets)\n",
        "def format_image(image, label_id):\n",
        "    image = tf.image.resize(image, IMAGE_SIZE) / 255.0\n",
        "    return image, label_id\n",
        "\n",
        "\n",
        "train_batches = train_examples.map(format_image).batch(BATCH_SIZE).prefetch(1)\n",
        "validation_batches = validation_examples.map(format_image).batch(1)\n",
        "test_batches = test_examples.map(format_image).batch(1)"
      ],
      "id": "k90kp1iYymbN"
    },
    {
      "cell_type": "markdown",
      "metadata": {
        "id": "6Kwmeit20Bua"
      },
      "source": [
        "### Model creation, fit and test"
      ],
      "id": "6Kwmeit20Bua"
    },
    {
      "cell_type": "code",
      "execution_count": null,
      "metadata": {
        "id": "1uVm9fq_zgiy"
      },
      "outputs": [],
      "source": [
        "# Let's download the model from TensorFlow Hub\n",
        "url_to_model = \"https://tfhub.dev/google/tf2-preview/mobilenet_v2/feature_vector/4\"\n",
        "\n",
        "# The layer that we are going to create can be seen as feature extraction layer\n",
        "feature_extractor = hub.KerasLayer(url_to_model, output_shape=[1280], trainable=False, input_shape=IMAGE_SIZE + (3,), name='mobilenet')"
      ],
      "id": "1uVm9fq_zgiy"
    },
    {
      "cell_type": "code",
      "execution_count": null,
      "metadata": {
        "id": "YhZsMVnvzggf"
      },
      "outputs": [],
      "source": [
        "# The following is to create the model\n",
        "model = tf.keras.Sequential([\n",
        "        feature_extractor,\n",
        "        tf.keras.layers.Dense(num_classes, activation='softmax')\n",
        "])\n",
        "\n",
        "# Compile the model\n",
        "model.compile(optimizer='adam', loss='sparse_categorical_crossentropy', metrics=['accuracy'])\n",
        "\n",
        "# Check to see if the model is what we pretend\n",
        "model.summary()"
      ],
      "id": "YhZsMVnvzggf"
    },
    {
      "cell_type": "code",
      "execution_count": null,
      "metadata": {
        "id": "-Xz8gJI_zgd5"
      },
      "outputs": [],
      "source": [
        "# Let's train the model\n",
        "model.fit(train_batches, epochs=5, validation_data=validation_batches)"
      ],
      "id": "-Xz8gJI_zgd5"
    },
    {
      "cell_type": "code",
      "execution_count": null,
      "metadata": {
        "id": "_fwEHj_Jzgbo"
      },
      "outputs": [],
      "source": [
        "# Evaluate the model\n",
        "model.evaluate(test_batches)"
      ],
      "id": "_fwEHj_Jzgbo"
    },
    {
      "cell_type": "markdown",
      "metadata": {
        "id": "HeXUOuHk6n_G"
      },
      "source": [
        "## California housing prediction"
      ],
      "id": "HeXUOuHk6n_G"
    },
    {
      "cell_type": "code",
      "execution_count": null,
      "metadata": {
        "id": "TSmjRxqP6nbI"
      },
      "outputs": [],
      "source": [
        "from sklearn.datasets import fetch_california_housing\n",
        "from sklearn import preprocessing\n",
        "import datetime, os\n",
        "\n",
        "# Load the TensorBoard notebook extension\n",
        "%load_ext tensorboard"
      ],
      "id": "TSmjRxqP6nbI"
    },
    {
      "cell_type": "code",
      "execution_count": null,
      "metadata": {
        "id": "7FTdy8LO8kfB"
      },
      "outputs": [],
      "source": [
        "X, y = fetch_california_housing(return_X_y=True)\n",
        "\n",
        "X_train, X_test, y_train, y_test = train_test_split(X, y, test_size=0.33)\n",
        "# Extract a validation set\n",
        "X_test, X_val, y_test, y_val = train_test_split(X_test, y_test, test_size=0.15)"
      ],
      "id": "7FTdy8LO8kfB"
    },
    {
      "cell_type": "markdown",
      "metadata": {
        "id": "ww65hf0U-VKs"
      },
      "source": [
        "### Data pre-processing"
      ],
      "id": "ww65hf0U-VKs"
    },
    {
      "cell_type": "code",
      "execution_count": null,
      "metadata": {
        "id": "XjzZOBPg-Gsd"
      },
      "outputs": [],
      "source": [
        "# Perform data standardization\n",
        "scaler = preprocessing.StandardScaler().fit(X_train)\n",
        "X_train_standardized = scaler.transform(X_train)\n",
        "X_test_standardized = scaler.transform(X_test)\n",
        "X_val_standardized = scaler.transform(X_val)"
      ],
      "id": "XjzZOBPg-Gsd"
    },
    {
      "cell_type": "markdown",
      "metadata": {
        "id": "WMiSCKE0AW1f"
      },
      "source": [
        "### Model creation, fit and test"
      ],
      "id": "WMiSCKE0AW1f"
    },
    {
      "cell_type": "code",
      "execution_count": null,
      "metadata": {
        "id": "5sHEXQlF_0HT"
      },
      "outputs": [],
      "source": [
        "# Create the model\n",
        "input_shape = X_train_standardized.shape[1:]\n",
        "model = keras.Sequential(\n",
        "    [\n",
        "     layers.InputLayer(input_shape=input_shape),\n",
        "     layers.Dense(100, activation='relu', name='hidden_1'),\n",
        "     layers.Dropout(0.1),\n",
        "     layers.Dense(100, activation='relu', name='hidden_2'),\n",
        "     layers.Dropout(0.1),\n",
        "     layers.Dense(1, activation='linear', name='output'),\n",
        "    ]\n",
        ")"
      ],
      "id": "5sHEXQlF_0HT"
    },
    {
      "cell_type": "code",
      "execution_count": null,
      "metadata": {
        "id": "vLKr4JRgAwNU"
      },
      "outputs": [],
      "source": [
        "# Compile the model\n",
        "optimizer = tf.keras.optimizers.SGD(learning_rate=0.01, momentum=0)\n",
        "model.compile(optimizer=optimizer, loss='mean_squared_error', metrics=['mean_absolute_percentage_error'])"
      ],
      "id": "vLKr4JRgAwNU"
    },
    {
      "cell_type": "code",
      "execution_count": null,
      "metadata": {
        "id": "E8EQfIB4_0E9"
      },
      "outputs": [],
      "source": [
        "# Check to see if the model is what we pretend\n",
        "model.summary()"
      ],
      "id": "E8EQfIB4_0E9"
    },
    {
      "cell_type": "code",
      "execution_count": null,
      "metadata": {
        "id": "1ZaoU1FkCB_S"
      },
      "outputs": [],
      "source": [
        "# This is just for avoiding overfitting\n",
        "class EarlyStoppingAtMinLoss(keras.callbacks.Callback):\n",
        "\n",
        "    def __init__(self, patience=0):\n",
        "        super(EarlyStoppingAtMinLoss, self).__init__()\n",
        "        self.patience = patience\n",
        "        # best_weights to store the weights at which the minimum loss occurs.\n",
        "        self.best_weights = None\n",
        "\n",
        "    def on_train_begin(self, logs=None):\n",
        "        # The number of epoch it has waited when loss is no longer minimum.\n",
        "        self.wait = 0\n",
        "        # The epoch the training stops at.\n",
        "        self.stopped_epoch = 0\n",
        "        # Initialize the best as infinity.\n",
        "        self.best = np.Inf\n",
        "\n",
        "    def on_epoch_end(self, epoch, logs=None):\n",
        "        current = logs.get(\"val_loss\")\n",
        "        if np.less(current, self.best):\n",
        "            self.best = current\n",
        "            self.wait = 0\n",
        "            # Record the best weights if current results is better (less).\n",
        "            self.best_weights = self.model.get_weights()\n",
        "        else:\n",
        "            self.wait += 1\n",
        "            if self.wait >= self.patience:\n",
        "                self.stopped_epoch = epoch\n",
        "                self.model.stop_training = True\n",
        "                self.model.set_weights(self.best_weights)\n",
        "\n",
        "    def on_train_end(self, logs=None):\n",
        "        if self.stopped_epoch > 0:\n",
        "            print(\"Epoch %05d: early stopping\" % (self.stopped_epoch + 1))"
      ],
      "id": "1ZaoU1FkCB_S"
    },
    {
      "cell_type": "code",
      "execution_count": null,
      "metadata": {
        "id": "EY8AdheC_0CP"
      },
      "outputs": [],
      "source": [
        "# Set log's structure and callbacks\n",
        "logdir = os.path.join('logs', datetime.datetime.now().strftime('%Y%m%d-%H%M%S'))\n",
        "tensorboard_callback = tf.keras.callbacks.TensorBoard(logdir, histogram_freq=1)\n",
        "\n",
        "\n",
        "# Let's train the model\n",
        "history = model.fit(X_train_standardized, y_train, epochs=50, validation_data=(X_val_standardized, y_val), callbacks=[EarlyStoppingAtMinLoss(patience=5), tensorboard_callback], verbose=0)"
      ],
      "id": "EY8AdheC_0CP"
    },
    {
      "cell_type": "code",
      "execution_count": null,
      "metadata": {
        "id": "mjOyFbaxYV9i"
      },
      "outputs": [],
      "source": [
        "# Start TensorBoard \n",
        "%tensorboard --logdir logs"
      ],
      "id": "mjOyFbaxYV9i"
    }
  ],
  "metadata": {
    "authors": [
      {
        "name": "Diogo Freitas (diogo.freitas@iti.larsys.pt)"
      }
    ],
    "colab": {
      "collapsed_sections": [
        "nasty-cisco",
        "bigger-prospect",
        "about-biodiversity",
        "inner-worship",
        "empty-rouge",
        "cutting-guidance",
        "expanded-password",
        "separate-darkness"
      ],
      "name": "tp2.ipynb",
      "provenance": [],
      "toc_visible": true,
      "include_colab_link": true
    },
    "kernelspec": {
      "display_name": "Python 3",
      "language": "python",
      "name": "python3"
    },
    "language_info": {
      "codemirror_mode": {
        "name": "ipython",
        "version": 3
      },
      "file_extension": ".py",
      "mimetype": "text/x-python",
      "name": "python",
      "nbconvert_exporter": "python",
      "pygments_lexer": "ipython3",
      "version": "3.8.8"
    },
    "title": "Aula Prática de Python -- Parte 2"
  },
  "nbformat": 4,
  "nbformat_minor": 5
}