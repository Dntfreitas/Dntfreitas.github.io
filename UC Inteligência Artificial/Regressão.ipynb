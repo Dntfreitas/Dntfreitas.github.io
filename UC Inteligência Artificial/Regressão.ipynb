{
  "nbformat": 4,
  "nbformat_minor": 0,
  "metadata": {
    "colab": {
      "name": "Regressão.ipynb",
      "provenance": [],
      "collapsed_sections": [],
      "include_colab_link": true
    },
    "kernelspec": {
      "name": "python3",
      "display_name": "Python 3"
    },
    "language_info": {
      "name": "python"
    },
    "accelerator": "GPU"
  },
  "cells": [
    {
      "cell_type": "markdown",
      "metadata": {
        "id": "view-in-github",
        "colab_type": "text"
      },
      "source": [
        "<a href=\"https://colab.research.google.com/github/Dntfreitas/Dntfreitas.github.io/blob/master/UC%20Intelig%C3%AAncia%20Artificial/Regress%C3%A3o.ipynb\" target=\"_parent\"><img src=\"https://colab.research.google.com/assets/colab-badge.svg\" alt=\"Open In Colab\"/></a>"
      ]
    },
    {
      "cell_type": "markdown",
      "source": [
        "# Importação das bibliotecas necessárias"
      ],
      "metadata": {
        "id": "9ESwKH67ke1k"
      }
    },
    {
      "cell_type": "code",
      "execution_count": 1,
      "metadata": {
        "id": "5NNhT-CFjowb"
      },
      "outputs": [],
      "source": [
        "import matplotlib.pyplot as plt\n",
        "import tensorflow as tf\n",
        "from sklearn import preprocessing\n",
        "from sklearn.datasets import fetch_california_housing\n",
        "from sklearn.feature_selection import VarianceThreshold\n",
        "from sklearn.model_selection import train_test_split"
      ]
    },
    {
      "cell_type": "code",
      "source": [
        "# Vamos apenas verificar se temos uma GPU para treinar a(s) rede(s)\n",
        "is_gpu_available = tf.config.list_physical_devices('GPU')\n",
        "print('GPU is', 'AVAILABLE' if is_gpu_available else 'NOT AVAILABLE')"
      ],
      "metadata": {
        "colab": {
          "base_uri": "https://localhost:8080/"
        },
        "id": "Q_gTjmCOkcwO",
        "outputId": "a891a7dc-98da-4ed7-98ac-2356d69459e5"
      },
      "execution_count": 2,
      "outputs": [
        {
          "output_type": "stream",
          "name": "stdout",
          "text": [
            "GPU is AVAILABLE\n"
          ]
        }
      ]
    },
    {
      "cell_type": "markdown",
      "source": [
        "# **Passo 1**: Obter dados"
      ],
      "metadata": {
        "id": "HjSg7WcTlqRq"
      }
    },
    {
      "cell_type": "markdown",
      "source": [
        "Neste passo, vamos obter o conjunto de dados e separá-lo em dados de treino e em dados de teste."
      ],
      "metadata": {
        "id": "oGtPgseRl71C"
      }
    },
    {
      "cell_type": "code",
      "source": [
        "X, y = fetch_california_housing(return_X_y=True)"
      ],
      "metadata": {
        "id": "-vl3AW6zk0nt"
      },
      "execution_count": 3,
      "outputs": []
    },
    {
      "cell_type": "markdown",
      "source": [
        "O objectivo é usar as 8 características (_i.e._, _features_) de casas para predizer o valor médio das casas."
      ],
      "metadata": {
        "id": "WdxTXzSyp-yA"
      }
    },
    {
      "cell_type": "markdown",
      "source": [
        "## Vamos explorar um pouco os dados"
      ],
      "metadata": {
        "id": "q7PnjkW_mqXB"
      }
    },
    {
      "cell_type": "markdown",
      "source": [
        "## Variável ``X``"
      ],
      "metadata": {
        "id": "3OiGshi6nhdp"
      }
    },
    {
      "cell_type": "code",
      "source": [
        "X.shape"
      ],
      "metadata": {
        "colab": {
          "base_uri": "https://localhost:8080/"
        },
        "id": "qxbdYnc3lxaI",
        "outputId": "107c7034-9042-4154-e1ec-f5bf3ddbd948"
      },
      "execution_count": 4,
      "outputs": [
        {
          "output_type": "execute_result",
          "data": {
            "text/plain": [
              "(20640, 8)"
            ]
          },
          "metadata": {},
          "execution_count": 4
        }
      ]
    },
    {
      "cell_type": "code",
      "source": [
        "X.max(), X.min()"
      ],
      "metadata": {
        "colab": {
          "base_uri": "https://localhost:8080/"
        },
        "id": "8h0mlvyknAOu",
        "outputId": "0463908c-179b-4f0d-a7d5-04f614738e52"
      },
      "execution_count": 5,
      "outputs": [
        {
          "output_type": "execute_result",
          "data": {
            "text/plain": [
              "(35682.0, -124.35)"
            ]
          },
          "metadata": {},
          "execution_count": 5
        }
      ]
    },
    {
      "cell_type": "markdown",
      "source": [
        "Cada linha do ``X`` corresponde a uma casa. O conjunto de dados tem um total de 20 640 exemplos."
      ],
      "metadata": {
        "id": "gM9KWYITm7KF"
      }
    },
    {
      "cell_type": "markdown",
      "source": [
        "## Variável ``Y``"
      ],
      "metadata": {
        "id": "c1eB2RIQnt9z"
      }
    },
    {
      "cell_type": "code",
      "source": [
        "y.shape"
      ],
      "metadata": {
        "colab": {
          "base_uri": "https://localhost:8080/"
        },
        "id": "f9v4_ACNh1s_",
        "outputId": "ac885783-9cf7-4b98-8407-0169fd2f7d27"
      },
      "execution_count": 6,
      "outputs": [
        {
          "output_type": "execute_result",
          "data": {
            "text/plain": [
              "(20640,)"
            ]
          },
          "metadata": {},
          "execution_count": 6
        }
      ]
    },
    {
      "cell_type": "code",
      "source": [
        "y.min(), y.max()"
      ],
      "metadata": {
        "colab": {
          "base_uri": "https://localhost:8080/"
        },
        "id": "k8eoVjednY0F",
        "outputId": "dafd9217-847b-4a90-80e6-22f983837b0f"
      },
      "execution_count": 7,
      "outputs": [
        {
          "output_type": "execute_result",
          "data": {
            "text/plain": [
              "(0.14999, 5.00001)"
            ]
          },
          "metadata": {},
          "execution_count": 7
        }
      ]
    },
    {
      "cell_type": "markdown",
      "source": [
        "# **Passo 2 e 3**: Pré-processamento dos dados e preparação dos dados"
      ],
      "metadata": {
        "id": "gtzJrT_cpKzJ"
      }
    },
    {
      "cell_type": "code",
      "source": [
        "X_train, X_test, y_train, y_test = train_test_split(X, y, test_size=.3)\n",
        "\n",
        "# Feature selection\n",
        "sel = VarianceThreshold(0.4).fit(X_train)\n",
        "X_train = sel.transform(X_train)\n",
        "X_test = sel.transform(X_test)\n",
        "\n",
        "# Feature normalization\n",
        "scaler = preprocessing.StandardScaler().fit(X_train)\n",
        "X_train = scaler.transform(X_train)\n",
        "X_test = scaler.transform(X_test)"
      ],
      "metadata": {
        "id": "h8lhgO_KpXBo"
      },
      "execution_count": 8,
      "outputs": []
    },
    {
      "cell_type": "markdown",
      "source": [
        "# **Passo 4**: Inicialização do modelo"
      ],
      "metadata": {
        "id": "PvooAMGgqsWw"
      }
    },
    {
      "cell_type": "code",
      "source": [
        "model = tf.keras.models.Sequential()\n",
        "\n",
        "model.add(tf.keras.Input(shape=(X_train.shape[-1])))\n",
        "model.add(tf.keras.layers.Dense(50, activation='sigmoid'))\n",
        "model.add(tf.keras.layers.Dense(50, activation='sigmoid'))\n",
        "model.add(tf.keras.layers.Dense(1, activation='linear'))"
      ],
      "metadata": {
        "id": "JIJcnaSgp2Jk"
      },
      "execution_count": 9,
      "outputs": []
    },
    {
      "cell_type": "code",
      "source": [
        "model.input_shape"
      ],
      "metadata": {
        "colab": {
          "base_uri": "https://localhost:8080/"
        },
        "id": "rRJm-wiqrDbs",
        "outputId": "42f6874a-acc2-423a-9a4e-cb5d5ea341c9"
      },
      "execution_count": 10,
      "outputs": [
        {
          "output_type": "execute_result",
          "data": {
            "text/plain": [
              "(None, 7)"
            ]
          },
          "metadata": {},
          "execution_count": 10
        }
      ]
    },
    {
      "cell_type": "code",
      "source": [
        "model.output_shape"
      ],
      "metadata": {
        "colab": {
          "base_uri": "https://localhost:8080/"
        },
        "id": "nTFBOom1rFnk",
        "outputId": "f0f23d7a-fab2-44e4-a365-a6dd717e33f2"
      },
      "execution_count": 11,
      "outputs": [
        {
          "output_type": "execute_result",
          "data": {
            "text/plain": [
              "(None, 1)"
            ]
          },
          "metadata": {},
          "execution_count": 11
        }
      ]
    },
    {
      "cell_type": "markdown",
      "source": [
        "## Compilar o modelo"
      ],
      "metadata": {
        "id": "_qFNbShsr6mL"
      }
    },
    {
      "cell_type": "code",
      "source": [
        "model.compile(optimizer='adam', loss='mean_squared_error',\n",
        "              metrics=['mean_squared_error', 'mean_absolute_percentage_error'])"
      ],
      "metadata": {
        "id": "UebGuySLrKYt"
      },
      "execution_count": 12,
      "outputs": []
    },
    {
      "cell_type": "markdown",
      "source": [
        "Vamos confirmar se era realmente isto o pretendido..."
      ],
      "metadata": {
        "id": "CcW6aST1sC0N"
      }
    },
    {
      "cell_type": "code",
      "source": [
        "model.summary()"
      ],
      "metadata": {
        "colab": {
          "base_uri": "https://localhost:8080/"
        },
        "id": "tgi3GJ_FrqH1",
        "outputId": "80fc19a3-3a48-42b4-cf23-0c9b94c640d3"
      },
      "execution_count": 13,
      "outputs": [
        {
          "output_type": "stream",
          "name": "stdout",
          "text": [
            "Model: \"sequential\"\n",
            "_________________________________________________________________\n",
            " Layer (type)                Output Shape              Param #   \n",
            "=================================================================\n",
            " dense (Dense)               (None, 50)                400       \n",
            "                                                                 \n",
            " dense_1 (Dense)             (None, 50)                2550      \n",
            "                                                                 \n",
            " dense_2 (Dense)             (None, 1)                 51        \n",
            "                                                                 \n",
            "=================================================================\n",
            "Total params: 3,001\n",
            "Trainable params: 3,001\n",
            "Non-trainable params: 0\n",
            "_________________________________________________________________\n"
          ]
        }
      ]
    },
    {
      "cell_type": "markdown",
      "source": [
        "# **Passo 5**: Treino do modelo"
      ],
      "metadata": {
        "id": "r35ge8WHuI5i"
      }
    },
    {
      "cell_type": "code",
      "source": [
        "callback = tf.keras.callbacks.EarlyStopping(monitor='val_loss', patience=10, min_delta=0.1)"
      ],
      "metadata": {
        "id": "iOjJ5rrLuqee"
      },
      "execution_count": 14,
      "outputs": []
    },
    {
      "cell_type": "code",
      "source": [
        "history = model.fit(X_train, y_train, epochs=50, batch_size=64, callbacks=[callback], validation_split=0.3)"
      ],
      "metadata": {
        "colab": {
          "base_uri": "https://localhost:8080/"
        },
        "id": "Gk5kmJEBrsEg",
        "outputId": "40c8e630-db48-437e-8b59-ad7220d15ed4"
      },
      "execution_count": 15,
      "outputs": [
        {
          "output_type": "stream",
          "name": "stdout",
          "text": [
            "Epoch 1/50\n",
            "159/159 [==============================] - 3s 7ms/step - loss: 1.8841 - mean_squared_error: 1.8841 - mean_absolute_percentage_error: 61.8595 - val_loss: 1.1137 - val_mean_squared_error: 1.1137 - val_mean_absolute_percentage_error: 56.9248\n",
            "Epoch 2/50\n",
            "159/159 [==============================] - 1s 6ms/step - loss: 0.9619 - mean_squared_error: 0.9619 - mean_absolute_percentage_error: 51.2173 - val_loss: 0.8727 - val_mean_squared_error: 0.8727 - val_mean_absolute_percentage_error: 48.2433\n",
            "Epoch 3/50\n",
            "159/159 [==============================] - 1s 5ms/step - loss: 0.7360 - mean_squared_error: 0.7360 - mean_absolute_percentage_error: 41.9484 - val_loss: 0.6641 - val_mean_squared_error: 0.6641 - val_mean_absolute_percentage_error: 36.3055\n",
            "Epoch 4/50\n",
            "159/159 [==============================] - 1s 5ms/step - loss: 0.5872 - mean_squared_error: 0.5872 - mean_absolute_percentage_error: 34.1162 - val_loss: 0.5702 - val_mean_squared_error: 0.5702 - val_mean_absolute_percentage_error: 33.0928\n",
            "Epoch 5/50\n",
            "159/159 [==============================] - 1s 5ms/step - loss: 0.5359 - mean_squared_error: 0.5359 - mean_absolute_percentage_error: 31.2413 - val_loss: 0.5420 - val_mean_squared_error: 0.5420 - val_mean_absolute_percentage_error: 31.7560\n",
            "Epoch 6/50\n",
            "159/159 [==============================] - 1s 6ms/step - loss: 0.5154 - mean_squared_error: 0.5154 - mean_absolute_percentage_error: 30.6272 - val_loss: 0.5253 - val_mean_squared_error: 0.5253 - val_mean_absolute_percentage_error: 31.6960\n",
            "Epoch 7/50\n",
            "159/159 [==============================] - 1s 6ms/step - loss: 0.4994 - mean_squared_error: 0.4994 - mean_absolute_percentage_error: 29.9850 - val_loss: 0.5112 - val_mean_squared_error: 0.5112 - val_mean_absolute_percentage_error: 31.5648\n",
            "Epoch 8/50\n",
            "159/159 [==============================] - 1s 5ms/step - loss: 0.4864 - mean_squared_error: 0.4864 - mean_absolute_percentage_error: 29.5878 - val_loss: 0.5010 - val_mean_squared_error: 0.5010 - val_mean_absolute_percentage_error: 31.6871\n",
            "Epoch 9/50\n",
            "159/159 [==============================] - 1s 5ms/step - loss: 0.4765 - mean_squared_error: 0.4765 - mean_absolute_percentage_error: 29.1842 - val_loss: 0.4888 - val_mean_squared_error: 0.4888 - val_mean_absolute_percentage_error: 29.2589\n",
            "Epoch 10/50\n",
            "159/159 [==============================] - 1s 5ms/step - loss: 0.4656 - mean_squared_error: 0.4656 - mean_absolute_percentage_error: 28.6651 - val_loss: 0.4822 - val_mean_squared_error: 0.4822 - val_mean_absolute_percentage_error: 31.4323\n",
            "Epoch 11/50\n",
            "159/159 [==============================] - 1s 6ms/step - loss: 0.4588 - mean_squared_error: 0.4588 - mean_absolute_percentage_error: 28.6503 - val_loss: 0.4705 - val_mean_squared_error: 0.4705 - val_mean_absolute_percentage_error: 30.4777\n",
            "Epoch 12/50\n",
            "159/159 [==============================] - 1s 5ms/step - loss: 0.4522 - mean_squared_error: 0.4522 - mean_absolute_percentage_error: 28.2316 - val_loss: 0.4599 - val_mean_squared_error: 0.4599 - val_mean_absolute_percentage_error: 29.5545\n",
            "Epoch 13/50\n",
            "159/159 [==============================] - 1s 6ms/step - loss: 0.4429 - mean_squared_error: 0.4429 - mean_absolute_percentage_error: 27.8480 - val_loss: 0.4593 - val_mean_squared_error: 0.4593 - val_mean_absolute_percentage_error: 30.9585\n",
            "Epoch 14/50\n",
            "159/159 [==============================] - 1s 6ms/step - loss: 0.4381 - mean_squared_error: 0.4381 - mean_absolute_percentage_error: 27.7187 - val_loss: 0.4478 - val_mean_squared_error: 0.4478 - val_mean_absolute_percentage_error: 26.7723\n",
            "Epoch 15/50\n",
            "159/159 [==============================] - 1s 6ms/step - loss: 0.4324 - mean_squared_error: 0.4324 - mean_absolute_percentage_error: 27.3892 - val_loss: 0.4451 - val_mean_squared_error: 0.4451 - val_mean_absolute_percentage_error: 25.9210\n"
          ]
        }
      ]
    },
    {
      "cell_type": "markdown",
      "source": [
        "### Curva da função de perda de treino"
      ],
      "metadata": {
        "id": "XzXe-45ky3Co"
      }
    },
    {
      "cell_type": "code",
      "source": [
        "plt.plot(history.history['loss'])"
      ],
      "metadata": {
        "colab": {
          "base_uri": "https://localhost:8080/",
          "height": 282
        },
        "id": "rQb446FayHHm",
        "outputId": "5984e381-f4fc-4dcb-f91f-82200c2e28e3"
      },
      "execution_count": 16,
      "outputs": [
        {
          "output_type": "execute_result",
          "data": {
            "text/plain": [
              "[<matplotlib.lines.Line2D at 0x7f4c20462950>]"
            ]
          },
          "metadata": {},
          "execution_count": 16
        },
        {
          "output_type": "display_data",
          "data": {
            "image/png": "[encoded data removed]",
            "text/plain": [
              "<Figure size 432x288 with 1 Axes>"
            ]
          },
          "metadata": {
            "needs_background": "light"
          }
        }
      ]
    },
    {
      "cell_type": "markdown",
      "source": [
        "### Curva da função de perda de validação"
      ],
      "metadata": {
        "id": "FJ0rKn6hzO80"
      }
    },
    {
      "cell_type": "code",
      "source": [
        "plt.plot(history.history['val_loss'])"
      ],
      "metadata": {
        "colab": {
          "base_uri": "https://localhost:8080/",
          "height": 282
        },
        "id": "1WYhpEecyvLU",
        "outputId": "e020932f-64f7-4524-9876-9e6ea4c274be"
      },
      "execution_count": 17,
      "outputs": [
        {
          "output_type": "execute_result",
          "data": {
            "text/plain": [
              "[<matplotlib.lines.Line2D at 0x7f4c20250990>]"
            ]
          },
          "metadata": {},
          "execution_count": 17
        },
        {
          "output_type": "display_data",
          "data": {
            "image/png": "[encoded data removed]",
            "text/plain": [
              "<Figure size 432x288 with 1 Axes>"
            ]
          },
          "metadata": {
            "needs_background": "light"
          }
        }
      ]
    },
    {
      "cell_type": "markdown",
      "source": [
        "# **Passo 6**: Avaliação do modelo"
      ],
      "metadata": {
        "id": "f1576F-3uSPK"
      }
    },
    {
      "cell_type": "code",
      "source": [
        "train_loss = model.evaluate(X_train, y_train)"
      ],
      "metadata": {
        "colab": {
          "base_uri": "https://localhost:8080/"
        },
        "id": "tB2119NOyFn-",
        "outputId": "d333830a-516a-48d1-90c4-fcb605038d97"
      },
      "execution_count": 18,
      "outputs": [
        {
          "output_type": "stream",
          "name": "stdout",
          "text": [
            "452/452 [==============================] - 2s 3ms/step - loss: 0.4376 - mean_squared_error: 0.4376 - mean_absolute_percentage_error: 25.5562\n"
          ]
        }
      ]
    },
    {
      "cell_type": "code",
      "source": [
        "test_loss = model.evaluate(X_test, y_test)"
      ],
      "metadata": {
        "colab": {
          "base_uri": "https://localhost:8080/"
        },
        "id": "dp9iTWO_tK9N",
        "outputId": "092bbef4-2e68-4d7a-8619-50aea98dd21c"
      },
      "execution_count": 19,
      "outputs": [
        {
          "output_type": "stream",
          "name": "stdout",
          "text": [
            "194/194 [==============================] - 1s 3ms/step - loss: 0.4110 - mean_squared_error: 0.4110 - mean_absolute_percentage_error: 24.6240\n"
          ]
        }
      ]
    },
    {
      "cell_type": "code",
      "source": [
        "y_pred_train = model.predict(X_train)  # cálculo das saídas\n",
        "\n",
        "y_pred_test_prob = model.predict(X_test)  # cálculo das saídas"
      ],
      "metadata": {
        "id": "XCm6cWcVvyPp"
      },
      "execution_count": 20,
      "outputs": []
    }
  ]
}